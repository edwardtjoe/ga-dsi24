{
 "cells": [
  {
   "cell_type": "markdown",
   "id": "d46f10b6",
   "metadata": {},
   "source": [
    "# Natural Language Processing of Subreddit Posts\n",
    "\n",
    "## Problem Statement\n",
    "\n",
    "Coach Ella Advisors requests the creation of a machine learning-based algorithm to identify the ways they can maximize the efficiency of their marketing spend based on their target audience.\n",
    "\n",
    "## Table of Contents\n",
    "\n",
    "- [Background](#Background)\n",
    "- [Data Collection and Cleaning](#DCC) \n",
    "- [Exploratory Data Analysis and Modeling](#EDAM)\n",
    "- [Explanatory Data Analysis](#EDA) \n",
    "- [Conclusion and Recommendation](#CR) \n",
    "\n",
    "\n",
    "## Client/Background <a class=\"anchor\" id=\"Background\"></a>\n",
    "\n",
    "Coach Ella Advisors is a newly created boutique firm which provides coaching and advice to younger clients on personal financial health and planning. Although they have applied for an investment advisory license, it has yet to be approved. The founding team at Coach Ella believes that waiting for the approval of their investment advisory license would take too long and wishes to start marketing themselves immediately. \n",
    "\n",
    "## Problem Statement Analysis\n",
    "\n",
    "Our client requests a predictive model that distinguishes between their target audience and non-target audience. Specifically, since Coach Ella is not legally allowed to provide investment advice, we would need to find a way to identify and avoid this non-target group.\n",
    "\n",
    "**Target Group:** Potential clients for coaching and advisory services on personal financial health and planning.\n",
    "\n",
    "**Avoidance/Reject Group:** Clients who require or look for investment advice.\n",
    "\n",
    "**Metrics:** To maximize the efficiency of Coach Ella's marketing budget, we should optimize a few metrics:\n",
    "\n",
    "|Metric|Description|\n",
    "|------|-----------|\n",
    "|Accuracy|Higher accuracy means maximizing identification of target and non-target audience|\n",
    "|Sensitivity|Higher sensitivity minimizes missed target audience|\n",
    "|Specificity|Higher specificity minimizes wasteful spending on non-target audience|\n",
    "|Precision|Higher precision maximizes efficient spending on target audience|\n",
    "\n",
    "<br></br>\n",
    "**Datasets Used:** \n",
    "\n",
    "Reddit data obtained through [PushShift API](https://github.com/pushshift/api). The following are the subreddits selected to find target and avoidance group:\n",
    "\n",
    "|Subreddit|Remarks|\n",
    "|---------|-------|\n",
    "|r/personalfinance|Target Group|\n",
    "|r/investing|Avoidance Group|\n",
    "\n",
    "\n",
    "## Overall Methodology\n",
    "\n",
    "We outline the steps that we will take to complete this project:\n",
    "\n",
    "    1. Collect Subreddit Data\n",
    "        a. Clean Subreddit Data:\n",
    "        b. Conduct Necessary Permutations\n",
    "    2. Exploratory Data Analysis\n",
    "        a. Data Visualization\n",
    "        b. Model Creation\n",
    "        c. Model Evaluation\n",
    "    3. Explanatory Data Analysis\n",
    "        a. Feature Importance\n",
    "        b. Misclassification Analysis\n",
    "    4. Conclusion and Recommendation"
   ]
  },
  {
   "cell_type": "markdown",
   "id": "d6261a84",
   "metadata": {},
   "source": [
    "# Imports"
   ]
  },
  {
   "cell_type": "code",
   "execution_count": 153,
   "id": "782e70bc",
   "metadata": {},
   "outputs": [],
   "source": [
    "import pandas as pd\n",
    "import numpy as np\n",
    "import requests\n",
    "import time\n",
    "import matplotlib.pyplot as plt\n",
    "import seaborn as sns\n",
    "from bs4 import BeautifulSoup \n",
    "\n",
    "import nltk\n",
    "from nltk.stem import PorterStemmer, WordNetLemmatizer, SnowballStemmer\n",
    "from nltk.tokenize import RegexpTokenizer, sent_tokenize, word_tokenize\n",
    "from nltk.corpus import stopwords\n",
    "\n",
    "from sklearn.model_selection import train_test_split, cross_val_score, GridSearchCV\n",
    "from sklearn.pipeline import Pipeline\n",
    "from sklearn.linear_model import LogisticRegressionCV\n",
    "from sklearn.naive_bayes import MultinomialNB\n",
    "from sklearn.feature_extraction.text import CountVectorizer, TfidfVectorizer\n",
    "from sklearn.metrics import confusion_matrix, plot_confusion_matrix, accuracy_score\n",
    "from sklearn.tree import DecisionTreeClassifier, export_text, plot_tree\n",
    "from sklearn.ensemble import BaggingClassifier, RandomForestClassifier\n",
    "from sklearn.preprocessing import StandardScaler\n",
    "from sklearn import metrics\n",
    "\n",
    "import re"
   ]
  },
  {
   "cell_type": "markdown",
   "id": "820f7d7f",
   "metadata": {},
   "source": [
    "# Data Collection & Cleaning <a class=\"anchor\" id=\"DCC\"></a>\n",
    "\n",
    "## Data Collection\n",
    "\n",
    "In this section, we collect data from Reddit using [Pushift API for Reddit](https://github.com/pushshift/api). The two subreddits we have chosen are: **r/investing** and **r/personalfinance**. In collecting this data, we have several objectives and observations:\n",
    "\n",
    "### Objective\n",
    "1. Collect at least 1100 non-duplicate texts from each subreddit.\n",
    "2. Collect 'title', 'subreddit', 'selftext' and 'created_utc'.\n",
    "\n",
    "### Observations\n",
    "1. We note that at some requests, an Error 502 will occur. To resolve this, we create a loop to request continuously until the error is solved.\n",
    "2. Since only 100 submissions can be obtained at one time, we need to create a loop to get earlier data (101st data onwards).\n",
    "\n",
    "### Methodology\n",
    "1. Create a continous loop whereby data collection ends only after 1000 non-duplicate texts are obtained.\n",
    "2. Create a loop to resolve 502 Error by re-requesting.\n",
    "3. Create a time setting where 'before' parameter will be set to the earliest submission found. As such, the next loop will collect data from earlier submissions, in this case, the 101st datapoint and beyond.\n",
    "4. When no submissions are found in 100 loops, our code will infinitely loop. As such, we print a warning and stop the loop.\n",
    "5. Create a loop counter to check the progress of the data collection and ensure that the code is running properly.\n",
    "6. Create a dataframe for aggregation of data\n",
    "\n",
    "**Important note: We have repeated this function numerous times to check it for issues. The function works. However, sometimes, an error will appear which may be due to many factors including API usage limit and internet connection stability. This breaks the process. In such cases, please reload the cell.**"
   ]
  },
  {
   "cell_type": "code",
   "execution_count": 2,
   "id": "d766b893",
   "metadata": {
    "collapsed": true
   },
   "outputs": [
    {
     "name": "stdout",
     "output_type": "stream",
     "text": [
      "1 79\n",
      "2 163\n",
      "3 251\n",
      "4 328\n",
      "5 400\n",
      "6 476\n",
      "7 560\n",
      "8 634\n",
      "9 719\n",
      "10 807\n",
      "11 896\n",
      "12 980\n",
      "13 1060\n",
      "14 1138\n"
     ]
    }
   ],
   "source": [
    "personal_df = pd.DataFrame()\n",
    "insufficient_data = True\n",
    "epoch = 1632489845     # SG Time: Friday, September 24, 2021 9:24:05 PM\n",
    "loop_count = 0\n",
    "\n",
    "while insufficient_data:\n",
    "    url = 'https://api.pushshift.io/reddit/search/submission'\n",
    "    params = {\n",
    "        'subreddit': 'personalfinance',\n",
    "        'size': 100,\n",
    "        'before': epoch,}\n",
    "\n",
    "    # This is used later on to check if the program is continously looping onto itself.\n",
    "    old_epoch = epoch\n",
    "    res = requests.get(url, params)\n",
    "    \n",
    "    # Sometimes, Error 502 occurs. To resolve, we request again (akin to refreshing page)\n",
    "    while res.status_code != 200:\n",
    "        time.sleep(0.5)\n",
    "        res = requests.get(url, params)\n",
    "        \n",
    "    data = res.json()\n",
    "    posts = data['data']\n",
    "    full_data = pd.DataFrame(posts)\n",
    "    \n",
    "    # Selecting the columns we want\n",
    "    selected_cols = full_data[['subreddit', 'title', 'selftext', 'created_utc']]\n",
    "    \n",
    "    # Dropping unusable selftext\n",
    "    selected_cols = selected_cols.dropna(subset=['selftext'])\n",
    "    selected_cols_clean = selected_cols.loc[(selected_cols['selftext'] != '[removed]')\n",
    "                                            & (selected_cols['selftext'] != '[deleted]')\n",
    "                                            & (selected_cols['selftext'] != '')]\n",
    "    \n",
    "    # Adding data to main dataframe\n",
    "    personal_df = pd.concat(objs=[personal_df, selected_cols_clean], axis=0)\n",
    "    \n",
    "    # Dropping duplicates within the same subreddit\n",
    "    personal_df.drop_duplicates(subset=['selftext'], inplace=True)\n",
    "    \n",
    "    # Checking length of main dataframe\n",
    "    len(personal_df)\n",
    "        \n",
    "    # For checking only\n",
    "    loop_count += 1\n",
    "    print(loop_count, len(personal_df))\n",
    "    \n",
    "    # Setting new epoch for next loop as the earliest time created out of the 100 posts obtained\n",
    "    epoch = personal_df['created_utc'].iloc[-1]\n",
    "    \n",
    "    # Error tracking: If this is true, it will result in infinite loop\n",
    "    if old_epoch == epoch:\n",
    "        print('SAME OLDEST POST. ONE INFINITE LOOP')\n",
    "        insufficient_data = False\n",
    "    \n",
    "    if len(personal_df) >= 1100:\n",
    "        insufficient_data = False\n",
    "        "
   ]
  },
  {
   "cell_type": "code",
   "execution_count": 3,
   "id": "5893b520",
   "metadata": {
    "collapsed": true
   },
   "outputs": [
    {
     "name": "stdout",
     "output_type": "stream",
     "text": [
      "1 16\n",
      "2 28\n",
      "3 48\n",
      "4 62\n",
      "5 77\n",
      "6 87\n",
      "7 104\n",
      "8 119\n",
      "9 142\n",
      "10 154\n",
      "11 175\n",
      "12 186\n",
      "13 197\n",
      "14 211\n",
      "15 221\n",
      "16 237\n",
      "17 262\n",
      "18 272\n",
      "19 287\n",
      "20 293\n",
      "21 311\n",
      "22 322\n",
      "23 341\n",
      "24 357\n",
      "25 373\n",
      "26 400\n",
      "27 407\n",
      "28 421\n",
      "29 434\n",
      "30 450\n",
      "31 465\n",
      "32 481\n",
      "33 499\n",
      "34 518\n",
      "35 531\n",
      "36 547\n",
      "37 564\n",
      "38 581\n",
      "39 597\n",
      "40 615\n",
      "41 639\n",
      "42 662\n",
      "43 678\n",
      "44 696\n",
      "45 711\n",
      "46 727\n",
      "47 742\n",
      "48 756\n",
      "49 776\n",
      "50 790\n",
      "51 810\n",
      "52 821\n",
      "53 842\n",
      "54 862\n",
      "55 884\n",
      "56 902\n",
      "57 919\n",
      "58 935\n",
      "59 945\n",
      "60 961\n",
      "61 976\n",
      "62 999\n",
      "63 1019\n",
      "64 1035\n",
      "65 1053\n",
      "66 1070\n",
      "67 1093\n",
      "68 1113\n"
     ]
    }
   ],
   "source": [
    "investing_df = pd.DataFrame()\n",
    "insufficient_data = True\n",
    "epoch = 1632489845     # SG Time: Friday, September 24, 2021 9:24:05 PM\n",
    "loop_count = 0\n",
    "\n",
    "while insufficient_data:\n",
    "    url = 'https://api.pushshift.io/reddit/search/submission'\n",
    "    params = {\n",
    "        'subreddit': 'investing',\n",
    "        'size': 100,\n",
    "        'before': epoch,}\n",
    "    \n",
    "    # This is used later on to check if the program is continously looping onto itself.\n",
    "    old_epoch = epoch\n",
    "    res = requests.get(url, params)\n",
    "    \n",
    "    # Sometimes, Error 502 occurs. To resolve, we request again (akin to refreshing page)\n",
    "    while res.status_code != 200:\n",
    "        time.sleep(0.5)\n",
    "        res = requests.get(url, params)\n",
    "        \n",
    "    data = res.json()\n",
    "    posts = data['data']\n",
    "    full_data = pd.DataFrame(posts)\n",
    "    \n",
    "    # Selecting the columns we want\n",
    "    selected_cols = full_data[['subreddit', 'title', 'selftext', 'created_utc']]\n",
    "    \n",
    "    # Dropping unusable selftext\n",
    "    selected_cols = selected_cols.dropna(subset=['selftext'])\n",
    "    selected_cols_clean = selected_cols.loc[(selected_cols['selftext'] != '[removed]')\n",
    "                                            & (selected_cols['selftext'] != '[deleted]')\n",
    "                                            & (selected_cols['selftext'] != '')]\n",
    "    \n",
    "    # Adding data to main dataframe\n",
    "    investing_df = pd.concat(objs=[investing_df, selected_cols_clean], axis=0)\n",
    "    \n",
    "    # Dropping duplicates within the same subreddit\n",
    "    investing_df.drop_duplicates(subset=['selftext'], inplace=True)\n",
    "    \n",
    "    # Checking length of main dataframe\n",
    "    len(investing_df)\n",
    "        \n",
    "    # For checking only\n",
    "    loop_count += 1\n",
    "    print(loop_count, len(investing_df))\n",
    "    \n",
    "    # Setting new epoch for next loop as the earliest time created out of the 100 posts obtained\n",
    "    epoch = investing_df['created_utc'].iloc[-1]\n",
    "    \n",
    "    # Error tracking: If this is true, it will result in infinite loop\n",
    "    if old_epoch == epoch:\n",
    "        print('SAME OLDEST POST. ONE INFINITE LOOP')\n",
    "        insufficient_data = False\n",
    "    \n",
    "    if len(investing_df) >= 1100:\n",
    "        insufficient_data = False\n",
    "        "
   ]
  },
  {
   "cell_type": "markdown",
   "id": "2c9f60d3",
   "metadata": {},
   "source": [
    "## Merging Datasets\n",
    "\n",
    "\n",
    "### Merge Data from Two Subreddits\n",
    "We merge the two datasets, after which we drop columns if duplicates are found between the two subreddits. Since we are merging two datasets which originally has its own indexes, we reset the index and replace the original indexes to one new index. We note that since two dataframes have the same columns, using Pandas concatenate will suffice. The number of data obtained from each subreddit:\n",
    "\n",
    "|Subreddit|Count of data collected|\n",
    "|---------|-----------------------|\n",
    "|r/PersonalFinance|1138|\n",
    "|r/Investing|1113|\n"
   ]
  },
  {
   "cell_type": "code",
   "execution_count": 4,
   "id": "4a58a367",
   "metadata": {},
   "outputs": [
    {
     "data": {
      "text/plain": [
       "personalfinance    1138\n",
       "investing          1113\n",
       "Name: subreddit, dtype: int64"
      ]
     },
     "execution_count": 4,
     "metadata": {},
     "output_type": "execute_result"
    }
   ],
   "source": [
    "combined_df = pd.concat(objs=[investing_df, personal_df], axis=0)\n",
    "combined_df.drop_duplicates(subset=['selftext'], inplace=True)\n",
    "combined_df.reset_index(inplace=True, drop=True)\n",
    "combined_df['subreddit'].value_counts()"
   ]
  },
  {
   "cell_type": "markdown",
   "id": "883136ca",
   "metadata": {},
   "source": [
    "### Drop Unnecessary Column, Dummify Target Column\n",
    "\n",
    "In our earlier data collection, we had collected 'created_utc' as a way to monitor the data collection process. Here, we drop the column for it is no longer useful going forward. We also create a dummy for the target column 'subreddit' as such:\n",
    "\n",
    "|<center>Original:<br>subreddit</br></center>|<center>Dummy:<br>subreddit_personalfinance</center>|\n",
    "|-----|--|\n",
    "|<center>personalfinance</center>|<center>1</center>|\n",
    "|<center>investing</center>|<center>0</center>|\n"
   ]
  },
  {
   "cell_type": "code",
   "execution_count": 5,
   "id": "b386f442",
   "metadata": {},
   "outputs": [],
   "source": [
    "combined_df.drop(columns=['created_utc'], inplace=True)\n",
    "combined_df['subreddit_personalfinance'] = combined_df['subreddit'].map(lambda x: 1 if x == 'personalfinance' else 0)"
   ]
  },
  {
   "cell_type": "markdown",
   "id": "de053c2c",
   "metadata": {},
   "source": [
    "## Data Cleaning\n",
    "\n",
    "We clean the data in several parts:\n",
    "\n",
    "### Regex\n",
    "\n",
    "We use regex to drop certain texts that we will not be using from our 'title' and 'subreddit' columns:\n",
    "\n",
    "    1. URLs (http and https)\n",
    "    2. Special html terms\n",
    "    3. Numbers (all digits)\n",
    "    4. All special characters\n",
    "\n",
    "|Special Term Removed|Description|\n",
    "|--------------------|-----------|\n",
    "|<center>\\&amp;#x200B;</center>|Zero-Width Space|\n",
    "|<center>\\&lt;</center>| Smaller than sign (<)|\n",
    "|<center>\\&gt;</center>| Greater than sign (>)|\n",
    "|<center>\\&amp;</center>|Ampersand (&)|"
   ]
  },
  {
   "cell_type": "code",
   "execution_count": 6,
   "id": "06696e89",
   "metadata": {},
   "outputs": [],
   "source": [
    "def regex_clean(row):\n",
    "        \n",
    "    # Remove links\n",
    "    row['selftext'] = re.sub(\n",
    "        pattern=r'\\w+:\\/\\/[\\d\\w-]+(\\.[\\d\\w-]+)*(?:(?:\\/[^\\s/]*))*', \n",
    "        repl='', \n",
    "        string=row['selftext'],\n",
    "        flags=re.M)\n",
    "    row['title'] = re.sub(\n",
    "        pattern=r'\\w+:\\/\\/[\\d\\w-]+(\\.[\\d\\w-]+)*(?:(?:\\/[^\\s/]*))*', \n",
    "        repl='', \n",
    "        string=row['title'],\n",
    "        flags=re.M)\n",
    "    \n",
    "    # Remove special terms    \n",
    "    row['selftext'] = re.sub(\n",
    "        pattern='#x200B;|&lt;|&gt;|&amp;|_',\n",
    "        repl='',\n",
    "        string=row['selftext'])\n",
    "    row['title'] = re.sub(\n",
    "        pattern='#x200B;|&lt;|&gt;|&amp;|_',\n",
    "        repl='',\n",
    "        string=row['title'])\n",
    "    \n",
    "    # Remove all digits\n",
    "    row['selftext'] = re.sub(\n",
    "        pattern=r'\\d+',\n",
    "        repl='',\n",
    "        string=row['selftext'])\n",
    "    row['title'] = re.sub(\n",
    "        pattern=r'\\d+',\n",
    "        repl='',\n",
    "        string=row['title'])\n",
    "    \n",
    "    # Remove all special characters\n",
    "    row['selftext'] = re.sub(\n",
    "        pattern=r'\\W+',\n",
    "        repl=' ',\n",
    "        string=row['selftext'])\n",
    "    row['title'] = re.sub(\n",
    "        pattern=r'\\W+',\n",
    "        repl=' ',\n",
    "        string=row['title'])\n",
    "\n",
    "    return row\n",
    "    \n",
    "clean_df = combined_df.apply(regex_clean, axis=1)"
   ]
  },
  {
   "cell_type": "markdown",
   "id": "4ab3b2c3",
   "metadata": {},
   "source": [
    "### Create List of Stop Words\n",
    "\n",
    "First, we create a list of stop words to drop as part of our data cleaning. \n",
    "We believe that while the stop words available in the corpus is useful to use for data cleaning, it does not sufficiently drop words that we want to eliminate. \n",
    "Therefore, we will use NLTK Corpus Stopwords as a base and add several words according to our requirements.\n",
    "We have added our subreddit names and several of its permutations to decrease the potential of overfitting due to their relatively higher usage in their respective subreddits. Below, we show our list of stopwords.\n",
    "\n",
    "|Word(s) Removed|Reason for Removal|\n",
    "|---------------|------------------|\n",
    "|invest, investor|Stem and permutations of our subreddit name 'investing'|\n",
    "|finance, financi, <br>personal, person|Stem and permutation of our subreddit name 'personalfinance'|\n",
    "|advancethank|Filler word to fulfill subreddit word requirement<br>Hence, it is a stopword with no significant predictive value</br>|\n",
    "|filer, filler|Filler word to fulfill subreddit word requirement.<br>Hence, it is a stopword with no significant predictive value</br>|\n",
    "|text|Filler word to fulfill subreddit word requirement.<br>Hence, it is a stopword with no significant predictive value</br>|"
   ]
  },
  {
   "cell_type": "code",
   "execution_count": 7,
   "id": "ad229565",
   "metadata": {
    "scrolled": false
   },
   "outputs": [],
   "source": [
    "additional_stopwords = ['invest', 'investor', 'finance', 'financi', \n",
    "                        'personal', 'person', 'advancethank', 'filer', \n",
    "                        'filler', 'text']\n",
    "all_stopwords = stopwords.words('english')\n",
    "all_stopwords.extend(additional_stopwords)"
   ]
  },
  {
   "cell_type": "markdown",
   "id": "532c6ca0",
   "metadata": {},
   "source": [
    "### Tokenize, Lemma/Stem, Drop Stop Words\n",
    "\n",
    "Next, we tokenize using RegexpTokenizer and stem using 3 methods:\n",
    "\n",
    "    1. WordNetLemmatizer\n",
    "    2. PorterStemmer\n",
    "    3. SnowballStemmer"
   ]
  },
  {
   "cell_type": "code",
   "execution_count": 8,
   "id": "b47df918",
   "metadata": {},
   "outputs": [],
   "source": [
    "tokenizer = RegexpTokenizer(r'\\w+')\n",
    "lemmatizer = WordNetLemmatizer()\n",
    "p_stemmer = PorterStemmer()\n",
    "snow_stem = SnowballStemmer(language='english')\n",
    "\n",
    "def tok_stem_drop(row):\n",
    "\n",
    "    # Tokenize. This creates a list\n",
    "    row['selftext'] = [tok for tok in tokenizer.tokenize(row['selftext'].lower())]\n",
    "    row['title'] = [tok for tok in tokenizer.tokenize(row['title'].lower())]\n",
    "    \n",
    "    # Lemmatizing, Porter Stemming and Snowball Stemming\n",
    "    row['lemma_selftext'] = [lemmatizer.lemmatize(tok) for tok in row['selftext']]\n",
    "    row['porter_selftext'] = [p_stemmer.stem(tok) for tok in row['selftext']]\n",
    "    row['snow_selftext'] = [snow_stem.stem(tok) for tok in row['selftext']]\n",
    "    \n",
    "    row['lemma_title'] = [lemmatizer.lemmatize(tok) for tok in row['title']]\n",
    "    row['porter_title'] = [p_stemmer.stem(tok) for tok in row['title']]\n",
    "    row['snow_title'] = [snow_stem.stem(tok) for tok in row['title']]    \n",
    "        \n",
    "    # Drop stop words made in Part 1.3.2.\n",
    "    row['lemma_stop_selftext'] = [tok for tok in row['lemma_selftext'] if tok not in all_stopwords]\n",
    "    row['porter_stop_selftext'] = [tok for tok in row['porter_selftext'] if tok not in all_stopwords]\n",
    "    row['snow_stop_selftext'] = [tok for tok in row['snow_selftext'] if tok not in all_stopwords]\n",
    "\n",
    "    row['lemma_stop_title'] = [tok for tok in row['lemma_title'] if tok not in all_stopwords]\n",
    "    row['porter_stop_title'] = [tok for tok in row['porter_title'] if tok not in all_stopwords]\n",
    "    row['snow_stop_title'] = [tok for tok in row['snow_title'] if tok not in all_stopwords]\n",
    "    \n",
    "    # Extending 'title' list with corresponding 'selftext' list\n",
    "    row['lemma_stop_title'].extend(row['lemma_stop_selftext'])\n",
    "    row['porter_stop_title'].extend(row['porter_stop_selftext'])\n",
    "    row['snow_stop_title'].extend(row['snow_stop_selftext'])\n",
    "    row['title'].extend(row['selftext'])\n",
    "\n",
    "    # Join title and selftext into string\n",
    "    row['tok_lemma_all_text'] = ' '.join(row['lemma_stop_title'])   \n",
    "    row['tok_porter_all_text'] = ' '.join(row['porter_stop_title'])\n",
    "    row['tok_snow_all_text'] = ' '.join(row['snow_stop_title'])\n",
    "    row['all_text'] = ' '.join(row['title'])\n",
    "    \n",
    "    return row\n",
    "    \n",
    "clean_df = clean_df.apply(tok_stem_drop, axis=1)"
   ]
  },
  {
   "cell_type": "markdown",
   "id": "ed545977",
   "metadata": {},
   "source": [
    "### Drop Unused Columns\n",
    "\n",
    "We end the data cleaning portion by reducing our number of columns, keeping only those that are necessary for the modeling segment. This helps keep our data concise and allows faster loading time going forward."
   ]
  },
  {
   "cell_type": "code",
   "execution_count": 9,
   "id": "155b9f3b",
   "metadata": {},
   "outputs": [],
   "source": [
    "clean_df.drop(columns=['title', 'lemma_title', 'porter_title', 'snow_title', \n",
    "                       'lemma_stop_selftext', 'porter_stop_selftext', 'snow_stop_selftext', \n",
    "                       'lemma_stop_title', 'porter_stop_title', 'snow_stop_title'], inplace=True)"
   ]
  },
  {
   "cell_type": "markdown",
   "id": "a9b8bc4a",
   "metadata": {},
   "source": [
    "### Observations from Stemming: Lemmatizing, Porter Stemming, Snow Stemming:\n",
    "\n",
    "We conducted 3 different types of processing for our text and made several observations. The three functions used are:\n",
    "\n",
    "|<center><b>Method</b></center>|Label|\n",
    "|------|-----|\n",
    "|Lemmatizer.lemmatize|lemma|\n",
    "|PorterStemmer.stem|porter|\n",
    "|SnowStemmer.stem|snow|\n",
    "    \n",
    " \n",
    "#### Observation 1: Lemma vs Porter and Snow\n",
    "Comparing the processed text in lemma against porter and snow, we find a few differences in results as shown in the table below. We observe that both porter and snow are more aggressive in stemming words as compared to lemmatizer. While porter and snow changes certain words unfavorably, they are still more useful going forward since it allows greater pruning of words through dropping of English stopwords, hence decreasing the amount of noise in our processed data.\n",
    "\n",
    "<b>Legend:</b>\n",
    "\n",
    "<font color='blue'>Blue: Original vs Lemma, Porter and Snow</font>\n",
    "\n",
    "<font color='green'>Blue: Original and Lemma vs Porter and Snow</font>\n",
    "\n",
    "<font color='red'>Red: Original vs Lemma vs Porter and Snow</font>\n",
    "\n",
    "\n",
    "|Original|Lemma|Porter|Snow|Processes|\n",
    "|-------------|-----|------|----|-------|\n",
    "|<font color='blue'>dollars</font>|<font color='blue'>dollar</font>|<font color='blue'>dollar</font>|<font color='blue'>dollar</font>|<font color='blue'>Lemma, Porter, Snow</font>|\n",
    "|<font color='blue'>does</font>|<font color='blue'>doe</font>|<font color='blue'>doe</font>|<font color='blue'>doe</font>|<font color='blue'>Lemma, Porter, Snow</font>|\n",
    "|<font color='green'>receive</font>|<font color='green'>receive</font>|<font color='green'>receiv</font>|<font color='green'>receiv</font>|<font color='green'>Porter, Snow</font>|\n",
    "|<font color='green'>useful</font>|<font color='green'>useful</font>|<font color='green'>use</font>|<font color='green'>use</font>|<font color='green'>Porter, Snow</font>|\n",
    "|<font color='red'>goes</font>|<font color='red'>go</font>|<font color='red'>goe</font>|<font color='red'>goe</font>|<font color='red'>Lemma, Porter, Snow</font>|\n",
    "|<font color='red'>opportunities</font>|<font color='red'>opportunity</font>|<font color='red'>opportun</font>|<font color='red'>opportun</font>|<font color='red'>Lemma, Porter, Snow</font>|\n"
   ]
  },
  {
   "cell_type": "code",
   "execution_count": 10,
   "id": "f11c2a58",
   "metadata": {},
   "outputs": [
    {
     "name": "stdout",
     "output_type": "stream",
     "text": [
      "dollars dollar dollar dollar\n",
      "dollars dollar dollar dollar\n",
      "receive receive receiv receiv\n",
      "doing doing do do\n",
      "going going go go\n",
      "does doe doe doe\n",
      "choose choose choos choos\n",
      "goes go goe goe\n",
      "beneficial beneficial benefici benefici\n",
      "company company compani compani\n",
      "shares share share share\n",
      "profits profit profit profit\n",
      "going going go go\n",
      "shareholders shareholder sharehold sharehold\n",
      "why why whi whi\n",
      "currency currency currenc currenc\n",
      "dividends dividend dividend dividend\n",
      "company company compani compani\n",
      "pays pay pay pay\n",
      "stocks stock stock stock\n"
     ]
    }
   ],
   "source": [
    "# Code for Observation 1.\n",
    "for original, lemma, porter, snow in zip(\n",
    "    clean_df['selftext'][0],\n",
    "    clean_df['lemma_selftext'][0], \n",
    "    clean_df['porter_selftext'][0], \n",
    "    clean_df['snow_selftext'][0]):\n",
    "    if (original != lemma) | ((lemma != porter) | (lemma != snow) | (porter != snow)):\n",
    "        print(original, lemma, porter, snow)"
   ]
  },
  {
   "cell_type": "markdown",
   "id": "fae1acd9",
   "metadata": {},
   "source": [
    "#### Observation 2: Porter vs Snow\n",
    "\n",
    "We compare the effectiveness of porter against snow and observe several differences. We note that stemming using 'snow' gives us a better result than using 'porter' in more cases. Snow, also known as Porter2 is a more advanced version of Porter. We note several of the differences:\n",
    "\n",
    "1. While Porter recognizes words ending with 's' as a plural (as it true is in most cases) and drops it from the word, Snow will selectively drop 's'. This leads to less errors when non-plural words ending with 's' that are dropped using Porter, are not dropped using Snow. \n",
    "\n",
    "2. Snow recognizes words ending with '-ly' as an adverb and drops such words. Porter changes '-ly' into '-li'. In such cases, these words are more often transformed incorrectly by Porter.\n",
    "\n",
    "**After observing the differences in Porter and Snow, we select Snow as our main stemming method because it is more effective and has greater contextual understanding.**\n",
    "\n",
    "|Original|Porter|Snow|\n",
    "|--------|------|----|\n",
    "|was|wa|was|\n",
    "|this|thi|this|\n",
    "|various|variou|various|\n",
    "|highly|highli|high|\n",
    "|abruptly|abruptli|abrupt|\n"
   ]
  },
  {
   "cell_type": "code",
   "execution_count": 11,
   "id": "a9563ddc",
   "metadata": {},
   "outputs": [
    {
     "name": "stdout",
     "output_type": "stream",
     "text": [
      "was wa was\n",
      "this thi this\n",
      "various variou various\n",
      "this thi this\n",
      "abruptly abruptli abrupt\n",
      "was wa was\n",
      "highly highli high\n",
      "was wa was\n",
      "his hi his\n",
      "has ha has\n"
     ]
    }
   ],
   "source": [
    "for original, porter, snow in zip(\n",
    "    clean_df['selftext'][123], \n",
    "    clean_df['porter_selftext'][123], \n",
    "    clean_df['snow_selftext'][123]):\n",
    "    if porter != snow:\n",
    "        print(original, porter, snow)"
   ]
  },
  {
   "cell_type": "markdown",
   "id": "3f9945cb",
   "metadata": {},
   "source": [
    "# Exploratory Data Analysis and Modeling <a class=\"anchor\" id=\"EDAM\"></a>\n",
    "\n",
    "We create several models and confusion matrices based on different types of vectorizers and classifiers and obtain several metrics:\n",
    "\n",
    "Vectorizers:\n",
    "\n",
    "    1. CountVectorizer (CVEC)\n",
    "    2. Term Frequency–Inverse Document Frequency Vectorizer (TFIDF)\n",
    "\n",
    "Models/Classifiers:\n",
    "\n",
    "    1. Baseline Model\n",
    "    2. Logistic Regression\n",
    "    3. KNeighbors Classifier\n",
    "    4. Multinomial Naive Bayes (NB)\n",
    "    5. Decision Tree Classifier\n",
    "    6. Bagging (Bootstrap Aggregating)\n",
    "    7. Random Forests Classifier\n",
    "\n",
    "Metrics:\n",
    "\n",
    "    1. Training/Testing Score\n",
    "    2. Accuracy\n",
    "    3. Misclassification\n",
    "    4. Sensitivity\n",
    "    5. Specificity\n",
    "    6. Precision"
   ]
  },
  {
   "cell_type": "markdown",
   "id": "8be8f6ea",
   "metadata": {},
   "source": [
    "## Initiate X and y\n",
    "\n",
    "Here, we initiate X and y to be used in the modeling section."
   ]
  },
  {
   "cell_type": "code",
   "execution_count": 12,
   "id": "de13c7e5",
   "metadata": {},
   "outputs": [],
   "source": [
    "# X and y are both Series\n",
    "X = clean_df['tok_snow_all_text']\n",
    "y = clean_df['subreddit_personalfinance']\n",
    "\n",
    "X_train, X_test, y_train, y_test = train_test_split(X, y,\n",
    "                                                  random_state=42,\n",
    "                                                  stratify=y)"
   ]
  },
  {
   "cell_type": "markdown",
   "id": "6abbce21",
   "metadata": {},
   "source": [
    "## Data Visualization\n",
    "\n",
    "We visualize the overall data to note the overall frequency of usage. \n",
    "\n",
    "Prior to visualization, we would note that the frequency of the top-20 unigram far exceed that of the top-20 bigrams. As such, the frequency of occurence for the top bigram is smaller than the top 20th unigram. The same is true when comparing the frequency of bigrams to trigram. Therefore, if we set a different value for minimum and maximum ngram range, our top-20 results will only be words from the minimum ngram range.\n",
    "Hence, we set our minimum and maximum ngram range to be equal. This way, we obtain 1-word, 2-word, and 3-word ngrams separately."
   ]
  },
  {
   "cell_type": "markdown",
   "id": "b52fcd6b",
   "metadata": {},
   "source": [
    "### Create DataFrame and Visualization Function\n",
    "\n",
    "Below are the steps we will take for the initial step of visualization: \n",
    "\n",
    "    1. We create separate series' for each subreddit so that we can display the most frequent unigram, bigram and trigram for each subreddit and compare the results.\n",
    "    2. Create function for Count Vectorizer Visualization\n",
    "    3. Create function for TF-IDF Vectorizer Visualization"
   ]
  },
  {
   "cell_type": "code",
   "execution_count": 13,
   "id": "e5064f31",
   "metadata": {},
   "outputs": [],
   "source": [
    "# Step 1: Create separate series for each subreddit\n",
    "visual_personalfinance = clean_df.loc[clean_df['subreddit_personalfinance'] == 1, 'tok_snow_all_text']\n",
    "visual_investing = clean_df.loc[clean_df['subreddit_personalfinance'] == 0, 'tok_snow_all_text']"
   ]
  },
  {
   "cell_type": "code",
   "execution_count": 14,
   "id": "6498d489",
   "metadata": {},
   "outputs": [],
   "source": [
    "# Step 2: Create function for CVEC Vectorizer Visualization\n",
    "def cvec_visual(range_value):\n",
    "\n",
    "    # Instantiate Vectorizer\n",
    "    cvec_visual = CountVectorizer(ngram_range=(range_value, range_value))\n",
    "    \n",
    "    # Creating dataframe based on vectorizer\n",
    "    personalfinance_visual = cvec_visual.fit_transform(visual_personalfinance)\n",
    "    personalfinance_visual_df = pd.DataFrame(personalfinance_visual.todense(),\n",
    "                                             columns=cvec_visual.get_feature_names())\n",
    "    investing_visual = cvec_visual.fit_transform(visual_investing)\n",
    "    investing_visual_df = pd.DataFrame(investing_visual.todense(),\n",
    "                                       columns=cvec_visual.get_feature_names())\n",
    "    \n",
    "    # Plotting bar graph\n",
    "    plt.figure(figsize=(9, 4))\n",
    "    \n",
    "    plt.subplot(1, 2, 1)\n",
    "    personalfinance_visual_df.sum().sort_values(\n",
    "        ascending=False).head(10).plot(kind='barh');\n",
    "    plt.title('Top 10 Word(s) in r/personalfinance (CVEC)')\n",
    "    plt.ylabel('Word(s)')\n",
    "    plt.xlabel('Frequency (CVEC)')\n",
    "\n",
    "    plt.subplot(1, 2, 2)\n",
    "    investing_visual_df.sum().sort_values(\n",
    "        ascending=False).head(10).plot(kind='barh');\n",
    "    plt.title('Top 10 Word(s) in r/investing (CVEC)')\n",
    "    plt.ylabel('Word(s)')\n",
    "    plt.xlabel('Frequency (CVEC)')\n",
    "    \n",
    "    plt.tight_layout()"
   ]
  },
  {
   "cell_type": "code",
   "execution_count": 15,
   "id": "b38133de",
   "metadata": {},
   "outputs": [],
   "source": [
    "# Step 3: Create function for TF-IDF Vectorizer Visualization\n",
    "def tvec_visual(range_value):\n",
    "\n",
    "    # Instantiate Vectorizer\n",
    "    tvec_visual = TfidfVectorizer(ngram_range=(range_value, range_value))\n",
    "    \n",
    "    # Creating dataframe based on vectorizer\n",
    "    personalfinance_visual = tvec_visual.fit_transform(visual_personalfinance)\n",
    "    personalfinance_visual_df = pd.DataFrame(personalfinance_visual.todense(),\n",
    "                                             columns=tvec_visual.get_feature_names())\n",
    "    investing_visual = tvec_visual.fit_transform(visual_investing)\n",
    "    investing_visual_df = pd.DataFrame(investing_visual.todense(),\n",
    "                                       columns=tvec_visual.get_feature_names())\n",
    "    \n",
    "    # Plotting bar graph\n",
    "    plt.figure(figsize=(9, 4))\n",
    "    \n",
    "    plt.subplot(1, 2, 1)\n",
    "    personalfinance_visual_df.sum().sort_values(\n",
    "        ascending=False).head(10).plot(kind='barh');\n",
    "    plt.title('Top 10 Word(s) in r/personalfinance (TVEC)')\n",
    "    plt.ylabel('Word(s)')\n",
    "    plt.xlabel('Frequency (TVEC)')\n",
    "\n",
    "    plt.subplot(1, 2, 2)\n",
    "    investing_visual_df.sum().sort_values(\n",
    "        ascending=False).head(10).plot(kind='barh');\n",
    "    plt.title('Top 10 Word(s) in r/investing (TVEC)')\n",
    "    plt.ylabel('Word(s)')\n",
    "    plt.xlabel('Frequency (TVEC)')\n",
    "    \n",
    "    plt.tight_layout()"
   ]
  },
  {
   "cell_type": "markdown",
   "id": "4236b7b8",
   "metadata": {},
   "source": [
    "### Unigrams\n",
    "\n",
    "We tabulate our findings below. Some values have been modified for better readability.\n",
    "\n",
    "Words found in all four graphs are colorized according to the common word for easier visualization.\n",
    "\n",
    "|Rank|Model: CVEC<br>Sub: r/personalfinance</br>|Model: TVEC<br>Sub: r/personalfinance</br>|Model: CVEC<br>Sub: r/investing</br>|Model: TVEC<br>Sub: r/investing</br>|\n",
    "|----|-----------|-----------|-----------|-----------|\n",
    "|1|<font color='blue'>Year</font>|Credit|Company|Stock|\n",
    "|2|<font color='red'>Would</font>|<font color='blue'>Year</font>|Stock|Company|\n",
    "|3|Month|Loan|Market|Market\n",
    "|4|Pay|Pay|<font color='blue'>Year</font>|<font color='blue'>Year</font>|\n",
    "|5|Get|Month|Like|Share|\n",
    "|6|Credit|Account|Price|Like|\n",
    "|7|Loan|<font color='red'>Would</font>|Share|<font color='red'>Would</font>|\n",
    "|8|Account|Save|<font color='red'>Would</font>|Fund|\n",
    "|9|Any|Get|Buy|Money|\n",
    "|10|Money|Car|Use|Price|"
   ]
  },
  {
   "cell_type": "markdown",
   "id": "c7ae7cd0",
   "metadata": {},
   "source": [
    "We note several observations from our unigrams.\n",
    "\n",
    "1. 'Would' appears to be a common word in all instance of unigrams. This is most likely due to its nature as a stopword. However, we withhold dropping this word due to possible permutations in contextually.\n",
    "2. 'Year' is also a common word. This suggests that in both subreddits, time is a factor of concern.\n",
    "3. More notably, the two subreddits seem to have a difference in the nature of words used. In r/personalfinance, it appears that there is a greater usage of inward-looking words such as 'Credit', 'Loan', and 'Pay' (salary), while in r/investing, more outward-looking words such as 'Company', 'Stock', and 'Market' are used.\n",
    "4. We note that the relatively small number of similar unigrams in the top 10 unigrams used provide for greater distinguishability between the two subreddits, which may allow for greater predictive power of our model."
   ]
  },
  {
   "cell_type": "code",
   "execution_count": 16,
   "id": "3773eea5",
   "metadata": {},
   "outputs": [
    {
     "data": {
      "image/png": "[encoded data removed]",
      "text/plain": [
       "<Figure size 648x288 with 2 Axes>"
      ]
     },
     "metadata": {
      "needs_background": "light"
     },
     "output_type": "display_data"
    },
    {
     "data": {
      "image/png": "[encoded data removed]",
      "text/plain": [
       "<Figure size 648x288 with 2 Axes>"
      ]
     },
     "metadata": {
      "needs_background": "light"
     },
     "output_type": "display_data"
    }
   ],
   "source": [
    "cvec_visual(1)\n",
    "tvec_visual(1)"
   ]
  },
  {
   "cell_type": "markdown",
   "id": "2cd4fd10",
   "metadata": {},
   "source": [
    "### Bigrams\n",
    "\n",
    "We tabulate our findings below. Some values have been modified for better readability.\n",
    "\n",
    "Bigrams found in all four graphs are colorized according to the common bigram for easier visualization.\n",
    "\n",
    "|Rank|Model: CVEC<br>Sub: r/personalfinance</br>|Model: TVEC<br>Sub: r/personalfinance</br>|Model: CVEC<br>Sub: r/investing</br>|Model: TVEC<br>Sub: r/investing</br>|\n",
    "|----|-----------|-----------|-----------|-----------|\n",
    "|1|Credit Card|Credit Card|Long Term|Long Term|\n",
    "|2|Student Loan|<font color='blue'>Roth IRA</font>|Last Year|Stock Market\n",
    "|3|Credit Score|Credit Score|Stock Market|<font color='blue'>Roth IRA</font>|\n",
    "|4|<font color='blue'>Roth IRA</font>|Student Loan|Per Share|Index Fund|\n",
    "|5|Next Year|Interest Rate|Yahoo Finance|Real Estate|\n",
    "|6|Interest Rate|Savings Account|Real Estate|Last Year|\n",
    "|7|Any Advice|Any Advice|Second Quarter|Per Share|\n",
    "|8|Year Old|Year Old|Year (over) Year|Does Anyone|\n",
    "|9|Emergency Fund|Next Year|Cash Flow|Mutual Fund|\n",
    "|10|Savings Account|Emergency Fund|<font color='blue'>Roth IRA</font>|Interest Rate|"
   ]
  },
  {
   "cell_type": "markdown",
   "id": "d1866899",
   "metadata": {},
   "source": [
    "Similarly, we note some observations from the top bigrams:\n",
    "\n",
    "1. Roth IRA is a common popular bigram in the four graphs. A [Roth IRA](https://www.investopedia.com/terms/r/rothira.asp) is a retirement account funded with after-tax dollars. We believe that it is a popular word used in both subreddits due to its characteristics as a tax-free retirement account, which is attractive for both personal finance and investments.\n",
    "2. Similarly, there is a distinction between the nature of the words used. The 'investing' subreddit again places more focus on outward-facing matters such as 'stock market' and 'real estate', while the words useed in the 'personalfinance' subreddit places greater focus on one's inward-facing circumstances such as 'student loan' and 'savings account'.\n",
    "3. We observe that 'credit card', the top bigram in the subreddit 'personalfinance' has a significantly higher usage frequency as compared to the second highest bigram. Visually, by count vectorizer, it is used almost 2x as much as the second highest bigram (~280 vs ~150). When regularized using TF-IDF vectorizer, the usage frequency of 'credit card' is still over 25% ahead of the next bigram. This suggests that the presence or absence of the bigram 'credit card' may play a big role in the predictive value of our model.\n",
    "4. We see the same occurrence in the subreddit r/investing, where 'long term' has the highest frequency when vectorized by both CVEC and TF-IDF. \n",
    "5. We note that the difference between top bigrams in the two subreddits allow for greater predictive power of our model due to its greater distinguishability."
   ]
  },
  {
   "cell_type": "code",
   "execution_count": 17,
   "id": "14d557bf",
   "metadata": {},
   "outputs": [
    {
     "data": {
      "image/png": "[encoded data removed]",
      "text/plain": [
       "<Figure size 648x288 with 2 Axes>"
      ]
     },
     "metadata": {
      "needs_background": "light"
     },
     "output_type": "display_data"
    },
    {
     "data": {
      "image/png": "[encoded data removed]",
      "text/plain": [
       "<Figure size 648x288 with 2 Axes>"
      ]
     },
     "metadata": {
      "needs_background": "light"
     },
     "output_type": "display_data"
    }
   ],
   "source": [
    "cvec_visual(2)\n",
    "tvec_visual(2)"
   ]
  },
  {
   "cell_type": "markdown",
   "id": "7e82cebf",
   "metadata": {},
   "source": [
    "### Trigrams\n",
    "\n",
    "We tabulate our findings below. Some values have been modified for better readability.\n",
    "\n",
    "Bigrams found in all four graphs are colorized according to the common bigram for easier visualization.\n",
    "\n",
    "|Rank|Model: CVEC<br>Sub: r/personalfinance</br>|Model: TVEC<br>Sub: r/personalfinance</br>|Model: CVEC<br>Sub: r/investing</br>|Model: TVEC<br>Sub: r/investing</br>|\n",
    "|----|-----------|-----------|-----------|-----------|\n",
    "|1|Credit Card Debt|Credit Card Debt|Buy Yahoo Finance|Earnings Per Share|\n",
    "|2|Start New Job|Start New Job|Recommend Buy Yahoo|Does Anyone Know|\n",
    "|3|Long Story Short|Long Story Short|Yahoo Finance Recommend|Free Cash Flow|\n",
    "|4|Pay Student Loan|Pay Student Loan|Weiss Rating Recommend|Billion vs Billion|\n",
    "|5|Would Greatly Appreciate|Would Greatly Appreciate|InvestorObserver Overall Score|Sell Covered Calls|\n",
    "|6|Capital Gain Tax|Does Anyone (know) Any|Finance Target Price|Revenue Billion vs|\n",
    "|7|Student Loan Debt|Student Loan Debt|Price Book Ratio|Does Anyone (know) any|\n",
    "|8|Vanguard Target Retirement|Capital Gain Tax|Yahoo Finance Target|Increase Year (over) Year|\n",
    "|9|Pay Credit Card|Pay Credit Card|Valuation Valuation Entry|Capital Gain Tax\n",
    "|10|Work Full Time|Work Full Time|Yahoo Finance Year|Vanguard Roth IRA|"
   ]
  },
  {
   "cell_type": "markdown",
   "id": "64c3d50f",
   "metadata": {},
   "source": [
    "We note several observations from comparing our trigrams. \n",
    "\n",
    "1. We note that there are no similar trigrams appearing in all four diagrams.\n",
    "2. The personalfinance subreddit pays greater attention to personal circumstances such as personal liabilities (student loan debt, pay (_sic_) student loan, pay (_sic_) credit card). We note that there is also a greater focus on personal income (start new job, work full time).\n",
    "3. Meanwhile, the investing subreddit pays greater focus towards institutional characters, with mentions on 'InvestorObserver', 'Yahoo' and 'Weiss'. There is also a greater focus on a company's metrics and financial targets, with metrics such as 'Free Cash Flow', 'Valuation Valuation (_sic_) Entry', and 'Earnings per Share'.\n",
    "4. We note that the same observation on the top bigram in r/personalfinance appears in a similar fashion in the top trigram in the same subreddit.\n",
    "5. Comparing the CVEC and TVEC results of r/investing, 'earnings per share', a popular metric used to evaluate a company's implied market value and its relative over/undervaluation, does not appear to be present in the top 10 words in r/investing when vectorized using CVEC. However, it is the top trigram when regularization is applied using TF-IDF Vectorizer. This suggests that although it is less used in terms of true count, it appears to play greater weight on the post within the subreddit."
   ]
  },
  {
   "cell_type": "code",
   "execution_count": 18,
   "id": "b5545a21",
   "metadata": {},
   "outputs": [
    {
     "data": {
      "image/png": "[encoded data removed]",
      "text/plain": [
       "<Figure size 648x288 with 2 Axes>"
      ]
     },
     "metadata": {
      "needs_background": "light"
     },
     "output_type": "display_data"
    },
    {
     "data": {
      "image/png": "[encoded data removed]",
      "text/plain": [
       "<Figure size 648x288 with 2 Axes>"
      ]
     },
     "metadata": {
      "needs_background": "light"
     },
     "output_type": "display_data"
    }
   ],
   "source": [
    "cvec_visual(3)\n",
    "tvec_visual(3)"
   ]
  },
  {
   "cell_type": "markdown",
   "id": "9d2f688c",
   "metadata": {},
   "source": [
    "### Concluding Remarks for Visualization\n",
    "\n",
    "We aggregate our findings through our unigram, bigram and trigram visualization. We note that among the top 10 words used in unigrams, bigrams and trigrams, there is little similarity between the two subreddits. The large proportion of difference in ngram usage frequency suggests that our tokens will provide a significant predictive value in our model.\n",
    "\n",
    "In observing our bigrams and trigrams, we gained a greater contextual understanding of the difference in the nature of the subreddits. As shown in the table below, the focus of r/personalfinance seems to on internal circumstances and is more preservative by nature whereas the focus of r/investing is more external opportunities and seeking gains. For instance, r/personalfinance focuses on an individual's personal financial condition such as how much debt they have and how much savings they have. Meanwhile, r/investing has a greater focus on opportunities to deploy funds for more gain, with bigrams and trigrams focusing more on an investment target's (public company in the stock market) financial metrics and institutional view on its performance (price targets).\n",
    "\n",
    "We also note the word choice in r/investing, 'real estate'. In the context of personal finance, 'real estate' is more commonly referred to as 'housing', 'residential property' or other forms of words for 'shelter'. Granted, 'real estate' covers more than simply housing. However, by using the term 'real estate', participants in the r/investing subreddit are more inclined on using its components, including 'residential property' or 'housing' more as an investment opportunity and less for personal use.\n",
    "\n",
    "|Subreddit|ngram|Description|Nature (Internal/External)|\n",
    "|---------|-----|-----------|--------------------------|\n",
    "|r/personalfinance|Student Loan|Personal Debt|Internal|\n",
    "||Savings Account|Personal Asset|Internal|\n",
    "||Credit Score|Personal Credit Rating|Internal|\n",
    "||Emergency Fund|Personal Safety Net|Internal|\n",
    "||Pay Credit Card|Personal Debt|Internal|\n",
    "||Start New Job|Personal Job Status|Internal|\n",
    "||Work Full Time|Personal Job Status|Internal|\n",
    "|r/investing|Stock Market|Public Company Stocks|External|\n",
    "||Real Estate|Investment Sector|External|\n",
    "||Per Share|Financial Metric|External|\n",
    "||Cash Flow|Financial Metric|External|\n",
    "||Price Book Ratio|Financial Metric|External|\n",
    "||Earnings per Share|Financial Metric|External|\n",
    "||Sell Covered Calls|Financial Instrument|External|\n",
    "||Yahoo Finance Target|Institutional Recommendation|External|\n",
    "||InvestorObserver Overall Score|Institutional Recommendation|External|\n"
   ]
  },
  {
   "cell_type": "markdown",
   "id": "94c040cd",
   "metadata": {},
   "source": [
    "## Basic Model\n",
    "\n",
    "We use the higher probability of 'subreddit' as the baseline. Obtaining the probability distribution, we find that given a random text, choosing 'personalfinance' as the subreddit gives us a 50.6% chance of being correct. Hence, our baseline model is 50.6%.\n",
    "\n",
    "|Model|Accuracy|\n",
    "|-----|--------|\n",
    "|Basic|50.6%|"
   ]
  },
  {
   "cell_type": "code",
   "execution_count": 19,
   "id": "9f504ab7",
   "metadata": {
    "scrolled": true
   },
   "outputs": [
    {
     "data": {
      "text/plain": [
       "1    0.505553\n",
       "0    0.494447\n",
       "Name: subreddit_personalfinance, dtype: float64"
      ]
     },
     "execution_count": 19,
     "metadata": {},
     "output_type": "execute_result"
    }
   ],
   "source": [
    "clean_df['subreddit_personalfinance'].value_counts(normalize=True)"
   ]
  },
  {
   "cell_type": "markdown",
   "id": "62603698",
   "metadata": {},
   "source": [
    "## Logistic Regression\n",
    "\n",
    "In this section, we create a logistic regression model using CVEC and TF-IDF Vectorizer and tabulate our findings. We first create a function to call on our models based on the format 'gs_(vectorizer)\\_(model name)'"
   ]
  },
  {
   "cell_type": "code",
   "execution_count": 48,
   "id": "7a375a12",
   "metadata": {},
   "outputs": [],
   "source": [
    "def model(gs_vectorizer_model):\n",
    "    gs_vectorizer_model.fit(X_train, y_train)\n",
    "    model_preds = gs_vectorizer_model.predict(X_test)\n",
    "    tn, fp, fn, tp = confusion_matrix(y_test, model_preds).ravel()\n",
    "    print(f'Best Score:                                {round(gs_vectorizer_model.best_score_, 3)*100}%')\n",
    "    print(f'Train Score:                               {round(gs_vectorizer_model.score(X_train, y_train), 3)*100}%')\n",
    "    print(f'Accuracy (Test Score):                     {round((tp+tn)/(tn+fp+fn+tp),3)*100}%')\n",
    "    print(f'Misclassification:                         {round(1-(tp+tn)/(tn+fp+fn+tp),3)*100}%')\n",
    "    print(f'Sensitivity / True Positive Rate / Recall: {round((tp)/(tp+fn),3)*100}%')\n",
    "    print(f'Specificity / True Negative Rate:          {round(tn/(tn+fp),3)*100}%')\n",
    "    print(f'Precision / Positive Predictive Value:     {round(tp/(tp+fp),3)*100}%')\n",
    "    print(f'Best Parameters:                           {gs_vectorizer_model.best_params_}')\n",
    "    plot_confusion_matrix(gs_vectorizer_model, \n",
    "                          X_test, y_test, \n",
    "                          cmap='Blues', \n",
    "                          values_format='d',\n",
    "                          display_labels=['r/investing', 'r/personalfinance']\n",
    "                         );\n",
    "    "
   ]
  },
  {
   "cell_type": "markdown",
   "id": "804b95be",
   "metadata": {},
   "source": [
    "###  CountVectorizer Logistic Regression\n",
    "\n",
    "We used Pipeline and GridSearchCV to perform a CVEC logistic regression model based on a range of parameters. Below, we list the range of parameters for respective features and the best parameter used, as well as the $R^2$ and other metrics results:\n",
    "\n",
    "**Note: For ease of use and to reduce processing time, we have set the parameters in our code as the Best Parameters found.**\n",
    "\n",
    "|Parameter|Range Used|Best|\n",
    "|---------|-----|----|\n",
    "|CVEC Max Features|1000, 2000, 3000<br>4000, 5000</br>|4000|\n",
    "|CVEC Ngram Range|(1, 1), (1, 2)<br>(1, 3), (1, 4)</br>|(1, 2)|\n",
    "|Logit CV|5, 10, 15, 20, 25|10|\n",
    "\n",
    "|Metric|Value|\n",
    "|------|-----|\n",
    "|Best $R^2$|89.0%|\n",
    "|Train $R^2$|96.4%|\n",
    "|Accuracy (Test $R^2$)|89.7%|\n",
    "|Misclassification|10.3%|\n",
    "|Sensitivity|92.3%|\n",
    "|Specificity|87.1%|\n",
    "|Precision|88.0%|\n"
   ]
  },
  {
   "cell_type": "code",
   "execution_count": 54,
   "id": "e48f8001",
   "metadata": {},
   "outputs": [
    {
     "name": "stdout",
     "output_type": "stream",
     "text": [
      "Best Score:                                89.0%\n",
      "Train Score:                               96.39999999999999%\n",
      "Accuracy (Test Score):                     89.7%\n",
      "Misclassification:                         10.299999999999999%\n",
      "Sensitivity / True Positive Rate / Recall: 92.30000000000001%\n",
      "Specificity / True Negative Rate:          87.1%\n",
      "Precision / Positive Predictive Value:     88.0%\n",
      "Best Parameters:                           {'cvec__max_features': 4000, 'cvec__ngram_range': (1, 2), 'logit__cv': 10, 'logit__n_jobs': -1, 'logit__random_state': 42}\n"
     ]
    },
    {
     "data": {
      "image/png": "[encoded data removed]",
      "text/plain": [
       "<Figure size 432x288 with 2 Axes>"
      ]
     },
     "metadata": {
      "needs_background": "light"
     },
     "output_type": "display_data"
    }
   ],
   "source": [
    "cvec = CountVectorizer()\n",
    "logit = LogisticRegressionCV()\n",
    "\n",
    "pipe_cvec_logit = Pipeline([\n",
    "    ('cvec', cvec),\n",
    "    ('logit', logit)])\n",
    "\n",
    "pipe_cvec_logit_params = {\n",
    "    'cvec__max_features': [4000],\n",
    "    'cvec__ngram_range': [(1,2)],\n",
    "    'logit__n_jobs': [-1],\n",
    "    'logit__random_state': [42],\n",
    "    'logit__cv': [10]}\n",
    "\n",
    "gs_cvec_logit = GridSearchCV(\n",
    "    estimator=pipe_cvec_logit,\n",
    "    param_grid=pipe_cvec_logit_params,\n",
    "    cv=5)\n",
    "\n",
    "model(gs_cvec_logit)\n",
    "plt.title('CVEC Logistic Regression');"
   ]
  },
  {
   "cell_type": "markdown",
   "id": "2ef5232c",
   "metadata": {},
   "source": [
    "### TF-IDF Vectorizer Logistic Regression\n",
    "\n",
    "We used Pipeline and GridSearchCV to perform a TVEC logistic regression model based on a range of parameters. Below, we list the range of parameters for respective features and the best parameter used, as well as the $R^2$ and other metrics results:\n",
    "\n",
    "**Note: For ease of use and to reduce processing time, we have set the parameters in our code as the Best Parameters found.**\n",
    "\n",
    "|Parameter|Range Used|Best|\n",
    "|---------|-----|----|\n",
    "|CVEC Max Features|1000, 2000, 3000<br>4000, 5000</br>|3000|\n",
    "|CVEC Ngram Range|(1, 1), (1, 2), (1, 3)<br>(1, 4), (1, 5), (1, 6)</br>|(1, 4)|\n",
    "|Logit CV|5, 10, 15, 20, 25|15|\n",
    "\n",
    "|Metric|Value|\n",
    "|------|-----|\n",
    "|Best $R^2$|90.0%|\n",
    "|Train $R^2$|91.9%|\n",
    "|Accuracy (Test $R^2$)|90.8%|\n",
    "|Misclassification|9.2%|\n",
    "|Sensitivity|91.6%|\n",
    "|Specificity|89.9%|\n",
    "|Precision|90.3%|"
   ]
  },
  {
   "cell_type": "code",
   "execution_count": 105,
   "id": "893800d5",
   "metadata": {},
   "outputs": [
    {
     "name": "stdout",
     "output_type": "stream",
     "text": [
      "Best Score:                                90.0%\n",
      "Train Score:                               91.9%\n",
      "Accuracy (Test Score):                     90.8%\n",
      "Misclassification:                         9.2%\n",
      "Sensitivity / True Positive Rate / Recall: 91.60000000000001%\n",
      "Specificity / True Negative Rate:          89.9%\n",
      "Precision / Positive Predictive Value:     90.3%\n",
      "Best Parameters:                           {'logit__cv': 15, 'logit__n_jobs': -1, 'logit__random_state': 42, 'tvec__max_features': 3000, 'tvec__ngram_range': (1, 4)}\n"
     ]
    },
    {
     "data": {
      "image/png": "[encoded data removed]",
      "text/plain": [
       "<Figure size 432x288 with 2 Axes>"
      ]
     },
     "metadata": {
      "needs_background": "light"
     },
     "output_type": "display_data"
    }
   ],
   "source": [
    "tvec = TfidfVectorizer()\n",
    "logit = LogisticRegressionCV()\n",
    "\n",
    "pipe_tvec_logit = Pipeline([\n",
    "    ('tvec', tvec),\n",
    "    ('logit', logit)])\n",
    "\n",
    "pipe_tvec_logit_params = {\n",
    "    'tvec__max_features': [3000],\n",
    "    'tvec__ngram_range': [(1,4)],\n",
    "    'logit__n_jobs': [-1],\n",
    "    'logit__random_state': [42],\n",
    "    'logit__cv': [15]\n",
    "}\n",
    "\n",
    "gs_tvec_logit = GridSearchCV(\n",
    "    estimator=pipe_tvec_logit,\n",
    "    param_grid=pipe_tvec_logit_params,\n",
    "    cv=5)\n",
    "\n",
    "model(gs_tvec_logit)\n",
    "plt.title('TVEC Logistic Regression');"
   ]
  },
  {
   "cell_type": "markdown",
   "id": "409f827c",
   "metadata": {},
   "source": [
    "### Comparing Logistic Regression Results\n",
    "\n",
    "We tabulate the best parameters found:\n",
    "\n",
    "|Parameter|Best CVEC|Best TVEC|\n",
    "|---------|---------|---------|\n",
    "|Vectorizer Max Features|4000|3000|\n",
    "|Vectorizer Ngram Range|(1, 2)|(1, 4)|\n",
    "|Logistic Regression CV|10|15|\n",
    "\n",
    "**Observations:**\n",
    "\n",
    "1. Observing max features used, our TVEC model uses less features than our CVEC model. The difference in max features used is due to the penalization of terms using TVEC which enables a greater weight to be applied to focus words in each subreddit.\n",
    "2. We find that the inclusion of trigrams and quadrigrams in our TVEC model is provides accretive prediction power as compared to CVEC, which uses only unigrams and bigrams."
   ]
  },
  {
   "cell_type": "markdown",
   "id": "cd0e2ec3",
   "metadata": {},
   "source": [
    "Tabulating our results gives us:\n",
    "\n",
    "\n",
    "|Model|Vectorizer|Best Accuracy|Train Accuracy|Test Accuracy|Sensitivity|Specificity|Precision|\n",
    "|-----|----------|----------|-----------|--------------------|-----------|-----------|---------|\n",
    "|Logistic Regression|CVEC|89.0%|<font color='blue'>96.4%</font>|89.7%|<font color='blue'>92.3%</font>|87.1%|88.0%|\n",
    "|Logistic Regression|TVEC|<font color='blue'>90.0%</font>|91.9%|<font color='blue'>90.8%</font>|91.6%|<font color='blue'>89.9%</font>|<font color='blue'>90.3%</font>|\n",
    "\n",
    "**Note: We colorized the better value <font color='blue'>blue</font> for easier readability.**\n",
    "\n",
    "**Observations:**\n",
    "\n",
    "1. Overall, we find that a logistic regression gives us a great results on our 4 main metrics: Accuracy, Sensitivity, Specificity and Precision.\n",
    "1. Based on our results, a TF-IDF vectorizer had scored better on 3 out of 4 of our metrics.\n",
    "2. While CVEC train $R^2$ is significantly better than TVEC train $R^2$, our CVEC accuracy (test $R^2$) is lower than TVEC accuracy. Comparing CVEC train $R^2$ and test $R^2$, we find a material drop in accuracy. This suggests that there is a signifcant amount of noise present in our CVEC model that is reduced in our TVEC model.\n",
    "3. The effect of penalizing using TF-IDF seems to have provided a better predictive value than simply using a CVEC Vectorizer.\n",
    "4. Based on our findings, a TF-IDF vectorized logistic regression model performs better than a Count Vectorized logistic regression model.\n",
    "\n",
    "**Conclusion: Better Vectorizer: TVEC**\n"
   ]
  },
  {
   "cell_type": "markdown",
   "id": "ac5a9239",
   "metadata": {},
   "source": [
    "## MultiNomial Naive Bayes\n",
    "\n",
    "In this section, we create two Multinomial Naive Bayes models by using different vectorizers: CountVectorizer and TFIDF Vectorizer."
   ]
  },
  {
   "cell_type": "markdown",
   "id": "3e50f1e0",
   "metadata": {},
   "source": [
    "### CountVectorizer Naive Bayes\n",
    "\n",
    "We used Pipeline and GridSearchCV to perform a CVEC Multinomial Naive Bayes model based on a range of parameters. Below, we list the range of parameters for respective features and the best parameter used, as well as the $R^2$ and other metrics results:\n",
    "\n",
    "**Note: For ease of use and to reduce processing time, we have set the parameters in our code as the Best Parameters found.**\n",
    "\n",
    "|Parameter|Range Used|Best|\n",
    "|---------|-----|----|\n",
    "|CVEC Max Features|1000, 2000, 3000, 4000<br>5000, 6000, 7000</br>|5000|\n",
    "|CVEC Ngram Range|(1, 1), (1, 2), (1, 3), (1, 4)|(1, 2)|\n",
    "\n",
    "|Metric|Value|\n",
    "|------|-----|\n",
    "|Best $R^2$|88.9%|\n",
    "|Train $R^2$|91.8%|\n",
    "|Accuracy (Test $R^2$)|90.6%|\n",
    "|Misclassification|9.4%|\n",
    "|Sensitivity|97.9%|\n",
    "|Specificity|83.1%|\n",
    "|Precision|85.6%|"
   ]
  },
  {
   "cell_type": "code",
   "execution_count": 107,
   "id": "577761ed",
   "metadata": {},
   "outputs": [
    {
     "name": "stdout",
     "output_type": "stream",
     "text": [
      "Best Score:                                88.9%\n",
      "Train Score:                               91.8%\n",
      "Accuracy (Test Score):                     90.60000000000001%\n",
      "Misclassification:                         9.4%\n",
      "Sensitivity / True Positive Rate / Recall: 97.89999999999999%\n",
      "Specificity / True Negative Rate:          83.1%\n",
      "Precision / Positive Predictive Value:     85.6%\n",
      "Best Parameters:                           {'cvec__max_features': 5000, 'cvec__ngram_range': (1, 2), 'cvec__stop_words': 'english'}\n"
     ]
    },
    {
     "data": {
      "image/png": "[encoded data removed]",
      "text/plain": [
       "<Figure size 432x288 with 2 Axes>"
      ]
     },
     "metadata": {
      "needs_background": "light"
     },
     "output_type": "display_data"
    }
   ],
   "source": [
    "# Instantiate CountVectorizer() and MultinomialNB()\n",
    "cvec = CountVectorizer()\n",
    "nb = MultinomialNB()\n",
    "\n",
    "pipe_cvec_nb = Pipeline([\n",
    "    ('cvec', cvec),\n",
    "    ('nb', nb)])\n",
    "\n",
    "pipe_cvec_nb_params = {\n",
    "    'cvec__stop_words': ['english'],\n",
    "    'cvec__max_features': [5000],\n",
    "    'cvec__ngram_range': [(1, 2)]\n",
    "}\n",
    "\n",
    "# Instantiate GridSearchCV.\n",
    "gs_cvec_nb = GridSearchCV(\n",
    "    estimator=pipe_cvec_nb, \n",
    "    param_grid=pipe_cvec_nb_params, \n",
    "    cv=5)\n",
    "\n",
    "model(gs_cvec_nb)\n",
    "plt.title('CVEC Naive Bayes');"
   ]
  },
  {
   "cell_type": "markdown",
   "id": "e8bd2e83",
   "metadata": {},
   "source": [
    "### TF-IDF Vectorizer Naive Bayes \n",
    "\n",
    "We used Pipeline and GridSearchCV to perform a TVEC Multinomial Naive Bayes model based on a range of parameters. Below, we list the range of parameters for respective features and the best parameter used, as well as the $R^2$ and other metrics results:\n",
    "\n",
    "**Note: For ease of use and to reduce processing time, we have set the parameters in our code as the Best Parameters found.**\n",
    "\n",
    "|Parameter|Range Used|Best|\n",
    "|---------|-----|----|\n",
    "|CVEC Max Features|1000, 2000, 3000, 4000, 5000<br>6000, 7000, 8000, 9000</br>|7000|\n",
    "|CVEC Ngram Range|(1, 1), (1, 2), (1, 3), (1, 4)|(1, 3)|\n",
    "\n",
    "|Metric|Value|\n",
    "|------|-----|\n",
    "|Best $R^2$|90.5%|\n",
    "|Train $R^2$|94.0%|\n",
    "|Accuracy (Test $R^2$)|91.7%|\n",
    "|Misclassification|8.3%|\n",
    "|Sensitivity|95.8%|\n",
    "|Specificity|87.4%|\n",
    "|Precision|88.6%|"
   ]
  },
  {
   "cell_type": "code",
   "execution_count": 420,
   "id": "a92a757e",
   "metadata": {},
   "outputs": [
    {
     "ename": "TypeError",
     "evalue": "'bool' object is not callable",
     "output_type": "error",
     "traceback": [
      "\u001b[0;31m---------------------------------------------------------------------------\u001b[0m",
      "\u001b[0;31mTypeError\u001b[0m                                 Traceback (most recent call last)",
      "\u001b[0;32m<ipython-input-420-cc09fb0e9873>\u001b[0m in \u001b[0;36m<module>\u001b[0;34m\u001b[0m\n\u001b[0;32m----> 1\u001b[0;31m \u001b[0mgs_tvec_nb\u001b[0m\u001b[0;34m.\u001b[0m\u001b[0mmultimetric_\u001b[0m\u001b[0;34m(\u001b[0m\u001b[0;34m)\u001b[0m\u001b[0;34m\u001b[0m\u001b[0;34m\u001b[0m\u001b[0m\n\u001b[0m",
      "\u001b[0;31mTypeError\u001b[0m: 'bool' object is not callable"
     ]
    }
   ],
   "source": []
  },
  {
   "cell_type": "code",
   "execution_count": 109,
   "id": "40d0bdf8",
   "metadata": {},
   "outputs": [
    {
     "name": "stdout",
     "output_type": "stream",
     "text": [
      "Best Score:                                90.5%\n",
      "Train Score:                               94.0%\n",
      "Accuracy (Test Score):                     91.7%\n",
      "Misclassification:                         8.3%\n",
      "Sensitivity / True Positive Rate / Recall: 95.8%\n",
      "Specificity / True Negative Rate:          87.4%\n",
      "Precision / Positive Predictive Value:     88.6%\n",
      "Best Parameters:                           {'tvec__max_features': 7000, 'tvec__ngram_range': (1, 3), 'tvec__stop_words': 'english'}\n"
     ]
    },
    {
     "data": {
      "image/png": "[encoded data removed]",
      "text/plain": [
       "<Figure size 432x288 with 2 Axes>"
      ]
     },
     "metadata": {
      "needs_background": "light"
     },
     "output_type": "display_data"
    }
   ],
   "source": [
    "tvec = TfidfVectorizer()\n",
    "nb = MultinomialNB()\n",
    "\n",
    "# Let's set a pipeline up with two stages:\n",
    "# 1. tf-idf vectorizer (transformer)\n",
    "# 2. Multinomial Naive Bayes (estimator)\n",
    "\n",
    "pipe_tvec_nb = Pipeline([\n",
    "    ('tvec', tvec),\n",
    "    ('nb', nb)\n",
    "])\n",
    "\n",
    "pipe_tvec_nb_params = {\n",
    "    'tvec__stop_words': ['english'],\n",
    "    'tvec__max_features': [7000],\n",
    "    'tvec__ngram_range': [(1, 3)],\n",
    "}\n",
    "\n",
    "# Instantiate GridSearchCV.\n",
    "gs_tvec_nb = GridSearchCV(\n",
    "    estimator=pipe_tvec_nb,\n",
    "    param_grid=pipe_tvec_nb_params,\n",
    "    cv=5)\n",
    "\n",
    "model(gs_tvec_nb)\n",
    "plt.title('TF-IDF Naive Bayes');"
   ]
  },
  {
   "cell_type": "markdown",
   "id": "88d0e800",
   "metadata": {},
   "source": [
    "### Comparing Naive Bayes Results\n",
    "\n",
    "We tabulate the best parameters found:\n",
    "\n",
    "|Parameter|Best CVEC|Best TVEC|\n",
    "|---------|---------|---------|\n",
    "|Vectorizer Max Features|5000|7000|\n",
    "|Vectorizer Ngram Range|(1, 2)|(1, 3)|\n"
   ]
  },
  {
   "cell_type": "markdown",
   "id": "2a494eac",
   "metadata": {},
   "source": [
    "**Observations:**\n",
    "\n",
    "1. We find that TVEC model had used trigrams in addition to the unigrams and bigrams used in CVEC.\n",
    "2. We find that more features were used in the TVEC model, possibly due to the inclusion of trigrams.\n",
    "3. Although more features were used in our TVEC model, we do not see a negative impact on overfitting. Instead, it appears that using more features in combination with a trigram had provided greater predictive power."
   ]
  },
  {
   "cell_type": "markdown",
   "id": "d42526eb",
   "metadata": {},
   "source": [
    "Tabulating our results gives us:\n",
    "\n",
    "**Note: We colorized the better value <font color='blue'>blue</font> for easier readability.**\n",
    "\n",
    "|Model|Vectorizer|Best Accuracy|Train Accuracy|Test Accuracy|Sensitivity|Specificity|Precision|\n",
    "|-----|----------|----------|-----------|---------------------|-----------|-----------|---------|\n",
    "|Naive Bayes|CVEC|88.9%|91.8%|90.6%|<font color='blue'>97.9%</font>|83.1%|85.6%|\n",
    "|Naive Bayes|TVEC|<font color='blue'>90.5%</font>|<font color='blue'>94.0%</font>|<font color='blue'>91.7%</font>|95.8%|<font color='blue'>87.4%</font>|<font color='blue'>88.6%</font>|\n",
    "\n",
    "**Observations:**\n",
    "\n",
    "1. Overall, we find that a naive bayes model gives us a favorable results on our 4 main metrics: Accuracy, Sensitivity, Specificity and Precision.\n",
    "2. Based on our results, a TF-IDF vectorizer had scored better on 3 out of 4 of our metrics.\n",
    "3. While CVEC train score is better than TVEC train score, CVEC accuracy is lower than TVEC accuracy. This suggests that the usage of a higher number of features combined with the usage of a trigram had provided greater predictive power as compared to the CVEC model without negatively impacting our model. As stated above, the usage of more features in combination with a trigram had provided greater predictive value to our model.\n",
    "4. Based on our findings, a TF-IDF vectorized naive bayes model performs better than a Count Vectorized naive bayes model.\n",
    "\n",
    "**Conclusion: Better Vectorizer: TVEC**\n"
   ]
  },
  {
   "cell_type": "markdown",
   "id": "6a0b2973",
   "metadata": {},
   "source": [
    "## Decision Tree"
   ]
  },
  {
   "cell_type": "markdown",
   "id": "438c0344",
   "metadata": {},
   "source": [
    "### CountVectorizer Decision Tree\n",
    "\n",
    "We used Pipeline and GridSearchCV to perform a CVEC Decision Tree Model based on a range of parameters. Below, we list the range of parameters for respective features and the best parameter used, as well as the $R^2$ and other metrics results:\n",
    "\n",
    "**Note: For ease of use and to reduce processing time, we have set the parameters in our code as the Best Parameters found.**\n",
    "\n",
    "|Parameter|Range Used|Best|\n",
    "|---------|-----|----|\n",
    "|CVEC Max Features|1000, 2000, 3000, 4000<br>5000, 6000, 7000, 8000</br>|7000|\n",
    "|CVEC Ngram Range|(1, 1), (1, 2), (1, 3)<br>(1, 4), (1, 5), (1, 6)</br>|(1, 4)|\n",
    "|Decision Tree Maximum Depth|10, 20, 30, 40<br>50, 60, 70, 80</br>|60|\n",
    "|Decision Tree Max Features|0.10, 0.15, 0.20, 0.25|0.15|\n",
    "\n",
    "|Metric|Value|\n",
    "|------|-----|\n",
    "|Best $R^2$|80.7%|\n",
    "|Train $R^2$|100.0%|\n",
    "|Accuracy (Test $R^2$)|81.3%|\n",
    "|Misclassification|18.7%|\n",
    "|Sensitivity|85.6%|\n",
    "|Specificity|77.0%|\n",
    "|Precision|79.2%|"
   ]
  },
  {
   "cell_type": "code",
   "execution_count": 103,
   "id": "a080a7e9",
   "metadata": {
    "scrolled": false
   },
   "outputs": [
    {
     "name": "stdout",
     "output_type": "stream",
     "text": [
      "Fitting 5 folds for each of 144 candidates, totalling 720 fits\n",
      "Best Score:                                80.7%\n",
      "Train Score:                               100.0%\n",
      "Accuracy (Test Score):                     81.3%\n",
      "Misclassification:                         18.7%\n",
      "Sensitivity / True Positive Rate / Recall: 85.6%\n",
      "Specificity / True Negative Rate:          77.0%\n",
      "Precision / Positive Predictive Value:     79.2%\n",
      "Best Parameters:                           {'cvec__max_features': 7000, 'cvec__ngram_range': (1, 4), 'cvec__stop_words': 'english', 'dt__max_depth': 60, 'dt__max_features': 0.15, 'dt__random_state': 42}\n"
     ]
    },
    {
     "data": {
      "image/png": "[encoded data removed]",
      "text/plain": [
       "<Figure size 432x288 with 2 Axes>"
      ]
     },
     "metadata": {
      "needs_background": "light"
     },
     "output_type": "display_data"
    }
   ],
   "source": [
    "dt = DecisionTreeClassifier()\n",
    "\n",
    "pipe_cvec_dt = Pipeline([\n",
    "    ('cvec', cvec),\n",
    "    ('dt', dt)\n",
    "])\n",
    "\n",
    "pipe_cvec_dt_params = {\n",
    "    'cvec__stop_words': ['english'],\n",
    "    'cvec__max_features': [7000],\n",
    "    'cvec__ngram_range': [(1,4)],\n",
    "    'dt__max_depth': [60],\n",
    "    'dt__max_features': [0.15],\n",
    "    'dt__random_state': [42],\n",
    "}\n",
    "gs_cvec_dt = GridSearchCV(\n",
    "    estimator=pipe_cvec_dt,\n",
    "    param_grid=pipe_cvec_dt_params,\n",
    "    cv = 5,\n",
    "    verbose = 1\n",
    ")\n",
    "\n",
    "model(gs_cvec_dt)\n",
    "plt.title('CVEC Decision Tree');"
   ]
  },
  {
   "cell_type": "markdown",
   "id": "6fb5db4a",
   "metadata": {},
   "source": [
    "### TF-IDF Vectorizer Decision Tree\n",
    "\n",
    "We used Pipeline and GridSearchCV to perform a TVEC Decision Tree Model based on a range of parameters. Below, we list the range of parameters for respective features and the best parameter used, as well as the $R^2$ and other metrics results:\n",
    "\n",
    "**Note: For ease of use and to reduce processing time, we have set the parameters in our code as the Best Parameters found.**\n",
    "\n",
    "|Parameter|Range Used|Best|\n",
    "|---------|-----|----|\n",
    "|TVEC Max Features|1000, 2000, 3000, 4000, 5000, 6000|3000|\n",
    "|TVEC Ngram Range|(1, 1), (1, 2), (1, 3), (1, 4)|(1, 2)|\n",
    "|Decision Tree Maximum Depth|10, 20, 30, 40, 50|30|\n",
    "|Decision Tree Max Features|0.10, 0.15, 0.20, 0.25|0.15|\n",
    "\n",
    "|Metric|Value|\n",
    "|------|-----|\n",
    "|Best $R^2$|79.3%|\n",
    "|Train $R^2$|97.5%|\n",
    "|Accuracy (Test $R^2$)|78.7%|\n",
    "|Misclassification|21.3%|\n",
    "|Sensitivity|80.7%|\n",
    "|Specificity|76.6%|\n",
    "|Precision|78.0%|"
   ]
  },
  {
   "cell_type": "code",
   "execution_count": 86,
   "id": "67caa8a1",
   "metadata": {},
   "outputs": [
    {
     "name": "stdout",
     "output_type": "stream",
     "text": [
      "Fitting 5 folds for each of 480 candidates, totalling 2400 fits\n",
      "Best Score:                                79.3%\n",
      "Train Score:                               97.5%\n",
      "Accuracy (Test Score):                     78.7%\n",
      "Misclassification:                         21.3%\n",
      "Sensitivity / True Positive Rate / Recall: 80.7%\n",
      "Specificity / True Negative Rate:          76.6%\n",
      "Precision / Positive Predictive Value:     78.0%\n",
      "Best Parameters:                           {'dt__max_depth': 30, 'dt__max_features': 0.15, 'dt__random_state': 42, 'tvec__max_features': 3000, 'tvec__ngram_range': (1, 2), 'tvec__stop_words': 'english'}\n"
     ]
    },
    {
     "data": {
      "image/png": "[encoded data removed]",
      "text/plain": [
       "<Figure size 432x288 with 2 Axes>"
      ]
     },
     "metadata": {
      "needs_background": "light"
     },
     "output_type": "display_data"
    }
   ],
   "source": [
    "dt = DecisionTreeClassifier()\n",
    "\n",
    "pipe_tvec_dt = Pipeline([\n",
    "    ('tvec', tvec),\n",
    "    ('dt', dt)\n",
    "])\n",
    "\n",
    "pipe_tvec_dt_params = {\n",
    "    'tvec__stop_words': ['english'],\n",
    "    'tvec__max_features': [3000],\n",
    "    'tvec__ngram_range': [(1,2)],\n",
    "    'dt__max_depth': [30],\n",
    "    'dt__max_features': [0.15],\n",
    "    'dt__random_state': [42],\n",
    "}\n",
    "\n",
    "gs_tvec_dt = GridSearchCV(\n",
    "    estimator=pipe_tvec_dt,\n",
    "    param_grid=pipe_tvec_dt_params,\n",
    "    cv = 5,\n",
    "    verbose = 1\n",
    ")\n",
    "\n",
    "model(gs_tvec_dt)\n",
    "plt.title('TVEC Decision Tree');"
   ]
  },
  {
   "cell_type": "markdown",
   "id": "0212c60f",
   "metadata": {},
   "source": [
    "### Comparing Decision Tree Results\n",
    "\n",
    "Tabulating our parameters gives us:\n",
    "\n",
    "|Parameter|Best CVEC|Best TVEC|\n",
    "|---------|---------|---------|\n",
    "|Vectorizer Max Features|7000|3000|\n",
    "|Vectorizer Ngram Range|(1, 4)|(1, 2)|\n",
    "|Decision Tree Maximum Depth|60|30|\n",
    "|Decision Tree Max Features|0.15|0.15|"
   ]
  },
  {
   "cell_type": "markdown",
   "id": "3161648d",
   "metadata": {},
   "source": [
    "**Observations:**\n",
    "\n",
    "1. We observe that there is a much lesser max features used in our TVEC model as compared to our CVEC model. This appears to be the effect of penalization of terms using TVEC which enables a greater weight to be applied to focus words in each subreddit.\n",
    "2. CVEC max features may also be higher due to a decision tree model's nature of being noisy learners. As such, decision trees tend to skew towards using more features than compared to our other models.\n",
    "3. Being noisy learners also explains why a decision tree uses a much higher depth on a CVEC model as compared to a TVEC model which has had common words penalized to provide greater weight to focus words."
   ]
  },
  {
   "cell_type": "markdown",
   "id": "541541b6",
   "metadata": {},
   "source": [
    "Tabulating our results gives us:\n",
    "\n",
    "|Model|Vectorizer|Best Accuracy|Train Accuracy|Test Accuracy|Sensitivity|Specificity|Precision|\n",
    "|-----|----------|----------|-----------|---------------------|-----------|-----------|---------|\n",
    "|Decision Tree|CVEC|<font color='blue'>80.7%</font>|<font color='blue'>100%</font>|<font color='blue'>81.3%</font>|<font color='blue'>85.6%</font>|<font color='blue'>77.0%</font>|<font color='blue'>79.2%</font>|\n",
    "|Decision Tree|TVEC|79.3%|97.5%|78.7%|80.7%|76.6%|78.0%|\n",
    "\n",
    "**Note: We colorized the better value <font color='blue'>blue</font> for easier readability.**\n"
   ]
  },
  {
   "cell_type": "markdown",
   "id": "5d81ad9e",
   "metadata": {},
   "source": [
    "**Observations:**\n",
    "\n",
    "1. Our initial observation finds that a decision tree scored favorably in our metrics: Accuracy, Sensitivity, Specificity and Precision.\n",
    "2. Based on our results, our count vectorizer model had scored better on all 4 of our metrics.\n",
    "3. In both models, there is a large range between the train and test $R^2$, which suggests that we may be suffering from a significant amount of underfitting to our test $R^2$.\n",
    "4. In conclusion, although a decision tree may have scored favorably in our metrics, the significant amount of overfitting in our training set as compared to our testing set suggests that our model may not have much predictive value and may score highly unfavorably to a blind test set.\n",
    "\n",
    "**Conclusion: Better Vectorizer: CVEC, but we should try other decision tree based models instead**"
   ]
  },
  {
   "cell_type": "markdown",
   "id": "661419b0",
   "metadata": {},
   "source": [
    "## Bagging Model (Bootstrap Aggregating Decision Tree)"
   ]
  },
  {
   "cell_type": "markdown",
   "id": "02c78796",
   "metadata": {},
   "source": [
    "### CountVectorizer Bagging Model\n",
    "\n",
    "We used Pipeline and GridSearchCV to perform a CVEC Bagging Model based on a range of parameters. Below, we list the range of parameters for respective features and the best parameter used, as well as the $R^2$ and other metrics results:\n",
    "\n",
    "**Note: For ease of use and to reduce processing time, we have set the parameters in our code as the Best Parameters found.**\n",
    "\n",
    "|Parameter|Range Used|Best|\n",
    "|---------|-----|----|\n",
    "|CVEC Max Features|1000, 2000, 3000<br>4000, 5000</br>|3000|\n",
    "|CVEC Ngram Range|(1, 1), (1, 2)<br>(1, 3)(1, 4)</br>|(1, 2)|\n",
    "|Bagging Max Samples|0.25, 0.5, 0.75, 1.0|1.0|\n",
    "|Bagging Max Features|0.10, 0.15, 0.20, 0.25<br>0.30, 0.35, 0.4</br>|0.35|\n",
    "\n",
    "|Metric|Value|\n",
    "|------|-----|\n",
    "|Best $R^2$|86.4%|\n",
    "|Train $R^2$|99.6%|\n",
    "|Accuracy (Test $R^2$)|86.7%|\n",
    "|Misclassification|13.3%|\n",
    "|Sensitivity|87.4%|\n",
    "|Specificity|86.0%|\n",
    "|Precision|86.5%|"
   ]
  },
  {
   "cell_type": "code",
   "execution_count": 99,
   "id": "1f049ccd",
   "metadata": {},
   "outputs": [
    {
     "name": "stdout",
     "output_type": "stream",
     "text": [
      "Fitting 5 folds for each of 72 candidates, totalling 360 fits\n",
      "Best Score:                                86.4%\n",
      "Train Score:                               99.6%\n",
      "Accuracy (Test Score):                     86.7%\n",
      "Misclassification:                         13.3%\n",
      "Sensitivity / True Positive Rate / Recall: 87.4%\n",
      "Specificity / True Negative Rate:          86.0%\n",
      "Precision / Positive Predictive Value:     86.5%\n",
      "Best Parameters:                           {'bag__bootstrap': True, 'bag__max_features': 0.35, 'bag__max_samples': 1.0, 'bag__n_jobs': -1, 'bag__random_state': 42, 'cvec__max_features': 3000, 'cvec__ngram_range': (1, 2), 'cvec__stop_words': 'english'}\n"
     ]
    },
    {
     "data": {
      "image/png": "[encoded data removed]",
      "text/plain": [
       "<Figure size 432x288 with 2 Axes>"
      ]
     },
     "metadata": {
      "needs_background": "light"
     },
     "output_type": "display_data"
    }
   ],
   "source": [
    "cvec = CountVectorizer()\n",
    "bag = BaggingClassifier()\n",
    "\n",
    "pipe_cvec_bag = Pipeline([\n",
    "    ('cvec', cvec),\n",
    "    ('bag', bag)\n",
    "])\n",
    "\n",
    "pipe_cvec_bag_params = {\n",
    "    'cvec__max_features': [3000],\n",
    "    'cvec__stop_words': ['english'],\n",
    "    'cvec__ngram_range': [(1,2)],\n",
    "    'bag__max_samples': [1.0],\n",
    "    'bag__max_features': [0.35],\n",
    "    'bag__random_state': [42],\n",
    "    'bag__n_jobs': [-1],\n",
    "    'bag__bootstrap': [True]\n",
    "}\n",
    "\n",
    "gs_cvec_bag = GridSearchCV(\n",
    "    estimator=pipe_cvec_bag,\n",
    "    param_grid=pipe_cvec_bag_params,\n",
    "    cv=5,\n",
    "    verbose=1\n",
    ")\n",
    "\n",
    "model(gs_cvec_bag)"
   ]
  },
  {
   "cell_type": "markdown",
   "id": "f9f4c7d9",
   "metadata": {},
   "source": [
    "### TF-IDF Vectorizer Bagging Model\n",
    "\n",
    "We used Pipeline and GridSearchCV to perform a TVEC Bagging Model based on a range of parameters. Below, we list the range of parameters for respective features and the best parameter used, as well as the $R^2$ and other metrics results:\n",
    "\n",
    "**Note: For ease of use and to reduce processing time, we have set the parameters in our code as the Best Parameters found.**\n",
    "\n",
    "|Parameter|Range Used|Best|\n",
    "|---------|-----|----|\n",
    "|TVEC Max Features|1000, 2000, 3000<br>4000, 5000</br>|3000|\n",
    "|TVEC Ngram Range|(1, 1), (1, 2), (1, 3)<br>(1, 4), (1, 5), (1, 6)</br>|(1, 4)|\n",
    "|Bagging Max Samples|0.25, 0.5, 0.75, 1.0|1.0|\n",
    "|Bagging Max Features|0.10, 0.15, 0.20, 0.25<br>0.30, 0.35, 0.40</br>|0.30|\n",
    "\n",
    "|Metric|Value|\n",
    "|------|-----|\n",
    "|Best $R^2$|86.4%|\n",
    "|Train $R^2$|99.5%|\n",
    "|Accuracy (Test $R^2$)|87.2%|\n",
    "|Misclassification|12.8%|\n",
    "|Sensitivity|87.0%|\n",
    "|Specificity|87.4%|\n",
    "|Precision|87.6%|"
   ]
  },
  {
   "cell_type": "code",
   "execution_count": 100,
   "id": "854b26ac",
   "metadata": {},
   "outputs": [
    {
     "name": "stdout",
     "output_type": "stream",
     "text": [
      "Fitting 5 folds for each of 144 candidates, totalling 720 fits\n",
      "Best Score:                                86.4%\n",
      "Train Score:                               99.5%\n",
      "Accuracy (Test Score):                     87.2%\n",
      "Misclassification:                         12.8%\n",
      "Sensitivity / True Positive Rate / Recall: 87.0%\n",
      "Specificity / True Negative Rate:          87.4%\n",
      "Precision / Positive Predictive Value:     87.6%\n",
      "Best Parameters:                           {'bag__bootstrap': True, 'bag__max_features': 0.3, 'bag__max_samples': 1.0, 'bag__n_jobs': -1, 'bag__random_state': 42, 'tvec__max_features': 3000, 'tvec__ngram_range': (1, 4), 'tvec__stop_words': 'english'}\n"
     ]
    },
    {
     "data": {
      "image/png": "[encoded data removed]",
      "text/plain": [
       "<Figure size 432x288 with 2 Axes>"
      ]
     },
     "metadata": {
      "needs_background": "light"
     },
     "output_type": "display_data"
    }
   ],
   "source": [
    "tvec = TfidfVectorizer()\n",
    "bag = BaggingClassifier()\n",
    "\n",
    "pipe_tvec_bag = Pipeline([\n",
    "    ('tvec', tvec),\n",
    "    ('bag', bag)\n",
    "])\n",
    "\n",
    "pipe_tvec_bag_params = {\n",
    "    'tvec__max_features': [3000],\n",
    "    'tvec__stop_words': ['english'],\n",
    "    'tvec__ngram_range': [(1,4)],\n",
    "    'bag__max_samples': [1.0],\n",
    "    'bag__max_features': [0.3],\n",
    "    'bag__random_state': [42],\n",
    "    'bag__n_jobs': [-1],\n",
    "    'bag__bootstrap': [True]\n",
    "}\n",
    "\n",
    "gs_tvec_bag = GridSearchCV(\n",
    "    estimator=pipe_tvec_bag,\n",
    "    param_grid=pipe_tvec_bag_params,\n",
    "    cv=5,\n",
    "    verbose=1\n",
    ")\n",
    "\n",
    "model(gs_tvec_bag)"
   ]
  },
  {
   "cell_type": "markdown",
   "id": "06210853",
   "metadata": {},
   "source": [
    "### Comparing Bagging Results\n",
    "\n",
    "We tabulate the best parameters found:\n",
    "\n",
    "|Parameter|Best CVEC|Best TVEC|\n",
    "|---------|---------|---------|\n",
    "|Vectorizer Max Features|3000|3000|\n",
    "|Vectorizer Ngram Range|(1, 2)|(1, 4)|\n",
    "|Bagging Max Samples|1.0|1.0|\n",
    "|Bagging Max Features|0.35|0.30|\n",
    "\n",
    "**Observations:**\n",
    "\n",
    "1. Inclusion of trigram and quadrigram in TVEC is more consequential as compared to CVEC, which uses only unigrams and bigrams.\n",
    "2. Our bagging sample with replacement and a larger max sample provided the greatest predictive value than using less samples.\n",
    "3. Penalization of terms using TVEC enables a greater weight to be applied to focus words in each subreddit. This explains why less max features used in TVEC as compared to a CVEC. "
   ]
  },
  {
   "cell_type": "markdown",
   "id": "28c6e4de",
   "metadata": {},
   "source": [
    "Tabulating our results gives us:\n",
    "\n",
    "|Model|Vectorizer|Best Accuracy|Train Accuracy|Test Accuracy|Sensitivity|Specificity|Precision|\n",
    "|-----|----------|----------|-----------|---------------------|-----------|-----------|---------|\n",
    "|Bagging|CVEC|86.4%|<font color='blue'>99.6%</font>|86.7%|<font color='blue'>87.4%</font>|86.0%|86.5%|\n",
    "|Bagging|TVEC|86.4%|99.5%|<font color='blue'>87.2%</font>|87.0%|<font color='blue'>87.4%</font>|<font color='blue'>87.6%</font>|\n",
    "\n",
    "**Note: We colorized the better value <font color='blue'>blue</font> for easier readability.**\n",
    "\n",
    "**Observations:**\n",
    "\n",
    "1. Overall, we find that a bagging model gives us a great results on our 4 main metrics: Accuracy, Sensitivity, Specificity and Precision.\n",
    "2. Based on our results, a TF-IDF vectorizer scored better on 3 out of 4 of our metrics.\n",
    "3. While CVEC train score is better than TVEC train score, CVEC accuracy is lower than TVEC accuracy. This suggests that there is a signifcant amount of noise present in our CVEC model using the same number of maximum features that is reduced in our TVEC model.\n",
    "4. The effect of penalizing common words using TF-IDF seems to have provided a better predictive value than simply using a CVEC Vectorizer.\n",
    "5. Based on our findings, a TF-IDF vectorized bagging model performs better than a Count Vectorized Bagging model.\n",
    "\n",
    "**Conclusion: Better Vectorizer: TVEC**\n"
   ]
  },
  {
   "cell_type": "markdown",
   "id": "a50c4cad",
   "metadata": {},
   "source": [
    "## Random Forest Model"
   ]
  },
  {
   "cell_type": "markdown",
   "id": "844a3bd1",
   "metadata": {},
   "source": [
    "### CountVectorizer Random Forest Model\n",
    "\n",
    "We used Pipeline and GridSearchCV to perform a CVEC Random Forest Model based on a range of parameters. Below, we list the range of parameters for respective features and the best parameter used, as well as the $R^2$ and other metrics results:\n",
    "\n",
    "**Note: For ease of use and to reduce processing time, we have set the parameters in our code as the Best Parameters found.**\n",
    "\n",
    "|Parameter|Range Used|Best|\n",
    "|---------|-----|----|\n",
    "|CVEC Max Features|2000, 3000<br></br>4000, 5000|3000|\n",
    "|CVEC Ngram Range|(1, 1), (1, 2), (1, 3)<br></br>(1, 4), (1, 5)|(1, 4)|\n",
    "|Random Forest Max Depth|20, 30, 40, 50, 60, 70|60|\n",
    "|Random Forest n Estimators|100, 200, 300, 400<br></br>500, 600, 700<br></br>800, 900, 1000|600|\n",
    "|Random Forest Max Features|0.007, 0.008, 0.009<br>0.01, 0.02, 0.03</br><br>0.04, 0.05, 0.075</br><br>0.10, 0.15, 0.20</br>|0.008|\n",
    "|Random Forest Max Samples|0.60, 0.70, 0.75, 1.0|0.75|\n",
    "\n",
    "|Metric|Value|-|\n",
    "|------|-----|-|\n",
    "|Best $R^2$|89.7%\n",
    "|Train $R^2$|99.8%|\n",
    "|Accuracy (Test $R^2$)|90.9%|\n",
    "|Misclassification|9.1%|\n",
    "|Sensitivity|95.1%|\n",
    "|Specificity|86.7%|\n",
    "|Precision|88.0%|"
   ]
  },
  {
   "cell_type": "code",
   "execution_count": 123,
   "id": "f4c75223",
   "metadata": {},
   "outputs": [
    {
     "name": "stdout",
     "output_type": "stream",
     "text": [
      "Fitting 5 folds for each of 7 candidates, totalling 35 fits\n",
      "Best Score:                                89.7%\n",
      "Train Score:                               99.8%\n",
      "Accuracy (Test Score):                     90.9%\n",
      "Misclassification:                         9.1%\n",
      "Sensitivity / True Positive Rate / Recall: 95.1%\n",
      "Specificity / True Negative Rate:          86.7%\n",
      "Precision / Positive Predictive Value:     88.0%\n",
      "Best Parameters:                           {'cvec__max_features': 3000, 'cvec__ngram_range': (1, 4), 'cvec__stop_words': 'english', 'rf__max_depth': 60, 'rf__max_features': 0.008, 'rf__max_samples': 0.75, 'rf__n_estimators': 600, 'rf__n_jobs': -1, 'rf__random_state': 42}\n"
     ]
    },
    {
     "data": {
      "image/png": "[encoded data removed]",
      "text/plain": [
       "<Figure size 432x288 with 2 Axes>"
      ]
     },
     "metadata": {
      "needs_background": "light"
     },
     "output_type": "display_data"
    }
   ],
   "source": [
    "cvec = CountVectorizer()\n",
    "rf = RandomForestClassifier()\n",
    "\n",
    "pipe_cvec_rf = Pipeline([\n",
    "    ('cvec', cvec),\n",
    "    ('rf', rf)\n",
    "])\n",
    "\n",
    "pipe_cvec_rf_params = {\n",
    "    'cvec__max_features': [3000],\n",
    "    'cvec__ngram_range': [(1, 4)],\n",
    "    'rf__max_depth': [60],\n",
    "    'rf__n_estimators': [600],\n",
    "    'rf__max_features': [0.008],\n",
    "    'rf__max_samples': [0.75],\n",
    "    'cvec__stop_words': ['english'],\n",
    "    'rf__random_state': [42],\n",
    "    'rf__n_jobs': [-1],\n",
    "}\n",
    "\n",
    "\n",
    "gs_cvec_rf = GridSearchCV(\n",
    "    estimator=pipe_cvec_rf, \n",
    "    param_grid=pipe_cvec_rf_params, \n",
    "    cv=5,\n",
    "    verbose=1\n",
    ")\n",
    "\n",
    "model(gs_cvec_rf)\n",
    "plt.title('CVEC Random Forest');"
   ]
  },
  {
   "cell_type": "markdown",
   "id": "7fd69087",
   "metadata": {},
   "source": [
    "### TF-IDF Random Forest Model\n",
    "\n",
    "We used Pipeline and GridSearchCV to perform a TVEC Random Forest Model based on a range of parameters. Below, we list the range of parameters for respective features and the best parameter used, as well as the $R^2$ and other metrics results:\n",
    "\n",
    "**Note: For ease of use and to reduce processing time, we have set the parameters in our code as the Best Parameters found.**\n",
    "\n",
    "|Parameter|Range Used|Best|\n",
    "|---------|-----|----|\n",
    "|CVEC Max Features|2000, 3000<br></br>4000, 5000|3000|\n",
    "|CVEC Ngram Range|(1, 1), (1, 2)<br></br>(1, 3), (1, 4)|(1, 3)|\n",
    "|Random Forest Max Depth|10, 15, 20<br></br>25, 30|20|\n",
    "|Random Forest n Estimators|100, 300, 400<br></br>500, 600, 700|600|\n",
    "|Random Forest Max Features|0.004, 0.005, 0.006<br></br>0.007, 0.008, 0.009<br></br>0.01, 0.02|0.006|\n",
    "|Random Forest Max Samples|0.5, 0.75, 1.0|0.75|\n",
    "\n",
    "|Metric|Value|\n",
    "|------|-----|\n",
    "|Best $R^2$|89.5%|\n",
    "|Train $R^2$|98.5%|\n",
    "|Accuracy (Test $R^2$)|90.8%|\n",
    "|Misclassification|9.2%|\n",
    "|Sensitivity|95.1%|\n",
    "|Specificity|86.3%|\n",
    "|Precision|87.7%|"
   ]
  },
  {
   "cell_type": "code",
   "execution_count": 134,
   "id": "f72be9d9",
   "metadata": {},
   "outputs": [
    {
     "name": "stdout",
     "output_type": "stream",
     "text": [
      "Fitting 5 folds for each of 1 candidates, totalling 5 fits\n",
      "Best Score:                                89.5%\n",
      "Train Score:                               98.5%\n",
      "Accuracy (Test Score):                     90.8%\n",
      "Misclassification:                         9.2%\n",
      "Sensitivity / True Positive Rate / Recall: 95.1%\n",
      "Specificity / True Negative Rate:          86.3%\n",
      "Precision / Positive Predictive Value:     87.7%\n",
      "Best Parameters:                           {'rf__max_depth': 20, 'rf__max_features': 0.006, 'rf__max_samples': 0.75, 'rf__n_estimators': 600, 'rf__n_jobs': -1, 'rf__random_state': 42, 'tvec__max_features': 3000, 'tvec__ngram_range': (1, 3), 'tvec__stop_words': 'english'}\n"
     ]
    },
    {
     "data": {
      "image/png": "[encoded data removed]",
      "text/plain": [
       "<Figure size 432x288 with 2 Axes>"
      ]
     },
     "metadata": {
      "needs_background": "light"
     },
     "output_type": "display_data"
    }
   ],
   "source": [
    "tvec = TfidfVectorizer()\n",
    "rf = RandomForestClassifier()\n",
    "\n",
    "pipe_tvec_rf = Pipeline([\n",
    "    ('tvec', tvec),\n",
    "    ('rf', rf)\n",
    "])\n",
    "\n",
    "pipe_tvec_rf_params = {\n",
    "    'tvec__ngram_range': [(1, 3)],\n",
    "    'tvec__max_features': [3000],\n",
    "    'rf__max_depth': [20],\n",
    "    'rf__n_estimators': [600],\n",
    "    'rf__max_features': [0.006],\n",
    "    'rf__max_samples': [0.75],\n",
    "    'tvec__stop_words': ['english'],\n",
    "    'rf__random_state': [42],\n",
    "    'rf__n_jobs': [-1],\n",
    "\n",
    "}\n",
    "\n",
    "gs_tvec_rf = GridSearchCV(\n",
    "    estimator=pipe_tvec_rf, \n",
    "    param_grid=pipe_tvec_rf_params, \n",
    "    cv=5,\n",
    "    verbose=1\n",
    ")\n",
    "\n",
    "model(gs_tvec_rf)\n",
    "plt.title('TVEC Random Forest');"
   ]
  },
  {
   "cell_type": "markdown",
   "id": "ee2da0ce",
   "metadata": {},
   "source": [
    "### Comparing Random Forest Results\n",
    "\n",
    "We tabulate the best parameters found:\n",
    "\n",
    "|Parameter|Best CVEC|Best TVEC|\n",
    "|---------|---------|---------|\n",
    "|Vectorizer Max Features|3000|3000|\n",
    "|Vectorizer Ngram Range|(1, 4)|(1, 3)|\n",
    "|Random Forest Max Depth|60|20|\n",
    "|Random Forest n Estimators|600|600|\n",
    "|Random Forest Max Features|0.008|0.006|\n",
    "|Random Forest Max Samples|0.75|0.75|"
   ]
  },
  {
   "cell_type": "markdown",
   "id": "2defb9b4",
   "metadata": {},
   "source": [
    "Tabulating our results gives us:\n",
    "\n",
    "\n",
    "|Model|Vectorizer|Best Accuracy|Train Accuracy|Test Accuracy|Sensitivity|Specificity|Precision|\n",
    "|-----|----------|----------|-----------|---------------------|-----------|-----------|---------|\n",
    "|Random Forest|CVEC|<font color='blue'>89.7%</font>|<font color='blue'>99.8%</font>|<font color='blue'>90.9%</font>|95.1%|<font color='blue'>86.7%</font>|<font color='blue'>88.0%</font>|\n",
    "|Random Forest|TVEC|89.5%|98.5%|90.8%|95.1%|86.3%|87.7%\n",
    "\n",
    "**Note: We colorized the better value <font color='blue'>blue</font> for easier readability.**\n",
    "\n",
    "**Observations:**\n",
    "\n",
    "1. Based on our results, a Count vectorizer had scored better on 3 out of 4 of our metrics (accuracy, sensitivity, specificity, precision).\n",
    "2. While CVEC train score is better than TVEC train score, CVEC accuracy is lower than TVEC accuracy. This suggests that there is a signifcant amount of noise present in our CVEC model that is reduced in our TVEC model.\n",
    "3. The effect of penalizing using TF-IDF seems to have provided a better predictive value than simply using a CVEC Vectorizer.\n",
    "4. Based on our findings, a TF-IDF vectorized decision tree model performs better than a Count Vectorized decision tree model.\n",
    "\n",
    "Penalization of terms using TVEC enables a greater weight to be applied to focus words in each subreddit.\n",
    "\n",
    "**Conclusion: Better Vectorizer: TVEC**\n"
   ]
  },
  {
   "attachments": {},
   "cell_type": "markdown",
   "id": "41faaa53",
   "metadata": {},
   "source": [
    "## Final Model Selection\n",
    "\n",
    "We tabulate our entire model findings onto the table below:\n",
    "\n",
    "\n",
    "|Model|Vectorizer|Best Accuracy|Train Accuracy|Test Accuracy<br></br>|Sensitivity|Specificity|Precision|Weighted<br>Average</br>|Remarks|Chosen Model|\n",
    "|-----|----------|----------|-----------|--------------------|-----------|-----------|----------|-----------------|-------|---------------|\n",
    "|Logistic Regression|CVEC|89.0%|96.4%|89.7%|92.3%|87.1%|88.0%|89.28%|Overfit to train data||\n",
    "|Logistic Regression|TVEC|90.0%|91.9%|90.8%|91.6%|89.9%|90.3%|90.65%|High Predictive Value|Yes|\n",
    "|Naive Bayes|CVEC|88.9%|91.8%|90.6%|97.9%|83.1%|85.6%|89.30%|TVEC Model is better||\n",
    "|Naive Bayes|TVEC|90.5%|94.0%|91.7%|95.8%|87.4%|88.6%|90.88%|High Predictive Value|Yes|\n",
    "|Decision Tree|CVEC|80.7%|100%|81.3%|85.6%|77.0%|79.2%|80.78%|Overfit to train data<br></br>Low Specificity and Precision||\n",
    "|Decision Tree|TVEC|79.3%|97.5%|78.7%|80.7%|76.6%|78.0%|78.50%|Overfit to train data<br></br>Low Specificity and Precision||\n",
    "|Bagging|CVEC|86.4%|99.6%|86.7%|87.4%|86.0%|86.5%|86.65%|Overfit to train data||\n",
    "|Bagging|TVEC|86.4%|99.5%|87.2%|87.0%|87.4%|87.6%|87.30%|Overfit to train data||\n",
    "|Random Forest|CVEC|89.7%|99.8%|90.9%|95.1%|86.7%|88.0%|90.18%|Overfit to train data||\n",
    "|Random Forest|TVEC|89.5%|98.5%|90.8%|95.1%|86.3%|87.7%|89.98%|Overfit to train data||\n",
    "\n",
    "**Conclusions**\n",
    "\n",
    "1. Based on our findings in the earlier comparisons between CVEC and TVEC models, we believe that a TVEC model is more appropriate to use because the penalization of common words in through TF-IDF provides a greater weight on the focus words within the dataset. The focus words in turn provide greater predictive power than compared to simply counting word frequency as per CVEC.\n",
    "2. "
   ]
  },
  {
   "cell_type": "markdown",
   "id": "db29d0be",
   "metadata": {},
   "source": [
    "# Explanatory Data Analysis <a class=\"anchor\" id=\"EDA\"></a>\n",
    "\n",
    "In this section, we explain the characteristics of our findings."
   ]
  },
  {
   "cell_type": "markdown",
   "id": "e718cb69",
   "metadata": {},
   "source": [
    "## Feature Importance"
   ]
  },
  {
   "cell_type": "markdown",
   "id": "e4a09e72",
   "metadata": {},
   "source": [
    "## Misclassification Analysis\n",
    "\n",
    "We conduct a misclassification analysis on one of our best models, the TF-IDF cectorized logistic regression model. First, we recreate the codes for TVEC logistic modeling locally on the cells below. The codes are almost identical to those found in Part 4.4.2. (logistic regression model) and the overall function from 4.3."
   ]
  },
  {
   "cell_type": "code",
   "execution_count": 423,
   "id": "6e1b451e",
   "metadata": {
    "scrolled": true
   },
   "outputs": [
    {
     "data": {
      "image/png": "[encoded data removed]",
      "text/plain": [
       "<Figure size 432x288 with 2 Axes>"
      ]
     },
     "metadata": {
      "needs_background": "light"
     },
     "output_type": "display_data"
    }
   ],
   "source": [
    "X = clean_df['tok_snow_all_text']\n",
    "y = clean_df['subreddit_personalfinance']\n",
    "\n",
    "X_train, X_test, y_train, y_test = train_test_split(X, y,\n",
    "                                                  random_state=42,\n",
    "                                                  stratify=y)\n",
    "\n",
    "y_preds = gs_tvec_logit.predict(X_test)\n",
    "len(y_preds)\n",
    "\n",
    "X_test_df = pd.DataFrame(X_test)\n",
    "\n",
    "tvec = TfidfVectorizer()\n",
    "logit = LogisticRegressionCV()\n",
    "\n",
    "pipe_tvec_logit = Pipeline([\n",
    "    ('tvec', tvec),\n",
    "    ('logit', logit)])\n",
    "\n",
    "pipe_tvec_logit_params = {\n",
    "    'tvec__max_features': [3000],\n",
    "    'tvec__ngram_range': [(1,4)],\n",
    "    'logit__n_jobs': [-1],\n",
    "    'logit__random_state': [42],\n",
    "    'logit__cv': [15]\n",
    "}\n",
    "\n",
    "gs_tvec_logit = GridSearchCV(\n",
    "    estimator=pipe_tvec_logit,\n",
    "    param_grid=pipe_tvec_logit_params,\n",
    "    cv=5)\n",
    "\n",
    "gs_tvec_logit.fit(X_train, y_train)\n",
    "y_preds = gs_tvec_logit.predict(X_test)\n",
    "tn, fp, fn, tp = confusion_matrix(y_test, model_preds).ravel()\n",
    "plot_confusion_matrix(gs_tvec_logit, \n",
    "                          X_test, y_test, \n",
    "                          cmap='Blues', \n",
    "                          values_format='d',\n",
    "                          display_labels=['r/investing', 'r/personalfinance']\n",
    "                         );"
   ]
  },
  {
   "cell_type": "markdown",
   "id": "c670aa03",
   "metadata": {},
   "source": [
    "We then create a dataframe of the test set and its corresponding predicted values. The dataframe was made by merging 3 series/numpy arrays: X_test, y_test and predicted y (y_preds)."
   ]
  },
  {
   "cell_type": "code",
   "execution_count": 345,
   "id": "7fd04de0",
   "metadata": {},
   "outputs": [],
   "source": [
    "misclass_df = pd.DataFrame(y_preds, X_test)\n",
    "misclass_df.reset_index(inplace=True)\n",
    "\n",
    "misclass_df.rename(columns={0: 'predictions'}, inplace=True)\n",
    "misclass_df = pd.concat(\n",
    "    objs=[misclass_df, y_test.reset_index(drop=True)], axis=1).rename(\n",
    "    columns={'subreddit_personalfinance': 'true'})"
   ]
  },
  {
   "cell_type": "markdown",
   "id": "3220e0f1",
   "metadata": {},
   "source": [
    "Next, we create a list to classify whether a text was a false positive (predicted to be 1 but is actually 0) or a false negative (predicted to be 0 but is actually 1)."
   ]
  },
  {
   "cell_type": "code",
   "execution_count": 399,
   "id": "fc70ee50",
   "metadata": {},
   "outputs": [],
   "source": [
    "# Create empty list to store false positive and false negative text\n",
    "false_positive_list = []\n",
    "false_negative_list = []\n",
    "true_positive_list = []\n",
    "true_negative_list = []\n",
    "\n",
    "for index_number in misclass_df.index:\n",
    "    if misclass_df['predictions'][index_number] > misclass_df['true'][index_number]:\n",
    "        false_positive_list.append(misclass_df['tok_snow_all_text'][index_number])\n",
    "    elif misclass_df['predictions'][index_number] < misclass_df['true'][index_number]:\n",
    "        false_negative_list.append(misclass_df['tok_snow_all_text'][index_number])\n",
    "    elif (misclass_df['predictions'][index_number] == 1) & (misclass_df['true'][index_number] == 1):\n",
    "        true_positive_list.append(misclass_df['tok_snow_all_text'][index_number])\n",
    "    else:\n",
    "        true_negative_list.append(misclass_df['tok_snow_all_text'][index_number])"
   ]
  },
  {
   "cell_type": "code",
   "execution_count": 400,
   "id": "c91bc4eb",
   "metadata": {},
   "outputs": [
    {
     "data": {
      "text/plain": [
       "250"
      ]
     },
     "execution_count": 400,
     "metadata": {},
     "output_type": "execute_result"
    }
   ],
   "source": [
    "len(true_negative_list)"
   ]
  },
  {
   "cell_type": "markdown",
   "id": "31fef429",
   "metadata": {},
   "source": [
    "We create sets to contain all the words found in the false positive and negative list separately."
   ]
  },
  {
   "cell_type": "code",
   "execution_count": 403,
   "id": "75c416ca",
   "metadata": {},
   "outputs": [],
   "source": [
    "# Create empty sets\n",
    "false_positive_set = set()\n",
    "false_negative_set = set()\n",
    "true_positive_set = set()\n",
    "true_negative_set = set()\n",
    "\n",
    "for string_text in false_positive_list:\n",
    "    split_list = string_text.split(sep=' ')\n",
    "    for word in split_list:\n",
    "        false_positive_set.add(word)\n",
    "        \n",
    "for string_text in false_negative_list:\n",
    "    split_list = string_text.split(sep=' ')\n",
    "    for word in split_list:\n",
    "        false_negative_set.add(word)\n",
    "        \n",
    "for string_text in true_positive_list:\n",
    "    split_list = string_text.split(sep=' ')\n",
    "    for word in split_list:\n",
    "        true_positive_set.add(word)\n",
    "        \n",
    "for string_text in true_negative_list:\n",
    "    split_list = string_text.split(sep=' ')\n",
    "    for word in split_list:\n",
    "        true_negative_set.add(word)"
   ]
  },
  {
   "cell_type": "code",
   "execution_count": 395,
   "id": "13426ba4",
   "metadata": {},
   "outputs": [
    {
     "data": {
      "text/plain": [
       "699"
      ]
     },
     "execution_count": 395,
     "metadata": {},
     "output_type": "execute_result"
    }
   ],
   "source": [
    "len(false_positive_set.union(false_positive_set))"
   ]
  },
  {
   "cell_type": "code",
   "execution_count": 394,
   "id": "d61385f6",
   "metadata": {},
   "outputs": [
    {
     "data": {
      "text/plain": [
       "302"
      ]
     },
     "execution_count": 394,
     "metadata": {},
     "output_type": "execute_result"
    }
   ],
   "source": [
    "len(false_positive_set.intersection(false_negative_set))"
   ]
  },
  {
   "cell_type": "code",
   "execution_count": 404,
   "id": "5e31ba67",
   "metadata": {},
   "outputs": [
    {
     "data": {
      "text/plain": [
       "302"
      ]
     },
     "execution_count": 404,
     "metadata": {},
     "output_type": "execute_result"
    }
   ],
   "source": [
    "len(true_positive_.intersection(false_negative_set))"
   ]
  },
  {
   "cell_type": "raw",
   "id": "05e97830",
   "metadata": {},
   "source": [
    "Find intersections of each one, and intersection of all 4. This can be used for our presentation later on"
   ]
  },
  {
   "cell_type": "markdown",
   "id": "73690a93",
   "metadata": {},
   "source": [
    "# Conclusion and Recommendations <a class=\"anchor\" id=\"CR\"></a>"
   ]
  }
 ],
 "metadata": {
  "kernelspec": {
   "display_name": "Python 3",
   "language": "python",
   "name": "python3"
  },
  "language_info": {
   "codemirror_mode": {
    "name": "ipython",
    "version": 3
   },
   "file_extension": ".py",
   "mimetype": "text/x-python",
   "name": "python",
   "nbconvert_exporter": "python",
   "pygments_lexer": "ipython3",
   "version": "3.8.8"
  },
  "toc": {
   "base_numbering": 1,
   "nav_menu": {},
   "number_sections": true,
   "sideBar": true,
   "skip_h1_title": false,
   "title_cell": "Table of Contents",
   "title_sidebar": "Contents",
   "toc_cell": false,
   "toc_position": {
    "height": "calc(100% - 180px)",
    "left": "10px",
    "top": "150px",
    "width": "280px"
   },
   "toc_section_display": true,
   "toc_window_display": true
  }
 },
 "nbformat": 4,
 "nbformat_minor": 5
}
