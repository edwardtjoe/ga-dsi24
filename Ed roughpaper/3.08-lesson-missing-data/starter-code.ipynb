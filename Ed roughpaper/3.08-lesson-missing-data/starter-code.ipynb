{
 "cells": [
  {
   "cell_type": "markdown",
   "metadata": {},
   "source": [
    "<img src=\"http://imgur.com/1ZcRyrc.png\" style=\"float: left; margin: 20px; height: 55px\">\n",
    "\n",
    "# Missing Data\n",
    "---\n",
    "\n",
    "### Learning Objectives\n",
    "- Define MCAR, MAR, and NMAR.\n",
    "- Describe various strategies for dealing with missing data.\n",
    "- Understand the assumptions we make when using strategies to handle missing data.\n",
    "\n",
    "### Credit\n",
    "This lesson is adapted from a missing data workshop that Matt Brems presented at the Open Data Science Conference ([ODSC](https://odsc.com/)).  Check out his GitHub repo [here](https://github.com/matthewbrems/missing-data-workshop?fbclid=IwAR1LGjaIen-ITLndPN1ODV1lYZBvxsHDs0DgIaPkuxpXMsQRBT8eAPI-0sI)."
   ]
  },
  {
   "cell_type": "code",
   "execution_count": 1,
   "metadata": {},
   "outputs": [],
   "source": [
    "# Import libraries.\n",
    "import pandas as pd\n",
    "import numpy as np\n",
    "import matplotlib.pyplot as plt\n",
    "import statistics\n",
    "\n",
    "# Set random seed.\n",
    "np.random.seed(42)"
   ]
  },
  {
   "cell_type": "code",
   "execution_count": 13,
   "metadata": {},
   "outputs": [
    {
     "data": {
      "text/html": [
       "<div>\n",
       "<style scoped>\n",
       "    .dataframe tbody tr th:only-of-type {\n",
       "        vertical-align: middle;\n",
       "    }\n",
       "\n",
       "    .dataframe tbody tr th {\n",
       "        vertical-align: top;\n",
       "    }\n",
       "\n",
       "    .dataframe thead th {\n",
       "        text-align: right;\n",
       "    }\n",
       "</style>\n",
       "<table border=\"1\" class=\"dataframe\">\n",
       "  <thead>\n",
       "    <tr style=\"text-align: right;\">\n",
       "      <th></th>\n",
       "      <th>children</th>\n",
       "      <th>age</th>\n",
       "      <th>partnered</th>\n",
       "      <th>income</th>\n",
       "    </tr>\n",
       "  </thead>\n",
       "  <tbody>\n",
       "    <tr>\n",
       "      <th>0</th>\n",
       "      <td>1</td>\n",
       "      <td>35.0</td>\n",
       "      <td>1</td>\n",
       "      <td>56531.361287</td>\n",
       "    </tr>\n",
       "    <tr>\n",
       "      <th>1</th>\n",
       "      <td>2</td>\n",
       "      <td>58.0</td>\n",
       "      <td>1</td>\n",
       "      <td>93026.182530</td>\n",
       "    </tr>\n",
       "    <tr>\n",
       "      <th>2</th>\n",
       "      <td>0</td>\n",
       "      <td>49.0</td>\n",
       "      <td>1</td>\n",
       "      <td>42693.010819</td>\n",
       "    </tr>\n",
       "    <tr>\n",
       "      <th>3</th>\n",
       "      <td>0</td>\n",
       "      <td>44.0</td>\n",
       "      <td>1</td>\n",
       "      <td>83680.128218</td>\n",
       "    </tr>\n",
       "    <tr>\n",
       "      <th>4</th>\n",
       "      <td>1</td>\n",
       "      <td>26.0</td>\n",
       "      <td>0</td>\n",
       "      <td>28845.520835</td>\n",
       "    </tr>\n",
       "    <tr>\n",
       "      <th>...</th>\n",
       "      <td>...</td>\n",
       "      <td>...</td>\n",
       "      <td>...</td>\n",
       "      <td>...</td>\n",
       "    </tr>\n",
       "    <tr>\n",
       "      <th>95</th>\n",
       "      <td>1</td>\n",
       "      <td>40.0</td>\n",
       "      <td>1</td>\n",
       "      <td>74090.088031</td>\n",
       "    </tr>\n",
       "    <tr>\n",
       "      <th>96</th>\n",
       "      <td>1</td>\n",
       "      <td>41.0</td>\n",
       "      <td>1</td>\n",
       "      <td>52304.403273</td>\n",
       "    </tr>\n",
       "    <tr>\n",
       "      <th>97</th>\n",
       "      <td>3</td>\n",
       "      <td>37.0</td>\n",
       "      <td>0</td>\n",
       "      <td>10688.919618</td>\n",
       "    </tr>\n",
       "    <tr>\n",
       "      <th>98</th>\n",
       "      <td>4</td>\n",
       "      <td>NaN</td>\n",
       "      <td>0</td>\n",
       "      <td>68232.834868</td>\n",
       "    </tr>\n",
       "    <tr>\n",
       "      <th>99</th>\n",
       "      <td>4</td>\n",
       "      <td>24.0</td>\n",
       "      <td>1</td>\n",
       "      <td>36785.514708</td>\n",
       "    </tr>\n",
       "  </tbody>\n",
       "</table>\n",
       "<p>100 rows × 4 columns</p>\n",
       "</div>"
      ],
      "text/plain": [
       "    children   age  partnered        income\n",
       "0          1  35.0          1  56531.361287\n",
       "1          2  58.0          1  93026.182530\n",
       "2          0  49.0          1  42693.010819\n",
       "3          0  44.0          1  83680.128218\n",
       "4          1  26.0          0  28845.520835\n",
       "..       ...   ...        ...           ...\n",
       "95         1  40.0          1  74090.088031\n",
       "96         1  41.0          1  52304.403273\n",
       "97         3  37.0          0  10688.919618\n",
       "98         4   NaN          0  68232.834868\n",
       "99         4  24.0          1  36785.514708\n",
       "\n",
       "[100 rows x 4 columns]"
      ]
     },
     "execution_count": 13,
     "metadata": {},
     "output_type": "execute_result"
    }
   ],
   "source": [
    "# Bring in our data of age, partnered, children, and income data\n",
    "# where income is linearly related to age, partnered, and children.\n",
    "income = pd.read_csv('data/income.csv') \n",
    "income_missing = pd.read_csv('data/income_missing.csv') \n",
    "\n",
    "# Check out first 10 rows\n",
    "income_missing"
   ]
  },
  {
   "cell_type": "code",
   "execution_count": 14,
   "metadata": {},
   "outputs": [],
   "source": [
    "# create a function to compare histograms of original & imputed data\n",
    "def compare_histograms(imputed_column, original_column, x_label, y_label = 'Frequency'):\n",
    "    fig, (ax0, ax1) = plt.subplots(nrows = 2, ncols = 1, figsize = (16,9))\n",
    "\n",
    "    # Set axes of histograms.\n",
    "    mode = statistics.mode(imputed_column)\n",
    "    rnge = max(original_column) - min(original_column)\n",
    "    xmin = min(original_column) - 0.02 * rnge\n",
    "    xmax = max(original_column) + 0.02 * rnge\n",
    "    ymax = 40\n",
    "\n",
    "    ax0.set_xlim(xmin, xmax)\n",
    "    ax0.set_ylim(0, ymax)\n",
    "    ax1.set_xlim(xmin, xmax)\n",
    "    ax1.set_ylim(0, ymax)\n",
    "\n",
    "    # Set top labels.\n",
    "    ax0.set_title('Real Histogram', position = (0,1), ha = 'left', fontsize = 25)\n",
    "    ax0.set_xlabel(x_label, position = (0,0), ha = 'left', fontsize = 25, color = 'grey', alpha = 0.85)\n",
    "    ax0.set_ylabel(y_label, position = (0,1), ha = 'right', va = 'top', fontsize = 25, rotation = 0, color = 'grey', alpha = 0.85)\n",
    "    ax0.set_xticks([])\n",
    "    ax0.set_yticks([])\n",
    "\n",
    "    # Generate top histogram.\n",
    "    ax0.hist(original_column, bins = 15, color = '#185fad', alpha = 0.75, label = '')\n",
    "    ax0.axvline(np.mean(original_column), color = '#185fad', lw = 5, label = 'True Mean')\n",
    "    ax0.legend(prop={'size': 15}, loc = 1)\n",
    "\n",
    "    # Set bottom labels.\n",
    "    ax1.set_title('Imputed Histogram', position = (0,1), ha = 'left', fontsize = 25)\n",
    "    ax1.set_xlabel(x_label, position = (0,0), ha = 'left', fontsize = 25, color = 'grey', alpha = 0.85)\n",
    "    ax1.set_ylabel(y_label, position = (0,1), ha = 'right', va = 'top', fontsize = 25, rotation = 0, color = 'grey', alpha = 0.85)\n",
    "    ax1.set_xticks([])\n",
    "    ax1.set_yticks([])\n",
    "    \n",
    "    # Generate bottom histogram.\n",
    "    ax1.hist(imputed_column, bins = 15, color = 'orange', alpha = 0.75, label = '', stacked = True)\n",
    "    ax1.axvline(np.mean(original_column), color = '#185fad', lw = 5, label = 'True Mean')\n",
    "    ax1.axvline(np.mean(imputed_column), color = 'darkorange', lw = 5, label = 'Imputed Mean')\n",
    "    ax1.legend(prop={'size': 15}, loc = 1)\n",
    "\n",
    "    plt.tight_layout();"
   ]
  },
  {
   "cell_type": "markdown",
   "metadata": {},
   "source": [
    "### Method 1: Deductive Imputation\n",
    "\n",
    "We use logical rules to fill in missing values.\n",
    "- Survey asks if the respondent was the victim of a crime in the last twelve months.\n",
    "- Respondent says no.\n",
    "- Survey then asks if the respondent was the victim of a violent crime in the last twelve months.\n",
    "- Respondent leaves this answer blank.\n",
    "\n",
    "**Pros**:\n",
    "- Can be used regardless of missingness type\n",
    "- Requires no inference\n",
    "\n",
    "**Cons**:\n",
    "- Requires specific coding\n",
    "- Can be time consuming\n",
    "- May not be possible"
   ]
  },
  {
   "cell_type": "markdown",
   "metadata": {},
   "source": [
    "### Method 2: Mean/Median/Mode Imputation\n",
    "\n",
    "For any “NA” value in a given column, replace “NA” with the mean, median, or mode.\n",
    "\n",
    "**Pros**:\n",
    "- Quick\n",
    "- Easy to implement\n",
    "- Seems reasonable\n",
    "\n",
    "**Cons**:\n",
    "- Can significantly distort histogram\n",
    "- Underestimates variance\n",
    "- <b>Should only be considered if data is MCAR</b>"
   ]
  },
  {
   "cell_type": "markdown",
   "metadata": {},
   "source": [
    "#### Mean Imputation"
   ]
  },
  {
   "cell_type": "code",
   "execution_count": 18,
   "metadata": {
    "scrolled": true
   },
   "outputs": [
    {
     "data": {
      "text/plain": [
       "children      0\n",
       "age          30\n",
       "partnered     0\n",
       "income        0\n",
       "dtype: int64"
      ]
     },
     "execution_count": 18,
     "metadata": {},
     "output_type": "execute_result"
    }
   ],
   "source": [
    "# Which columns have missing values?\n",
    "income_missing.isnull().sum()"
   ]
  },
  {
   "cell_type": "code",
   "execution_count": 16,
   "metadata": {},
   "outputs": [],
   "source": [
    "# Let's impute missing values in the age column with the mean\n",
    "mean_age = np.mean(income_missing['age'])"
   ]
  },
  {
   "cell_type": "code",
   "execution_count": 17,
   "metadata": {},
   "outputs": [
    {
     "data": {
      "text/plain": [
       "39.5"
      ]
     },
     "execution_count": 17,
     "metadata": {},
     "output_type": "execute_result"
    }
   ],
   "source": [
    "mean_age"
   ]
  },
  {
   "cell_type": "code",
   "execution_count": 20,
   "metadata": {},
   "outputs": [],
   "source": [
    "income_missing['age_mean_imputed'] = income_missing['age'].fillna(mean_age)"
   ]
  },
  {
   "cell_type": "code",
   "execution_count": 21,
   "metadata": {},
   "outputs": [
    {
     "data": {
      "image/png": "[encoded data removed]",
      "text/plain": [
       "<Figure size 1152x648 with 2 Axes>"
      ]
     },
     "metadata": {},
     "output_type": "display_data"
    }
   ],
   "source": [
    "compare_histograms(imputed_column = income_missing['age_mean_imputed'],\n",
    "                   original_column = income['age'],\n",
    "                   x_label = 'Age',\n",
    "                   y_label = 'Frequency')"
   ]
  },
  {
   "cell_type": "markdown",
   "metadata": {},
   "source": [
    "### We are underestimating the variance here.\n",
    "\n",
    "\n",
    "Why is this a bad thing?\n",
    "- If we underestimate variance in a confidence interval, our confidence interval gets smaller for the same level of confidence!\n",
    "    - Our results artificially look more precise... but only because we imputed the mean!\n",
    "- If we underestimate the variance in a hypothesis test, our p-value will artificially get smaller.\n",
    "    - Our p-value may look significant... but only because we imputed the mean!\n",
    "    \n",
    "# Since you have not accounted for the reason why data is missing, you are underestimating the variance\n",
    "\n",
    "# How do you know if your data is better/worse?\n",
    "\n",
    "# Compare MSE of income when dropped vs MSE of income when imputed.\n",
    "\n",
    "# AKA RUN CROSS VALIDATION ON BOTH AND COMPARE MSE!!!!!!!!!!!\n",
    "\n",
    "# THIS IS THE BACKBONE OF PROJECT 2!!"
   ]
  },
  {
   "cell_type": "markdown",
   "metadata": {},
   "source": [
    "#### Median Imputation"
   ]
  },
  {
   "cell_type": "code",
   "execution_count": 36,
   "metadata": {},
   "outputs": [
    {
     "data": {
      "text/plain": [
       "40.5"
      ]
     },
     "execution_count": 36,
     "metadata": {},
     "output_type": "execute_result"
    }
   ],
   "source": [
    "# Let's impute missing values in the age column with the median\n",
    "med_age = np.median(income_missing['age'].dropna())\n",
    "med_age"
   ]
  },
  {
   "cell_type": "code",
   "execution_count": 37,
   "metadata": {},
   "outputs": [],
   "source": [
    "income_missing['age_med_imputed'] = income_missing['age'].fillna(med_age)"
   ]
  },
  {
   "cell_type": "code",
   "execution_count": 39,
   "metadata": {},
   "outputs": [
    {
     "data": {
      "image/png": "[encoded data removed]",
      "text/plain": [
       "<Figure size 1152x648 with 2 Axes>"
      ]
     },
     "metadata": {},
     "output_type": "display_data"
    }
   ],
   "source": [
    "compare_histograms(imputed_column = income_missing['age_med_imputed'],\n",
    "                   original_column = income['age'],\n",
    "                   x_label = 'Age',\n",
    "                   y_label = 'Frequency')"
   ]
  },
  {
   "cell_type": "markdown",
   "metadata": {},
   "source": [
    "#### Mode Imputation"
   ]
  },
  {
   "cell_type": "code",
   "execution_count": null,
   "metadata": {},
   "outputs": [],
   "source": [
    "# Let's impute missing values in the age column with the mode\n",
    "mode_age = "
   ]
  },
  {
   "cell_type": "code",
   "execution_count": null,
   "metadata": {},
   "outputs": [],
   "source": []
  },
  {
   "cell_type": "code",
   "execution_count": null,
   "metadata": {},
   "outputs": [],
   "source": []
  },
  {
   "cell_type": "markdown",
   "metadata": {},
   "source": [
    "### Make your life easier -> Simple Imputer in sklearn\n",
    "\n",
    "Note: Train-test-split BEFORE doing this if you are going to model later to avoid data leakage!\n",
    "\n",
    "Documentation [here](https://scikit-learn.org/stable/modules/generated/sklearn.impute.SimpleImputer.html#sklearn.impute.SimpleImputer)."
   ]
  },
  {
   "cell_type": "code",
   "execution_count": 41,
   "metadata": {},
   "outputs": [],
   "source": [
    "# import simple imputer\n",
    "from sklearn.impute import SimpleImputer"
   ]
  },
  {
   "cell_type": "code",
   "execution_count": 43,
   "metadata": {},
   "outputs": [],
   "source": [
    "# re-load data\n",
    "income_missing = pd.read_csv('data/income_missing.csv')"
   ]
  },
  {
   "cell_type": "code",
   "execution_count": 45,
   "metadata": {
    "scrolled": true
   },
   "outputs": [
    {
     "data": {
      "text/plain": [
       "array([[1.00000000e+00, 3.50000000e+01, 1.00000000e+00, 5.65313613e+04],\n",
       "       [2.00000000e+00, 5.80000000e+01, 1.00000000e+00, 9.30261825e+04],\n",
       "       [0.00000000e+00, 4.90000000e+01, 1.00000000e+00, 4.26930108e+04],\n",
       "       [0.00000000e+00, 4.40000000e+01, 1.00000000e+00, 8.36801282e+04],\n",
       "       [1.00000000e+00, 2.60000000e+01, 0.00000000e+00, 2.88455208e+04],\n",
       "       [1.00000000e+00, 2.60000000e+01, 1.00000000e+00, 2.48988409e+04],\n",
       "       [2.00000000e+00, 2.20000000e+01, 1.00000000e+00, 6.71520081e+04],\n",
       "       [2.00000000e+00, 5.50000000e+01, 1.00000000e+00, 3.50473735e+04],\n",
       "       [5.00000000e+00, 4.40000000e+01, 1.00000000e+00, 1.72458697e+04],\n",
       "       [1.00000000e+00, 3.95000000e+01, 1.00000000e+00, 7.57495292e+04],\n",
       "       [2.00000000e+00, 3.95000000e+01, 1.00000000e+00, 5.71769502e+04],\n",
       "       [4.00000000e+00, 3.95000000e+01, 1.00000000e+00, 8.86604764e+04],\n",
       "       [1.00000000e+00, 3.95000000e+01, 0.00000000e+00, 6.70892603e+04],\n",
       "       [2.00000000e+00, 3.95000000e+01, 0.00000000e+00, 6.05331725e+04],\n",
       "       [1.00000000e+00, 2.70000000e+01, 1.00000000e+00, 6.67548591e+04],\n",
       "       [4.00000000e+00, 2.70000000e+01, 0.00000000e+00, 2.26040111e+04],\n",
       "       [5.00000000e+00, 3.95000000e+01, 0.00000000e+00, 2.50277777e+04],\n",
       "       [2.00000000e+00, 3.95000000e+01, 1.00000000e+00, 5.51055762e+04],\n",
       "       [1.00000000e+00, 3.70000000e+01, 0.00000000e+00, 4.61595505e+04],\n",
       "       [3.00000000e+00, 3.95000000e+01, 1.00000000e+00, 2.95530826e+04],\n",
       "       [2.00000000e+00, 4.40000000e+01, 0.00000000e+00, 4.98184440e+04],\n",
       "       [5.00000000e+00, 2.60000000e+01, 0.00000000e+00, 2.02717299e+04],\n",
       "       [5.00000000e+00, 3.20000000e+01, 1.00000000e+00, 5.20127032e+04],\n",
       "       [5.00000000e+00, 3.50000000e+01, 1.00000000e+00, 5.43244607e+04],\n",
       "       [1.00000000e+00, 3.95000000e+01, 1.00000000e+00, 1.19547080e+04],\n",
       "       [0.00000000e+00, 5.10000000e+01, 1.00000000e+00, 5.52241236e+04],\n",
       "       [1.00000000e+00, 2.80000000e+01, 0.00000000e+00, 3.13274267e+04],\n",
       "       [2.00000000e+00, 3.95000000e+01, 0.00000000e+00, 3.96403008e+04],\n",
       "       [1.00000000e+00, 4.40000000e+01, 1.00000000e+00, 7.06877862e+04],\n",
       "       [0.00000000e+00, 3.95000000e+01, 1.00000000e+00, 5.75469658e+04],\n",
       "       [2.00000000e+00, 3.95000000e+01, 1.00000000e+00, 9.33246665e+04],\n",
       "       [2.00000000e+00, 2.70000000e+01, 1.00000000e+00, 5.64991696e+04],\n",
       "       [1.00000000e+00, 2.30000000e+01, 1.00000000e+00, 4.34895258e+04],\n",
       "       [0.00000000e+00, 5.80000000e+01, 1.00000000e+00, 4.65175305e+04],\n",
       "       [3.00000000e+00, 5.90000000e+01, 0.00000000e+00, 2.43781977e+04],\n",
       "       [3.00000000e+00, 5.20000000e+01, 1.00000000e+00, 7.72098362e+04],\n",
       "       [1.00000000e+00, 3.20000000e+01, 1.00000000e+00, 7.77089363e+04],\n",
       "       [0.00000000e+00, 2.40000000e+01, 1.00000000e+00, 8.38274199e+04],\n",
       "       [0.00000000e+00, 4.70000000e+01, 1.00000000e+00, 5.36921384e+04],\n",
       "       [4.00000000e+00, 3.95000000e+01, 0.00000000e+00, 2.74227113e+04],\n",
       "       [1.00000000e+00, 2.50000000e+01, 0.00000000e+00, 3.60966737e+04],\n",
       "       [3.00000000e+00, 4.00000000e+01, 1.00000000e+00, 9.84479784e+04],\n",
       "       [4.00000000e+00, 3.95000000e+01, 1.00000000e+00, 4.30472294e+04],\n",
       "       [1.00000000e+00, 5.60000000e+01, 1.00000000e+00, 1.05525257e+05],\n",
       "       [1.00000000e+00, 3.00000000e+01, 1.00000000e+00, 5.83994581e+04],\n",
       "       [0.00000000e+00, 4.70000000e+01, 1.00000000e+00, 9.33149037e+04],\n",
       "       [0.00000000e+00, 3.20000000e+01, 1.00000000e+00, 7.95315969e+04],\n",
       "       [0.00000000e+00, 4.10000000e+01, 1.00000000e+00, 6.90717627e+04],\n",
       "       [3.00000000e+00, 3.95000000e+01, 1.00000000e+00, 3.85923351e+04],\n",
       "       [2.00000000e+00, 2.70000000e+01, 1.00000000e+00, 4.48681112e+04],\n",
       "       [2.00000000e+00, 5.90000000e+01, 0.00000000e+00, 8.40309035e+04],\n",
       "       [1.00000000e+00, 5.10000000e+01, 1.00000000e+00, 8.83065034e+04],\n",
       "       [2.00000000e+00, 3.95000000e+01, 1.00000000e+00, 6.48269935e+04],\n",
       "       [2.00000000e+00, 5.60000000e+01, 1.00000000e+00, 6.51538272e+04],\n",
       "       [0.00000000e+00, 4.40000000e+01, 0.00000000e+00, 1.33825379e+04],\n",
       "       [1.00000000e+00, 5.70000000e+01, 1.00000000e+00, 1.04136776e+05],\n",
       "       [3.00000000e+00, 2.40000000e+01, 1.00000000e+00, 6.32212712e+04],\n",
       "       [4.00000000e+00, 2.80000000e+01, 1.00000000e+00, 4.32584436e+04],\n",
       "       [3.00000000e+00, 3.95000000e+01, 1.00000000e+00, 4.80026884e+04],\n",
       "       [0.00000000e+00, 3.95000000e+01, 1.00000000e+00, 1.63326834e+04],\n",
       "       [0.00000000e+00, 3.95000000e+01, 1.00000000e+00, 5.22657101e+04],\n",
       "       [0.00000000e+00, 3.10000000e+01, 1.00000000e+00, 8.49389128e+04],\n",
       "       [1.00000000e+00, 5.30000000e+01, 1.00000000e+00, 9.18809475e+04],\n",
       "       [2.00000000e+00, 3.40000000e+01, 1.00000000e+00, 6.21140111e+04],\n",
       "       [2.00000000e+00, 3.10000000e+01, 1.00000000e+00, 5.29556348e+04],\n",
       "       [5.00000000e+00, 4.20000000e+01, 0.00000000e+00, 4.99281086e+04],\n",
       "       [1.00000000e+00, 2.60000000e+01, 1.00000000e+00, 4.63722979e+04],\n",
       "       [3.00000000e+00, 5.20000000e+01, 1.00000000e+00, 3.32061361e+04],\n",
       "       [4.00000000e+00, 2.30000000e+01, 1.00000000e+00, 4.21260172e+04],\n",
       "       [2.00000000e+00, 5.90000000e+01, 1.00000000e+00, 8.23123865e+04],\n",
       "       [3.00000000e+00, 5.10000000e+01, 1.00000000e+00, 8.82035537e+04],\n",
       "       [2.00000000e+00, 2.80000000e+01, 1.00000000e+00, 2.21760848e+04],\n",
       "       [1.00000000e+00, 2.00000000e+01, 1.00000000e+00, 4.50417739e+04],\n",
       "       [4.00000000e+00, 3.95000000e+01, 1.00000000e+00, 6.32439269e+04],\n",
       "       [1.00000000e+00, 4.80000000e+01, 1.00000000e+00, 4.64749619e+04],\n",
       "       [3.00000000e+00, 4.90000000e+01, 1.00000000e+00, 7.40034655e+04],\n",
       "       [1.00000000e+00, 5.10000000e+01, 1.00000000e+00, 8.56973606e+04],\n",
       "       [1.00000000e+00, 3.95000000e+01, 1.00000000e+00, 4.39361538e+04],\n",
       "       [3.00000000e+00, 3.95000000e+01, 0.00000000e+00, 7.41018522e+04],\n",
       "       [0.00000000e+00, 3.95000000e+01, 1.00000000e+00, 4.73627998e+04],\n",
       "       [1.00000000e+00, 3.95000000e+01, 1.00000000e+00, 6.48163306e+04],\n",
       "       [1.00000000e+00, 4.50000000e+01, 1.00000000e+00, 5.67365730e+04],\n",
       "       [0.00000000e+00, 3.30000000e+01, 0.00000000e+00, 2.34400185e+04],\n",
       "       [1.00000000e+00, 3.95000000e+01, 0.00000000e+00, 1.85694901e+04],\n",
       "       [2.00000000e+00, 3.20000000e+01, 1.00000000e+00, 2.53182226e+04],\n",
       "       [0.00000000e+00, 3.95000000e+01, 1.00000000e+00, 5.59193435e+04],\n",
       "       [3.00000000e+00, 4.90000000e+01, 0.00000000e+00, 4.53994801e+04],\n",
       "       [4.00000000e+00, 4.60000000e+01, 1.00000000e+00, 1.38439502e+04],\n",
       "       [4.00000000e+00, 5.50000000e+01, 1.00000000e+00, 6.42110098e+04],\n",
       "       [1.00000000e+00, 3.95000000e+01, 1.00000000e+00, 6.25926816e+04],\n",
       "       [1.00000000e+00, 2.50000000e+01, 1.00000000e+00, 6.15417798e+04],\n",
       "       [0.00000000e+00, 4.90000000e+01, 0.00000000e+00, 7.58427015e+04],\n",
       "       [0.00000000e+00, 3.95000000e+01, 0.00000000e+00, 6.95270853e+04],\n",
       "       [4.00000000e+00, 4.20000000e+01, 1.00000000e+00, 4.40927255e+04],\n",
       "       [2.00000000e+00, 3.95000000e+01, 1.00000000e+00, 5.35217566e+04],\n",
       "       [1.00000000e+00, 4.00000000e+01, 1.00000000e+00, 7.40900880e+04],\n",
       "       [1.00000000e+00, 4.10000000e+01, 1.00000000e+00, 5.23044033e+04],\n",
       "       [3.00000000e+00, 3.70000000e+01, 0.00000000e+00, 1.06889196e+04],\n",
       "       [4.00000000e+00, 3.95000000e+01, 0.00000000e+00, 6.82328349e+04],\n",
       "       [4.00000000e+00, 2.40000000e+01, 1.00000000e+00, 3.67855147e+04]])"
      ]
     },
     "execution_count": 45,
     "metadata": {},
     "output_type": "execute_result"
    }
   ],
   "source": [
    "imp = SimpleImputer(strategy='mean')\n",
    "imp.fit(income_missing) # only training data should be used to run fit\n",
    "imp.transform(income_missing)\n",
    "\n",
    "# Compare MSE of income when dropped vs MSE of income when imputed.\n",
    "\n",
    "# AKA RUN CROSS VALIDATION ON BOTH AND COMPARE MSE!!!!!!!!!!!\n",
    "\n",
    "# THIS IS THE BACKBONE OF PROJECT 2!!"
   ]
  },
  {
   "cell_type": "markdown",
   "metadata": {},
   "source": [
    "### Method 3: Single Regression Imputation\n",
    "\n",
    "Train a model on the rows of your data that are fully observed.\n",
    "- Suppose I’m missing income for some people, but have observed age and highest level of education for everybody.\n",
    "- X = age and highest level of education, Y = income.\n",
    "- Fit a model.\n",
    "- For any “NA” value in a given column, replace “NA” with predicted value from that model.\n",
    "\n",
    "**Pros**:\n",
    "- Seems reasonable\n",
    "- A little more nuanced than mean/median/mode imputation\n",
    "\n",
    "**Cons**:\n",
    "- Still distorts histogram\n",
    "- Underestimates variance\n",
    "- Should only be considered if data is MCAR or MAR."
   ]
  },
  {
   "cell_type": "code",
   "execution_count": 2,
   "metadata": {},
   "outputs": [],
   "source": [
    "# re-load data\n",
    "income_missing = pd.read_csv('data/income_missing.csv') "
   ]
  },
  {
   "cell_type": "code",
   "execution_count": 3,
   "metadata": {},
   "outputs": [],
   "source": [
    "# Import linear regression\n",
    "from sklearn.linear_model import LinearRegression"
   ]
  },
  {
   "cell_type": "code",
   "execution_count": 5,
   "metadata": {},
   "outputs": [],
   "source": [
    "# Save new dataframe without any missing values\n",
    "# We use income_new to impute null values\n",
    "income_new = income_missing.dropna()"
   ]
  },
  {
   "cell_type": "code",
   "execution_count": 7,
   "metadata": {
    "scrolled": true
   },
   "outputs": [
    {
     "name": "stdout",
     "output_type": "stream",
     "text": [
      "children      0\n",
      "age          30\n",
      "partnered     0\n",
      "income        0\n",
      "dtype: int64\n",
      "(100, 4)\n"
     ]
    }
   ],
   "source": [
    "print(income_missing.isnull().sum())\n",
    "print(income_missing.shape)"
   ]
  },
  {
   "cell_type": "code",
   "execution_count": 8,
   "metadata": {},
   "outputs": [
    {
     "name": "stdout",
     "output_type": "stream",
     "text": [
      "children     0\n",
      "age          0\n",
      "partnered    0\n",
      "income       0\n",
      "dtype: int64\n",
      "(70, 4)\n"
     ]
    }
   ],
   "source": [
    "print(income_new.isnull().sum())\n",
    "print(income_new.shape)"
   ]
  },
  {
   "cell_type": "code",
   "execution_count": 9,
   "metadata": {},
   "outputs": [
    {
     "data": {
      "text/plain": [
       "LinearRegression()"
      ]
     },
     "execution_count": 9,
     "metadata": {},
     "output_type": "execute_result"
    }
   ],
   "source": [
    "# Set up model\n",
    "X = income_new[['partnered', 'children', 'income']]\n",
    "y = income_new['age']\n",
    "\n",
    "# Instantiate\n",
    "model = LinearRegression()\n",
    "\n",
    "# Fit\n",
    "model.fit(X, y)"
   ]
  },
  {
   "cell_type": "code",
   "execution_count": 10,
   "metadata": {},
   "outputs": [
    {
     "data": {
      "text/plain": [
       "Int64Index([ 9, 10, 11, 12, 13, 16, 17, 19, 24, 27, 29, 30, 39, 42, 48, 52, 58,\n",
       "            59, 60, 73, 77, 78, 79, 80, 83, 85, 89, 92, 94, 98],\n",
       "           dtype='int64')"
      ]
     },
     "execution_count": 10,
     "metadata": {},
     "output_type": "execute_result"
    }
   ],
   "source": [
    "# save indices of missing values\n",
    "missing_idx = income_missing.index[income_missing['age'].isnull()]\n",
    "missing_idx"
   ]
  },
  {
   "cell_type": "code",
   "execution_count": 11,
   "metadata": {},
   "outputs": [
    {
     "data": {
      "text/plain": [
       "Index(['children', 'age', 'partnered', 'income'], dtype='object')"
      ]
     },
     "execution_count": 11,
     "metadata": {},
     "output_type": "execute_result"
    }
   ],
   "source": [
    "income_missing.columns"
   ]
  },
  {
   "cell_type": "code",
   "execution_count": 12,
   "metadata": {},
   "outputs": [],
   "source": [
    "# Impute missing values with the prediciton from the model\n",
    "income_missing['age_regression_imputed'] = [income_missing.loc[i,'age'] if i not in missing_idx\n",
    "     else model.predict(pd.DataFrame(income_missing.loc[i,['children', 'partnered', 'income']]).T)[0]\n",
    "     for i in range(income_missing.shape[0])]"
   ]
  },
  {
   "cell_type": "code",
   "execution_count": 13,
   "metadata": {},
   "outputs": [
    {
     "data": {
      "text/plain": [
       "children                   0\n",
       "age                       30\n",
       "partnered                  0\n",
       "income                     0\n",
       "age_regression_imputed     0\n",
       "dtype: int64"
      ]
     },
     "execution_count": 13,
     "metadata": {},
     "output_type": "execute_result"
    }
   ],
   "source": [
    "income_missing.isnull().sum()"
   ]
  },
  {
   "cell_type": "code",
   "execution_count": 26,
   "metadata": {},
   "outputs": [
    {
     "name": "stdout",
     "output_type": "stream",
     "text": [
      "30\n"
     ]
    }
   ],
   "source": [
    "count = 0\n",
    "for i in income_missing['age_regression_imputed']:\n",
    "    if i.is_integer() == False:\n",
    "        count +=1\n",
    "print(count)"
   ]
  },
  {
   "cell_type": "code",
   "execution_count": 59,
   "metadata": {},
   "outputs": [
    {
     "data": {
      "image/png": "[encoded data removed]",
      "text/plain": [
       "<Figure size 1152x648 with 2 Axes>"
      ]
     },
     "metadata": {},
     "output_type": "display_data"
    }
   ],
   "source": [
    "compare_histograms(imputed_column = income_missing['age_regression_imputed'],\n",
    "                   original_column = income['age'],\n",
    "                   x_label = 'Age',\n",
    "                   y_label = 'Frequency')"
   ]
  },
  {
   "cell_type": "markdown",
   "metadata": {},
   "source": [
    "![](../images/deterministic_imputation.png)\n",
    "\n",
    "[source](http://www.stat.columbia.edu/~gelman/arm/missing.pdf)"
   ]
  },
  {
   "cell_type": "markdown",
   "metadata": {},
   "source": [
    "### Make your life easier -> Iterative Imputer in sklearn\n",
    "\n",
    "Documentation [here](https://scikit-learn.org/stable/modules/generated/sklearn.impute.IterativeImputer.html#sklearn.impute.IterativeImputer).\n",
    "\n",
    "From [sklearn](https://scikit-learn.org/stable/modules/generated/sklearn.impute.IterativeImputer.html#sklearn.impute.IterativeImputer): \n",
    "> Note: This estimator is still experimental for now: the predictions and the API might change without any deprecation cycle. To use it, you need to explicitly import enable_iterative_imputer:\n",
    "\n",
    "```python\n",
    "# explicitly require this experimental feature\n",
    "from sklearn.experimental import enable_iterative_imputer  \n",
    "# now you can import normally from sklearn.impute\n",
    "from sklearn.impute import IterativeImputer\n",
    "```\n",
    "\n",
    "Again, make sure to fit this only on training data if you are using this for a model (you can transform testing data)."
   ]
  },
  {
   "cell_type": "code",
   "execution_count": 1,
   "metadata": {},
   "outputs": [],
   "source": [
    "# imports\n",
    "from sklearn.experimental import enable_iterative_imputer \n",
    "from sklearn.impute import IterativeImputer\n",
    "from sklearn.linear_model import LinearRegression\n",
    "import pandas as pd"
   ]
  },
  {
   "cell_type": "code",
   "execution_count": 2,
   "metadata": {},
   "outputs": [],
   "source": [
    "# re-load data\n",
    "income_missing = pd.read_csv('data/income_missing.csv') "
   ]
  },
  {
   "cell_type": "code",
   "execution_count": 3,
   "metadata": {},
   "outputs": [
    {
     "data": {
      "text/plain": [
       "Index(['children', 'age', 'partnered', 'income'], dtype='object')"
      ]
     },
     "execution_count": 3,
     "metadata": {},
     "output_type": "execute_result"
    }
   ],
   "source": [
    "income_missing.columns"
   ]
  },
  {
   "cell_type": "code",
   "execution_count": 6,
   "metadata": {
    "scrolled": false
   },
   "outputs": [
    {
     "data": {
      "text/plain": [
       "array([[1.00000000e+00, 3.50000000e+01, 1.00000000e+00, 5.65313613e+04],\n",
       "       [2.00000000e+00, 5.80000000e+01, 1.00000000e+00, 9.30261825e+04],\n",
       "       [0.00000000e+00, 4.90000000e+01, 1.00000000e+00, 4.26930108e+04],\n",
       "       [0.00000000e+00, 4.40000000e+01, 1.00000000e+00, 8.36801282e+04],\n",
       "       [1.00000000e+00, 2.60000000e+01, 0.00000000e+00, 2.88455208e+04],\n",
       "       [1.00000000e+00, 2.60000000e+01, 1.00000000e+00, 2.48988409e+04],\n",
       "       [2.00000000e+00, 2.20000000e+01, 1.00000000e+00, 6.71520081e+04],\n",
       "       [2.00000000e+00, 5.50000000e+01, 1.00000000e+00, 3.50473735e+04],\n",
       "       [5.00000000e+00, 4.40000000e+01, 1.00000000e+00, 1.72458697e+04],\n",
       "       [1.00000000e+00, 4.23702913e+01, 1.00000000e+00, 7.57495292e+04],\n",
       "       [2.00000000e+00, 3.89213434e+01, 1.00000000e+00, 5.71769502e+04],\n",
       "       [4.00000000e+00, 4.65827320e+01, 1.00000000e+00, 8.86604764e+04],\n",
       "       [1.00000000e+00, 4.47573889e+01, 0.00000000e+00, 6.70892603e+04],\n",
       "       [2.00000000e+00, 4.38576886e+01, 0.00000000e+00, 6.05331725e+04],\n",
       "       [1.00000000e+00, 2.70000000e+01, 1.00000000e+00, 6.67548591e+04],\n",
       "       [4.00000000e+00, 2.70000000e+01, 0.00000000e+00, 2.26040111e+04],\n",
       "       [5.00000000e+00, 3.77988075e+01, 0.00000000e+00, 2.50277777e+04],\n",
       "       [2.00000000e+00, 3.84819101e+01, 1.00000000e+00, 5.51055762e+04],\n",
       "       [1.00000000e+00, 3.70000000e+01, 0.00000000e+00, 4.61595505e+04],\n",
       "       [3.00000000e+00, 3.35522029e+01, 1.00000000e+00, 2.95530826e+04],\n",
       "       [2.00000000e+00, 4.40000000e+01, 0.00000000e+00, 4.98184440e+04],\n",
       "       [5.00000000e+00, 2.60000000e+01, 0.00000000e+00, 2.02717299e+04],\n",
       "       [5.00000000e+00, 3.20000000e+01, 1.00000000e+00, 5.20127032e+04],\n",
       "       [5.00000000e+00, 3.50000000e+01, 1.00000000e+00, 5.43244607e+04],\n",
       "       [1.00000000e+00, 2.88364903e+01, 1.00000000e+00, 1.19547080e+04],\n",
       "       [0.00000000e+00, 5.10000000e+01, 1.00000000e+00, 5.52241236e+04],\n",
       "       [1.00000000e+00, 2.80000000e+01, 0.00000000e+00, 3.13274267e+04],\n",
       "       [2.00000000e+00, 3.94253544e+01, 0.00000000e+00, 3.96403008e+04],\n",
       "       [1.00000000e+00, 4.40000000e+01, 1.00000000e+00, 7.06877862e+04],\n",
       "       [0.00000000e+00, 3.80175486e+01, 1.00000000e+00, 5.75469658e+04],\n",
       "       [2.00000000e+00, 4.65899282e+01, 1.00000000e+00, 9.33246665e+04],\n",
       "       [2.00000000e+00, 2.70000000e+01, 1.00000000e+00, 5.64991696e+04],\n",
       "       [1.00000000e+00, 2.30000000e+01, 1.00000000e+00, 4.34895258e+04],\n",
       "       [0.00000000e+00, 5.80000000e+01, 1.00000000e+00, 4.65175305e+04],\n",
       "       [3.00000000e+00, 5.90000000e+01, 0.00000000e+00, 2.43781977e+04],\n",
       "       [3.00000000e+00, 5.20000000e+01, 1.00000000e+00, 7.72098362e+04],\n",
       "       [1.00000000e+00, 3.20000000e+01, 1.00000000e+00, 7.77089363e+04],\n",
       "       [0.00000000e+00, 2.40000000e+01, 1.00000000e+00, 8.38274199e+04],\n",
       "       [0.00000000e+00, 4.70000000e+01, 1.00000000e+00, 5.36921384e+04],\n",
       "       [4.00000000e+00, 3.78157366e+01, 0.00000000e+00, 2.74227113e+04],\n",
       "       [1.00000000e+00, 2.50000000e+01, 0.00000000e+00, 3.60966737e+04],\n",
       "       [3.00000000e+00, 4.00000000e+01, 1.00000000e+00, 9.84479784e+04],\n",
       "       [4.00000000e+00, 3.69060749e+01, 1.00000000e+00, 4.30472294e+04],\n",
       "       [1.00000000e+00, 5.60000000e+01, 1.00000000e+00, 1.05525257e+05],\n",
       "       [1.00000000e+00, 3.00000000e+01, 1.00000000e+00, 5.83994581e+04],\n",
       "       [0.00000000e+00, 4.70000000e+01, 1.00000000e+00, 9.33149037e+04],\n",
       "       [0.00000000e+00, 3.20000000e+01, 1.00000000e+00, 7.95315969e+04],\n",
       "       [0.00000000e+00, 4.10000000e+01, 1.00000000e+00, 6.90717627e+04],\n",
       "       [3.00000000e+00, 3.54698420e+01, 1.00000000e+00, 3.85923351e+04],\n",
       "       [2.00000000e+00, 2.70000000e+01, 1.00000000e+00, 4.48681112e+04],\n",
       "       [2.00000000e+00, 5.90000000e+01, 0.00000000e+00, 8.40309035e+04],\n",
       "       [1.00000000e+00, 5.10000000e+01, 1.00000000e+00, 8.83065034e+04],\n",
       "       [2.00000000e+00, 4.05442676e+01, 1.00000000e+00, 6.48269935e+04],\n",
       "       [2.00000000e+00, 5.60000000e+01, 1.00000000e+00, 6.51538272e+04],\n",
       "       [0.00000000e+00, 4.40000000e+01, 0.00000000e+00, 1.33825379e+04],\n",
       "       [1.00000000e+00, 5.70000000e+01, 1.00000000e+00, 1.04136776e+05],\n",
       "       [3.00000000e+00, 2.40000000e+01, 1.00000000e+00, 6.32212712e+04],\n",
       "       [4.00000000e+00, 2.80000000e+01, 1.00000000e+00, 4.32584436e+04],\n",
       "       [3.00000000e+00, 3.74662086e+01, 1.00000000e+00, 4.80026884e+04],\n",
       "       [0.00000000e+00, 2.92741133e+01, 1.00000000e+00, 1.63326834e+04],\n",
       "       [0.00000000e+00, 3.68971526e+01, 1.00000000e+00, 5.22657101e+04],\n",
       "       [0.00000000e+00, 3.10000000e+01, 1.00000000e+00, 8.49389128e+04],\n",
       "       [1.00000000e+00, 5.30000000e+01, 1.00000000e+00, 9.18809475e+04],\n",
       "       [2.00000000e+00, 3.40000000e+01, 1.00000000e+00, 6.21140111e+04],\n",
       "       [2.00000000e+00, 3.10000000e+01, 1.00000000e+00, 5.29556348e+04],\n",
       "       [5.00000000e+00, 4.20000000e+01, 0.00000000e+00, 4.99281086e+04],\n",
       "       [1.00000000e+00, 2.60000000e+01, 1.00000000e+00, 4.63722979e+04],\n",
       "       [3.00000000e+00, 5.20000000e+01, 1.00000000e+00, 3.32061361e+04],\n",
       "       [4.00000000e+00, 2.30000000e+01, 1.00000000e+00, 4.21260172e+04],\n",
       "       [2.00000000e+00, 5.90000000e+01, 1.00000000e+00, 8.23123865e+04],\n",
       "       [3.00000000e+00, 5.10000000e+01, 1.00000000e+00, 8.82035537e+04],\n",
       "       [2.00000000e+00, 2.80000000e+01, 1.00000000e+00, 2.21760848e+04],\n",
       "       [1.00000000e+00, 2.00000000e+01, 1.00000000e+00, 4.50417739e+04],\n",
       "       [4.00000000e+00, 4.11907187e+01, 1.00000000e+00, 6.32439269e+04],\n",
       "       [1.00000000e+00, 4.80000000e+01, 1.00000000e+00, 4.64749619e+04],\n",
       "       [3.00000000e+00, 4.90000000e+01, 1.00000000e+00, 7.40034655e+04],\n",
       "       [1.00000000e+00, 5.10000000e+01, 1.00000000e+00, 8.56973606e+04],\n",
       "       [1.00000000e+00, 3.56212185e+01, 1.00000000e+00, 4.39361538e+04],\n",
       "       [3.00000000e+00, 4.72273725e+01, 0.00000000e+00, 7.41018522e+04],\n",
       "       [0.00000000e+00, 3.58570210e+01, 1.00000000e+00, 4.73627998e+04],\n",
       "       [1.00000000e+00, 4.00508595e+01, 1.00000000e+00, 6.48163306e+04],\n",
       "       [1.00000000e+00, 4.50000000e+01, 1.00000000e+00, 5.67365730e+04],\n",
       "       [0.00000000e+00, 3.30000000e+01, 0.00000000e+00, 2.34400185e+04],\n",
       "       [1.00000000e+00, 3.44641252e+01, 0.00000000e+00, 1.85694901e+04],\n",
       "       [2.00000000e+00, 3.20000000e+01, 1.00000000e+00, 2.53182226e+04],\n",
       "       [0.00000000e+00, 3.76722555e+01, 1.00000000e+00, 5.59193435e+04],\n",
       "       [3.00000000e+00, 4.90000000e+01, 0.00000000e+00, 4.53994801e+04],\n",
       "       [4.00000000e+00, 4.60000000e+01, 1.00000000e+00, 1.38439502e+04],\n",
       "       [4.00000000e+00, 5.50000000e+01, 1.00000000e+00, 6.42110098e+04],\n",
       "       [1.00000000e+00, 3.95791218e+01, 1.00000000e+00, 6.25926816e+04],\n",
       "       [1.00000000e+00, 2.50000000e+01, 1.00000000e+00, 6.15417798e+04],\n",
       "       [0.00000000e+00, 4.90000000e+01, 0.00000000e+00, 7.58427015e+04],\n",
       "       [0.00000000e+00, 4.47834171e+01, 0.00000000e+00, 6.95270853e+04],\n",
       "       [4.00000000e+00, 4.20000000e+01, 1.00000000e+00, 4.40927255e+04],\n",
       "       [2.00000000e+00, 3.81459095e+01, 1.00000000e+00, 5.35217566e+04],\n",
       "       [1.00000000e+00, 4.00000000e+01, 1.00000000e+00, 7.40900880e+04],\n",
       "       [1.00000000e+00, 4.10000000e+01, 1.00000000e+00, 5.23044033e+04],\n",
       "       [3.00000000e+00, 3.70000000e+01, 0.00000000e+00, 1.06889196e+04],\n",
       "       [4.00000000e+00, 4.64734313e+01, 0.00000000e+00, 6.82328349e+04],\n",
       "       [4.00000000e+00, 2.40000000e+01, 1.00000000e+00, 3.67855147e+04]])"
      ]
     },
     "execution_count": 6,
     "metadata": {},
     "output_type": "execute_result"
    }
   ],
   "source": [
    "it_imp = IterativeImputer(\n",
    "    estimator=LinearRegression()\n",
    ")\n",
    "\n",
    "it_imp.fit(income_missing)\n",
    "it_imp.transform(income_missing)"
   ]
  },
  {
   "cell_type": "code",
   "execution_count": null,
   "metadata": {},
   "outputs": [],
   "source": [
    "# try it with the defaul model\n",
    "income_missing = pd.read_csv('../data/income_missing.csv') \n",
    "\n"
   ]
  },
  {
   "cell_type": "raw",
   "metadata": {},
   "source": [
    "Normally:\n",
    "\n",
    "X_train, X_test, y_train, y_test = train_test_split...\n",
    "\n",
    "\n",
    "MSE(model.predict(Xtest), ytest) ==> This is what we want\n",
    "\n",
    "\n",
    "Using imputer:\n",
    "\n",
    "Imputer.fit_transform(Xtrain)\n",
    "model.fit(Xtrain, ytrain)\n",
    "MSE(model.predict(imputer.transform(Xtest)), ytest)"
   ]
  },
  {
   "cell_type": "markdown",
   "metadata": {},
   "source": [
    "### Method 4: Nearest Neighbors Imputation\n",
    "\n",
    "Documentation [here](https://scikit-learn.org/stable/modules/generated/sklearn.impute.KNNImputer.html#sklearn.impute.KNNImputer)."
   ]
  },
  {
   "cell_type": "code",
   "execution_count": null,
   "metadata": {},
   "outputs": [],
   "source": [
    "# import it\n",
    "from sklearn.impute import KNNImputer"
   ]
  },
  {
   "cell_type": "code",
   "execution_count": null,
   "metadata": {},
   "outputs": [],
   "source": [
    "# re-load data\n",
    "income_missing = pd.read_csv('../data/income_missing.csv') "
   ]
  },
  {
   "cell_type": "code",
   "execution_count": null,
   "metadata": {},
   "outputs": [],
   "source": []
  },
  {
   "cell_type": "code",
   "execution_count": null,
   "metadata": {},
   "outputs": [],
   "source": []
  },
  {
   "cell_type": "markdown",
   "metadata": {},
   "source": [
    "### Method 5: Multiple Imputation\n",
    "\n",
    "If we want to account for the randomness in our data, we can fill in missing values with some amount of randomness/uncertainty.\n",
    "\n",
    "Replacing an NA with one value treats things like we know the true value.\n",
    "\n",
    "Therefore, we need to impute multiple times.\n",
    "- We will make multiple copies (say 10) of our dataset.\n",
    "- We will use [random regression imputation](https://statisticsglobe.com/regression-imputation-stochastic-vs-deterministic/) to generate one value for each NA in each dataset.\n",
    "- Once each of our 10 datasets are complete, we will do our “final model” or “final analysis” on each dataset.\n",
    "- We will then combine the results of our multiple models together, just like we aggregate results in an ensemble model.\n",
    "\n",
    "![](../images/proper_imputation.png)\n",
    "\n",
    "\n",
    "If you’re **generating predictions**, you can just average your predictions together in a regression problem or select the plurality class in a classification problem.\n",
    "\n",
    "If your goal is to do **inference** (e.g. understand how X affects Y) and are fitting a linear model to each dataset, then you get a slope and y-intercept for each model.\n",
    "- There are a set of tools, called Rubin’s rules, that will allow you to take the slopes and y-intercepts from each model and combine them together.\n",
    "- Check out documentation in the repo if interested!\n",
    "\n",
    "[IterativeImputer](https://scikit-learn.org/stable/modules/impute.html#multiple-vs-single-imputation) in sklearn can help with this!"
   ]
  },
  {
   "cell_type": "markdown",
   "metadata": {},
   "source": [
    "### Missing Indicator Column\n",
    "\n",
    "We can add a column about which values were imputed/missing and use that as a feature in our model. This can help when there is a pattern in what is missing and our target and may help our model.\n",
    "\n",
    "See another example of this [here](https://nbviewer.jupyter.org/github/justmarkham/scikit-learn-tips/blob/master/notebooks/09_add_missing_indicator.ipynb).\n",
    "\n",
    "There are several ways we can do this:\n",
    "1. Set `add_indicator = True` in Simple Imputer or Iterative Imputer if you are using these:\n",
    "```python\n",
    "imputer = SimpleImputer(add_indicator=True)\n",
    "imputer.fit_transform(X)\n",
    "```\n",
    "2. Use the `MissingIndicator` transformer in [sklearn](https://scikit-learn.org/stable/modules/generated/sklearn.impute.MissingIndicator.html#sklearn.impute.MissingIndicator)."
   ]
  },
  {
   "cell_type": "code",
   "execution_count": null,
   "metadata": {},
   "outputs": [],
   "source": [
    "# re-load data\n",
    "income_missing = pd.read_csv('../data/income_missing.csv') "
   ]
  },
  {
   "cell_type": "code",
   "execution_count": null,
   "metadata": {},
   "outputs": [],
   "source": []
  },
  {
   "cell_type": "markdown",
   "metadata": {},
   "source": [
    "---\n",
    "### To the slides!\n",
    "---"
   ]
  },
  {
   "cell_type": "markdown",
   "metadata": {},
   "source": [
    "### BONUS: Pattern Submodel Approach\n",
    "\n",
    "Big Picture: We will break our dataset into subsets based on missingness pattern. We will then build one model on each subset, creating many different models.\n",
    "\n",
    "![](./images/pattern_submodel.jpeg)\n",
    "\n",
    "[image source](https://opendatascience.com/data-imputation-beyond-mean-median-and-mode/)\n",
    "\n",
    "**Pros**:\n",
    "- The pattern submodel method will outperform imputation methods when your data are NMAR, and will perform about as well as imputation methods when your data are MCAR or MAR.\n",
    "- You can generate predictions for test observations containing missing data.\n",
    "- It does not require missingness assumptions!\n",
    "\n",
    "**Cons**:\n",
    "- This is not a well-understood method for inference.\n",
    "\n",
    "Read more about this method [here](https://academic.oup.com/biostatistics/article/21/2/236/5092384).\n",
    "\n",
    "See an example of this [here](https://github.com/sarahmercaldo/MissingDataAndPrediction) - note that this example is done in R."
   ]
  }
 ],
 "metadata": {
  "kernelspec": {
   "display_name": "Python 3",
   "language": "python",
   "name": "python3"
  },
  "language_info": {
   "codemirror_mode": {
    "name": "ipython",
    "version": 3
   },
   "file_extension": ".py",
   "mimetype": "text/x-python",
   "name": "python",
   "nbconvert_exporter": "python",
   "pygments_lexer": "ipython3",
   "version": "3.8.8"
  }
 },
 "nbformat": 4,
 "nbformat_minor": 4
}
