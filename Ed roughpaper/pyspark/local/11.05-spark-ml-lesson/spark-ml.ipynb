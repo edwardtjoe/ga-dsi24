{
 "cells": [
  {
   "cell_type": "markdown",
   "metadata": {},
   "source": [
    "<img src=\"http://imgur.com/1ZcRyrc.png\" style=\"float: left; margin: 20px; height: 55px\"> \n",
    "# Spark MLlib Lesson\n",
    "\n",
    "*Authors: Christoph Rahmede (LDN)*\n",
    "\n",
    "---"
   ]
  },
  {
   "cell_type": "markdown",
   "metadata": {},
   "source": [
    "## Learning Objectives\n",
    "\n",
    "- Understand how features and labels have to be encoded in spark\n",
    "- Construct a model pipeline\n",
    "- Fit regression and classification models with spark"
   ]
  },
  {
   "cell_type": "markdown",
   "metadata": {
    "toc": true
   },
   "source": [
    "<h1>Lesson Guide<span class=\"tocSkip\"></span></h1>\n",
    "<div class=\"toc\"><ul class=\"toc-item\"><li><span><a href=\"#Learning-Objectives\" data-toc-modified-id=\"Learning-Objectives-1\">Learning Objectives</a></span></li><li><span><a href=\"#Creating-the-spark-context\" data-toc-modified-id=\"Creating-the-spark-context-2\">Creating the spark context</a></span></li><li><span><a href=\"#Regression-example\" data-toc-modified-id=\"Regression-example-3\">Regression example</a></span><ul class=\"toc-item\"><li><span><a href=\"#Load-the-data\" data-toc-modified-id=\"Load-the-data-3.1\">Load the data</a></span></li><li><span><a href=\"#Put-the-data-into-a-spark-dataframe\" data-toc-modified-id=\"Put-the-data-into-a-spark-dataframe-3.2\">Put the data into a spark dataframe</a></span></li><li><span><a href=\"#Create-feature-columns\" data-toc-modified-id=\"Create-feature-columns-3.3\">Create feature columns</a></span></li><li><span><a href=\"#Rescale-the-data\" data-toc-modified-id=\"Rescale-the-data-3.4\">Rescale the data</a></span></li><li><span><a href=\"#Fit-and-evaluate-a-linear-regression-model\" data-toc-modified-id=\"Fit-and-evaluate-a-linear-regression-model-3.5\">Fit and evaluate a linear regression model</a></span></li><li><span><a href=\"#Linear-regression-with-train-test-split-and-pipeline\" data-toc-modified-id=\"Linear-regression-with-train-test-split-and-pipeline-3.6\">Linear regression with train-test split and pipeline</a></span></li><li><span><a href=\"#Linear-regression-with-grid-search\" data-toc-modified-id=\"Linear-regression-with-grid-search-3.7\">Linear regression with grid search</a></span></li></ul></li><li><span><a href=\"#Classification\" data-toc-modified-id=\"Classification-4\">Classification</a></span><ul class=\"toc-item\"><li><span><a href=\"#Load-the-data\" data-toc-modified-id=\"Load-the-data-4.1\">Load the data</a></span></li><li><span><a href=\"#Create-the-spark-dataframe\" data-toc-modified-id=\"Create-the-spark-dataframe-4.2\">Create the spark dataframe</a></span></li><li><span><a href=\"#Create-feature-columns\" data-toc-modified-id=\"Create-feature-columns-4.3\">Create feature columns</a></span></li><li><span><a href=\"#Rescale-the-data\" data-toc-modified-id=\"Rescale-the-data-4.4\">Rescale the data</a></span></li><li><span><a href=\"#Fit-logistic-regression\" data-toc-modified-id=\"Fit-logistic-regression-4.5\">Fit logistic regression</a></span></li><li><span><a href=\"#Logistic-regression-with-grid-search\" data-toc-modified-id=\"Logistic-regression-with-grid-search-4.6\">Logistic regression with grid search</a></span></li><li><span><a href=\"#Decision-Tree-with-grid-search\" data-toc-modified-id=\"Decision-Tree-with-grid-search-4.7\">Decision Tree with grid search</a></span></li></ul></li></ul></div>"
   ]
  },
  {
   "cell_type": "code",
   "execution_count": 1,
   "metadata": {},
   "outputs": [],
   "source": [
    "import pandas as pd\n",
    "import numpy as np\n",
    "import matplotlib.pyplot as plt\n",
    "import seaborn as sns\n",
    "\n",
    "plt.style.use('ggplot')\n",
    "sns.set(font_scale=1.5)\n",
    "%config InlineBackend.figure_format = 'retina'\n",
    "%matplotlib inline"
   ]
  },
  {
   "cell_type": "markdown",
   "metadata": {},
   "source": [
    "## Creating the spark context"
   ]
  },
  {
   "cell_type": "code",
   "execution_count": 2,
   "metadata": {},
   "outputs": [],
   "source": [
    "import pyspark as ps\n",
    "from pyspark.sql import SQLContext\n",
    "\n",
    "from pyspark.ml import Pipeline\n",
    "from pyspark.ml.classification import LogisticRegression\n",
    "from pyspark.ml.feature import StandardScaler"
   ]
  },
  {
   "cell_type": "code",
   "execution_count": 3,
   "metadata": {},
   "outputs": [],
   "source": [
    "sc = ps.SparkContext('local[*]')\n",
    "sqlContext = SQLContext(sc)"
   ]
  },
  {
   "cell_type": "code",
   "execution_count": 4,
   "metadata": {},
   "outputs": [
    {
     "data": {
      "text/html": [
       "\n",
       "        <div>\n",
       "            <p><b>SparkContext</b></p>\n",
       "\n",
       "            <p><a href=\"http://christophsmbp6:4040\">Spark UI</a></p>\n",
       "\n",
       "            <dl>\n",
       "              <dt>Version</dt>\n",
       "                <dd><code>v3.0.0</code></dd>\n",
       "              <dt>Master</dt>\n",
       "                <dd><code>local[*]</code></dd>\n",
       "              <dt>AppName</dt>\n",
       "                <dd><code>pyspark-shell</code></dd>\n",
       "            </dl>\n",
       "        </div>\n",
       "        "
      ],
      "text/plain": [
       "<SparkContext master=local[*] appName=pyspark-shell>"
      ]
     },
     "execution_count": 4,
     "metadata": {},
     "output_type": "execute_result"
    }
   ],
   "source": [
    "sc"
   ]
  },
  {
   "cell_type": "markdown",
   "metadata": {},
   "source": [
    "## Regression example"
   ]
  },
  {
   "cell_type": "markdown",
   "metadata": {},
   "source": [
    "### Load the data"
   ]
  },
  {
   "cell_type": "code",
   "execution_count": 5,
   "metadata": {},
   "outputs": [
    {
     "data": {
      "text/plain": [
       "Index(['age', 'sex', 'bmi', 'bp', 's1', 's2', 's3', 's4', 's5', 's6', 'y'], dtype='object')"
      ]
     },
     "execution_count": 5,
     "metadata": {},
     "output_type": "execute_result"
    }
   ],
   "source": [
    "from sklearn.datasets import load_diabetes\n",
    "\n",
    "data = load_diabetes()\n",
    "df = pd.DataFrame(data.data, columns=data.feature_names)\n",
    "df['y'] = data.target\n",
    "df.columns"
   ]
  },
  {
   "cell_type": "markdown",
   "metadata": {},
   "source": [
    "### Put the data into a spark dataframe"
   ]
  },
  {
   "cell_type": "code",
   "execution_count": 6,
   "metadata": {},
   "outputs": [],
   "source": [
    "spark_df = sqlContext.createDataFrame(df)"
   ]
  },
  {
   "cell_type": "code",
   "execution_count": 7,
   "metadata": {},
   "outputs": [
    {
     "data": {
      "text/plain": [
       "Row(age=0.0380759064334241, sex=0.0506801187398187, bmi=0.0616962065186885, bp=0.0218723549949558, s1=-0.0442234984244464, s2=-0.0348207628376986, s3=-0.0434008456520269, s4=-0.00259226199818282, s5=0.0199084208763183, s6=-0.0176461251598052, y=151.0)"
      ]
     },
     "execution_count": 7,
     "metadata": {},
     "output_type": "execute_result"
    }
   ],
   "source": [
    "spark_df.first()"
   ]
  },
  {
   "cell_type": "markdown",
   "metadata": {},
   "source": [
    "### Create feature columns"
   ]
  },
  {
   "cell_type": "code",
   "execution_count": 8,
   "metadata": {},
   "outputs": [],
   "source": [
    "from pyspark.ml.feature import StandardScaler, VectorAssembler"
   ]
  },
  {
   "cell_type": "code",
   "execution_count": 9,
   "metadata": {},
   "outputs": [
    {
     "data": {
      "text/plain": [
       "DataFrame[age: double, sex: double, bmi: double, bp: double, s1: double, s2: double, s3: double, s4: double, s5: double, s6: double, y: double, features: vector]"
      ]
     },
     "execution_count": 9,
     "metadata": {},
     "output_type": "execute_result"
    }
   ],
   "source": [
    "vectorAssembler = VectorAssembler(inputCols=data.feature_names,\n",
    "                                  outputCol=\"features\")\n",
    "\n",
    "vector_df = vectorAssembler.transform(spark_df)\n",
    "vector_df.persist()"
   ]
  },
  {
   "cell_type": "code",
   "execution_count": 10,
   "metadata": {},
   "outputs": [
    {
     "data": {
      "text/plain": [
       "Row(age=0.0380759064334241, sex=0.0506801187398187, bmi=0.0616962065186885, bp=0.0218723549949558, s1=-0.0442234984244464, s2=-0.0348207628376986, s3=-0.0434008456520269, s4=-0.00259226199818282, s5=0.0199084208763183, s6=-0.0176461251598052, y=151.0, features=DenseVector([0.0381, 0.0507, 0.0617, 0.0219, -0.0442, -0.0348, -0.0434, -0.0026, 0.0199, -0.0176]))"
      ]
     },
     "execution_count": 10,
     "metadata": {},
     "output_type": "execute_result"
    }
   ],
   "source": [
    "vector_df.first()"
   ]
  },
  {
   "cell_type": "code",
   "execution_count": 11,
   "metadata": {},
   "outputs": [
    {
     "name": "stdout",
     "output_type": "stream",
     "text": [
      "+--------------------+\n",
      "|            features|\n",
      "+--------------------+\n",
      "|[0.03807590643342...|\n",
      "|[-0.0018820165277...|\n",
      "+--------------------+\n",
      "only showing top 2 rows\n",
      "\n"
     ]
    }
   ],
   "source": [
    "vector_df.select('features').show(2)"
   ]
  },
  {
   "cell_type": "markdown",
   "metadata": {},
   "source": [
    "### Rescale the data"
   ]
  },
  {
   "cell_type": "code",
   "execution_count": 12,
   "metadata": {},
   "outputs": [
    {
     "data": {
      "text/plain": [
       "Row(age=0.0380759064334241, sex=0.0506801187398187, bmi=0.0616962065186885, bp=0.0218723549949558, s1=-0.0442234984244464, s2=-0.0348207628376986, s3=-0.0434008456520269, s4=-0.00259226199818282, s5=0.0199084208763183, s6=-0.0176461251598052, y=151.0, features=DenseVector([0.0381, 0.0507, 0.0617, 0.0219, -0.0442, -0.0348, -0.0434, -0.0026, 0.0199, -0.0176]), scaledfeatures=DenseVector([0.7996, 1.0643, 1.2956, 0.4593, -0.9287, -0.7312, -0.9114, -0.0544, 0.4181, -0.3706]))"
      ]
     },
     "execution_count": 12,
     "metadata": {},
     "output_type": "execute_result"
    }
   ],
   "source": [
    "scaler = StandardScaler(withMean=True,\n",
    "                        inputCol=\"features\",\n",
    "                        outputCol=\"scaledfeatures\")\n",
    "scalerModel = scaler.fit(vector_df)\n",
    "scaled_df = scalerModel.transform(vector_df)\n",
    "\n",
    "scaled_df.first()"
   ]
  },
  {
   "cell_type": "markdown",
   "metadata": {},
   "source": [
    "### Fit and evaluate a linear regression model"
   ]
  },
  {
   "cell_type": "code",
   "execution_count": 13,
   "metadata": {},
   "outputs": [],
   "source": [
    "from pyspark.ml.regression import LinearRegression"
   ]
  },
  {
   "cell_type": "code",
   "execution_count": 14,
   "metadata": {},
   "outputs": [
    {
     "name": "stdout",
     "output_type": "stream",
     "text": [
      "Coefficients: [-0.17663303877387873,-10.697735205316691,24.360758835242468,14.94151897505334,-7.835463754532571,-0.8410895890309399,-7.886612742177835,5.429933851639906,23.705033309493434,3.6787415137216293]\n",
      "Intercept: 152.13348416289594\n",
      "+-------------------+\n",
      "|          residuals|\n",
      "+-------------------+\n",
      "|-51.363547119338506|\n",
      "| 3.6611977207584516|\n",
      "| -32.98523936914904|\n",
      "|  42.93442568869813|\n",
      "| 6.7039375517261135|\n",
      "| -7.848930209771666|\n",
      "| 58.109132605129744|\n",
      "| -61.25316161495468|\n",
      "|-49.644610565183086|\n",
      "|  98.81402940896581|\n",
      "| 0.5639070255709839|\n",
      "| -36.93147962352374|\n",
      "|  64.16859312523908|\n",
      "|  23.45642651381067|\n",
      "| 15.771294706595455|\n",
      "|-2.9166566407657513|\n",
      "| -41.05787572372083|\n",
      "|-37.879718042653224|\n",
      "| -48.98148369099681|\n",
      "| 46.299047413429264|\n",
      "+-------------------+\n",
      "only showing top 20 rows\n",
      "\n",
      "RMSE: 53.63570624814741\n",
      "r2: 0.5148659654023912\n"
     ]
    }
   ],
   "source": [
    "model = LinearRegression(featuresCol=scaler.getOutputCol(),\n",
    "                         labelCol='y',\n",
    "                         maxIter=3000,\n",
    "                         regParam=3.0,\n",
    "                         elasticNetParam=0.0)\n",
    "\n",
    "# Fit the model\n",
    "model_fit = model.fit(scaled_df)\n",
    "\n",
    "# Print the coefficients and intercept for linear regression\n",
    "print(\"Coefficients: {}\".format(model_fit.coefficients))\n",
    "print(\"Intercept: {}\".format(model_fit.intercept))\n",
    "\n",
    "# Summarize the model over the training set and print out some metrics\n",
    "summary_train = model_fit.summary\n",
    "summary_train.residuals.show()\n",
    "print(\"RMSE: {}\".format(summary_train.rootMeanSquaredError))\n",
    "print(\"r2: {}\" .format(summary_train.r2))"
   ]
  },
  {
   "cell_type": "markdown",
   "metadata": {},
   "source": [
    "### Linear regression with train-test split and pipeline"
   ]
  },
  {
   "cell_type": "code",
   "execution_count": 15,
   "metadata": {},
   "outputs": [],
   "source": [
    "(data_train, data_test) = vector_df.randomSplit([0.7, 0.3], seed=1)"
   ]
  },
  {
   "cell_type": "code",
   "execution_count": 16,
   "metadata": {},
   "outputs": [],
   "source": [
    "# Add the stages to the Pipeline\n",
    "pipeline = Pipeline(stages=[scaler, model])"
   ]
  },
  {
   "cell_type": "code",
   "execution_count": 17,
   "metadata": {},
   "outputs": [],
   "source": [
    "model_fit = pipeline.fit(data_train)"
   ]
  },
  {
   "cell_type": "code",
   "execution_count": 18,
   "metadata": {},
   "outputs": [
    {
     "name": "stdout",
     "output_type": "stream",
     "text": [
      "Coefficients: [0.5875725654091843,-10.623876816956512,20.113209918758162,16.29726175041174,-7.068202381385424,0.648267222537172,-9.235897905917497,0.6139171881293791,29.153468319381926,0.4819148780451927]\n",
      "Intercept: 154.5598705501618\n",
      "+-------------------+\n",
      "|          residuals|\n",
      "+-------------------+\n",
      "|  39.63749563362484|\n",
      "| 22.242594500301948|\n",
      "|-13.971569005883964|\n",
      "|-2.6395407769088592|\n",
      "|-13.564082957849394|\n",
      "| 152.63167349175527|\n",
      "| 41.849054860371496|\n",
      "| -46.45782765618864|\n",
      "|-38.721055050936556|\n",
      "| 28.782401098869798|\n",
      "| -19.31848899500929|\n",
      "| 24.964293597916992|\n",
      "|-25.778306657226068|\n",
      "| -82.13975271045783|\n",
      "|  45.28070345695235|\n",
      "| -75.52953588104646|\n",
      "|-32.939039402672435|\n",
      "| -9.862649806449383|\n",
      "|  31.72729958985998|\n",
      "| -52.21086323762066|\n",
      "+-------------------+\n",
      "only showing top 20 rows\n",
      "\n",
      "RMSE: 52.51426526478387\n",
      "r2: 0.5233986881523258\n"
     ]
    }
   ],
   "source": [
    "# Print the coefficients and intercept for linear regression\n",
    "print(\"Coefficients: {}\".format(model_fit.stages[1].coefficients))\n",
    "print(\"Intercept: {}\".format(model_fit.stages[1].intercept))\n",
    "\n",
    "# Summarize the model over the training set and print out some metrics\n",
    "summary_train = model_fit.stages[1].summary\n",
    "summary_train.residuals.show()\n",
    "print(\"RMSE: {}\".format(summary_train.rootMeanSquaredError))\n",
    "print(\"r2: {}\".format(summary_train.r2))"
   ]
  },
  {
   "cell_type": "code",
   "execution_count": 19,
   "metadata": {},
   "outputs": [
    {
     "data": {
      "text/plain": [
       "[Row(y=134.0, features=DenseVector([-0.0963, -0.0446, -0.0763, -0.0435, -0.0456, -0.0348, 0.0081, -0.0395, -0.0595, -0.0839])),\n",
       " Row(y=200.0, features=DenseVector([-0.0963, -0.0446, -0.0364, -0.0745, -0.0387, -0.0276, 0.0155, -0.0395, -0.0741, -0.0011])),\n",
       " Row(y=162.0, features=DenseVector([-0.0709, -0.0446, -0.0579, -0.0814, -0.0456, -0.0289, -0.0434, -0.0026, 0.0011, -0.0052])),\n",
       " Row(y=61.0, features=DenseVector([-0.0709, -0.0446, -0.0041, -0.0401, -0.0662, -0.0787, 0.0523, -0.0764, -0.0514, -0.0342])),\n",
       " Row(y=310.0, features=DenseVector([-0.0709, -0.0446, 0.0391, -0.0332, -0.0126, -0.0345, -0.025, -0.0026, 0.0677, -0.0135]))]"
      ]
     },
     "execution_count": 19,
     "metadata": {},
     "output_type": "execute_result"
    }
   ],
   "source": [
    "data_test.select('y', 'features').take(5)"
   ]
  },
  {
   "cell_type": "code",
   "execution_count": 20,
   "metadata": {},
   "outputs": [],
   "source": [
    "predictions = model_fit.transform(data_test)"
   ]
  },
  {
   "cell_type": "code",
   "execution_count": 21,
   "metadata": {},
   "outputs": [
    {
     "data": {
      "text/plain": [
       "['age',\n",
       " 'sex',\n",
       " 'bmi',\n",
       " 'bp',\n",
       " 's1',\n",
       " 's2',\n",
       " 's3',\n",
       " 's4',\n",
       " 's5',\n",
       " 's6',\n",
       " 'y',\n",
       " 'features',\n",
       " 'scaledfeatures',\n",
       " 'prediction']"
      ]
     },
     "execution_count": 21,
     "metadata": {},
     "output_type": "execute_result"
    }
   ],
   "source": [
    "predictions.columns"
   ]
  },
  {
   "cell_type": "code",
   "execution_count": 22,
   "metadata": {},
   "outputs": [
    {
     "name": "stdout",
     "output_type": "stream",
     "text": [
      "+-----+------------------+--------------------+--------------------+\n",
      "|    y|        prediction|      scaledfeatures|            features|\n",
      "+-----+------------------+--------------------+--------------------+\n",
      "|134.0| 79.06851025684432|[-2.0112873419572...|[-0.0963280162542...|\n",
      "|200.0| 75.31295512016284|[-2.0112873419572...|[-0.0963280162542...|\n",
      "|162.0|123.38284953509596|[-1.4937505205614...|[-0.0709002470971...|\n",
      "| 61.0|111.58589515089288|[-1.4937505205614...|[-0.0709002470971...|\n",
      "|310.0| 216.3464786165888|[-1.4937505205614...|[-0.0709002470971...|\n",
      "+-----+------------------+--------------------+--------------------+\n",
      "only showing top 5 rows\n",
      "\n"
     ]
    }
   ],
   "source": [
    "# Select example rows to display.\n",
    "predictions.select(\"y\", \"prediction\",  \"scaledfeatures\", 'features').show(5)"
   ]
  },
  {
   "cell_type": "code",
   "execution_count": 23,
   "metadata": {},
   "outputs": [],
   "source": [
    "from pyspark.ml.evaluation import RegressionEvaluator"
   ]
  },
  {
   "cell_type": "code",
   "execution_count": 24,
   "metadata": {},
   "outputs": [
    {
     "data": {
      "text/plain": [
       "0.47750621822548456"
      ]
     },
     "execution_count": 24,
     "metadata": {},
     "output_type": "execute_result"
    }
   ],
   "source": [
    "evaluator = RegressionEvaluator(predictionCol='prediction',\n",
    "                                labelCol='y',\n",
    "                                metricName='r2')\n",
    "evaluator.evaluate(predictions)"
   ]
  },
  {
   "cell_type": "markdown",
   "metadata": {},
   "source": [
    "### Linear regression with grid search"
   ]
  },
  {
   "cell_type": "code",
   "execution_count": 25,
   "metadata": {},
   "outputs": [],
   "source": [
    "from pyspark.ml.tuning import CrossValidator, ParamGridBuilder"
   ]
  },
  {
   "cell_type": "code",
   "execution_count": 26,
   "metadata": {},
   "outputs": [
    {
     "data": {
      "text/plain": [
       "['aggregationDepth',\n",
       " 'solver',\n",
       " 'standardization',\n",
       " 'fitIntercept',\n",
       " 'elasticNetParam',\n",
       " 'predictionCol',\n",
       " 'featuresCol',\n",
       " 'labelCol',\n",
       " 'maxIter',\n",
       " 'regParam',\n",
       " 'tol',\n",
       " 'loss',\n",
       " 'epsilon']"
      ]
     },
     "execution_count": 26,
     "metadata": {},
     "output_type": "execute_result"
    }
   ],
   "source": [
    "[parameter.name for parameter in model._defaultParamMap]"
   ]
  },
  {
   "cell_type": "code",
   "execution_count": 27,
   "metadata": {},
   "outputs": [],
   "source": [
    "scaler = StandardScaler(withMean=True,\n",
    "                        inputCol=\"features\",\n",
    "                        outputCol=\"scaledfeatures\")\n",
    "model = LinearRegression(featuresCol=scaler.getOutputCol(),\n",
    "                         labelCol='y',\n",
    "                         maxIter=3000,\n",
    "                         regParam=0.0,\n",
    "                         elasticNetParam=0.0)\n",
    "pipeline = Pipeline(stages=[scaler, model])\n",
    "\n",
    "evaluator = RegressionEvaluator(predictionCol='prediction',\n",
    "                                labelCol='y',\n",
    "                                metricName='r2')\n",
    "\n",
    "paramGrid = ParamGridBuilder() \\\n",
    "    .addGrid(model.regParam, np.logspace(-4, 4, 9)) \\\n",
    "    .addGrid(model.fitIntercept, [True, False]) \\\n",
    "    .build()\n",
    "\n",
    "# the actual gridsearch\n",
    "crossval = CrossValidator(estimator=pipeline,\n",
    "                          estimatorParamMaps=paramGrid,\n",
    "                          evaluator=evaluator,\n",
    "                          numFolds=5)\n",
    "\n",
    "# Run cross-validation, and choose the best set of parameters.\n",
    "model_fit = crossval.fit(data_train)"
   ]
  },
  {
   "cell_type": "code",
   "execution_count": 28,
   "metadata": {},
   "outputs": [
    {
     "name": "stdout",
     "output_type": "stream",
     "text": [
      "{'regParam': 10.0, 'fitIntercept': True}\n",
      "\n",
      "aggregationDepth: suggested depth for treeAggregate (>= 2) (default: 2)\n",
      "elasticNetParam: the ElasticNet mixing parameter, in range [0, 1]. For alpha = 0, the penalty is an L2 penalty. For alpha = 1, it is an L1 penalty (default: 0.0, current: 0.0)\n",
      "epsilon: The shape parameter to control the amount of robustness. Must be > 1.0. (default: 1.35)\n",
      "featuresCol: features column name (default: features, current: scaledfeatures)\n",
      "fitIntercept: whether to fit an intercept term (default: true, current: true)\n",
      "labelCol: label column name (default: label, current: y)\n",
      "loss: The loss function to be optimized. Supported options: squaredError, huber. (Default squaredError) (default: squaredError)\n",
      "maxIter: maximum number of iterations (>= 0) (default: 100, current: 3000)\n",
      "predictionCol: prediction column name (default: prediction)\n",
      "regParam: regularization parameter (>= 0) (default: 0.0, current: 10.0)\n",
      "solver: The solver algorithm for optimization. Supported options: auto, normal, l-bfgs. (Default auto) (default: auto)\n",
      "standardization: whether to standardize the training features before fitting the model (default: true)\n",
      "tol: the convergence tolerance for iterative algorithms (>= 0) (default: 1.0E-6)\n",
      "weightCol: weight column name. If this is not set or empty, we treat all instance weights as 1.0 (undefined)\n"
     ]
    }
   ],
   "source": [
    "java_model = model_fit.bestModel.stages[1]._java_obj\n",
    "\n",
    "print({param.name: java_model.getOrDefault(java_model.getParam(param.name))\n",
    "       for param in paramGrid[0]})\n",
    "print()\n",
    "print(java_model.explainParams())"
   ]
  },
  {
   "cell_type": "code",
   "execution_count": 29,
   "metadata": {},
   "outputs": [
    {
     "data": {
      "text/plain": [
       "[Row(y=134.0, prediction=80.51311793266808),\n",
       " Row(y=200.0, prediction=79.6541808012254),\n",
       " Row(y=162.0, prediction=122.39896978629108),\n",
       " Row(y=61.0, prediction=111.60948903647717),\n",
       " Row(y=310.0, prediction=209.5348391509731)]"
      ]
     },
     "execution_count": 29,
     "metadata": {},
     "output_type": "execute_result"
    }
   ],
   "source": [
    "prediction = model_fit.transform(data_test)\n",
    "selected = prediction.select(\"y\", \"prediction\").limit(5)\n",
    "selected.take(5)"
   ]
  },
  {
   "cell_type": "code",
   "execution_count": 30,
   "metadata": {},
   "outputs": [
    {
     "data": {
      "text/plain": [
       "['age',\n",
       " 'sex',\n",
       " 'bmi',\n",
       " 'bp',\n",
       " 's1',\n",
       " 's2',\n",
       " 's3',\n",
       " 's4',\n",
       " 's5',\n",
       " 's6',\n",
       " 'y',\n",
       " 'features',\n",
       " 'scaledfeatures',\n",
       " 'prediction']"
      ]
     },
     "execution_count": 30,
     "metadata": {},
     "output_type": "execute_result"
    }
   ],
   "source": [
    "prediction.columns"
   ]
  },
  {
   "cell_type": "code",
   "execution_count": 31,
   "metadata": {},
   "outputs": [
    {
     "data": {
      "text/plain": [
       "0.5187844483935027"
      ]
     },
     "execution_count": 31,
     "metadata": {},
     "output_type": "execute_result"
    }
   ],
   "source": [
    "model_fit.bestModel.stages[1].summary.r2"
   ]
  },
  {
   "cell_type": "code",
   "execution_count": 32,
   "metadata": {},
   "outputs": [
    {
     "data": {
      "text/plain": [
       "0.482247507554739"
      ]
     },
     "execution_count": 32,
     "metadata": {},
     "output_type": "execute_result"
    }
   ],
   "source": [
    "evaluator.evaluate(prediction)"
   ]
  },
  {
   "cell_type": "markdown",
   "metadata": {},
   "source": [
    "## Classification"
   ]
  },
  {
   "cell_type": "markdown",
   "metadata": {},
   "source": [
    "### Load the data"
   ]
  },
  {
   "cell_type": "code",
   "execution_count": 33,
   "metadata": {},
   "outputs": [
    {
     "data": {
      "text/plain": [
       "Index(['mean radius', 'mean texture', 'mean perimeter', 'mean area',\n",
       "       'mean smoothness', 'mean compactness', 'mean concavity',\n",
       "       'mean concave points', 'mean symmetry', 'mean fractal dimension',\n",
       "       'radius error', 'texture error', 'perimeter error', 'area error',\n",
       "       'smoothness error', 'compactness error', 'concavity error',\n",
       "       'concave points error', 'symmetry error', 'fractal dimension error',\n",
       "       'worst radius', 'worst texture', 'worst perimeter', 'worst area',\n",
       "       'worst smoothness', 'worst compactness', 'worst concavity',\n",
       "       'worst concave points', 'worst symmetry', 'worst fractal dimension',\n",
       "       'label'],\n",
       "      dtype='object')"
      ]
     },
     "execution_count": 33,
     "metadata": {},
     "output_type": "execute_result"
    }
   ],
   "source": [
    "from sklearn.datasets import load_breast_cancer\n",
    "\n",
    "data = load_breast_cancer()\n",
    "df = pd.DataFrame(data.data, columns=data.feature_names)\n",
    "df['label'] = data.target\n",
    "df.columns"
   ]
  },
  {
   "cell_type": "markdown",
   "metadata": {},
   "source": [
    "### Create the spark dataframe"
   ]
  },
  {
   "cell_type": "code",
   "execution_count": 34,
   "metadata": {},
   "outputs": [
    {
     "data": {
      "text/plain": [
       "Row(mean radius=17.99, mean texture=10.38, mean perimeter=122.8, mean area=1001.0, mean smoothness=0.1184, mean compactness=0.2776, mean concavity=0.3001, mean concave points=0.1471, mean symmetry=0.2419, mean fractal dimension=0.07871, radius error=1.095, texture error=0.9053, perimeter error=8.589, area error=153.4, smoothness error=0.006399, compactness error=0.04904, concavity error=0.05373, concave points error=0.01587, symmetry error=0.03003, fractal dimension error=0.006193, worst radius=25.38, worst texture=17.33, worst perimeter=184.6, worst area=2019.0, worst smoothness=0.1622, worst compactness=0.6656, worst concavity=0.7119, worst concave points=0.2654, worst symmetry=0.4601, worst fractal dimension=0.1189, label=0)"
      ]
     },
     "execution_count": 34,
     "metadata": {},
     "output_type": "execute_result"
    }
   ],
   "source": [
    "spark_df = sqlContext.createDataFrame(df)\n",
    "\n",
    "spark_df.first()"
   ]
  },
  {
   "cell_type": "markdown",
   "metadata": {},
   "source": [
    "### Create feature columns"
   ]
  },
  {
   "cell_type": "code",
   "execution_count": 35,
   "metadata": {},
   "outputs": [
    {
     "name": "stdout",
     "output_type": "stream",
     "text": [
      "+--------------------+\n",
      "|            features|\n",
      "+--------------------+\n",
      "|[17.99,10.38,122....|\n",
      "|[20.57,17.77,132....|\n",
      "+--------------------+\n",
      "only showing top 2 rows\n",
      "\n"
     ]
    }
   ],
   "source": [
    "vectorAssembler = VectorAssembler(inputCols=data.feature_names,\n",
    "                                  outputCol=\"features\")\n",
    "\n",
    "vector_df = vectorAssembler.transform(spark_df)\n",
    "vector_df.persist()\n",
    "vector_df.select('features').show(2)"
   ]
  },
  {
   "cell_type": "markdown",
   "metadata": {},
   "source": [
    "### Rescale the data"
   ]
  },
  {
   "cell_type": "code",
   "execution_count": 36,
   "metadata": {},
   "outputs": [
    {
     "data": {
      "text/plain": [
       "Row(mean radius=17.99, mean texture=10.38, mean perimeter=122.8, mean area=1001.0, mean smoothness=0.1184, mean compactness=0.2776, mean concavity=0.3001, mean concave points=0.1471, mean symmetry=0.2419, mean fractal dimension=0.07871, radius error=1.095, texture error=0.9053, perimeter error=8.589, area error=153.4, smoothness error=0.006399, compactness error=0.04904, concavity error=0.05373, concave points error=0.01587, symmetry error=0.03003, fractal dimension error=0.006193, worst radius=25.38, worst texture=17.33, worst perimeter=184.6, worst area=2019.0, worst smoothness=0.1622, worst compactness=0.6656, worst concavity=0.7119, worst concave points=0.2654, worst symmetry=0.4601, worst fractal dimension=0.1189, label=0, features=DenseVector([17.99, 10.38, 122.8, 1001.0, 0.1184, 0.2776, 0.3001, 0.1471, 0.2419, 0.0787, 1.095, 0.9053, 8.589, 153.4, 0.0064, 0.049, 0.0537, 0.0159, 0.03, 0.0062, 25.38, 17.33, 184.6, 2019.0, 0.1622, 0.6656, 0.7119, 0.2654, 0.4601, 0.1189]), scaledfeatures=DenseVector([1.0961, -2.0715, 1.2688, 0.9835, 1.5671, 3.2806, 2.6505, 2.5302, 2.2156, 2.2538, 2.4875, -0.5648, 2.8305, 2.4854, -0.2138, 1.3157, 0.7234, 0.6602, 1.1477, 0.9063, 1.885, -1.3581, 2.3016, 1.9995, 1.3065, 2.6144, 2.1077, 2.2941, 2.7482, 1.9353]))"
      ]
     },
     "execution_count": 36,
     "metadata": {},
     "output_type": "execute_result"
    }
   ],
   "source": [
    "scaler = StandardScaler(withMean=True,\n",
    "                        inputCol=\"features\",\n",
    "                        outputCol=\"scaledfeatures\")\n",
    "\n",
    "# Compute summary statistics and generate ScalerModel\n",
    "scalerModel = scaler.fit(vector_df)\n",
    "\n",
    "# rescale each feature to range [min, max].\n",
    "scaled_df = scalerModel.transform(vector_df)\n",
    "\n",
    "scaled_df.first()"
   ]
  },
  {
   "cell_type": "markdown",
   "metadata": {},
   "source": [
    "### Fit logistic regression"
   ]
  },
  {
   "cell_type": "code",
   "execution_count": 37,
   "metadata": {},
   "outputs": [],
   "source": [
    "from pyspark.ml.classification import LogisticRegression"
   ]
  },
  {
   "cell_type": "code",
   "execution_count": 38,
   "metadata": {},
   "outputs": [
    {
     "name": "stdout",
     "output_type": "stream",
     "text": [
      "Coefficients: [20.023758001329654,-0.8445030493731206,13.431564449336207,-4.793736597871902,-6.8516539921899575,24.440434105086464,-22.94500531039765,-9.04040212416852,4.100610180473539,-1.8099557258944383,-11.155933567320623,4.853527624510928,12.33271383165318,-21.59295521515126,-0.8295130526961909,-9.95824197158853,15.562708969349396,-18.29135213743566,4.39285393370246,20.71483688127971,-11.853477657700962,-8.749642951627592,-12.784313553657427,-24.38630398901748,3.3753007391615637,2.7413113746201225,-6.108756971734899,3.1509157377957404,-7.979100517520063,-13.627701272910866]\n",
      "Intercept: -6.205880589280733\n"
     ]
    },
    {
     "data": {
      "text/plain": [
       "[Row(label=0.0, probability=DenseVector([1.0, 0.0]), prediction=0.0),\n",
       " Row(label=0.0, probability=DenseVector([1.0, 0.0]), prediction=0.0),\n",
       " Row(label=0.0, probability=DenseVector([1.0, 0.0]), prediction=0.0),\n",
       " Row(label=0.0, probability=DenseVector([1.0, 0.0]), prediction=0.0),\n",
       " Row(label=0.0, probability=DenseVector([1.0, 0.0]), prediction=0.0)]"
      ]
     },
     "execution_count": 38,
     "metadata": {},
     "output_type": "execute_result"
    }
   ],
   "source": [
    "model = LogisticRegression(featuresCol='scaledfeatures',\n",
    "                           labelCol='label')\n",
    "\n",
    "# Fit the model\n",
    "model_fit = model.fit(scaled_df)\n",
    "\n",
    "# Print the coefficients and intercept for linear regression\n",
    "print(\"Coefficients: {}\".format(model_fit.coefficients))\n",
    "print(\"Intercept: {}\".format(model_fit.intercept))\n",
    "\n",
    "# Summarize the model over the training set and print out some metrics\n",
    "summary_train = model_fit.summary\n",
    "\n",
    "summary_train.predictions.select(\n",
    "    'label', 'probability', 'prediction').take(5)"
   ]
  },
  {
   "cell_type": "code",
   "execution_count": 39,
   "metadata": {},
   "outputs": [
    {
     "name": "stdout",
     "output_type": "stream",
     "text": [
      "+-------------------+---------+\n",
      "|             recall|precision|\n",
      "+-------------------+---------+\n",
      "|                0.0|      1.0|\n",
      "|  0.453781512605042|      1.0|\n",
      "|0.47058823529411764|      1.0|\n",
      "|0.49019607843137253|      1.0|\n",
      "| 0.5014005602240896|      1.0|\n",
      "+-------------------+---------+\n",
      "only showing top 5 rows\n",
      "\n"
     ]
    }
   ],
   "source": [
    "summary_train.pr.show(5)"
   ]
  },
  {
   "cell_type": "code",
   "execution_count": 40,
   "metadata": {},
   "outputs": [
    {
     "data": {
      "image/png": "[encoded data removed]",
      "text/plain": [
       "<Figure size 864x288 with 2 Axes>"
      ]
     },
     "metadata": {
      "image/png": {
       "height": 277,
       "width": 716
      },
      "needs_background": "light"
     },
     "output_type": "display_data"
    }
   ],
   "source": [
    "fig, ax = plt.subplots(ncols=2, figsize=(12, 4))\n",
    "summary_train.roc.toPandas().plot(x='FPR', y='TPR', ax=ax[0])\n",
    "summary_train.pr.toPandas().plot(x='recall', y='precision', ax=ax[1])\n",
    "plt.show()"
   ]
  },
  {
   "cell_type": "code",
   "execution_count": 41,
   "metadata": {},
   "outputs": [
    {
     "name": "stdout",
     "output_type": "stream",
     "text": [
      "+---+-------------------+\n",
      "|FPR|                TPR|\n",
      "+---+-------------------+\n",
      "|0.0|                0.0|\n",
      "|0.0|  0.453781512605042|\n",
      "|0.0|0.47058823529411764|\n",
      "|0.0|0.49019607843137253|\n",
      "|0.0| 0.5014005602240896|\n",
      "+---+-------------------+\n",
      "only showing top 5 rows\n",
      "\n"
     ]
    }
   ],
   "source": [
    "# Obtain the receiver-operating characteristic as a dataframe and areaUnderROC.\n",
    "summary_train.roc.show(5)"
   ]
  },
  {
   "cell_type": "code",
   "execution_count": 42,
   "metadata": {},
   "outputs": [
    {
     "name": "stdout",
     "output_type": "stream",
     "text": [
      "areaUnderROC: 0.999603615030918\n"
     ]
    }
   ],
   "source": [
    "print(\"areaUnderROC: \" + str(summary_train.areaUnderROC))"
   ]
  },
  {
   "cell_type": "code",
   "execution_count": 43,
   "metadata": {},
   "outputs": [],
   "source": [
    "from pyspark.ml.evaluation import BinaryClassificationEvaluator, MulticlassClassificationEvaluator"
   ]
  },
  {
   "cell_type": "code",
   "execution_count": 44,
   "metadata": {},
   "outputs": [],
   "source": [
    "predictions = summary_train.predictions.select('label', 'prediction')"
   ]
  },
  {
   "cell_type": "code",
   "execution_count": 45,
   "metadata": {},
   "outputs": [
    {
     "data": {
      "text/plain": [
       "0.9938824586438348"
      ]
     },
     "execution_count": 45,
     "metadata": {},
     "output_type": "execute_result"
    }
   ],
   "source": [
    "# possible metric choices: (areaUnderROC|areaUnderPR)'\n",
    "\n",
    "evaluator = BinaryClassificationEvaluator(\n",
    "    rawPredictionCol='prediction',\n",
    "    labelCol='label',\n",
    "    metricName='areaUnderROC'\n",
    ")\n",
    "\n",
    "evaluator.evaluate(predictions)"
   ]
  },
  {
   "cell_type": "code",
   "execution_count": 46,
   "metadata": {},
   "outputs": [
    {
     "data": {
      "text/plain": [
       "0.9947275922671354"
      ]
     },
     "execution_count": 46,
     "metadata": {},
     "output_type": "execute_result"
    }
   ],
   "source": [
    "predictions.rdd.map(lambda x: (x[0] == x[1]) *\n",
    "                    1).reduce(lambda x, y: x+y)/predictions.count()"
   ]
  },
  {
   "cell_type": "code",
   "execution_count": 47,
   "metadata": {},
   "outputs": [
    {
     "data": {
      "text/plain": [
       "0.9947275922671354"
      ]
     },
     "execution_count": 47,
     "metadata": {},
     "output_type": "execute_result"
    }
   ],
   "source": [
    "# possible metric choices: (f1|weightedPrecision|weightedRecall|accuracy)'\n",
    "\n",
    "evaluator = MulticlassClassificationEvaluator(\n",
    "    predictionCol='prediction',\n",
    "    labelCol='label',\n",
    "    metricName='accuracy'\n",
    ")\n",
    "\n",
    "evaluator.evaluate(predictions)"
   ]
  },
  {
   "cell_type": "markdown",
   "metadata": {},
   "source": [
    "### Logistic regression with grid search"
   ]
  },
  {
   "cell_type": "code",
   "execution_count": 48,
   "metadata": {},
   "outputs": [
    {
     "data": {
      "text/plain": [
       "['threshold',\n",
       " 'aggregationDepth',\n",
       " 'standardization',\n",
       " 'fitIntercept',\n",
       " 'elasticNetParam',\n",
       " 'predictionCol',\n",
       " 'featuresCol',\n",
       " 'labelCol',\n",
       " 'rawPredictionCol',\n",
       " 'probabilityCol',\n",
       " 'maxIter',\n",
       " 'regParam',\n",
       " 'tol',\n",
       " 'family']"
      ]
     },
     "execution_count": 48,
     "metadata": {},
     "output_type": "execute_result"
    }
   ],
   "source": [
    "[parameter.name for parameter in model._defaultParamMap]"
   ]
  },
  {
   "cell_type": "code",
   "execution_count": 49,
   "metadata": {},
   "outputs": [
    {
     "name": "stdout",
     "output_type": "stream",
     "text": [
      "Average cv scores:\n",
      "[0.9613 0.9643 0.962  0.9674 0.9685 0.9724 0.9667 0.9756 0.9281 0.9528\n",
      " 0.7706 0.9245 0.6069 0.9222 0.6069 0.9222 0.6069 0.9222]\n",
      "Best model parameters:\n",
      "{'regParam': 0.1, 'fitIntercept': False}\n",
      "\n",
      "Best model test accuracy:\n",
      "0.9702380952380952\n"
     ]
    }
   ],
   "source": [
    "(data_train, data_test) = vector_df.randomSplit([0.7, 0.3], seed=1)\n",
    "scaler = StandardScaler(withMean=True,\n",
    "                        inputCol=\"features\",\n",
    "                        outputCol=\"scaledfeatures\")\n",
    "model = LogisticRegression(featuresCol=scaler.getOutputCol(),\n",
    "                           labelCol='label')\n",
    "\n",
    "pipeline = Pipeline(stages=[scaler, model])\n",
    "\n",
    "evaluator = MulticlassClassificationEvaluator(\n",
    "    predictionCol='prediction',\n",
    "    labelCol='label',\n",
    "    metricName='accuracy'\n",
    ")\n",
    "\n",
    "paramGrid = ParamGridBuilder() \\\n",
    "    .addGrid(model.regParam, np.logspace(-4, 4, 9)) \\\n",
    "    .addGrid(model.fitIntercept, [True, False]) \\\n",
    "    .build()\n",
    "\n",
    "# the actual gridsearch\n",
    "crossval = CrossValidator(estimator=pipeline,\n",
    "                          estimatorParamMaps=paramGrid,\n",
    "                          evaluator=evaluator,\n",
    "                          numFolds=5)\n",
    "\n",
    "# Run cross-validation, and choose the best set of parameters.\n",
    "model_fit = crossval.fit(data_train)\n",
    "\n",
    "print('Average cv scores:')\n",
    "print(np.around(np.array(model_fit.avgMetrics), 4))\n",
    "\n",
    "java_model = model_fit.bestModel.stages[1]._java_obj\n",
    "\n",
    "print('Best model parameters:')\n",
    "print({param.name: java_model.getOrDefault(java_model.getParam(param.name))\n",
    "       for param in paramGrid[0]})\n",
    "print()\n",
    "# print(java_model.explainParams())\n",
    "\n",
    "predictions = model_fit.transform(data_test)\n",
    "\n",
    "print('Best model test accuracy:')\n",
    "print(evaluator.evaluate(predictions))"
   ]
  },
  {
   "cell_type": "markdown",
   "metadata": {},
   "source": [
    "### Decision Tree with grid search"
   ]
  },
  {
   "cell_type": "code",
   "execution_count": 50,
   "metadata": {},
   "outputs": [],
   "source": [
    "from pyspark.ml.classification import DecisionTreeClassifier, DecisionTreeClassificationModel"
   ]
  },
  {
   "cell_type": "code",
   "execution_count": 51,
   "metadata": {},
   "outputs": [],
   "source": [
    "model = DecisionTreeClassifier(featuresCol=scaler.getOutputCol(),\n",
    "                               labelCol='label')"
   ]
  },
  {
   "cell_type": "code",
   "execution_count": 52,
   "metadata": {},
   "outputs": [
    {
     "data": {
      "text/plain": [
       "['seed',\n",
       " 'predictionCol',\n",
       " 'featuresCol',\n",
       " 'labelCol',\n",
       " 'rawPredictionCol',\n",
       " 'probabilityCol',\n",
       " 'maxDepth',\n",
       " 'maxBins',\n",
       " 'minInstancesPerNode',\n",
       " 'minInfoGain',\n",
       " 'maxMemoryInMB',\n",
       " 'cacheNodeIds',\n",
       " 'checkpointInterval',\n",
       " 'impurity',\n",
       " 'leafCol',\n",
       " 'minWeightFractionPerNode']"
      ]
     },
     "execution_count": 52,
     "metadata": {},
     "output_type": "execute_result"
    }
   ],
   "source": [
    "[parameter.name for parameter in model._defaultParamMap]"
   ]
  },
  {
   "cell_type": "code",
   "execution_count": 53,
   "metadata": {},
   "outputs": [
    {
     "name": "stdout",
     "output_type": "stream",
     "text": [
      "Average cv scores:\n",
      "[0.9331 0.9331 0.9331]\n",
      "Best model parameters:\n",
      "{'maxDepth': 3}\n",
      "\n",
      "Best model test accuracy:\n",
      "0.9404761904761905\n"
     ]
    }
   ],
   "source": [
    "(data_train, data_test) = vector_df.randomSplit([0.7, 0.3], seed=1)\n",
    "scaler = StandardScaler(withMean=True,\n",
    "                        inputCol=\"features\",\n",
    "                        outputCol=\"scaledfeatures\")\n",
    "\n",
    "\n",
    "pipeline = Pipeline(stages=[scaler, model])\n",
    "\n",
    "evaluator = MulticlassClassificationEvaluator(\n",
    "    predictionCol='prediction',\n",
    "    labelCol='label',\n",
    "    metricName='accuracy'\n",
    ")\n",
    "\n",
    "paramGrid = ParamGridBuilder() \\\n",
    "    .addGrid(model.maxDepth, [3, 4, 5]) \\\n",
    "    .build()\n",
    "\n",
    "# the actual gridsearch\n",
    "crossval = CrossValidator(estimator=pipeline,\n",
    "                          estimatorParamMaps=paramGrid,\n",
    "                          evaluator=evaluator,\n",
    "                          numFolds=5)\n",
    "\n",
    "# Run cross-validation, and choose the best set of parameters.\n",
    "model_fit = crossval.fit(data_train)\n",
    "\n",
    "print('Average cv scores:')\n",
    "print(np.around(np.array(model_fit.avgMetrics), 4))\n",
    "\n",
    "java_model = model_fit.bestModel.stages[1]._java_obj\n",
    "\n",
    "print('Best model parameters:')\n",
    "print({param.name: java_model.getOrDefault(java_model.getParam(param.name))\n",
    "       for param in paramGrid[0]})\n",
    "print()\n",
    "# print(java_model.explainParams())\n",
    "\n",
    "predictions = model_fit.transform(data_test)\n",
    "\n",
    "print('Best model test accuracy:')\n",
    "print(evaluator.evaluate(predictions))"
   ]
  },
  {
   "cell_type": "code",
   "execution_count": 54,
   "metadata": {},
   "outputs": [],
   "source": [
    "m_1 = DecisionTreeClassificationModel(java_model=java_model)"
   ]
  },
  {
   "cell_type": "code",
   "execution_count": 55,
   "metadata": {},
   "outputs": [
    {
     "data": {
      "text/plain": [
       "SparseVector(30, {1: 0.0839, 23: 0.7731, 26: 0.0293, 27: 0.1137})"
      ]
     },
     "execution_count": 55,
     "metadata": {},
     "output_type": "execute_result"
    }
   ],
   "source": [
    "m_1.featureImportances"
   ]
  },
  {
   "cell_type": "code",
   "execution_count": 56,
   "metadata": {},
   "outputs": [
    {
     "data": {
      "text/plain": [
       "3"
      ]
     },
     "execution_count": 56,
     "metadata": {},
     "output_type": "execute_result"
    }
   ],
   "source": [
    "java_model.getOrDefault(java_model.getParam('maxDepth'))"
   ]
  },
  {
   "cell_type": "code",
   "execution_count": null,
   "metadata": {},
   "outputs": [],
   "source": []
  }
 ],
 "metadata": {
  "kernelspec": {
   "display_name": "pyspark_env",
   "language": "python",
   "name": "pyspark_env"
  },
  "language_info": {
   "codemirror_mode": {
    "name": "ipython",
    "version": 3
   },
   "file_extension": ".py",
   "mimetype": "text/x-python",
   "name": "python",
   "nbconvert_exporter": "python",
   "pygments_lexer": "ipython3",
   "version": "3.7.4"
  },
  "toc": {
   "base_numbering": 1,
   "nav_menu": {},
   "number_sections": false,
   "sideBar": true,
   "skip_h1_title": true,
   "title_cell": "Lesson Guide",
   "title_sidebar": "Contents",
   "toc_cell": true,
   "toc_position": {},
   "toc_section_display": true,
   "toc_window_display": false
  }
 },
 "nbformat": 4,
 "nbformat_minor": 2
}
