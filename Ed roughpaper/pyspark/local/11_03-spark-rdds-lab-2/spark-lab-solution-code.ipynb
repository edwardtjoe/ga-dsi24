{
 "cells": [
  {
   "cell_type": "markdown",
   "metadata": {},
   "source": [
    "<img src=\"http://imgur.com/1ZcRyrc.png\" style=\"float: left; margin: 20px; height: 55px\">\n",
    "\n",
    "\n",
    "# Spark RDD Practice\n",
    "\n",
    "*Authors: Adapted and modified from Dave Yerrington (SF) by Christoph Rahmede (LDN)*"
   ]
  },
  {
   "cell_type": "markdown",
   "metadata": {},
   "source": [
    "Basic RDDs - These are just references for future needs\n",
    "======================================\n",
    "\n",
    "Common RDD Constructors\n",
    "-----------------------\n",
    "\n",
    "Expression                               |Meaning\n",
    "----------                               |-------\n",
    "`sc.parallelize(iterable)`               |Create RDD of elements of some iterable\n",
    "`sc.textFile(path)`                      |Create RDD of lines from file\n",
    "\n",
    "Common Transformations\n",
    "----------------------\n",
    "\n",
    "Expression                               |Meaning\n",
    "----------                               |-------\n",
    "`filter(boolean condition)`              |Returns for where some boolean condition is True\n",
    "`map(some function)`                     |Applies some function\n",
    "`flatMap(some function)`                 |Apply some function that returns an iterator and flatten the entire output\n",
    "`sample(withReplacement=True, ratio)`    |Sample the data by some ratio\n",
    "`distinct()`                             |Remove duplicates in RDD\n",
    "`sortBy(key function, ascending=True)`   |Sort elements by key defined in function in designated order\n",
    "`randomSplit([ratio1, ratio2], seed)`    |Splits your data into two depening on ratio array\n",
    "\n",
    "Common Key Pair RDD Transformations\n",
    "----------------------------------\n",
    "\n",
    "Expression                               |Meaning\n",
    "----------                               |-------\n",
    "`groupByKey(key value rdd)`              |Collapse a key value RDD by the key, and keeps the values in a iterable\n",
    "`reduceByKey(some function)`             |Collapse a key value RDD by the key, and combines the values by some function\n",
    "`mapValues(some function)`               |Apply some function to the values of some key value RDD\n",
    "`flatMapValues(some function)`           |Apply some function that turns a key and iterable value RDD into key value RDD\n",
    "`keys()`                                 |Returns the keys of a key value RDD\n",
    "`values()`                               |Returns the values of a key value RDD\n",
    "\n",
    "Common Multiple RDD Transformations\n",
    "----------------------------------\n",
    "\n",
    "Expression                               |Meaning\n",
    "----------                               |-------\n",
    "`union(another rdd)`                     |Append another RDD to current RDD\n",
    "`join(another rdd)`                      |Join another RDD to current RDD by matching keys\n",
    "`leftOuterJoin(another rdd)`             |Join another RDD to current RDD where another RDD has matching keys\n",
    "`rightOuterJoin(another rdd)`            |Join current RDD to other RDD where current RDD has matching keys\n",
    "`zip(another rdd)`                       |Combines two RDD to form a key value pair RDD\n",
    "\n",
    "Common Actions\n",
    "--------------\n",
    "\n",
    "Expression                             |Meaning\n",
    "----------                             |-------\n",
    "`collect()`                            |Convert RDD to in-memory list \n",
    "`take(n)`                              |First n elements of RDD \n",
    "`top(n)`                               |Top n elements of RDD\n",
    "`takeSample(withReplacement=True, n)`  |Create sample of n elements with replacement\n",
    "`sum()`                                |Find element sum (assumes numeric elements)\n",
    "`mean()`                               |Find element mean (assumes numeric elements)\n",
    "`stdev()`                              |Find element deviation (assumes numeric elements)\n",
    "`takeOrdered(n, function)`             |Returns n ordered elements as sorted by the value returned by the function"
   ]
  },
  {
   "cell_type": "markdown",
   "metadata": {},
   "source": [
    "### Step 1: import pyspark"
   ]
  },
  {
   "cell_type": "code",
   "execution_count": 1,
   "metadata": {},
   "outputs": [],
   "source": [
    "import pyspark as ps    # for the pyspark suite\n",
    "import warnings         # for displaying warning\n",
    "from pyspark.sql import SQLContext"
   ]
  },
  {
   "cell_type": "code",
   "execution_count": 2,
   "metadata": {},
   "outputs": [],
   "source": [
    "sc = ps.SparkContext('local[*]')"
   ]
  },
  {
   "cell_type": "markdown",
   "metadata": {},
   "source": [
    "### Step 2: initialize a spark context (RDD manager)"
   ]
  },
  {
   "cell_type": "code",
   "execution_count": 3,
   "metadata": {},
   "outputs": [
    {
     "data": {
      "text/html": [
       "\n",
       "        <div>\n",
       "            <p><b>SparkContext</b></p>\n",
       "\n",
       "            <p><a href=\"http://christophsmbp6:4041\">Spark UI</a></p>\n",
       "\n",
       "            <dl>\n",
       "              <dt>Version</dt>\n",
       "                <dd><code>v3.0.0</code></dd>\n",
       "              <dt>Master</dt>\n",
       "                <dd><code>local[*]</code></dd>\n",
       "              <dt>AppName</dt>\n",
       "                <dd><code>pyspark-shell</code></dd>\n",
       "            </dl>\n",
       "        </div>\n",
       "        "
      ],
      "text/plain": [
       "<SparkContext master=local[*] appName=pyspark-shell>"
      ]
     },
     "execution_count": 3,
     "metadata": {},
     "output_type": "execute_result"
    }
   ],
   "source": [
    "sc"
   ]
  },
  {
   "cell_type": "markdown",
   "metadata": {},
   "source": [
    "### Step 3:  Construct an RDD with the data (we will be using churn.csv)"
   ]
  },
  {
   "cell_type": "code",
   "execution_count": 4,
   "metadata": {},
   "outputs": [],
   "source": [
    "churn_rdd = sc.textFile('data/churn.csv')"
   ]
  },
  {
   "cell_type": "code",
   "execution_count": 5,
   "metadata": {},
   "outputs": [
    {
     "data": {
      "text/plain": [
       "\"State,Account Length,Area Code,Phone,Int'l Plan,VMail Plan,VMail Message,Day Mins,Day Calls,Day Charge,Eve Mins,Eve Calls,Eve Charge,Night Mins,Night Calls,Night Charge,Intl Mins,Intl Calls,Intl Charge,CustServ Calls,Churn?\""
      ]
     },
     "execution_count": 5,
     "metadata": {},
     "output_type": "execute_result"
    }
   ],
   "source": [
    "churn_rdd.first()"
   ]
  },
  {
   "cell_type": "code",
   "execution_count": 6,
   "metadata": {},
   "outputs": [
    {
     "data": {
      "text/plain": [
       "[\"State,Account Length,Area Code,Phone,Int'l Plan,VMail Plan,VMail Message,Day Mins,Day Calls,Day Charge,Eve Mins,Eve Calls,Eve Charge,Night Mins,Night Calls,Night Charge,Intl Mins,Intl Calls,Intl Charge,CustServ Calls,Churn?\",\n",
       " 'KS,128,415,382-4657,no,yes,25,265.100000,110,45.070000,197.400000,99,16.780000,244.700000,91,11.010000,10.000000,3,2.700000,1,False.',\n",
       " 'OH,107,415,371-7191,no,yes,26,161.600000,123,27.470000,195.500000,103,16.620000,254.400000,103,11.450000,13.700000,3,3.700000,1,False.',\n",
       " 'NJ,137,415,358-1921,no,no,0,243.400000,114,41.380000,121.200000,110,10.300000,162.600000,104,7.320000,12.200000,5,3.290000,0,False.',\n",
       " 'OH,84,408,375-9999,yes,no,0,299.400000,71,50.900000,61.900000,88,5.260000,196.900000,89,8.860000,6.600000,7,1.780000,2,False.']"
      ]
     },
     "execution_count": 6,
     "metadata": {},
     "output_type": "execute_result"
    }
   ],
   "source": [
    "churn_rdd.take(5)"
   ]
  },
  {
   "cell_type": "markdown",
   "metadata": {},
   "source": [
    "### Step 4: Lets look at the first two lines to understand the format that textFile creates"
   ]
  },
  {
   "cell_type": "code",
   "execution_count": 7,
   "metadata": {},
   "outputs": [
    {
     "data": {
      "text/plain": [
       "[\"State,Account Length,Area Code,Phone,Int'l Plan,VMail Plan,VMail Message,Day Mins,Day Calls,Day Charge,Eve Mins,Eve Calls,Eve Charge,Night Mins,Night Calls,Night Charge,Intl Mins,Intl Calls,Intl Charge,CustServ Calls,Churn?\",\n",
       " 'KS,128,415,382-4657,no,yes,25,265.100000,110,45.070000,197.400000,99,16.780000,244.700000,91,11.010000,10.000000,3,2.700000,1,False.']"
      ]
     },
     "execution_count": 7,
     "metadata": {},
     "output_type": "execute_result"
    }
   ],
   "source": [
    "churn_rdd.take(2)"
   ]
  },
  {
   "cell_type": "markdown",
   "metadata": {},
   "source": [
    "### Step 5: We need to split the data by commas."
   ]
  },
  {
   "cell_type": "code",
   "execution_count": 8,
   "metadata": {},
   "outputs": [],
   "source": [
    "churn_rdd = churn_rdd.map(lambda x: x.split(','))"
   ]
  },
  {
   "cell_type": "code",
   "execution_count": 9,
   "metadata": {},
   "outputs": [
    {
     "data": {
      "text/plain": [
       "[['State',\n",
       "  'Account Length',\n",
       "  'Area Code',\n",
       "  'Phone',\n",
       "  \"Int'l Plan\",\n",
       "  'VMail Plan',\n",
       "  'VMail Message',\n",
       "  'Day Mins',\n",
       "  'Day Calls',\n",
       "  'Day Charge',\n",
       "  'Eve Mins',\n",
       "  'Eve Calls',\n",
       "  'Eve Charge',\n",
       "  'Night Mins',\n",
       "  'Night Calls',\n",
       "  'Night Charge',\n",
       "  'Intl Mins',\n",
       "  'Intl Calls',\n",
       "  'Intl Charge',\n",
       "  'CustServ Calls',\n",
       "  'Churn?'],\n",
       " ['KS',\n",
       "  '128',\n",
       "  '415',\n",
       "  '382-4657',\n",
       "  'no',\n",
       "  'yes',\n",
       "  '25',\n",
       "  '265.100000',\n",
       "  '110',\n",
       "  '45.070000',\n",
       "  '197.400000',\n",
       "  '99',\n",
       "  '16.780000',\n",
       "  '244.700000',\n",
       "  '91',\n",
       "  '11.010000',\n",
       "  '10.000000',\n",
       "  '3',\n",
       "  '2.700000',\n",
       "  '1',\n",
       "  'False.']]"
      ]
     },
     "execution_count": 9,
     "metadata": {},
     "output_type": "execute_result"
    }
   ],
   "source": [
    "churn_rdd.take(2)"
   ]
  },
  {
   "cell_type": "markdown",
   "metadata": {},
   "source": [
    "### Step 6: Extract the headers"
   ]
  },
  {
   "cell_type": "code",
   "execution_count": 10,
   "metadata": {},
   "outputs": [],
   "source": [
    "headers = churn_rdd.first() # this is a list for reference"
   ]
  },
  {
   "cell_type": "code",
   "execution_count": 11,
   "metadata": {},
   "outputs": [
    {
     "data": {
      "text/plain": [
       "['State',\n",
       " 'Account Length',\n",
       " 'Area Code',\n",
       " 'Phone',\n",
       " \"Int'l Plan\",\n",
       " 'VMail Plan',\n",
       " 'VMail Message',\n",
       " 'Day Mins',\n",
       " 'Day Calls',\n",
       " 'Day Charge',\n",
       " 'Eve Mins',\n",
       " 'Eve Calls',\n",
       " 'Eve Charge',\n",
       " 'Night Mins',\n",
       " 'Night Calls',\n",
       " 'Night Charge',\n",
       " 'Intl Mins',\n",
       " 'Intl Calls',\n",
       " 'Intl Charge',\n",
       " 'CustServ Calls',\n",
       " 'Churn?']"
      ]
     },
     "execution_count": 11,
     "metadata": {},
     "output_type": "execute_result"
    }
   ],
   "source": [
    "headers"
   ]
  },
  {
   "cell_type": "markdown",
   "metadata": {},
   "source": [
    "### Step 7: Remove the header from the data"
   ]
  },
  {
   "cell_type": "code",
   "execution_count": 12,
   "metadata": {},
   "outputs": [],
   "source": [
    "churn_rdd = churn_rdd.filter(lambda x: x != headers)"
   ]
  },
  {
   "cell_type": "code",
   "execution_count": 13,
   "metadata": {},
   "outputs": [
    {
     "data": {
      "text/plain": [
       "['KS',\n",
       " '128',\n",
       " '415',\n",
       " '382-4657',\n",
       " 'no',\n",
       " 'yes',\n",
       " '25',\n",
       " '265.100000',\n",
       " '110',\n",
       " '45.070000',\n",
       " '197.400000',\n",
       " '99',\n",
       " '16.780000',\n",
       " '244.700000',\n",
       " '91',\n",
       " '11.010000',\n",
       " '10.000000',\n",
       " '3',\n",
       " '2.700000',\n",
       " '1',\n",
       " 'False.']"
      ]
     },
     "execution_count": 13,
     "metadata": {},
     "output_type": "execute_result"
    }
   ],
   "source": [
    "churn_rdd.first()"
   ]
  },
  {
   "cell_type": "markdown",
   "metadata": {},
   "source": [
    "### Step 8: Finding total churn"
   ]
  },
  {
   "cell_type": "code",
   "execution_count": 14,
   "metadata": {},
   "outputs": [
    {
     "data": {
      "text/plain": [
       "483"
      ]
     },
     "execution_count": 14,
     "metadata": {},
     "output_type": "execute_result"
    }
   ],
   "source": [
    "(\n",
    "    churn_rdd.map(lambda x: x[-1] != 'False.') \n",
    "             .sum()\n",
    ")"
   ]
  },
  {
   "cell_type": "code",
   "execution_count": 15,
   "metadata": {},
   "outputs": [
    {
     "data": {
      "text/plain": [
       "483"
      ]
     },
     "execution_count": 15,
     "metadata": {},
     "output_type": "execute_result"
    }
   ],
   "source": [
    "churn_rdd.filter(lambda x: x[-1] != 'False.')\\\n",
    "             .count()"
   ]
  },
  {
   "cell_type": "markdown",
   "metadata": {},
   "source": [
    "### Step 9: Finding total churn per State"
   ]
  },
  {
   "cell_type": "code",
   "execution_count": 16,
   "metadata": {},
   "outputs": [
    {
     "data": {
      "text/plain": [
       "[('KS', 13), ('OH', 10), ('MO', 7), ('LA', 4), ('WV', 10)]"
      ]
     },
     "execution_count": 16,
     "metadata": {},
     "output_type": "execute_result"
    }
   ],
   "source": [
    "(\n",
    "    churn_rdd.map(lambda x: (x[0], x[-1] != 'False.'))\n",
    "             .reduceByKey(lambda x, y: x + y)\n",
    "             .take(5)\n",
    ")"
   ]
  },
  {
   "cell_type": "code",
   "execution_count": 17,
   "metadata": {},
   "outputs": [
    {
     "data": {
      "text/plain": [
       "[('TX', 18), ('NJ', 18), ('MD', 17), ('MI', 16), ('NY', 15)]"
      ]
     },
     "execution_count": 17,
     "metadata": {},
     "output_type": "execute_result"
    }
   ],
   "source": [
    "(\n",
    "    churn_rdd.map(lambda x: (x[0], x[-1] != 'False.'))\n",
    "             .reduceByKey(lambda x, y: x + y).sortBy(lambda x: x[1], ascending=False)\n",
    "             .take(5)\n",
    ")"
   ]
  },
  {
   "cell_type": "markdown",
   "metadata": {},
   "source": [
    "### Step 10: Finding average Customer Service Calls per Churn for each State"
   ]
  },
  {
   "cell_type": "code",
   "execution_count": 18,
   "metadata": {},
   "outputs": [
    {
     "data": {
      "text/plain": [
       "2.0714285714285716"
      ]
     },
     "execution_count": 18,
     "metadata": {},
     "output_type": "execute_result"
    }
   ],
   "source": [
    "service_calls = (churn_rdd.filter(lambda x: ((x[0]=='SC') and (x[-1]=='True.')))\n",
    "                .map(lambda x: int(x[-2])))\n",
    "\n",
    "service_calls.mean()"
   ]
  },
  {
   "cell_type": "code",
   "execution_count": 19,
   "metadata": {},
   "outputs": [
    {
     "data": {
      "text/plain": [
       "[('NY', (40, 15)),\n",
       " ('CO', (23, 9)),\n",
       " ('WY', (17, 9)),\n",
       " ('TX', (30, 18)),\n",
       " ('DC', (9, 5)),\n",
       " ('LA', (9, 4)),\n",
       " ('ME', (26, 13)),\n",
       " ('OH', (10, 10)),\n",
       " ('AK', (10, 3)),\n",
       " ('VA', (8, 5)),\n",
       " ('KS', (22, 13)),\n",
       " ('SD', (12, 8)),\n",
       " ('CT', (17, 12)),\n",
       " ('RI', (12, 6)),\n",
       " ('CA', (16, 9)),\n",
       " ('MO', (19, 7)),\n",
       " ('WI', (13, 7)),\n",
       " ('DE', (13, 9)),\n",
       " ('WV', (28, 10)),\n",
       " ('SC', (29, 14))]"
      ]
     },
     "execution_count": 19,
     "metadata": {},
     "output_type": "execute_result"
    }
   ],
   "source": [
    "(\n",
    "    churn_rdd.filter(lambda x: x[-1]=='True.')\n",
    "             .map(lambda x: (x[0], (int(x[-2]), 1)))\n",
    "    .reduceByKey(lambda x, y: (x[0]+y[0], x[1]+y[1]))\n",
    "             .take(20)\n",
    ")"
   ]
  },
  {
   "cell_type": "code",
   "execution_count": 20,
   "metadata": {},
   "outputs": [
    {
     "data": {
      "text/plain": [
       "[('NY', 2.6666666666666665),\n",
       " ('CO', 2.5555555555555554),\n",
       " ('WY', 1.8888888888888888),\n",
       " ('TX', 1.6666666666666667),\n",
       " ('DC', 1.8),\n",
       " ('LA', 2.25),\n",
       " ('ME', 2.0),\n",
       " ('OH', 1.0),\n",
       " ('AK', 3.3333333333333335),\n",
       " ('VA', 1.6),\n",
       " ('KS', 1.6923076923076923),\n",
       " ('SD', 1.5),\n",
       " ('CT', 1.4166666666666667),\n",
       " ('RI', 2.0),\n",
       " ('CA', 1.7777777777777777),\n",
       " ('MO', 2.7142857142857144),\n",
       " ('WI', 1.8571428571428572),\n",
       " ('DE', 1.4444444444444444),\n",
       " ('WV', 2.8),\n",
       " ('SC', 2.0714285714285716)]"
      ]
     },
     "execution_count": 20,
     "metadata": {},
     "output_type": "execute_result"
    }
   ],
   "source": [
    "(\n",
    "    churn_rdd.filter(lambda x: x[-1]=='True.')\n",
    "             .map(lambda x: (x[0], (int(x[-2]), 1)))\n",
    "             .reduceByKey(lambda x, y: (x[0]+y[0], x[1]+y[1]))\n",
    "             .mapValues(lambda x: x[0] / x[1])\n",
    "             .take(20)\n",
    ")"
   ]
  },
  {
   "cell_type": "code",
   "execution_count": 21,
   "metadata": {},
   "outputs": [
    {
     "data": {
      "text/plain": [
       "[('AR', 3.8181818181818183),\n",
       " ('AK', 3.3333333333333335),\n",
       " ('IN', 3.111111111111111),\n",
       " ('TN', 3.0),\n",
       " ('HI', 3.0),\n",
       " ('ID', 3.0),\n",
       " ('AL', 3.0),\n",
       " ('KY', 3.0),\n",
       " ('IA', 3.0),\n",
       " ('NH', 3.0),\n",
       " ('VT', 2.875),\n",
       " ('WV', 2.8),\n",
       " ('MN', 2.7333333333333334),\n",
       " ('MO', 2.7142857142857144),\n",
       " ('NY', 2.6666666666666665),\n",
       " ('UT', 2.6),\n",
       " ('MT', 2.5714285714285716),\n",
       " ('CO', 2.5555555555555554),\n",
       " ('NM', 2.5),\n",
       " ('MI', 2.4375)]"
      ]
     },
     "execution_count": 21,
     "metadata": {},
     "output_type": "execute_result"
    }
   ],
   "source": [
    "(\n",
    "    churn_rdd.filter(lambda x: x[-1]=='True.')\n",
    "             .map(lambda x: (x[0], (int(x[-2]), 1)))\n",
    "             .reduceByKey(lambda x, y: (x[0]+y[0], x[1]+y[1]))\n",
    "             .mapValues(lambda x: x[0] / x[1]) \n",
    "             .sortBy(lambda x: x[1], ascending=False)\n",
    "             .take(20)\n",
    ")"
   ]
  },
  {
   "cell_type": "code",
   "execution_count": 22,
   "metadata": {},
   "outputs": [
    {
     "data": {
      "text/plain": [
       "[('AR', 3.8181818181818183),\n",
       " ('AK', 3.3333333333333335),\n",
       " ('IN', 3.111111111111111),\n",
       " ('TN', 3.0),\n",
       " ('HI', 3.0),\n",
       " ('ID', 3.0),\n",
       " ('AL', 3.0),\n",
       " ('KY', 3.0),\n",
       " ('IA', 3.0),\n",
       " ('NH', 3.0),\n",
       " ('VT', 2.875),\n",
       " ('WV', 2.8),\n",
       " ('MN', 2.7333333333333334),\n",
       " ('MO', 2.7142857142857144),\n",
       " ('NY', 2.6666666666666665),\n",
       " ('UT', 2.6),\n",
       " ('MT', 2.5714285714285716),\n",
       " ('CO', 2.5555555555555554),\n",
       " ('NM', 2.5),\n",
       " ('MI', 2.4375),\n",
       " ('OR', 2.3636363636363638),\n",
       " ('MS', 2.2857142857142856),\n",
       " ('NC', 2.272727272727273),\n",
       " ('LA', 2.25),\n",
       " ('AZ', 2.25),\n",
       " ('GA', 2.25),\n",
       " ('MD', 2.235294117647059),\n",
       " ('NJ', 2.1666666666666665),\n",
       " ('NV', 2.142857142857143),\n",
       " ('FL', 2.125),\n",
       " ('SC', 2.0714285714285716),\n",
       " ('WA', 2.0714285714285716),\n",
       " ('ME', 2.0),\n",
       " ('RI', 2.0),\n",
       " ('WY', 1.8888888888888888),\n",
       " ('PA', 1.875),\n",
       " ('WI', 1.8571428571428572),\n",
       " ('DC', 1.8),\n",
       " ('CA', 1.7777777777777777),\n",
       " ('KS', 1.6923076923076923),\n",
       " ('TX', 1.6666666666666667),\n",
       " ('OK', 1.6666666666666667),\n",
       " ('VA', 1.6),\n",
       " ('SD', 1.5),\n",
       " ('ND', 1.5),\n",
       " ('DE', 1.4444444444444444),\n",
       " ('CT', 1.4166666666666667),\n",
       " ('MA', 1.3636363636363635),\n",
       " ('NE', 1.2),\n",
       " ('IL', 1.2),\n",
       " ('OH', 1.0)]"
      ]
     },
     "execution_count": 22,
     "metadata": {},
     "output_type": "execute_result"
    }
   ],
   "source": [
    "def mean_func(iterator):\n",
    "    total, count = 0, 0\n",
    "    for x in iterator:\n",
    "        total += x\n",
    "        count += 1\n",
    "    return total / count\n",
    "\n",
    "(churn_rdd.filter(lambda x: x[-1]=='True.')\n",
    "         .map(lambda x: (x[0], int(x[-2])))\n",
    "         .groupByKey()\n",
    "         .map(lambda x: (x[0], mean_func(x[1])))\n",
    "         .sortBy(lambda x: x[1], ascending=False)\n",
    "         .collect())"
   ]
  },
  {
   "cell_type": "markdown",
   "metadata": {},
   "source": [
    "### Step 11: What's the min, mean, and max night charge for users that churned?"
   ]
  },
  {
   "cell_type": "code",
   "execution_count": 23,
   "metadata": {},
   "outputs": [
    {
     "data": {
      "text/plain": [
       "'Churn?'"
      ]
     },
     "execution_count": 23,
     "metadata": {},
     "output_type": "execute_result"
    }
   ],
   "source": [
    "headers[-1]"
   ]
  },
  {
   "cell_type": "code",
   "execution_count": 24,
   "metadata": {},
   "outputs": [
    {
     "data": {
      "text/plain": [
       "15"
      ]
     },
     "execution_count": 24,
     "metadata": {},
     "output_type": "execute_result"
    }
   ],
   "source": [
    "headers.index('Night Charge')"
   ]
  },
  {
   "cell_type": "code",
   "execution_count": 25,
   "metadata": {},
   "outputs": [
    {
     "data": {
      "text/plain": [
       "[False,\n",
       " False,\n",
       " False,\n",
       " False,\n",
       " False,\n",
       " False,\n",
       " False,\n",
       " False,\n",
       " False,\n",
       " False,\n",
       " True,\n",
       " False,\n",
       " False,\n",
       " False,\n",
       " False,\n",
       " True,\n",
       " False,\n",
       " False,\n",
       " False,\n",
       " False]"
      ]
     },
     "execution_count": 25,
     "metadata": {},
     "output_type": "execute_result"
    }
   ],
   "source": [
    "churn_rdd.map(lambda x:(x[-1])=='True.').take(20)"
   ]
  },
  {
   "cell_type": "code",
   "execution_count": 26,
   "metadata": {},
   "outputs": [],
   "source": [
    "churned = churn_rdd.filter(lambda x: x[-1]=='True.')"
   ]
  },
  {
   "cell_type": "code",
   "execution_count": 27,
   "metadata": {},
   "outputs": [
    {
     "data": {
      "text/plain": [
       "9.23552795031056"
      ]
     },
     "execution_count": 27,
     "metadata": {},
     "output_type": "execute_result"
    }
   ],
   "source": [
    "churned.map(lambda x: float(x[15])).mean()"
   ]
  },
  {
   "cell_type": "code",
   "execution_count": 28,
   "metadata": {},
   "outputs": [
    {
     "data": {
      "text/plain": [
       "15.97"
      ]
     },
     "execution_count": 28,
     "metadata": {},
     "output_type": "execute_result"
    }
   ],
   "source": [
    "churned.map(lambda x: float(x[15])).max()"
   ]
  },
  {
   "cell_type": "code",
   "execution_count": 29,
   "metadata": {},
   "outputs": [
    {
     "data": {
      "text/plain": [
       "2.13"
      ]
     },
     "execution_count": 29,
     "metadata": {},
     "output_type": "execute_result"
    }
   ],
   "source": [
    "churned.map(lambda x: float(x[15])).min()"
   ]
  },
  {
   "cell_type": "markdown",
   "metadata": {},
   "source": [
    "### Step 12: How many of the churned users have Vmail plan?"
   ]
  },
  {
   "cell_type": "code",
   "execution_count": 30,
   "metadata": {},
   "outputs": [
    {
     "data": {
      "text/plain": [
       "5"
      ]
     },
     "execution_count": 30,
     "metadata": {},
     "output_type": "execute_result"
    }
   ],
   "source": [
    "headers.index('VMail Plan')"
   ]
  },
  {
   "cell_type": "code",
   "execution_count": 31,
   "metadata": {},
   "outputs": [
    {
     "data": {
      "text/plain": [
       "['no', 'no', 'no', 'no', 'yes']"
      ]
     },
     "execution_count": 31,
     "metadata": {},
     "output_type": "execute_result"
    }
   ],
   "source": [
    "churned.map(lambda x: x[5]).take(5)"
   ]
  },
  {
   "cell_type": "code",
   "execution_count": 32,
   "metadata": {},
   "outputs": [
    {
     "data": {
      "text/plain": [
       "80"
      ]
     },
     "execution_count": 32,
     "metadata": {},
     "output_type": "execute_result"
    }
   ],
   "source": [
    "churned.filter(lambda x: x[5]=='yes').count()"
   ]
  },
  {
   "cell_type": "markdown",
   "metadata": {},
   "source": [
    "### Step 13: Which state has the most day calls?"
   ]
  },
  {
   "cell_type": "code",
   "execution_count": 33,
   "metadata": {},
   "outputs": [
    {
     "data": {
      "text/plain": [
       "8"
      ]
     },
     "execution_count": 33,
     "metadata": {},
     "output_type": "execute_result"
    }
   ],
   "source": [
    "headers.index('Day Calls')"
   ]
  },
  {
   "cell_type": "code",
   "execution_count": 34,
   "metadata": {},
   "outputs": [
    {
     "data": {
      "text/plain": [
       "('WV', 11001)"
      ]
     },
     "execution_count": 34,
     "metadata": {},
     "output_type": "execute_result"
    }
   ],
   "source": [
    "(\n",
    "    churn_rdd.map(lambda x: (x[0], int(x[8])))\n",
    "             .reduceByKey(lambda x, y: x + y)\n",
    "             .sortBy(lambda x: x[1], ascending=False)\n",
    "             .first()\n",
    ")"
   ]
  },
  {
   "cell_type": "code",
   "execution_count": null,
   "metadata": {},
   "outputs": [],
   "source": []
  }
 ],
 "metadata": {
  "kernelspec": {
   "display_name": "pyspark_env",
   "language": "python",
   "name": "pyspark_env"
  },
  "language_info": {
   "codemirror_mode": {
    "name": "ipython",
    "version": 3
   },
   "file_extension": ".py",
   "mimetype": "text/x-python",
   "name": "python",
   "nbconvert_exporter": "python",
   "pygments_lexer": "ipython3",
   "version": "3.7.4"
  },
  "toc": {
   "base_numbering": 1,
   "nav_menu": {},
   "number_sections": false,
   "sideBar": true,
   "skip_h1_title": false,
   "title_cell": "Table of Contents",
   "title_sidebar": "Contents",
   "toc_cell": false,
   "toc_position": {},
   "toc_section_display": true,
   "toc_window_display": false
  },
  "varInspector": {
   "cols": {
    "lenName": 16,
    "lenType": 16,
    "lenVar": 40
   },
   "kernels_config": {
    "python": {
     "delete_cmd_postfix": "",
     "delete_cmd_prefix": "del ",
     "library": "var_list.py",
     "varRefreshCmd": "print(var_dic_list())"
    },
    "r": {
     "delete_cmd_postfix": ") ",
     "delete_cmd_prefix": "rm(",
     "library": "var_list.r",
     "varRefreshCmd": "cat(var_dic_list()) "
    }
   },
   "types_to_exclude": [
    "module",
    "function",
    "builtin_function_or_method",
    "instance",
    "_Feature"
   ],
   "window_display": false
  }
 },
 "nbformat": 4,
 "nbformat_minor": 1
}
