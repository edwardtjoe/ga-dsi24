{
 "cells": [
  {
   "cell_type": "code",
   "execution_count": 2,
   "id": "051ba473",
   "metadata": {},
   "outputs": [],
   "source": [
    "import numpy as np\n",
    "import matplotlib.pyplot as plt\n",
    "import scipy.stats as stats\n"
   ]
  },
  {
   "cell_type": "markdown",
   "id": "4f135abc",
   "metadata": {},
   "source": [
    "QUESTION:\n",
    "\n",
    "Model weight of bus:\n",
    "Scale = exponential = 5\n",
    "\n",
    "Probability of wait 10 mins for bus"
   ]
  },
  {
   "cell_type": "code",
   "execution_count": 18,
   "id": "24cf7a00",
   "metadata": {},
   "outputs": [
    {
     "data": {
      "text/plain": [
       "0.16529888822158656"
      ]
     },
     "execution_count": 18,
     "metadata": {},
     "output_type": "execute_result"
    }
   ],
   "source": [
    "x = stats.expon(scale=5)\n",
    "1 - x.cdf(9)"
   ]
  },
  {
   "cell_type": "code",
   "execution_count": 17,
   "id": "15aa97e5",
   "metadata": {},
   "outputs": [
    {
     "data": {
      "text/plain": [
       "0.027067056647322542"
      ]
     },
     "execution_count": 17,
     "metadata": {},
     "output_type": "execute_result"
    }
   ],
   "source": [
    "x.pdf(10)"
   ]
  },
  {
   "cell_type": "code",
   "execution_count": 8,
   "id": "c1c78053",
   "metadata": {},
   "outputs": [
    {
     "ename": "AttributeError",
     "evalue": "'BarContainer' object has no attribute 'pdf'",
     "output_type": "error",
     "traceback": [
      "\u001b[0;31m---------------------------------------------------------------------------\u001b[0m",
      "\u001b[0;31mAttributeError\u001b[0m                            Traceback (most recent call last)",
      "\u001b[0;32m<ipython-input-8-3f2437b70df8>\u001b[0m in \u001b[0;36m<module>\u001b[0;34m\u001b[0m\n\u001b[1;32m      8\u001b[0m \u001b[0mx_values\u001b[0m \u001b[0;34m=\u001b[0m \u001b[0mlist\u001b[0m\u001b[0;34m(\u001b[0m\u001b[0mrange\u001b[0m\u001b[0;34m(\u001b[0m\u001b[0;36m20\u001b[0m\u001b[0;34m)\u001b[0m\u001b[0;34m)\u001b[0m\u001b[0;34m\u001b[0m\u001b[0;34m\u001b[0m\u001b[0m\n\u001b[1;32m      9\u001b[0m \u001b[0;34m\u001b[0m\u001b[0m\n\u001b[0;32m---> 10\u001b[0;31m \u001b[0mplt\u001b[0m\u001b[0;34m.\u001b[0m\u001b[0mbar\u001b[0m\u001b[0;34m(\u001b[0m\u001b[0;36m10\u001b[0m\u001b[0;34m,\u001b[0m \u001b[0;36m5\u001b[0m\u001b[0;34m)\u001b[0m\u001b[0;34m.\u001b[0m\u001b[0mpdf\u001b[0m\u001b[0;34m(\u001b[0m\u001b[0;36m20\u001b[0m\u001b[0;34m)\u001b[0m\u001b[0;34m\u001b[0m\u001b[0;34m\u001b[0m\u001b[0m\n\u001b[0m",
      "\u001b[0;31mAttributeError\u001b[0m: 'BarContainer' object has no attribute 'pdf'"
     ]
    },
    {
     "data": {
      "image/png": "[encoded data removed]",
      "text/plain": [
       "<Figure size 432x288 with 1 Axes>"
      ]
     },
     "metadata": {
      "needs_background": "light"
     },
     "output_type": "display_data"
    }
   ],
   "source": [
    "# QUESTION: \n",
    "# Mean = 10, StDev = 5\n",
    "# State 3 important features of probability density function\n",
    "# 1. Normal distribution, no skewness\n",
    "# 2. 68% between StDev +/- 1\n",
    "# 3. Peak at x = 10\n",
    "\n",
    "stats.binom(10, 5)\n",
    "x_values = list(range(20))\n",
    "\n",
    "plt.bar(10, 5).pdf(20)\n",
    "plt.xticks"
   ]
  },
  {
   "cell_type": "code",
   "execution_count": null,
   "id": "be8f158b",
   "metadata": {},
   "outputs": [],
   "source": [
    "# QUESTION:\n",
    "\n",
    "# Mean = 10, Var = 5\n",
    "# It will be wider than previous one since Var = StDev ^2"
   ]
  },
  {
   "cell_type": "code",
   "execution_count": null,
   "id": "0d6803e0",
   "metadata": {},
   "outputs": [],
   "source": [
    "# QUESTION: Larger sample size --> More normal. True or false?\n",
    "\n",
    "# Ans: False. Depends on the type of data obtained\n",
    "# Data which are not normally distributed will remain not normally distributed."
   ]
  },
  {
   "cell_type": "code",
   "execution_count": null,
   "id": "38628f03",
   "metadata": {},
   "outputs": [],
   "source": [
    "# Avg temp of each Singaporean. Find avg value of avg temp of Singaporeans\n",
    "# Size = 15.\n",
    "\n",
    "# Issue: Sample size too small, not a good reflection of the population\n",
    "# Standard Error will affect the results obtained since df is n-1"
   ]
  }
 ],
 "metadata": {
  "kernelspec": {
   "display_name": "Python 3",
   "language": "python",
   "name": "python3"
  },
  "language_info": {
   "codemirror_mode": {
    "name": "ipython",
    "version": 3
   },
   "file_extension": ".py",
   "mimetype": "text/x-python",
   "name": "python",
   "nbconvert_exporter": "python",
   "pygments_lexer": "ipython3",
   "version": "3.8.8"
  }
 },
 "nbformat": 4,
 "nbformat_minor": 5
}
