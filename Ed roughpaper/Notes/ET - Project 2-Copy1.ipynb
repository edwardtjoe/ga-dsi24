{
 "cells": [
  {
   "cell_type": "markdown",
   "id": "68aaa21b",
   "metadata": {},
   "source": [
    "# GOALS (Checklist, add more if useful):\n",
    "\n",
    "1. First, clean the data\n",
    "\n",
    "2. Then, do EDA\n",
    "\n",
    "3. train_test_split\n",
    "\n",
    "4. cross_val_score"
   ]
  },
  {
   "cell_type": "code",
   "execution_count": 1,
   "id": "2f0618c8",
   "metadata": {},
   "outputs": [],
   "source": [
    "# All imports\n",
    "import numpy as np\n",
    "import pandas as pd\n",
    "import seaborn as sns\n",
    "import matplotlib.pyplot as plt\n",
    "import matplotlib\n",
    "import patsy\n",
    "\n",
    "from sklearn.model_selection import train_test_split, cross_val_score\n",
    "from sklearn.linear_model import LinearRegression, RidgeCV, LassoCV, ElasticNetCV, Ridge, Lasso, ElasticNet\n",
    "from sklearn import metrics\n",
    "from sklearn.preprocessing import StandardScaler\n",
    "\n",
    "import statsmodels.api as sm"
   ]
  },
  {
   "cell_type": "code",
   "execution_count": 2,
   "id": "279fae33",
   "metadata": {},
   "outputs": [
    {
     "data": {
      "text/plain": [
       "(2051, 81)"
      ]
     },
     "execution_count": 2,
     "metadata": {},
     "output_type": "execute_result"
    }
   ],
   "source": [
    "# Reading dataset\n",
    "df = pd.read_csv('../datasets/train.csv')\n",
    "df_old = df\n",
    "df.shape"
   ]
  },
  {
   "cell_type": "code",
   "execution_count": 3,
   "id": "72f9a003",
   "metadata": {},
   "outputs": [],
   "source": [
    "# Renaming columns by replacing spaces with underscore:\n",
    "df.columns = df.columns.str.replace(' ', '_')"
   ]
  },
  {
   "cell_type": "markdown",
   "id": "753ea653",
   "metadata": {},
   "source": [
    "|Column|Type|Description|\n",
    "|------|----|-----------|\n",
    "Id|int64|Property ID number\n",
    "PID|int64|Parcel ID Number\n",
    "MS_SubClass|int64|Type of Dwelling\n",
    "MS_Zoning|object|General Zoning Classification\n",
    "Lot_Frontage|float64|Distance along the front of the lot\n",
    "Lot_Area|int64|Lot size in sqft\n",
    "Street|object|Type of road access\n",
    "Alley|object|Type of alley access\n",
    "Lot_Shape|object\n",
    "Land_Contour|object\n",
    "Utilities|object\n",
    "Lot_Config|object\n",
    "Land_Slope|object\n",
    "Neighborhood|object\n",
    "Condition_1|object\n",
    "Condition_2|object\n",
    "Bldg_Type|object\n",
    "House_Style|object\n",
    "Overall_Qual|int64\n",
    "Overall_Cond|int64\n",
    "Year_Built|int64\n",
    "Year_Remod/Add|int64\n",
    "Roof_Style|object\n",
    "Roof_Matl|object\n",
    "Exterior_1st|object\n",
    "Exterior_2nd|object\n",
    "Mas_Vnr_Type|object\n",
    "Mas_Vnr_Area|float64\n",
    "Exter_Qual|object\n",
    "Exter_Cond|object\n",
    "Foundation|object\n",
    "Bsmt_Qual|object\n",
    "Bsmt_Cond|object\n",
    "Bsmt_Exposure|object\n",
    "BsmtFin_Type_1|object\n",
    "BsmtFin_SF_1|float64\n",
    "BsmtFin_Type_2|object\n",
    "BsmtFin_SF_2|float64\n",
    "Bsmt_Unf_SF|float64\n",
    "Total_Bsmt_SF|float64\n",
    "Heating|object\n",
    "Heating_QC|object\n",
    "Central_Air|object\n",
    "Electrical|object\n",
    "1st_Flr_SF|int64\n",
    "2nd_Flr_SF|int64\n",
    "Low_Qual_Fin_SF|int64\n",
    "Gr_Liv_Area|int64\n",
    "Bsmt_Full_Bath|float64\n",
    "Bsmt_Half_Bath|float64\n",
    "Full_Bath|int64\n",
    "Half_Bath|int64\n",
    "Bedroom_AbvGr|int64|Number of bedrooms above ground level\n",
    "Kitchen_AbvGr|int64\n",
    "Kitchen_Qual|object\n",
    "TotRms_AbvGrd|int64|Total number of rooms above ground level excluding bathrooms\n",
    "Functional|object\n",
    "Fireplaces|int64\n",
    "Fireplace_Qu|object\n",
    "Garage_Type|object\n",
    "Garage_Yr_Blt|float64\n",
    "Garage_Finish|object\n",
    "Garage_Cars|float64\n",
    "Garage_Area|float64\n",
    "Garage_Qual|object\n",
    "Garage_Cond|object\n",
    "Paved_Drive|object\n",
    "Wood_Deck_SF|int64\n",
    "Open_Porch_SF|int64\n",
    "Enclosed_Porch|int64\n",
    "3Ssn_Porch|int64\n",
    "Screen_Porch|int64\n",
    "Pool_Area|int64\n",
    "Pool_QC|object\n",
    "Fence|object\n",
    "Misc_Feature|object\n",
    "Misc_Val|int64\n",
    "Mo_Sold|int64\n",
    "Yr_Sold|int64\n",
    "Sale_Type|object\n",
    "SalePrice|int64\n",
    "Garage_Exist|int64|1 if Garage Exists, 0 otherwise"
   ]
  },
  {
   "cell_type": "code",
   "execution_count": 4,
   "id": "122d484f",
   "metadata": {},
   "outputs": [
    {
     "data": {
      "text/html": [
       "<div>\n",
       "<style scoped>\n",
       "    .dataframe tbody tr th:only-of-type {\n",
       "        vertical-align: middle;\n",
       "    }\n",
       "\n",
       "    .dataframe tbody tr th {\n",
       "        vertical-align: top;\n",
       "    }\n",
       "\n",
       "    .dataframe thead th {\n",
       "        text-align: right;\n",
       "    }\n",
       "</style>\n",
       "<table border=\"1\" class=\"dataframe\">\n",
       "  <thead>\n",
       "    <tr style=\"text-align: right;\">\n",
       "      <th></th>\n",
       "      <th>SalePrice</th>\n",
       "      <th>Lot_Area</th>\n",
       "    </tr>\n",
       "  </thead>\n",
       "  <tbody>\n",
       "    <tr>\n",
       "      <th>count</th>\n",
       "      <td>2051.000000</td>\n",
       "      <td>2051.000000</td>\n",
       "    </tr>\n",
       "    <tr>\n",
       "      <th>mean</th>\n",
       "      <td>181469.701609</td>\n",
       "      <td>10065.208191</td>\n",
       "    </tr>\n",
       "    <tr>\n",
       "      <th>std</th>\n",
       "      <td>79258.659352</td>\n",
       "      <td>6742.488909</td>\n",
       "    </tr>\n",
       "    <tr>\n",
       "      <th>min</th>\n",
       "      <td>12789.000000</td>\n",
       "      <td>1300.000000</td>\n",
       "    </tr>\n",
       "    <tr>\n",
       "      <th>25%</th>\n",
       "      <td>129825.000000</td>\n",
       "      <td>7500.000000</td>\n",
       "    </tr>\n",
       "    <tr>\n",
       "      <th>50%</th>\n",
       "      <td>162500.000000</td>\n",
       "      <td>9430.000000</td>\n",
       "    </tr>\n",
       "    <tr>\n",
       "      <th>75%</th>\n",
       "      <td>214000.000000</td>\n",
       "      <td>11513.500000</td>\n",
       "    </tr>\n",
       "    <tr>\n",
       "      <th>max</th>\n",
       "      <td>611657.000000</td>\n",
       "      <td>159000.000000</td>\n",
       "    </tr>\n",
       "  </tbody>\n",
       "</table>\n",
       "</div>"
      ],
      "text/plain": [
       "           SalePrice       Lot_Area\n",
       "count    2051.000000    2051.000000\n",
       "mean   181469.701609   10065.208191\n",
       "std     79258.659352    6742.488909\n",
       "min     12789.000000    1300.000000\n",
       "25%    129825.000000    7500.000000\n",
       "50%    162500.000000    9430.000000\n",
       "75%    214000.000000   11513.500000\n",
       "max    611657.000000  159000.000000"
      ]
     },
     "execution_count": 4,
     "metadata": {},
     "output_type": "execute_result"
    }
   ],
   "source": [
    "df[['SalePrice', 'Lot_Area']].describe()"
   ]
  },
  {
   "cell_type": "code",
   "execution_count": 5,
   "id": "09e2dbb0",
   "metadata": {},
   "outputs": [
    {
     "data": {
      "text/html": [
       "<div>\n",
       "<style scoped>\n",
       "    .dataframe tbody tr th:only-of-type {\n",
       "        vertical-align: middle;\n",
       "    }\n",
       "\n",
       "    .dataframe tbody tr th {\n",
       "        vertical-align: top;\n",
       "    }\n",
       "\n",
       "    .dataframe thead th {\n",
       "        text-align: right;\n",
       "    }\n",
       "</style>\n",
       "<table border=\"1\" class=\"dataframe\">\n",
       "  <thead>\n",
       "    <tr style=\"text-align: right;\">\n",
       "      <th></th>\n",
       "      <th>MS_Zoning</th>\n",
       "    </tr>\n",
       "    <tr>\n",
       "      <th>MS_Zoning</th>\n",
       "      <th></th>\n",
       "    </tr>\n",
       "  </thead>\n",
       "  <tbody>\n",
       "    <tr>\n",
       "      <th>A (agr)</th>\n",
       "      <td>1</td>\n",
       "    </tr>\n",
       "    <tr>\n",
       "      <th>RL</th>\n",
       "      <td>23</td>\n",
       "    </tr>\n",
       "    <tr>\n",
       "      <th>RM</th>\n",
       "      <td>1</td>\n",
       "    </tr>\n",
       "  </tbody>\n",
       "</table>\n",
       "</div>"
      ],
      "text/plain": [
       "           MS_Zoning\n",
       "MS_Zoning           \n",
       "A (agr)            1\n",
       "RL                23\n",
       "RM                 1"
      ]
     },
     "execution_count": 5,
     "metadata": {},
     "output_type": "execute_result"
    }
   ],
   "source": [
    "df.loc[df['Lot_Area'] > (df['Lot_Area'].mean() + 3 * df['Lot_Area'].std()), ['MS_Zoning']]\n",
    "    .groupby(df['MS_Zoning']).count()"
   ]
  },
  {
   "cell_type": "code",
   "execution_count": 6,
   "id": "f6eb1c03",
   "metadata": {},
   "outputs": [
    {
     "data": {
      "text/html": [
       "<div>\n",
       "<style scoped>\n",
       "    .dataframe tbody tr th:only-of-type {\n",
       "        vertical-align: middle;\n",
       "    }\n",
       "\n",
       "    .dataframe tbody tr th {\n",
       "        vertical-align: top;\n",
       "    }\n",
       "\n",
       "    .dataframe thead th {\n",
       "        text-align: right;\n",
       "    }\n",
       "</style>\n",
       "<table border=\"1\" class=\"dataframe\">\n",
       "  <thead>\n",
       "    <tr style=\"text-align: right;\">\n",
       "      <th></th>\n",
       "      <th>MS_Zoning</th>\n",
       "    </tr>\n",
       "    <tr>\n",
       "      <th>MS_Zoning</th>\n",
       "      <th></th>\n",
       "    </tr>\n",
       "  </thead>\n",
       "  <tbody>\n",
       "    <tr>\n",
       "      <th>A (agr)</th>\n",
       "      <td>2</td>\n",
       "    </tr>\n",
       "    <tr>\n",
       "      <th>C (all)</th>\n",
       "      <td>19</td>\n",
       "    </tr>\n",
       "    <tr>\n",
       "      <th>FV</th>\n",
       "      <td>101</td>\n",
       "    </tr>\n",
       "    <tr>\n",
       "      <th>I (all)</th>\n",
       "      <td>1</td>\n",
       "    </tr>\n",
       "    <tr>\n",
       "      <th>RH</th>\n",
       "      <td>14</td>\n",
       "    </tr>\n",
       "    <tr>\n",
       "      <th>RL</th>\n",
       "      <td>1598</td>\n",
       "    </tr>\n",
       "    <tr>\n",
       "      <th>RM</th>\n",
       "      <td>316</td>\n",
       "    </tr>\n",
       "  </tbody>\n",
       "</table>\n",
       "</div>"
      ],
      "text/plain": [
       "           MS_Zoning\n",
       "MS_Zoning           \n",
       "A (agr)            2\n",
       "C (all)           19\n",
       "FV               101\n",
       "I (all)            1\n",
       "RH                14\n",
       "RL              1598\n",
       "RM               316"
      ]
     },
     "execution_count": 6,
     "metadata": {},
     "output_type": "execute_result"
    }
   ],
   "source": [
    "df.groupby(df['MS_Zoning'])[['MS_Zoning']].count()"
   ]
  },
  {
   "cell_type": "markdown",
   "id": "a6bdc131",
   "metadata": {},
   "source": [
    "# Dropping Rows Based on Preliminary EDA\n",
    "\n",
    "### Dropping Outliers: Lot Area (25 rows dropped)\n",
    "As seen above, there is a large range in lot area of the houses, from a minimum of 1,300 sqft to 159,000 sqft. The drastic difference in sale price of houses in large lot areas show a high variance (shown in graph comparison below), presumably due to the difference in discounts or premiums in effect when purchasing such lots. Hence, the houses which have a noticably large size should be removed in the preliminary stage of data cleaning. \n",
    "\n",
    "The Empirical Rule states that in a normal distribution, 99.7% of values are within 3 Standard Deviations (StDev, 6743 sqft) of the mean (10,065 sqft). From the histogram above, we see that Sale Price roughly follows the normal distribution. As such, we omit outlier values above or below 3 StDev. There are no houses below 3 StDev, and 25 houses above 3 StDev (30293 sqft). This amounts to a deletion of 25 rows deleted, equivalent to 1.22% of total rows in the training sample. \n"
   ]
  },
  {
   "cell_type": "code",
   "execution_count": 369,
   "id": "3ca6e585",
   "metadata": {},
   "outputs": [
    {
     "name": "stdout",
     "output_type": "stream",
     "text": [
      "30292.67491961595\n",
      "0.01218917601170161\n",
      "25\n",
      "2051\n"
     ]
    }
   ],
   "source": [
    "print(df['Lot_Area'].mean() + 3 * df['Lot_Area'].std())\n",
    "print(df.loc[df['Lot_Area'] > (df['Lot_Area'].mean() + 3 * df['Lot_Area'].std()), 'Lot_Area']\n",
    "      .count()/df.shape[0])\n",
    "\n",
    "print(df.loc[df['Lot_Area'] > (df['Lot_Area'].mean() + 3 * df['Lot_Area'].std()), 'Lot_Area'].count())\n",
    "print(df.shape[0])"
   ]
  },
  {
   "cell_type": "markdown",
   "id": "424206f3",
   "metadata": {},
   "source": [
    "### Dropping Outliers: Sale Price (33 rows dropped)\n",
    "Similarly, sale price roughly follows a normal distribution, peaking at the \\\\$140,000 to $160,0000, and steadily decreasing afterwards. The housing prices which exceed the empirical rule are considered outliers due to their premiums to their lot size which results in much variance to the rest of the sample and potentially result in greater inaccuracy as compared to the norm. To eliminate the outliers, we dropped the houses whose sale price are above and below 3 StDev. This results in the elimination of 33 rows which is equivalent to XXX% of our current dataset, all of which consist of sale price above 3 StDev."
   ]
  },
  {
   "cell_type": "markdown",
   "id": "9eb87e52",
   "metadata": {},
   "source": [
    "### 2.1.2. Dropping Non-Residential Zoning Type (22 Rows Dropped)\n",
    "\n",
    "**Zone Type (Rows Dropped):** Justification for dropping rows.\n",
    "\n",
    "**General note:** Our aim is to create a model to predict residential house prices, akin to Zillow Estimate, for residential housing. Hence, we eliminate observations whose zoning type are not residential because they are beyond the scope of our investigation and is more likely to create inaccuracies in estimating residential home prices.\n",
    "\n",
    "**Agriculture Zone (2):** Lots for agricultural purposes based on their MS_Zoning should not be included due to the difference in type of housing, as their main purpose (agriculture) is different from our intended outcome (housing). This results in the elimination of 2 rows.\n",
    "\n",
    "**Industrial Zone (1):** Additionally, the classification of industrial zone will not have much impact in our general prediction since there is only one data point, and the resulting prediction model is more likely to be skewed to one side due to the special classification of one row. While the effect is minimal due to only one sample size, disqualifying industrial zone in our dataset is more likely to slightly improve our model rather than worsen it. This results in the elimination of 1 row.\n",
    "\n",
    "**Commercial Zone (19):** Commercial zones are distinctly different from ordinary housing zones. Although commercial zones can be used for residential purposes, visibility of such listings coupled with inherent valuation differences due to its nature of originally being commercially zoned skew the accuracy of prediction as compared to non-commercial residential housing. The following are two sources of the purported difference in valuation pegged onto commmercial zones: ([*source*](https://www.forbes.com/sites/joshuastein/2021/06/29/can-we-convert-underutilized-commercial-buildings-into-badly-needed-affordable-housing/)) ([*source*](https://www.washingtonpost.com/realestate/following-pandemic-converting-office-buildings-into-housing-may-become-new-normal/2021/03/31/2fec400e-8820-11eb-8a8b-5cf82c3dffe4_story.html)). In addition, we have limited data on commercial zoned properties (19, 0.9% of training dataset) which prodive minimal viability to the larger purpose of this project: predicting general residential prices. This results in the elimination of 19 rows.\n",
    "\n",
    "<blockquote><b>\n",
    "    \n",
    "    Old Shape: 2048 Rows, 81 Columns\n",
    "    New Shape: 2026 Rows, 81 Columns\n",
    "</b></blockquote>"
   ]
  },
  {
   "cell_type": "code",
   "execution_count": 368,
   "id": "a25eefc5",
   "metadata": {},
   "outputs": [
    {
     "name": "stdout",
     "output_type": "stream",
     "text": [
      "419245.67966606806\n",
      "0.016089712335446125\n",
      "33\n",
      "2051\n"
     ]
    }
   ],
   "source": [
    "print(df['SalePrice'].mean() + 3 * df['SalePrice'].std())\n",
    "print(df.loc[df['SalePrice'] > (df['SalePrice'].mean() + 3 * df['SalePrice'].std()), 'SalePrice']\n",
    "      .count() / df.shape[0])\n",
    "\n",
    "print(df.loc[df['SalePrice'] > (df['SalePrice'].mean() + 3 * df['SalePrice'].std()), 'SalePrice']\n",
    "      .count())\n",
    "print(df.shape[0])"
   ]
  },
  {
   "cell_type": "code",
   "execution_count": 336,
   "id": "2d2f013b",
   "metadata": {},
   "outputs": [
    {
     "data": {
      "image/png": "[encoded data removed]",
      "text/plain": [
       "<Figure size 360x360 with 1 Axes>"
      ]
     },
     "metadata": {
      "needs_background": "light"
     },
     "output_type": "display_data"
    }
   ],
   "source": [
    "sns.displot(data=df['SalePrice']/1000,\n",
    "            kind='hist',\n",
    "            kde=True,\n",
    "            bins=25,\n",
    ");\n",
    "plt.xlabel('Sale Price in \\'000');"
   ]
  },
  {
   "cell_type": "code",
   "execution_count": 26,
   "id": "d31ab22f",
   "metadata": {},
   "outputs": [],
   "source": [
    "def high_density(row):\n",
    "    for zone in row:\n",
    "        if row['MS_Zoning'] == 'RH':\n",
    "            row['RH_Zone'] = 1\n",
    "        else:\n",
    "            row['RH_Zone'] = 0\n",
    "    return row\n",
    "df2 = df.apply(high_density, axis=1)"
   ]
  },
  {
   "cell_type": "code",
   "execution_count": 47,
   "id": "44d7c558",
   "metadata": {},
   "outputs": [],
   "source": [
    "def saleprice_per_lotarea(row):\n",
    "    row['SP_LA'] = row['SalePrice'] / row['Lot_Area']\n",
    "    return row\n",
    "\n",
    "df2 = df2.apply(saleprice_per_lotarea, axis=1)"
   ]
  },
  {
   "cell_type": "code",
   "execution_count": 58,
   "id": "1bacd06e",
   "metadata": {},
   "outputs": [
    {
     "data": {
      "image/png": "[encoded data removed]",
      "text/plain": [
       "<Figure size 432x288 with 1 Axes>"
      ]
     },
     "metadata": {
      "needs_background": "light"
     },
     "output_type": "display_data"
    }
   ],
   "source": [
    "df2.groupby(df2['RH_Zone'])['RH_Zone'].count()\n",
    "plt.boxplot([df2.loc[df2['RH_Zone'] == 1, \"SP_LA\"],\n",
    "             df2.loc[df2['RH_Zone'] == 0, \"SP_LA\"]],\n",
    "            showfliers=False\n",
    ")\n",
    "plt.title('Box Plot of Sale Price Per Lot Area')\n",
    "plt.ylabel('Sale Price per Lot Area')\n",
    "plt.xticks(ticks=[1, 2],\n",
    "           labels=[\"RH Zone\", \"Not RH Zone\"]\n",
    ");"
   ]
  },
  {
   "cell_type": "code",
   "execution_count": 59,
   "id": "22a60cea",
   "metadata": {},
   "outputs": [],
   "source": [
    "def commercial(row):\n",
    "    for zone in row:\n",
    "        if row['MS_Zoning'] == 'C (all)':\n",
    "            row['Commercial'] = 1\n",
    "        else:\n",
    "            row['Commercial'] = 0\n",
    "    return row\n",
    "\n",
    "df2 = df2.apply(commercial, axis=1)\n"
   ]
  },
  {
   "cell_type": "code",
   "execution_count": 60,
   "id": "d2a22902",
   "metadata": {},
   "outputs": [
    {
     "data": {
      "image/png": "[encoded data removed]",
      "text/plain": [
       "<Figure size 432x288 with 1 Axes>"
      ]
     },
     "metadata": {
      "needs_background": "light"
     },
     "output_type": "display_data"
    }
   ],
   "source": [
    "df2.groupby(df2['Commercial'])['Commercial'].count()\n",
    "plt.boxplot([df2.loc[df2['Commercial'] == 1, \"SP_LA\"],\n",
    "             df2.loc[df2['Commercial'] == 0, \"SP_LA\"]],\n",
    "            showfliers=False\n",
    ")\n",
    "plt.title('Box Plot of Sale Price Per Lot Area')\n",
    "plt.ylabel('Sale Price per Lot Area')\n",
    "plt.xticks(ticks=[1, 2],\n",
    "           labels=[\"Commercial Zone\", \"Not Commercial Zone\"]\n",
    ");"
   ]
  },
  {
   "cell_type": "code",
   "execution_count": 11,
   "id": "694b4ea9",
   "metadata": {},
   "outputs": [
    {
     "data": {
      "text/html": [
       "<div>\n",
       "<style scoped>\n",
       "    .dataframe tbody tr th:only-of-type {\n",
       "        vertical-align: middle;\n",
       "    }\n",
       "\n",
       "    .dataframe tbody tr th {\n",
       "        vertical-align: top;\n",
       "    }\n",
       "\n",
       "    .dataframe thead th {\n",
       "        text-align: right;\n",
       "    }\n",
       "</style>\n",
       "<table border=\"1\" class=\"dataframe\">\n",
       "  <thead>\n",
       "    <tr style=\"text-align: right;\">\n",
       "      <th></th>\n",
       "      <th>MS_Zoning</th>\n",
       "    </tr>\n",
       "    <tr>\n",
       "      <th>MS_Zoning</th>\n",
       "      <th></th>\n",
       "    </tr>\n",
       "  </thead>\n",
       "  <tbody>\n",
       "    <tr>\n",
       "      <th>A (agr)</th>\n",
       "      <td>2</td>\n",
       "    </tr>\n",
       "    <tr>\n",
       "      <th>C (all)</th>\n",
       "      <td>19</td>\n",
       "    </tr>\n",
       "    <tr>\n",
       "      <th>FV</th>\n",
       "      <td>101</td>\n",
       "    </tr>\n",
       "    <tr>\n",
       "      <th>I (all)</th>\n",
       "      <td>1</td>\n",
       "    </tr>\n",
       "    <tr>\n",
       "      <th>RH</th>\n",
       "      <td>14</td>\n",
       "    </tr>\n",
       "    <tr>\n",
       "      <th>RL</th>\n",
       "      <td>1598</td>\n",
       "    </tr>\n",
       "    <tr>\n",
       "      <th>RM</th>\n",
       "      <td>316</td>\n",
       "    </tr>\n",
       "  </tbody>\n",
       "</table>\n",
       "</div>"
      ],
      "text/plain": [
       "           MS_Zoning\n",
       "MS_Zoning           \n",
       "A (agr)            2\n",
       "C (all)           19\n",
       "FV               101\n",
       "I (all)            1\n",
       "RH                14\n",
       "RL              1598\n",
       "RM               316"
      ]
     },
     "execution_count": 11,
     "metadata": {},
     "output_type": "execute_result"
    }
   ],
   "source": [
    "df.groupby(df['MS_Zoning'])[['MS_Zoning']].count()"
   ]
  },
  {
   "cell_type": "code",
   "execution_count": 384,
   "id": "9c90aec0",
   "metadata": {},
   "outputs": [
    {
     "data": {
      "image/png": "[encoded data removed]",
      "text/plain": [
       "<Figure size 1152x432 with 3 Axes>"
      ]
     },
     "metadata": {
      "needs_background": "light"
     },
     "output_type": "display_data"
    }
   ],
   "source": [
    "plt.figure(figsize=(16, 6))\n",
    "\n",
    "plt.subplot(1, 3, 1)\n",
    "sns.regplot(data=df,\n",
    "            x=df.loc[df['Lot_Area'] > 30000, 'Lot_Area']/1000,\n",
    "            y=df.loc[df['Lot_Area'] > 30000, 'SalePrice']/1000,\n",
    "            line_kws={'color': 'orange'}\n",
    ")\n",
    "plt.xlabel('Lot Area in \\'000 sqft')\n",
    "plt.ylabel('Sale Price in \\'000');\n",
    "\n",
    "plt.subplot(1, 3, 2)\n",
    "sns.regplot(data=df,\n",
    "            x=df.loc[df['Lot_Area'] > 30000, 'Lot_Area']/1000,\n",
    "            y=df.loc[df['Lot_Area'] > 30000, 'SalePrice']/1000,\n",
    "            line_kws={'color': 'orange'}\n",
    ")\n",
    "plt.xlabel('Lot Area in \\'000 sqft')\n",
    "plt.ylabel('Sale Price in \\'000');\n",
    "\n",
    "plt.subplot(1, 3, 3)\n",
    "sns.regplot(data=df,\n",
    "            x=df.loc[df['Lot_Area'] > 30000, 'Lot_Area']/1000,\n",
    "            y=df.loc[df['Lot_Area'] > 30000, 'SalePrice']/1000,\n",
    "            line_kws={'color': 'orange'}\n",
    ")\n",
    "plt.xlabel('Lot Area in \\'000 sqft')\n",
    "plt.ylabel('Sale Price in \\'000');"
   ]
  },
  {
   "cell_type": "code",
   "execution_count": 362,
   "id": "e131a522",
   "metadata": {},
   "outputs": [
    {
     "data": {
      "image/png": "[encoded data removed]",
      "text/plain": [
       "<Figure size 360x360 with 1 Axes>"
      ]
     },
     "metadata": {
      "needs_background": "light"
     },
     "output_type": "display_data"
    }
   ],
   "source": [
    "# sns.displot(data=df['Lot_Area']/1000,\n",
    "#             kind='hist',\n",
    "#             kde=True,\n",
    "#             bins=50,\n",
    "# );\n",
    "\n",
    "sns.displot(data=df,\n",
    "            x=df['Lot_Area']/1000,\n",
    "            y=df['SalePrice']/1000,\n",
    "#             kde=True,\n",
    "            bins=50,\n",
    ");"
   ]
  },
  {
   "cell_type": "code",
   "execution_count": 366,
   "id": "5f705410",
   "metadata": {},
   "outputs": [
    {
     "data": {
      "image/png": "[encoded data removed]",
      "text/plain": [
       "<Figure size 1152x1152 with 8 Axes>"
      ]
     },
     "metadata": {
      "needs_background": "light"
     },
     "output_type": "display_data"
    }
   ],
   "source": [
    "plt.figure(figsize=(16, 16))\n",
    "\n",
    "\n",
    "plt.subplot(4, 3, 1)\n",
    "plt.hist(df['SalePrice']/1000,\n",
    "         bins=50\n",
    ")\n",
    "plt.xlabel('Sale Price in \\'000')\n",
    "plt.ylabel('Number of Houses')\n",
    "\n",
    "\n",
    "plt.subplot(4, 3, 2)\n",
    "plt.hist(df['Bedroom_AbvGr']\n",
    "        );\n",
    "plt.xlabel('Number of Bedrooms Above Ground Level')\n",
    "plt.ylabel('Number of Houses')\n",
    "\n",
    "\n",
    "plt.subplot(4, 3, 3)\n",
    "plt.hist(df['TotRms_AbvGrd']\n",
    "        );\n",
    "plt.xlabel('Total Number Bedrooms')\n",
    "plt.ylabel('Number of Houses')\n",
    "\n",
    "\n",
    "plt.subplot(4, 3, 4)\n",
    "sns.regplot(data=df,\n",
    "            x='TotRms_AbvGrd',\n",
    "            y=df['SalePrice']/1000,\n",
    "            ci=95\n",
    ")\n",
    "plt.xlabel('Total Rooms Above Ground Level')\n",
    "plt.ylabel('Sale Price in \\'000');\n",
    "\n",
    "\n",
    "plt.subplot(4, 3, 5)\n",
    "sns.regplot(data=df,\n",
    "            x=df.loc[df['Lot_Area'] > 30000, 'Lot_Area']/1000,\n",
    "            y=df.loc[df['Lot_Area'] > 30000, 'SalePrice']/1000,\n",
    "            line_kws={'color': 'orange'}\n",
    ")\n",
    "plt.xlabel('Lot Area in \\'000 sqft')\n",
    "plt.ylabel('Sale Price in \\'000');\n",
    "\n",
    "\n",
    "plt.subplot(4, 3, 6)\n",
    "sns.regplot(data=df,\n",
    "            x=df.loc[df['Lot_Area'] <= 15000, 'Lot_Area']/1000,\n",
    "            y=df.loc[df['Lot_Area'] <= 15000, 'SalePrice']/1000,\n",
    "            line_kws={'color': 'orange'}\n",
    ")\n",
    "plt.xlabel('Lot Area in \\'000 sqft')\n",
    "plt.ylabel('Sale Price in \\'000');\n",
    "\n",
    "\n",
    "plt.subplot(4, 3, 7)\n",
    "plt.hist(df['Yr_Sold'],\n",
    ");\n",
    "plt.xlabel('Year of Sale')\n",
    "plt.ylabel('Number of Houses')\n",
    "\n",
    "\n",
    "plt.subplot(4, 3, 8)\n",
    "plt.boxplot([df.loc[df['Yr_Sold'] == 2006,'SalePrice']/1000,\n",
    "             df.loc[df['Yr_Sold'] == 2007,'SalePrice']/1000,\n",
    "             df.loc[df['Yr_Sold'] == 2008,'SalePrice']/1000,\n",
    "             df.loc[df['Yr_Sold'] == 2009,'SalePrice']/1000,\n",
    "             df.loc[df['Yr_Sold'] == 2010,'SalePrice']/1000],\n",
    ");\n",
    "plt.xlabel('Year of Sale')\n",
    "plt.ylabel('Price of Sale in \\'000');\n",
    "plt.xticks(ticks=[1, 2, 3, 4, 5],\n",
    "           labels=['2006', '2007', '2008', '2009', '2010']\n",
    ");\n",
    "\n",
    "# plt.subplot(4, 3, 9)\n",
    "# sns.regplot(data=df,\n",
    "#             x=,\n",
    "#             y=\n",
    "# )\n",
    "\n",
    "# plt.subplot(2, 3, 6)\n",
    "# plt.boxplot(df['Lot_Area'],\n",
    "#             showfliers=False\n",
    "# );"
   ]
  },
  {
   "cell_type": "code",
   "execution_count": 241,
   "id": "60b8d24f",
   "metadata": {},
   "outputs": [],
   "source": [
    "Garage_Type_List = ['Attchd', 'Detchd', 'BuiltIn', 'Basment', '2Types', 'CarPort']\n",
    "\n",
    "def garage_exist(row):\n",
    "    for house in row:\n",
    "        if row['Garage_Type'] in Garage_Type_List:\n",
    "            row['Garage_Exist'] = 1\n",
    "        else:\n",
    "            row['Garage_Exist'] = 0\n",
    "    return row\n",
    "\n",
    "df = df.apply(garage_exist, axis=1)"
   ]
  },
  {
   "cell_type": "code",
   "execution_count": 243,
   "id": "2e730362",
   "metadata": {},
   "outputs": [
    {
     "data": {
      "text/plain": [
       "113"
      ]
     },
     "execution_count": 243,
     "metadata": {},
     "output_type": "execute_result"
    }
   ],
   "source": [
    "df.head(2)\n",
    "df.groupby('Garage_Exist')['Id'].count()\n",
    "df.loc[df['Garage_Type'].isnull() == True, 'Id'].count()"
   ]
  },
  {
   "cell_type": "code",
   "execution_count": 5,
   "id": "6f03cfc5",
   "metadata": {},
   "outputs": [
    {
     "data": {
      "text/html": [
       "<div>\n",
       "<style scoped>\n",
       "    .dataframe tbody tr th:only-of-type {\n",
       "        vertical-align: middle;\n",
       "    }\n",
       "\n",
       "    .dataframe tbody tr th {\n",
       "        vertical-align: top;\n",
       "    }\n",
       "\n",
       "    .dataframe thead th {\n",
       "        text-align: right;\n",
       "    }\n",
       "</style>\n",
       "<table border=\"1\" class=\"dataframe\">\n",
       "  <thead>\n",
       "    <tr style=\"text-align: right;\">\n",
       "      <th></th>\n",
       "      <th>Id</th>\n",
       "      <th>PID</th>\n",
       "      <th>MS_SubClass</th>\n",
       "      <th>MS_Zoning</th>\n",
       "      <th>Lot_Frontage</th>\n",
       "      <th>Lot_Area</th>\n",
       "      <th>Street</th>\n",
       "      <th>Alley</th>\n",
       "      <th>Lot_Shape</th>\n",
       "      <th>Land_Contour</th>\n",
       "      <th>...</th>\n",
       "      <th>Screen_Porch</th>\n",
       "      <th>Pool_Area</th>\n",
       "      <th>Pool_QC</th>\n",
       "      <th>Fence</th>\n",
       "      <th>Misc_Feature</th>\n",
       "      <th>Misc_Val</th>\n",
       "      <th>Mo_Sold</th>\n",
       "      <th>Yr_Sold</th>\n",
       "      <th>Sale_Type</th>\n",
       "      <th>SalePrice</th>\n",
       "    </tr>\n",
       "  </thead>\n",
       "  <tbody>\n",
       "    <tr>\n",
       "      <th>0</th>\n",
       "      <td>109</td>\n",
       "      <td>533352170</td>\n",
       "      <td>60</td>\n",
       "      <td>RL</td>\n",
       "      <td>NaN</td>\n",
       "      <td>13517</td>\n",
       "      <td>Pave</td>\n",
       "      <td>NaN</td>\n",
       "      <td>IR1</td>\n",
       "      <td>Lvl</td>\n",
       "      <td>...</td>\n",
       "      <td>0</td>\n",
       "      <td>0</td>\n",
       "      <td>NaN</td>\n",
       "      <td>NaN</td>\n",
       "      <td>NaN</td>\n",
       "      <td>0</td>\n",
       "      <td>3</td>\n",
       "      <td>2010</td>\n",
       "      <td>WD</td>\n",
       "      <td>130500</td>\n",
       "    </tr>\n",
       "    <tr>\n",
       "      <th>1</th>\n",
       "      <td>544</td>\n",
       "      <td>531379050</td>\n",
       "      <td>60</td>\n",
       "      <td>RL</td>\n",
       "      <td>43.0</td>\n",
       "      <td>11492</td>\n",
       "      <td>Pave</td>\n",
       "      <td>NaN</td>\n",
       "      <td>IR1</td>\n",
       "      <td>Lvl</td>\n",
       "      <td>...</td>\n",
       "      <td>0</td>\n",
       "      <td>0</td>\n",
       "      <td>NaN</td>\n",
       "      <td>NaN</td>\n",
       "      <td>NaN</td>\n",
       "      <td>0</td>\n",
       "      <td>4</td>\n",
       "      <td>2009</td>\n",
       "      <td>WD</td>\n",
       "      <td>220000</td>\n",
       "    </tr>\n",
       "  </tbody>\n",
       "</table>\n",
       "<p>2 rows × 81 columns</p>\n",
       "</div>"
      ],
      "text/plain": [
       "    Id        PID  MS_SubClass MS_Zoning  Lot_Frontage  Lot_Area Street Alley  \\\n",
       "0  109  533352170           60        RL           NaN     13517   Pave   NaN   \n",
       "1  544  531379050           60        RL          43.0     11492   Pave   NaN   \n",
       "\n",
       "  Lot_Shape Land_Contour  ... Screen_Porch Pool_Area Pool_QC Fence  \\\n",
       "0       IR1          Lvl  ...            0         0     NaN   NaN   \n",
       "1       IR1          Lvl  ...            0         0     NaN   NaN   \n",
       "\n",
       "  Misc_Feature Misc_Val Mo_Sold Yr_Sold  Sale_Type  SalePrice  \n",
       "0          NaN        0       3    2010        WD      130500  \n",
       "1          NaN        0       4    2009        WD      220000  \n",
       "\n",
       "[2 rows x 81 columns]"
      ]
     },
     "execution_count": 5,
     "metadata": {},
     "output_type": "execute_result"
    }
   ],
   "source": [
    "df.head(2)"
   ]
  },
  {
   "cell_type": "code",
   "execution_count": null,
   "id": "b19562e7",
   "metadata": {},
   "outputs": [],
   "source": [
    "df.isna().sum()"
   ]
  },
  {
   "cell_type": "code",
   "execution_count": 15,
   "id": "0b63cebc",
   "metadata": {},
   "outputs": [
    {
     "data": {
      "text/plain": [
       "Id                int64\n",
       "PID               int64\n",
       "MS_SubClass       int64\n",
       "MS_Zoning        object\n",
       "Lot_Frontage    float64\n",
       "                 ...   \n",
       "Misc_Val          int64\n",
       "Mo_Sold           int64\n",
       "Yr_Sold           int64\n",
       "Sale_Type        object\n",
       "SalePrice         int64\n",
       "Length: 81, dtype: object"
      ]
     },
     "execution_count": 15,
     "metadata": {},
     "output_type": "execute_result"
    }
   ],
   "source": [
    "df.dtypes"
   ]
  },
  {
   "cell_type": "code",
   "execution_count": null,
   "id": "b4098ae5",
   "metadata": {},
   "outputs": [],
   "source": [
    "df.columns"
   ]
  },
  {
   "cell_type": "code",
   "execution_count": null,
   "id": "8d5361ce",
   "metadata": {},
   "outputs": [],
   "source": [
    "df.groupby('Sale Type')['Id'].count()"
   ]
  }
 ],
 "metadata": {
  "kernelspec": {
   "display_name": "Python 3",
   "language": "python",
   "name": "python3"
  },
  "language_info": {
   "codemirror_mode": {
    "name": "ipython",
    "version": 3
   },
   "file_extension": ".py",
   "mimetype": "text/x-python",
   "name": "python",
   "nbconvert_exporter": "python",
   "pygments_lexer": "ipython3",
   "version": "3.8.8"
  }
 },
 "nbformat": 4,
 "nbformat_minor": 5
}
