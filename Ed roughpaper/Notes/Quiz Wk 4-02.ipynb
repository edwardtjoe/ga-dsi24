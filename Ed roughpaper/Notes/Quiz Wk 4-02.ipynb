{
 "cells": [
  {
   "cell_type": "markdown",
   "id": "f07e052c",
   "metadata": {},
   "source": [
    "Q1. General functional form of log expansion\n",
    "\n",
    "log(X) = b0 + b1X1 + b2X2 + error\n",
    "\n",
    "where X: P=1 / (1 - P=1)"
   ]
  },
  {
   "cell_type": "markdown",
   "id": "2438f328",
   "metadata": {},
   "source": [
    "Q2. Rearranging terms you have in Q1, write out the probability of whether or not X will happen in terms of X and data.\n",
    "\n",
    "P=1 / (1 - P=1) = exp(b0 + b1X1 + b2X2 + error)\n",
    "                = exp(b0) * exp(b1) * exp(X1) * exp(b2) * exp(X2) * exp(error)\n"
   ]
  },
  {
   "cell_type": "markdown",
   "id": "ad84b9d8",
   "metadata": {},
   "source": [
    "Q. Log reg. Intercept = -150, Slope: 5.2\n",
    "\n",
    "BMI = 22\n",
    "\n",
    "P(X) / (1 - P(X)) = exp(150) * exp(5.2) * exp(22) \n",
    "                  = exp(150) * 181.3 * 3584912846.13\n",
    "\n",
    "Near 0\n",
    "\n",
    "\n",
    "BMI = 29.5\n",
    "\n",
    "P(X) / (1 - P(X)) = exp(150) * exp(5.2) * exp(29.5)\n",
    "\n",
    "                  = exp(150) * 181.3 * 6.4816745e+12\n",
    "                  \n",
    "                  \n",
    "Odds: 29.9\n",
    "\n",
    "Near 0.22\n",
    "\n",
    "96.8%\n",
    "\n",
    "Need to manipulate terms appropriately\n",
    "\n",
    "Q. T/F: Increase 1 BMI ==> Increase of 5.2% probability of heart disease?\n",
    "\n",
    "A: False.\n",
    "Increase of 1 BMI ==> Increase of 5.2x chance of heart disease (Slope is 5.2)\n",
    "\n",
    "\n",
    "\n",
    "Q. Point (1, 4), (5, 8). Find Manhattan and Euclidian distance.\n",
    "\n",
    "Manhattan: 4 + 4 = 8\n",
    "\n",
    "Euclidian = (4^2 + 4^2) ^ 0.5 = 5.66\n",
    "\n",
    "\n",
    "Q. Whether person returns within 7 days\n",
    "1. Amt of time spent in 1st session\n",
    "2. # of friends added in 1st session\n",
    "3. # of games won in 1st session.\n",
    "\n",
    "\n",
    "Two graphs: KNN works well, KNN does not work well.\n",
    "\n"
   ]
  },
  {
   "cell_type": "code",
   "execution_count": null,
   "id": "2caea4ec",
   "metadata": {},
   "outputs": [],
   "source": [
    "# Q. Code: Acceptable or not?\n",
    "\n",
    "X_train, X_test, y_train, y_test = train_test_split(X, y)\n",
    "knn = KNeighborsClassifier()\n",
    "knn.fit(X_train, y_train)\n",
    "knn.score(X_test, y_test)\n"
   ]
  },
  {
   "cell_type": "code",
   "execution_count": null,
   "id": "c60927fe",
   "metadata": {},
   "outputs": [],
   "source": [
    "# A: Not acceptable because no standard scaler, i.e.\n",
    "ss = StandardScaler()\n",
    "X_train_sc = ss.fit_transform(X_train)\n",
    "X_test_sc = ss.transform(X_test)\n"
   ]
  },
  {
   "cell_type": "code",
   "execution_count": 1,
   "id": "30f29c92",
   "metadata": {},
   "outputs": [
    {
     "data": {
      "text/plain": [
       "5.656854249492381"
      ]
     },
     "execution_count": 1,
     "metadata": {},
     "output_type": "execute_result"
    }
   ],
   "source": [
    "(2*(4**2))**0.5"
   ]
  },
  {
   "cell_type": "code",
   "execution_count": 7,
   "id": "267d6996",
   "metadata": {},
   "outputs": [],
   "source": [
    "import math\n",
    "import numpy as np"
   ]
  },
  {
   "cell_type": "code",
   "execution_count": 8,
   "id": "d5048da7",
   "metadata": {},
   "outputs": [
    {
     "name": "stdout",
     "output_type": "stream",
     "text": [
      "0.000, 0.968\n"
     ]
    }
   ],
   "source": [
    "x1 = 22\n",
    "x2 = 29.5\n",
    "B0 = -150\n",
    "B1 = 5.2\n",
    "\n",
    "p1 = np.exp(B0 + B1*x1) / (1 + (np.exp(B0 + B1*x1)))\n",
    "p2 = np.exp(B0 + B1*x2) / (1 + (np.exp(B0 + B1*x2)))\n",
    "\n",
    "print(f\"{p1:.3f}, {p2:.3f}\")"
   ]
  }
 ],
 "metadata": {
  "kernelspec": {
   "display_name": "Python 3",
   "language": "python",
   "name": "python3"
  },
  "language_info": {
   "codemirror_mode": {
    "name": "ipython",
    "version": 3
   },
   "file_extension": ".py",
   "mimetype": "text/x-python",
   "name": "python",
   "nbconvert_exporter": "python",
   "pygments_lexer": "ipython3",
   "version": "3.8.8"
  }
 },
 "nbformat": 4,
 "nbformat_minor": 5
}
