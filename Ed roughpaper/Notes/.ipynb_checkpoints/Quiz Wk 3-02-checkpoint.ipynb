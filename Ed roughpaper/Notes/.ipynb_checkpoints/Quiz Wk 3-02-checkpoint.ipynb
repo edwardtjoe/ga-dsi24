{
 "cells": [
  {
   "cell_type": "markdown",
   "id": "ac933287",
   "metadata": {},
   "source": [
    "Question: What does an _ mean in context of sklearn (sci-kit learn)?\n",
    "\n",
    "Ans: It means that we have already fit our model and therefore are ready for modeling.\n",
    "\n",
    "Correct!"
   ]
  },
  {
   "cell_type": "markdown",
   "id": "e49b9785",
   "metadata": {},
   "source": [
    "Question 2: You want to model house price as function of sqft, what's wrong with code below?"
   ]
  },
  {
   "cell_type": "code",
   "execution_count": null,
   "id": "20447ff7",
   "metadata": {},
   "outputs": [],
   "source": [
    "X = housing_df['sqft']\n",
    "y = housing_df[['price']] \n",
    "\n",
    "# Ans: y has to be a series, not a dataframe, X has to be dataframe, not series"
   ]
  },
  {
   "cell_type": "markdown",
   "id": "b8492dc7",
   "metadata": {},
   "source": [
    "Question 3: Improved regression. How to use to generate regressions given X and y?"
   ]
  },
  {
   "cell_type": "code",
   "execution_count": null,
   "id": "409b84d6",
   "metadata": {},
   "outputs": [],
   "source": [
    "MSE: metrics.mean_squared_error(y, X)\n",
    "RMSE: np.sqrt(((y - X)**2).sum() / len(y))\n",
    "MAE: metrics.mean_absolute_error(y, X)\n",
    "    \n",
    "model.fit(X, y)\n",
    "y_predict = model"
   ]
  },
  {
   "cell_type": "markdown",
   "id": "cfaf49f6",
   "metadata": {},
   "source": [
    "Question 4: Find issue with this code:"
   ]
  },
  {
   "cell_type": "code",
   "execution_count": null,
   "id": "5cecc124",
   "metadata": {},
   "outputs": [],
   "source": [
    "linreg = LinearRegression()\n",
    "linreg.coef_ # what error here?\n",
    "y_predictions = ir.predict(X) # what error here?\n",
    "\n",
    "# Ans 1: Attribute Error. Haven't fitted yet so the object is not there\n",
    "# Ans 2: Not Fitted Error\n"
   ]
  },
  {
   "cell_type": "markdown",
   "id": "c316c551",
   "metadata": {},
   "source": [
    "Question 5: Linear regression. Given data below, 5 regions. \n",
    "a1. How many columns u get using get_dummies if drop_first = False? \n",
    "a2. What if drop_first = True?\n",
    "\n",
    "b. Assumming drop_first=True, central is dropped. What colummn names will you get?\n",
    "\n",
    "Ans:\n",
    "\n",
    "a1. 7\n",
    "a2. 6\n",
    "\n",
    "b. region, north, south, east, west, sqft"
   ]
  },
  {
   "cell_type": "code",
   "execution_count": null,
   "id": "0e422763",
   "metadata": {},
   "outputs": [],
   "source": [
    "price         region         sqft\n",
    "====================================\n",
    "1000000       central        9098\n",
    "10021299      north          933\n",
    "1209293       south          1827\n",
    "120938099     east           903\n",
    "918238        west           92112\n",
    "\n"
   ]
  },
  {
   "cell_type": "markdown",
   "id": "2b42d1ed",
   "metadata": {},
   "source": [
    "## Question 6: Assume you run a reg and get these results. Interpret the results as precise as possible."
   ]
  },
  {
   "cell_type": "code",
   "execution_count": null,
   "id": "d9b29fac",
   "metadata": {},
   "outputs": [],
   "source": [
    "     north          -209350\n",
    "     south          102190\n",
    "     east           -10020\n",
    "     west           -938470\n",
    "     sqft           958"
   ]
  },
  {
   "cell_type": "markdown",
   "id": "c189bd30",
   "metadata": {},
   "source": [
    "Ans:\n",
    "\n",
    "For unit of increase in sqft of house size, the price increase by 958.\n",
    "\n",
    "For every house located in north region, there is an average reduction of 209k in house price from the baseline."
   ]
  },
  {
   "cell_type": "markdown",
   "id": "51d2acc1",
   "metadata": {},
   "source": [
    "## Question 7: Why no central? What is the effect of central? What is the effect?\n",
    "\n",
    "Ans: \n",
    "\n",
    "The effect is a +0 and we only need to consider the 958/sqft since Central is the baseline comparing other regions\n",
    "\n",
    "The intercept was not shown, and this will represent coefficient of price in Central."
   ]
  },
  {
   "cell_type": "code",
   "execution_count": null,
   "id": "834c7d70",
   "metadata": {},
   "outputs": [],
   "source": [
    " You cannot have the following situation:\n",
    "\n",
    "     intercept      10292\n",
    "     central        3823\n",
    "     north          -209350\n",
    "     south          102190\n",
    "     east           -10020\n",
    "     west           -938470\n",
    "     sqft           958"
   ]
  },
  {
   "cell_type": "markdown",
   "id": "8f924622",
   "metadata": {},
   "source": [
    "Why? "
   ]
  }
 ],
 "metadata": {
  "kernelspec": {
   "display_name": "Python 3",
   "language": "python",
   "name": "python3"
  },
  "language_info": {
   "codemirror_mode": {
    "name": "ipython",
    "version": 3
   },
   "file_extension": ".py",
   "mimetype": "text/x-python",
   "name": "python",
   "nbconvert_exporter": "python",
   "pygments_lexer": "ipython3",
   "version": "3.8.8"
  }
 },
 "nbformat": 4,
 "nbformat_minor": 5
}
