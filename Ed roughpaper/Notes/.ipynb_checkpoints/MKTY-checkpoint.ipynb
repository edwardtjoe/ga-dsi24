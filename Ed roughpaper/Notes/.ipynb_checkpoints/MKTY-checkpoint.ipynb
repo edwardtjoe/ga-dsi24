{
 "cells": [
  {
   "cell_type": "code",
   "execution_count": 1,
   "id": "751b5711",
   "metadata": {},
   "outputs": [],
   "source": [
    "# All imports\n",
    "import numpy as np\n",
    "import pandas as pd\n",
    "import seaborn as sns\n",
    "import matplotlib.pyplot as plt\n",
    "import matplotlib\n",
    "import patsy\n",
    "\n",
    "from sklearn.model_selection import train_test_split, cross_val_score\n",
    "from sklearn.linear_model import LinearRegression, RidgeCV, LassoCV, ElasticNetCV, Ridge, Lasso, ElasticNet\n",
    "from sklearn import metrics\n",
    "from sklearn.preprocessing import StandardScaler\n",
    "\n",
    "import statsmodels.api as sm"
   ]
  },
  {
   "cell_type": "code",
   "execution_count": 2,
   "id": "75085007",
   "metadata": {},
   "outputs": [],
   "source": [
    "mkty = pd.DataFrame({0: {'Month': '04-2021',\n",
    "                         'Revenue': 560,\n",
    "                         'Prop_Mining': 560,\n",
    "                         'Hosted_JV': 0,\n",
    "                         'Prop_MW': 3.34,\n",
    "                         'Host_MW': 0,\n",
    "                         'BTC_Px': 57207,\n",
    "                         'Prop_PH': 20.17,\n",
    "                         'Host_PH': 0,\n",
    "#                          'GH': 237.7,\n",
    "                         'Prop_BTC': 9.79,\n",
    "                         'Host_BTC': 0,\n",
    "                        },\n",
    "                     1: {'Month': '05-2021',\n",
    "                         'Revenue': 618,\n",
    "                         'Prop_Mining': 618,\n",
    "                         'Hosted_JV': 0,\n",
    "                         'Prop_MW': 3.27,\n",
    "                         'Host_MW': 0,\n",
    "                         'BTC_Px': 46443,\n",
    "                         'Prop_PH': 23.67,\n",
    "                         'Host_PH': 0,\n",
    "#                          'GH': 204,\n",
    "                         'Prop_BTC': 13.31,\n",
    "                         'Host_BTC': 0,\n",
    "                        },\n",
    "                     2: {'Month': '06-2021',\n",
    "                         'Revenue': 479,\n",
    "                         'Prop_Mining': 479,\n",
    "                         'Hosted_JV': 0,\n",
    "                         'Prop_MW': 3.42,\n",
    "                         'Host_MW': 0,\n",
    "                         'BTC_Px': 35845,\n",
    "                         'Prop_PH': 20.62,\n",
    "                         'Host_PH': 0,\n",
    "#                          'GH': 224,\n",
    "                         'Prop_BTC': 13.34,\n",
    "                         'Host_BTC': 0,\n",
    "                        },\n",
    "                     3: {'Month': '07-2021',\n",
    "                         'Revenue': 494,\n",
    "                         'Prop_Mining': 494,\n",
    "                         'Hosted_JV': 0,\n",
    "                         'Prop_MW': 3.28,\n",
    "                         'Host_MW': 0,\n",
    "                         'BTC_Px': 34445,\n",
    "                         'Prop_PH': 22.12,\n",
    "                         'Host_PH': 0,\n",
    "#                          'GH': 219,\n",
    "                         'Prop_BTC': 14.34,\n",
    "                         'Host_BTC': 0,\n",
    "                        },\n",
    "#                      4: {'Month': '08-2021',\n",
    "#                          'Revenue': 943,\n",
    "#                          'Prop_Mining': 839,\n",
    "#                          'Hosted_JV': 104,\n",
    "#                          'Prop_MW': 3.81,\n",
    "#                          'Host_MW': 0.32,\n",
    "#                          'BTC_Px': 45709,\n",
    "#                          'Prop_PH': 50.80,\n",
    "#                          'Host_PH': 9.79,\n",
    "#                          'GH': 177,\n",
    "#                         }\n",
    "}).T\n",
    "\n",
    "# pd.to_numeric(mkty['Revenue', 'Prop_PH'])\n",
    "cols = ['Revenue', 'Prop_Mining', 'Hosted_JV', 'Prop_MW', 'Host_MW',\n",
    "       'BTC_Px', 'Prop_PH', 'Host_PH', 'Prop_BTC', 'Host_BTC'\n",
    "#         'GH'\n",
    "       ]\n",
    "\n",
    "mkty[cols] = mkty[cols].apply(pd.to_numeric,\n",
    "                              axis=1,\n",
    "                              errors='coerce'\n",
    "                             )"
   ]
  },
  {
   "cell_type": "code",
   "execution_count": 3,
   "id": "5da915d9",
   "metadata": {},
   "outputs": [
    {
     "data": {
      "text/plain": [
       "LinearRegression()"
      ]
     },
     "execution_count": 3,
     "metadata": {},
     "output_type": "execute_result"
    }
   ],
   "source": [
    "lr = LinearRegression()\n",
    "ss = StandardScaler()\n",
    "\n",
    "X = mkty.drop(columns=['Revenue', 'Month'])\n",
    "y = mkty['Revenue']\n",
    "\n",
    "X_sc = ss.fit_transform(X)\n",
    "lr.fit(X_sc, y)"
   ]
  },
  {
   "cell_type": "code",
   "execution_count": 5,
   "id": "bbfeda40",
   "metadata": {},
   "outputs": [
    {
     "data": {
      "text/html": [
       "<div>\n",
       "<style scoped>\n",
       "    .dataframe tbody tr th:only-of-type {\n",
       "        vertical-align: middle;\n",
       "    }\n",
       "\n",
       "    .dataframe tbody tr th {\n",
       "        vertical-align: top;\n",
       "    }\n",
       "\n",
       "    .dataframe thead th {\n",
       "        text-align: right;\n",
       "    }\n",
       "</style>\n",
       "<table border=\"1\" class=\"dataframe\">\n",
       "  <thead>\n",
       "    <tr style=\"text-align: right;\">\n",
       "      <th></th>\n",
       "      <th>0</th>\n",
       "    </tr>\n",
       "  </thead>\n",
       "  <tbody>\n",
       "    <tr>\n",
       "      <th>Prop_Mining</th>\n",
       "      <td>35.438021</td>\n",
       "    </tr>\n",
       "    <tr>\n",
       "      <th>Hosted_JV</th>\n",
       "      <td>0.000000</td>\n",
       "    </tr>\n",
       "    <tr>\n",
       "      <th>Prop_MW</th>\n",
       "      <td>5.441466</td>\n",
       "    </tr>\n",
       "    <tr>\n",
       "      <th>Host_MW</th>\n",
       "      <td>0.000000</td>\n",
       "    </tr>\n",
       "    <tr>\n",
       "      <th>BTC_Px</th>\n",
       "      <td>15.305830</td>\n",
       "    </tr>\n",
       "    <tr>\n",
       "      <th>Prop_PH</th>\n",
       "      <td>20.769640</td>\n",
       "    </tr>\n",
       "    <tr>\n",
       "      <th>Host_PH</th>\n",
       "      <td>0.000000</td>\n",
       "    </tr>\n",
       "    <tr>\n",
       "      <th>Prop_BTC</th>\n",
       "      <td>-3.752863</td>\n",
       "    </tr>\n",
       "    <tr>\n",
       "      <th>Host_BTC</th>\n",
       "      <td>0.000000</td>\n",
       "    </tr>\n",
       "  </tbody>\n",
       "</table>\n",
       "</div>"
      ],
      "text/plain": [
       "                     0\n",
       "Prop_Mining  35.438021\n",
       "Hosted_JV     0.000000\n",
       "Prop_MW       5.441466\n",
       "Host_MW       0.000000\n",
       "BTC_Px       15.305830\n",
       "Prop_PH      20.769640\n",
       "Host_PH       0.000000\n",
       "Prop_BTC     -3.752863\n",
       "Host_BTC      0.000000"
      ]
     },
     "execution_count": 5,
     "metadata": {},
     "output_type": "execute_result"
    }
   ],
   "source": [
    "pd.DataFrame(lr.coef_, index=X.columns)"
   ]
  },
  {
   "cell_type": "code",
   "execution_count": 20,
   "id": "d5a0d92e",
   "metadata": {},
   "outputs": [],
   "source": [
    "abc = {'Prop_Mining': 839,\n",
    "       'Hosted_JV': 104,\n",
    "       'Prop_MW': 3.81,\n",
    "       'Host_MW': 0.32,\n",
    "       'BTC_Px': 45709,\n",
    "       'Prop_PH': 50.80,\n",
    "       'Host_PH': 9.79,\n",
    "#        'GH': 177,\n",
    "       'Prop_BTC': 18.36,\n",
    "       'Host_BTC': 2.27,\n",
    "      }\n",
    "abc = pd.Series(abc)"
   ]
  },
  {
   "cell_type": "code",
   "execution_count": 13,
   "id": "bb4bd9a0",
   "metadata": {},
   "outputs": [
    {
     "data": {
      "text/plain": [
       "Prop_Mining      839.00\n",
       "Hosted_JV        104.00\n",
       "Prop_MW            3.81\n",
       "Host_MW            0.32\n",
       "BTC_Px         45709.00\n",
       "Prop_PH           50.80\n",
       "Host_PH            9.79\n",
       "Prop_BTC          18.36\n",
       "dtype: float64"
      ]
     },
     "execution_count": 13,
     "metadata": {},
     "output_type": "execute_result"
    }
   ],
   "source": [
    "abc"
   ]
  },
  {
   "cell_type": "code",
   "execution_count": 17,
   "id": "be04c09f",
   "metadata": {},
   "outputs": [
    {
     "data": {
      "text/plain": [
       "Prop_Mining    35.438021\n",
       "Hosted_JV       0.000000\n",
       "Prop_MW         5.441466\n",
       "Host_MW         0.000000\n",
       "BTC_Px         15.305830\n",
       "Prop_PH        20.769640\n",
       "Host_PH         0.000000\n",
       "Prop_BTC       -3.752863\n",
       "Host_BTC        0.000000\n",
       "dtype: float64"
      ]
     },
     "execution_count": 17,
     "metadata": {},
     "output_type": "execute_result"
    }
   ],
   "source": [
    "coefs = pd.Series(lr.coef_, index=X.columns)\n",
    "coefs"
   ]
  },
  {
   "cell_type": "code",
   "execution_count": 9,
   "id": "1bbac1a2",
   "metadata": {},
   "outputs": [
    {
     "name": "stdout",
     "output_type": "stream",
     "text": [
      "730353.596275526\n"
     ]
    }
   ],
   "source": [
    "cde = set(zip(pd.Series(lr.coef_), abc))\n",
    "aug = 0\n",
    "\n",
    "for i, j in cde:\n",
    "    aug += i*j\n",
    "print(aug)"
   ]
  },
  {
   "cell_type": "code",
   "execution_count": 29,
   "id": "7411c98c",
   "metadata": {},
   "outputs": [
    {
     "name": "stdout",
     "output_type": "stream",
     "text": [
      "                 Coefs       Aug\n",
      "Prop_Mining  35.438021    839.00\n",
      "Hosted_JV     0.000000    104.00\n",
      "Prop_MW       5.441466      3.81\n",
      "Host_MW       0.000000      0.32\n",
      "BTC_Px       15.305830  45709.00\n",
      "Prop_PH      20.769640     50.80\n",
      "Host_PH       0.000000      9.79\n",
      "Prop_BTC     -3.752863     18.36\n",
      "Host_BTC      0.000000      2.27 \n",
      "\n",
      "Prop_Mining     29732.499303\n",
      "Hosted_JV           0.000000\n",
      "Prop_MW            20.731987\n",
      "Host_MW             0.000000\n",
      "BTC_Px         699614.169817\n",
      "Prop_PH          1055.097726\n",
      "Host_PH             0.000000\n",
      "Prop_BTC          -68.902557\n",
      "Host_BTC            0.000000\n",
      "dtype: float64 \n",
      "\n",
      "Aug rev: 730353.596275526\n"
     ]
    }
   ],
   "source": [
    "mkty_est = pd.concat([coefs, abc], axis=1)\n",
    "mkty_est.rename(columns=\n",
    "               {0: 'Coefs',\n",
    "                1: 'Aug'}, inplace=True)\n",
    "print(mkty_est, '\\n')\n",
    "print(mkty_est['Coefs'] * mkty_est['Aug'], '\\n')\n",
    "print('Aug rev:', sum(mkty_est['Coefs'] * mkty_est['Aug']))"
   ]
  }
 ],
 "metadata": {
  "kernelspec": {
   "display_name": "Python 3",
   "language": "python",
   "name": "python3"
  },
  "language_info": {
   "codemirror_mode": {
    "name": "ipython",
    "version": 3
   },
   "file_extension": ".py",
   "mimetype": "text/x-python",
   "name": "python",
   "nbconvert_exporter": "python",
   "pygments_lexer": "ipython3",
   "version": "3.8.8"
  }
 },
 "nbformat": 4,
 "nbformat_minor": 5
}
