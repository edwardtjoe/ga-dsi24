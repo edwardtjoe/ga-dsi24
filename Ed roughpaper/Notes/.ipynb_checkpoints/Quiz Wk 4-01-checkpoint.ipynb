{
 "cells": [
  {
   "cell_type": "markdown",
   "id": "9e7b8e4d",
   "metadata": {},
   "source": [
    "Q. Functional form of linear regression.\n",
    "\n",
    "A. y = b0 + b1X1 + b2X2 + ... + e\n",
    "\n",
    "Q. What parameters are 'learned' in machine learning?\n",
    "\n",
    "A. b0, b1, b2, e\n",
    "\n",
    "Q. How are these parameters being learned? How is it being optimized?\n",
    "\n",
    "A. b0, b1, b2 etc are found by minimizing MSE, which is the square of the difference betweeen the distance of the individual points to the mean"
   ]
  },
  {
   "cell_type": "code",
   "execution_count": null,
   "id": "2bfd7dca",
   "metadata": {},
   "outputs": [],
   "source": []
  },
  {
   "cell_type": "code",
   "execution_count": null,
   "id": "64f22478",
   "metadata": {},
   "outputs": [],
   "source": []
  },
  {
   "cell_type": "code",
   "execution_count": null,
   "id": "64722eaa",
   "metadata": {},
   "outputs": [],
   "source": []
  }
 ],
 "metadata": {
  "kernelspec": {
   "display_name": "Python 3",
   "language": "python",
   "name": "python3"
  },
  "language_info": {
   "codemirror_mode": {
    "name": "ipython",
    "version": 3
   },
   "file_extension": ".py",
   "mimetype": "text/x-python",
   "name": "python",
   "nbconvert_exporter": "python",
   "pygments_lexer": "ipython3",
   "version": "3.8.8"
  }
 },
 "nbformat": 4,
 "nbformat_minor": 5
}
