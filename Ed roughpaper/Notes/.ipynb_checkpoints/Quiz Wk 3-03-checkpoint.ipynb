{
 "cells": [
  {
   "cell_type": "markdown",
   "id": "d6a70d24",
   "metadata": {},
   "source": [
    "> Q: X and y dataframe. Write one line of sample code."
   ]
  },
  {
   "cell_type": "code",
   "execution_count": null,
   "id": "49482b7f",
   "metadata": {},
   "outputs": [],
   "source": [
    "lr = LinearRegression()\n",
    "X_train, X_test, y_train, y_test = train_test_split(X, y,\n",
    "                                                    test_size = 0.2,     # This is the 20% test size\n",
    "                                                    random_value = 42,   # This is the random seed\n",
    "                                                   )"
   ]
  },
  {
   "cell_type": "markdown",
   "id": "915b481e",
   "metadata": {},
   "source": [
    "> Q: 5 fold cross validation. Do you repeat the line above 5x? Why or why not?\n",
    "    \n",
    "Ans: Wrong. You can use cross_val_score to mutually exclusively split and test it out.\n",
    "\n",
    "> Q: Consider observations. Visually represent this model. How many times is it used to train and test (fit and validate)?\n",
    "\n",
    "|ooo|ooo|ooo|ooo|xxx|\n",
    "|ooo|ooo|ooo|xxx|ooo|\n",
    "|ooo|ooo|xxx|ooo|ooo|\n",
    "|ooo|xxx|ooo|ooo|ooo|\n",
    "|xxx|ooo|ooo|ooo|ooo|\n",
    "\n",
    "where x = test, o = train"
   ]
  },
  {
   "cell_type": "code",
   "execution_count": null,
   "id": "a68627dd",
   "metadata": {},
   "outputs": [],
   "source": [
    "cross_val_score(lr,\n",
    "                X_train,\n",
    "                y_train,\n",
    "                cv=5\n",
    "               )"
   ]
  },
  {
   "cell_type": "markdown",
   "id": "3a421d7a",
   "metadata": {},
   "source": [
    "> Q: Why should you still do cross validation even when you can do it one shot?\n",
    "\n",
    "Ans: CVs are an average of 'k' test scores which produce a more conservative value than simply using one test score. \n",
    "\n",
    "Random split of data is preferred to validate the scores more accurately and reasonably.\n",
    "\n",
    "CV allows more confidence despite the nature of train_test_split."
   ]
  },
  {
   "cell_type": "markdown",
   "id": "84b1138e",
   "metadata": {},
   "source": [
    "> Q: In extreme form of cross val, you have n folds where cv=n, what is the terminology for this?\n",
    "\n",
    "Ans: Leave one out cross validation. (LOCV)"
   ]
  },
  {
   "cell_type": "markdown",
   "id": "fea798e2",
   "metadata": {},
   "source": [
    "> Q: Fitting house prices as sqft. Is this model likely to suffer from overfit or underfit?\n",
    "\n",
    "Ans: Underfit. Only one parameter. May not sufficiently explain the y variable (house prices) that we are trying to find."
   ]
  },
  {
   "cell_type": "markdown",
   "id": "23c1a481",
   "metadata": {},
   "source": [
    "> Q: Using many X to find house price. Is this model likely to suffer from high bias or variance? Explain.\n",
    "\n",
    "Ans: High variance more likely since there are multiple X variables and likely to cause overfitting.\n"
   ]
  },
  {
   "cell_type": "markdown",
   "id": "eb30d0a2",
   "metadata": {},
   "source": [
    "> Q: Linear reg is said to be low var and high bias. State T/F: It is not possible to reduce the biasness of lin reg.\n",
    "\n",
    "Ans: False. Add more variables to increase complexity. \n",
    "\n",
    "You can also increase the order (e.g. order = 3) to increase wiggliness.\n",
    "- Wrong, because linear regression assumes only ONE x variables\n"
   ]
  },
  {
   "cell_type": "markdown",
   "id": "cdcf79d6",
   "metadata": {},
   "source": [
    "> Q: SSE reduces into 3 terms. What are the 3 terms?\n",
    "\n",
    "Ans: Sum of Squared Total, Sum of Square of Regression, Sum of Squared Error.\n",
    "\n",
    "Ans 2: Coefficient, Error, Residual\n",
    "\n",
    "Mean Squared Error, RMSE, Mean Absolute Error, (Irreducible Error)\n",
    "\n",
    "Bias^2, Error, Irredicuble Error"
   ]
  },
  {
   "cell_type": "markdown",
   "id": "bedc991f",
   "metadata": {},
   "source": [
    "> Q: Bias-Variance radeoff. Draw graph from memory.\n",
    "\n",
    "Can change X axis complexity by adding/removing complexity"
   ]
  },
  {
   "cell_type": "code",
   "execution_count": null,
   "id": "dd6ff526",
   "metadata": {},
   "outputs": [],
   "source": []
  }
 ],
 "metadata": {
  "kernelspec": {
   "display_name": "Python 3",
   "language": "python",
   "name": "python3"
  },
  "language_info": {
   "codemirror_mode": {
    "name": "ipython",
    "version": 3
   },
   "file_extension": ".py",
   "mimetype": "text/x-python",
   "name": "python",
   "nbconvert_exporter": "python",
   "pygments_lexer": "ipython3",
   "version": "3.8.8"
  }
 },
 "nbformat": 4,
 "nbformat_minor": 5
}
