{
 "cells": [
  {
   "cell_type": "markdown",
   "id": "ffd27bb2",
   "metadata": {},
   "source": [
    "# Question 1a:\n",
    "Box with 3 dice, 2 fair and 1 unfair. Trick die does not have even numbers, odds are repeated twice (1, 1, 3, 3, 5, 5)\n",
    "\n",
    "Draw 1 die. What is the probability of drawing \"5\"?\n",
    "\n",
    "# Question 1b:\n",
    "\n",
    "Probability of rolling 2 \"5\"s?"
   ]
  },
  {
   "cell_type": "markdown",
   "id": "8c0c2ff8",
   "metadata": {},
   "source": [
    "# Answer 1a:\n",
    "\n",
    "P(Roll die, 5): 2 * (1/3 * 1/6) + 1 * (1/3 * 1/3) = 2 / 9 = 0.22\n",
    "\n",
    "# Answer 1b:\n",
    "\n",
    "P(5, 5): ((2/3)*(1/6)*(1/2)*(1/6)) + ((2/3)*(1/6)*(1/2)*(1/3)) + ((1/3)*(1/3)*(1)*(1/6)) = 0.04629 "
   ]
  },
  {
   "cell_type": "code",
   "execution_count": 5,
   "id": "e42bf571",
   "metadata": {},
   "outputs": [],
   "source": [
    "import numpy as np\n",
    "import pandas as pd"
   ]
  },
  {
   "cell_type": "code",
   "execution_count": 6,
   "id": "29ce54e1",
   "metadata": {},
   "outputs": [
    {
     "data": {
      "text/plain": [
       "array([1, 2, 3, 4, 5, 6, 1, 2, 3, 4, 5, 6, 1, 1, 3, 3, 5, 5])"
      ]
     },
     "execution_count": 6,
     "metadata": {},
     "output_type": "execute_result"
    }
   ],
   "source": [
    "die_fair = np.array([1, 2, 3, 4, 5, 6])\n",
    "die_unfair = np.array([1, 1, 3, 3, 5, 5])\n",
    "total_die = np.concatenate([die_fair] * 2 + [die_unfair])\n",
    "total_die"
   ]
  },
  {
   "cell_type": "code",
   "execution_count": 7,
   "id": "fd65e7f6",
   "metadata": {},
   "outputs": [],
   "source": [
    "# Function for 1a:\n",
    "\n",
    "def roll_five(n):\n",
    "    count = 0\n",
    "    for _ in range(n):\n",
    "        die_result = np.random.choice(total_die)\n",
    "        if die_result == 5:\n",
    "            count += 1\n",
    "    return count / n"
   ]
  },
  {
   "cell_type": "code",
   "execution_count": 8,
   "id": "faf0eee4",
   "metadata": {},
   "outputs": [
    {
     "data": {
      "text/plain": [
       "0.22143"
      ]
     },
     "execution_count": 8,
     "metadata": {},
     "output_type": "execute_result"
    }
   ],
   "source": [
    "roll_five(100_000)"
   ]
  },
  {
   "cell_type": "code",
   "execution_count": 9,
   "id": "bec8333f",
   "metadata": {},
   "outputs": [
    {
     "data": {
      "text/plain": [
       "[array([1, 2, 3, 4, 5, 6]),\n",
       " array([1, 2, 3, 4, 5, 6]),\n",
       " array([1, 1, 3, 3, 5, 5])]"
      ]
     },
     "execution_count": 9,
     "metadata": {},
     "output_type": "execute_result"
    }
   ],
   "source": [
    "three_dies = [die_fair] + [die_fair] + [die_unfair]\n",
    "three_dies"
   ]
  },
  {
   "cell_type": "code",
   "execution_count": 69,
   "id": "d4cfb720",
   "metadata": {},
   "outputs": [],
   "source": [
    "# Not sure if this is right\n",
    "\n",
    "def roll_five_five(n):\n",
    "    count = 0\n",
    "    for _ in range(n):\n",
    "        die_selected = np.random.choice(total_die, size = 2, replace = False)\n",
    "        if die_selected[0] == 5 & die_selected[1] == 5:\n",
    "            count += 1\n",
    "    return count / n"
   ]
  },
  {
   "cell_type": "code",
   "execution_count": 78,
   "id": "a0fc57bb",
   "metadata": {},
   "outputs": [
    {
     "data": {
      "text/plain": [
       "0.038905"
      ]
     },
     "execution_count": 78,
     "metadata": {},
     "output_type": "execute_result"
    }
   ],
   "source": [
    "roll_five_five(1_000_000)"
   ]
  },
  {
   "cell_type": "markdown",
   "id": "cb860de1",
   "metadata": {},
   "source": [
    "# Q2: Most appropriate distributions used\n",
    "\n",
    "Parameter(s) of interest characterizing the distribution\n",
    "\n",
    "a. Modeling whether PAP wins election:\n",
    "\n",
    "Bernoulli. Outcomes are either \"1\" or \"0\". If P(win) > 0.5 ==> outcome \"1\"\n",
    "\n",
    "\n",
    "b. Out of 50 states, how many voted republican?\n",
    "\n",
    "Bernoulli. Outcomes are either \"vote rep\" or \"do not vote rep\". WRONGGGGG!!!!\n",
    "\n",
    "Binomial. Parameter is \"fixed 50 states\" and probability of voting.\n",
    "\n",
    "\n",
    "c. No. of people walking through Qtown Ikea in any given 5 min window\n",
    "\n",
    "Poisson. Parameter: Lambda. Avg # of people walking in. Avg rate of event occurring.\n",
    "\n",
    "Outcomes can be in fixed amount of time. Events are independent. Two outcomes cannot happen at the same time.\n",
    "\n",
    "\n",
    "d. Whether customer complete new user sign up flow and get an account in an app?\n",
    "\n",
    "Bernoulli. \"1\" for yes, \"0\" for no\n",
    "\n",
    "\n",
    "e. No. of customer complaints in an hour.\n",
    "\n",
    "Poisson. \"Rate of event occuring\". Avg complaints in an hour.\n",
    "\n",
    "Can be used in fixed amount of time. \n",
    "\n",
    "\n",
    "\n",
    "f. Family of 5, how many children assigned male gender at birth?\n",
    "\n",
    "Bernoulli. Either \"male\" or \"not male\". Mutually exclusive results. WRONGGGGG!!!!!\n",
    "\n",
    "Binomial. Parameter is 5 children."
   ]
  },
  {
   "cell_type": "code",
   "execution_count": 1,
   "id": "c75e19dc",
   "metadata": {},
   "outputs": [
    {
     "data": {
      "text/plain": [
       "{1, 3, 5, 7, 9}"
      ]
     },
     "execution_count": 1,
     "metadata": {},
     "output_type": "execute_result"
    }
   ],
   "source": [
    "# QUESTION: Find problem in this code:\n",
    "\n",
    "# set = set([1, 3, 5, 7, 9]) # This will screw up the set() function\n",
    "\n",
    "# will cause problems for:\n",
    "another_set = set([1, 2, 3])\n",
    "\n",
    "# Fix by using another name for \"set\" variable. E.g.\n",
    "\n",
    "named_set = set([1, 3, 5, 7, 9])\n",
    "named_set"
   ]
  },
  {
   "cell_type": "code",
   "execution_count": 54,
   "id": "d0f4810f",
   "metadata": {},
   "outputs": [],
   "source": [
    "# a_set = set([1, 3, 5, 7, 9])"
   ]
  }
 ],
 "metadata": {
  "kernelspec": {
   "display_name": "Python 3",
   "language": "python",
   "name": "python3"
  },
  "language_info": {
   "codemirror_mode": {
    "name": "ipython",
    "version": 3
   },
   "file_extension": ".py",
   "mimetype": "text/x-python",
   "name": "python",
   "nbconvert_exporter": "python",
   "pygments_lexer": "ipython3",
   "version": "3.8.8"
  }
 },
 "nbformat": 4,
 "nbformat_minor": 5
}
