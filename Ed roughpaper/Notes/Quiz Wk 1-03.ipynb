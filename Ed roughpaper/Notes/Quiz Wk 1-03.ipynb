{
 "cells": [
  {
   "cell_type": "code",
   "execution_count": 182,
   "id": "36ea608c",
   "metadata": {},
   "outputs": [
    {
     "data": {
      "text/plain": [
       "'Type Error'"
      ]
     },
     "execution_count": 182,
     "metadata": {},
     "output_type": "execute_result"
    }
   ],
   "source": [
    "# Q1.\n",
    "\n",
    "import math\n",
    "\n",
    "def divide(a, b):\n",
    "    try:\n",
    "        return a / b\n",
    "    except TypeError:\n",
    "        return \"Type Error\"\n",
    "    except ZeroDivisionError:\n",
    "        return \"Cannot divide by Zero\"\n",
    "\n",
    "    except:\n",
    "        return math.inf\n",
    "\n",
    "\n",
    "divide(\"asd\", 0)"
   ]
  },
  {
   "cell_type": "markdown",
   "id": "09b6dfea",
   "metadata": {},
   "source": [
    "Q2. Drawback is if input not in dict, returns a KeyError\n",
    "fix this:\n",
    "email = address_book[\"jireh\"]"
   ]
  },
  {
   "cell_type": "code",
   "execution_count": 101,
   "id": "0bc0ebb4",
   "metadata": {},
   "outputs": [
    {
     "data": {
      "text/plain": [
       "'jireh_email'"
      ]
     },
     "execution_count": 101,
     "metadata": {},
     "output_type": "execute_result"
    }
   ],
   "source": [
    "address_book = {\"jireh\": \"jireh_email\",\n",
    "                \"ed\": \"ed_email\",\n",
    "                \"three\": \"three_email\"\n",
    "               }\n",
    "\n",
    "email = address_book.get(\"jireh\")\n",
    "email"
   ]
  },
  {
   "cell_type": "code",
   "execution_count": 184,
   "id": "822d6327",
   "metadata": {},
   "outputs": [
    {
     "ename": "Exception",
     "evalue": "ed is not in dictionary",
     "output_type": "error",
     "traceback": [
      "\u001b[0;31m---------------------------------------------------------------------------\u001b[0m",
      "\u001b[0;31mKeyError\u001b[0m                                  Traceback (most recent call last)",
      "\u001b[0;32m<ipython-input-184-37d5ff41ab1b>\u001b[0m in \u001b[0;36mrole\u001b[0;34m(name)\u001b[0m\n\u001b[1;32m      5\u001b[0m     \u001b[0;32mtry\u001b[0m\u001b[0;34m:\u001b[0m\u001b[0;34m\u001b[0m\u001b[0;34m\u001b[0m\u001b[0m\n\u001b[0;32m----> 6\u001b[0;31m         \u001b[0;32mreturn\u001b[0m \u001b[0mroles\u001b[0m\u001b[0;34m[\u001b[0m\u001b[0mname\u001b[0m\u001b[0;34m]\u001b[0m\u001b[0;34m\u001b[0m\u001b[0;34m\u001b[0m\u001b[0m\n\u001b[0m\u001b[1;32m      7\u001b[0m     \u001b[0;32mexcept\u001b[0m \u001b[0mKeyError\u001b[0m\u001b[0;34m:\u001b[0m\u001b[0;34m\u001b[0m\u001b[0;34m\u001b[0m\u001b[0m\n",
      "\u001b[0;31mKeyError\u001b[0m: 'ed'",
      "\nDuring handling of the above exception, another exception occurred:\n",
      "\u001b[0;31mException\u001b[0m                                 Traceback (most recent call last)",
      "\u001b[0;32m<ipython-input-184-37d5ff41ab1b>\u001b[0m in \u001b[0;36m<module>\u001b[0;34m\u001b[0m\n\u001b[1;32m     17\u001b[0m \u001b[0;34m\u001b[0m\u001b[0m\n\u001b[1;32m     18\u001b[0m \u001b[0mrole\u001b[0m\u001b[0;34m(\u001b[0m\u001b[0;34m\"aurelia\"\u001b[0m\u001b[0;34m)\u001b[0m\u001b[0;34m\u001b[0m\u001b[0;34m\u001b[0m\u001b[0m\n\u001b[0;32m---> 19\u001b[0;31m \u001b[0mrole\u001b[0m\u001b[0;34m(\u001b[0m\u001b[0;34m\"ed\"\u001b[0m\u001b[0;34m)\u001b[0m\u001b[0;34m\u001b[0m\u001b[0;34m\u001b[0m\u001b[0m\n\u001b[0m",
      "\u001b[0;32m<ipython-input-184-37d5ff41ab1b>\u001b[0m in \u001b[0;36mrole\u001b[0;34m(name)\u001b[0m\n\u001b[1;32m      6\u001b[0m         \u001b[0;32mreturn\u001b[0m \u001b[0mroles\u001b[0m\u001b[0;34m[\u001b[0m\u001b[0mname\u001b[0m\u001b[0;34m]\u001b[0m\u001b[0;34m\u001b[0m\u001b[0;34m\u001b[0m\u001b[0m\n\u001b[1;32m      7\u001b[0m     \u001b[0;32mexcept\u001b[0m \u001b[0mKeyError\u001b[0m\u001b[0;34m:\u001b[0m\u001b[0;34m\u001b[0m\u001b[0;34m\u001b[0m\u001b[0m\n\u001b[0;32m----> 8\u001b[0;31m         \u001b[0;32mraise\u001b[0m \u001b[0mException\u001b[0m\u001b[0;34m(\u001b[0m\u001b[0;34mf'{name} is not in dictionary'\u001b[0m\u001b[0;34m)\u001b[0m\u001b[0;34m\u001b[0m\u001b[0;34m\u001b[0m\u001b[0m\n\u001b[0m\u001b[1;32m      9\u001b[0m \u001b[0;34m\u001b[0m\u001b[0m\n\u001b[1;32m     10\u001b[0m roles = {\"jireh\": \"instructor\",\n",
      "\u001b[0;31mException\u001b[0m: ed is not in dictionary"
     ]
    }
   ],
   "source": [
    "# Q3. Got this right Yay.\n",
    "\n",
    "\n",
    "def role(name):\n",
    "    try:\n",
    "        return roles[name]\n",
    "    except KeyError:\n",
    "        raise Exception(f'{name} is not in dictionary')\n",
    "    \n",
    "roles = {\"jireh\": \"instructor\",\n",
    "         \"simran\": \"instructional assistant\",\n",
    "         \"ryan\": \"instructional assistant\",\n",
    "         \"tania\": \"interim outcomes manager\",\n",
    "         \"kerin\": \"campus officer\",\n",
    "         \"aurelia\": \"campus officer\"\n",
    "}\n",
    "\n",
    "role(\"aurelia\")\n",
    "role(\"ed\")"
   ]
  },
  {
   "cell_type": "code",
   "execution_count": 120,
   "id": "484769ed",
   "metadata": {},
   "outputs": [
    {
     "data": {
      "text/plain": [
       "{'1': 1, '2': 4, '4': 16, '5': 25}"
      ]
     },
     "execution_count": 120,
     "metadata": {},
     "output_type": "execute_result"
    }
   ],
   "source": [
    "# Q4. Rewrite below as  comprehension\n",
    "\n",
    "def do_something(ints):\n",
    "    result = {}\n",
    "    for i in ints:\n",
    "        if i % 3 != 0:\n",
    "            result[f'{i}'] = i * i\n",
    "    return result\n",
    "\n",
    "integer_list = [1, 2, 3, 4, 5]\n",
    "\n",
    "do_something(integer_list)"
   ]
  },
  {
   "cell_type": "code",
   "execution_count": 123,
   "id": "86f89e8e",
   "metadata": {},
   "outputs": [
    {
     "data": {
      "text/plain": [
       "{'1': 1, '2': 4, '4': 16, '5': 25}"
      ]
     },
     "execution_count": 123,
     "metadata": {},
     "output_type": "execute_result"
    }
   ],
   "source": [
    "# Q4:\n",
    "\n",
    "def do_something(ints):\n",
    "#     result = {}\n",
    "#     for i in ints:\n",
    "#         if i % 3 != 0:\n",
    "#             result[f'{i}'] = i * i\n",
    "#     return {(result[f'{i}'] = i * i) for i in ints if i % 3 != 0}\n",
    "    return {f'{i}': i * i for i in ints if i % 3 != 0}\n",
    "\n",
    "\n",
    "integer_list = [1, 2, 3, 4, 5]\n",
    "\n",
    "do_something(integer_list)"
   ]
  },
  {
   "cell_type": "code",
   "execution_count": 126,
   "id": "c79fd59b",
   "metadata": {},
   "outputs": [
    {
     "data": {
      "text/plain": [
       "{'Jireh'}"
      ]
     },
     "execution_count": 126,
     "metadata": {},
     "output_type": "execute_result"
    }
   ],
   "source": [
    "#Q5. The following function is written as a comprehension.\n",
    "# Please rewrite as inn the style of \"declare empty result, then add to the result, then return the result.\"\n",
    "# sample input is a dictionary. e.g.\n",
    "\n",
    "addresses = {'jireh': 'tampines',\n",
    "             'simran': 'simei',\n",
    "             'ryan': 'tanjong pagar',\n",
    "            }\n",
    "\n",
    "def find_addss(address_book):\n",
    "    return {k.title() for k, v in address_book.items() if v == 'tampines'}\n",
    "\n",
    "find_addss(addresses)"
   ]
  },
  {
   "cell_type": "code",
   "execution_count": 170,
   "id": "b0518172",
   "metadata": {},
   "outputs": [
    {
     "data": {
      "text/plain": [
       "{'another', 'jireh', 'one_more'}"
      ]
     },
     "execution_count": 170,
     "metadata": {},
     "output_type": "execute_result"
    }
   ],
   "source": [
    "#Q5. The following function is written as a comprehension.\n",
    "# Please rewrite as inn the style of \"declare empty result, then add to the result, then return the result.\"\n",
    "# sample input is a dictionary. e.g.\n",
    "\n",
    "addresses = {\"jireh\": \"tampines\",\n",
    "             'simran': 'simei',\n",
    "             'ryan': 'tanjong pagar',\n",
    "             \"another\": \"tampines\",\n",
    "             \"one_more\": \"tampines\"\n",
    "            }\n",
    "\n",
    "def find_addss(address_book):\n",
    "    return {k.title() for k, v in address_book.items() if v == 'tampines'}\n",
    "\n",
    "find_addss(addresses)\n",
    "\n",
    "def find_addss(address_book):\n",
    "    result = set()\n",
    "    for k, v in address_book.items():\n",
    "        if v == \"tampines\":\n",
    "            result.add(k)\n",
    "    return result\n",
    "\n",
    "find_addss(addresses)"
   ]
  },
  {
   "cell_type": "code",
   "execution_count": 174,
   "id": "7a8b8122",
   "metadata": {},
   "outputs": [
    {
     "data": {
      "text/plain": [
       "1"
      ]
     },
     "execution_count": 174,
     "metadata": {},
     "output_type": "execute_result"
    }
   ],
   "source": [
    "# Q6. Write a function that computes the nth fibonacci number\n",
    "# 1, 1,    2,      3,       5,       8,     13,       21...\n",
    "# A, A, A+A = B, B+A = C, C+B = D, D+C = E, E+D = F, F+E = G\n",
    "\n",
    "def fibonacci(number):\n",
    "    count = 1\n",
    "    if number == 1 or 2:\n",
    "        return 1\n",
    "    for count_up in range(3,):\n",
    "        result = prev_count + new_count\n",
    "        new_count = prev_count + count\n",
    "        prev_count = count\n",
    "    return result\n",
    "    \n",
    "\n",
    "fibonacci(4)\n"
   ]
  }
 ],
 "metadata": {
  "kernelspec": {
   "display_name": "Python 3",
   "language": "python",
   "name": "python3"
  },
  "language_info": {
   "codemirror_mode": {
    "name": "ipython",
    "version": 3
   },
   "file_extension": ".py",
   "mimetype": "text/x-python",
   "name": "python",
   "nbconvert_exporter": "python",
   "pygments_lexer": "ipython3",
   "version": "3.8.8"
  }
 },
 "nbformat": 4,
 "nbformat_minor": 5
}
