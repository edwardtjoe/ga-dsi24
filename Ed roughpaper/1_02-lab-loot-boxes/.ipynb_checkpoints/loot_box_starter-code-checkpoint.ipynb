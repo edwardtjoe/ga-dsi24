{
 "cells": [
  {
   "cell_type": "markdown",
   "metadata": {},
   "source": [
    "# \"Fun with Loot Boxes\" Lab\n",
    "\n",
    "> Author: Caroline Schmitt, Matt Brems\n",
    "\n",
    "### Scenario:\n",
    "\n",
    "You're an analyst for [Zynga](https://en.wikipedia.org/wiki/Zynga), a gaming studio working on an event for an MMO (massively multiplayer online) game. This event is going to include **loot boxes**.\n",
    "\n",
    "<img src=\"https://vignette.wikia.nocookie.net/2007scape/images/0/06/Culinaromancer%27s_chest.png/revision/latest?cb=20180403231423\" alt=\"drawing\" width=\"150\"/> \n",
    "\n",
    "A loot box is basically a treasure chest in a game. This loot box can be opened to reveal a variety of items: some items are very rare and valuable, other items are common and less valuable. (You may consult [the esteemed Wikipedia](https://en.wikipedia.org/wiki/Loot_box) for a more extensive definition.)\n",
    "\n",
    "In our specific game, suppose that loot boxes can be obtained in one of two ways: \n",
    "- After every three hours of playing the game, a user will earn one loot box.\n",
    "- If the user wishes to purchase a loot box, they may pay $1 (in real money!) for a loot box.\n",
    "\n",
    "These loot boxes are very good for our business!\n",
    "- If a player earns a loot box, it means they are spending lots of time on the game. This often leads to advertisement revenue, they may tell their friends to join the game, etc.\n",
    "- If the player purchases a loot box, it means we've earned $1 from our customer.\n",
    "\n",
    "Suppose each loot box is opened to reveal either:\n",
    "- magical elixir (super rare, very valuable), or\n",
    "- nothing.\n",
    "\n",
    "Whether each loot box contains the elixir or nothing is **random**. Our boss wants some guidance on what sort of randomness to use on these loot boxes! \n",
    "- If the magical elixir is too rare, then users may not be motivated to try to get them, because they believe they'll never find the magical elixir.\n",
    "- If the magical elixir is too common, then users may not be motivated to try to get them, because the game has so much of the magical elixir that it isn't worthwhile to try to get it.\n",
    "\n",
    "However, our boss isn't a math-y type person! When explaining things to our boss, we need to explain the impact of our choices on the game as concretely as possible.\n",
    "\n",
    "### Version 1\n",
    "In our first version of the game, we'll say that loot boxes contain magical elixir 15% of the time and nothing 85% of the time.\n",
    "\n",
    "#### 1. Our boss asks, \"If a user buys 100 loot boxes, how many elixirs will they get?\" How would you respond?"
   ]
  },
  {
   "cell_type": "markdown",
   "metadata": {},
   "source": [
    "# Ed note:\n",
    "\n",
    "Probability of getting a magical elixir is .15\n",
    "P(Elixir): 0.15\n",
    "\n",
    "We assume a normal distribution with a mean of .15"
   ]
  },
  {
   "cell_type": "code",
   "execution_count": 475,
   "metadata": {},
   "outputs": [],
   "source": [
    "import numpy as np\n",
    "import matplotlib.pyplot as plt\n",
    "import scipy.stats as stats\n",
    "import math\n",
    "import pandas as pd"
   ]
  },
  {
   "cell_type": "markdown",
   "metadata": {},
   "source": [
    "# Ed Ans: On average, a user who buys 100 loot boxes will get 15 elixirs. But it's not exact."
   ]
  },
  {
   "cell_type": "code",
   "execution_count": 239,
   "metadata": {},
   "outputs": [
    {
     "data": {
      "text/plain": [
       "<BarContainer object of 100 artists>"
      ]
     },
     "execution_count": 239,
     "metadata": {},
     "output_type": "execute_result"
    },
    {
     "data": {
      "image/png": "[encoded data removed]",
      "text/plain": [
       "<Figure size 432x288 with 1 Axes>"
      ]
     },
     "metadata": {
      "needs_background": "light"
     },
     "output_type": "display_data"
    }
   ],
   "source": [
    "p_elixir = .15\n",
    "n_buys = 100\n",
    "\n",
    "loot_box = stats.binom(n_buys, p_elixir)\n",
    "\n",
    "loot_get = list(range(1, 101))\n",
    "plt.bar(loot_get,\n",
    "        loot_box.pmf(loot_get))"
   ]
  },
  {
   "cell_type": "markdown",
   "metadata": {},
   "source": [
    "#### 2. Our boss asks, \"How many loot boxes does someone have to purchase in order to definitely get elixir?\" How would you respond?"
   ]
  },
  {
   "cell_type": "markdown",
   "metadata": {},
   "source": [
    "# Ed Ans: There is no 100% sure chance they will get it. "
   ]
  },
  {
   "cell_type": "markdown",
   "metadata": {},
   "source": [
    "#### 3. Our boss asks, \"If a user earns 100 loot boxes, what is the chance that a user gets more than 20 elixirs?\" This is a bit more complicated, so let's break it down before answering."
   ]
  },
  {
   "cell_type": "markdown",
   "metadata": {},
   "source": [
    "#### 3a. Let's suppose my random variable $X$ counts up how many elixirs I observe out of my 100 loot boxes. Why is $X$ a discrete random variable?"
   ]
  },
  {
   "cell_type": "markdown",
   "metadata": {},
   "source": [
    "# Ed Ans: X is a discrete random variable because it is either a \"1\" or \"0\" (countable) and random because it has probability 0.15"
   ]
  },
  {
   "cell_type": "markdown",
   "metadata": {},
   "source": [
    "#### 3b. Recall our discrete distributions: discrete uniform, Bernoulli, binomial, Poisson. Let's suppose my random variable $X$ counts up how many elixirs I observe out of my 100 loot boxes. What distribution is best suited for $X$? Why?\n",
    "- Hint: It may help to consider getting the magical elixir a \"success\" and getting nothing a \"failure.\" "
   ]
  },
  {
   "cell_type": "markdown",
   "metadata": {},
   "source": [
    "# Ed Ans: Best distribution is Binomial. Binomial distributions can have multiple trials. Binomial are multiple bernoulli distributions. And this Bernoulli has:\n",
    "# Parameter used is the 100 observations\n",
    "# Probability of occurrence is 15%"
   ]
  },
  {
   "cell_type": "markdown",
   "metadata": {},
   "source": [
    "#### 3c. Our boss asks, \"If a user earns 100 loot boxes, what is the chance that a user gets more than 20 elixirs?\" Use the probability mass function to answer the boss' question."
   ]
  },
  {
   "cell_type": "code",
   "execution_count": 317,
   "metadata": {},
   "outputs": [],
   "source": [
    "def plot_distn(rv, lb, ub, kind=\"pdf\"):\n",
    "    xs = np.linspace(lb, ub, 1000)\n",
    "    \n",
    "    if kind == \"pdf\":\n",
    "        ys = rv.pdf(xs)\n",
    "    elif kind == \"cdf\":\n",
    "        ys = rv.cdf(xs)\n",
    "        \n",
    "    plt.figure(figsize=(14, 5))\n",
    "    plt.plot(xs, ys, linewidth=3, color=\"navy\")"
   ]
  },
  {
   "cell_type": "code",
   "execution_count": 339,
   "metadata": {},
   "outputs": [
    {
     "data": {
      "text/plain": [
       "0.06631976581888699"
      ]
     },
     "execution_count": 339,
     "metadata": {},
     "output_type": "execute_result"
    }
   ],
   "source": [
    "# Show your work; leave your answer in a comment.\n",
    "prob_elixir = 0.15   # Probability of getting an elixir by opening a box\n",
    "loot_boxes = 100     # Number of loot boxes opened\n",
    "\n",
    "possible_outcomes = list(range(0, 101)) # Possible outcomes is from 0 to 100\n",
    "\n",
    "total_pmf_20 = 0\n",
    "for loop in range(0, 21):\n",
    "    total_pmf_20 += stats.binom(loot_boxes, prob_elixir).pmf(loop)\n",
    "\n",
    "1 - total_pmf_20\n",
    "\n",
    "# ANSWER: 0.0663"
   ]
  },
  {
   "cell_type": "code",
   "execution_count": 344,
   "metadata": {},
   "outputs": [
    {
     "data": {
      "text/plain": [
       "0.040224490661414626"
      ]
     },
     "execution_count": 344,
     "metadata": {},
     "output_type": "execute_result"
    },
    {
     "data": {
      "image/png": "[encoded data removed]",
      "text/plain": [
       "<Figure size 432x288 with 1 Axes>"
      ]
     },
     "metadata": {
      "needs_background": "light"
     },
     "output_type": "display_data"
    }
   ],
   "source": [
    "# This gets us the pmf bar chart of \n",
    "loot_box_dist = stats.binom(loot_boxes, prob_elixir)\n",
    "plt.bar(possible_outcomes,\n",
    "        loot_box_dist.pmf(possible_outcomes))\n",
    "\n",
    "# This one gets us the probability ONLY when you get 20 elixir.\n",
    "stats.binom(loot_boxes, prob_elixir).pmf(20)"
   ]
  },
  {
   "cell_type": "markdown",
   "metadata": {},
   "source": [
    "#### 3d. Our boss asks, \"If a user earns 100 loot boxes, what is the chance that a user gets more than 20 elixirs?\" Use the cumulative distribution function to answer the boss' question."
   ]
  },
  {
   "cell_type": "code",
   "execution_count": 345,
   "metadata": {},
   "outputs": [
    {
     "data": {
      "text/plain": [
       "0.06631976581888166"
      ]
     },
     "execution_count": 345,
     "metadata": {},
     "output_type": "execute_result"
    }
   ],
   "source": [
    "# Show your work; leave your answer in a comment.\n",
    "\n",
    "# This is SUM of 0 - 20\n",
    "\n",
    "1 - stats.binom(loot_boxes, prob_elixir).cdf(20) \n",
    "\n",
    "# ANSWER: 0.0553"
   ]
  },
  {
   "cell_type": "markdown",
   "metadata": {},
   "source": [
    "#### 3e. Our boss asks, \"If a user earns 100 loot boxes, what is the chance that a user gets more than 20 elixirs?\" Answer your boss' question. *Remember that your boss is not a math-y person!*"
   ]
  },
  {
   "cell_type": "code",
   "execution_count": 353,
   "metadata": {},
   "outputs": [],
   "source": [
    "loot_box_outcome = np.array([0] * 85 + [1] * 15)\n",
    "loot_box_outcome\n",
    "def twenty_prob(n):\n",
    "    count = 0\n",
    "    for _ in range(n):\n",
    "        loot_box_result = np.random.choice(loot_box_outcome, size = 100)\n",
    "        if sum(loot_box_result) > 20:\n",
    "            count += 1\n",
    "    return count / n"
   ]
  },
  {
   "cell_type": "code",
   "execution_count": 355,
   "metadata": {},
   "outputs": [
    {
     "name": "stdout",
     "output_type": "stream",
     "text": [
      "A user earning 100 loot boxes has a 6.64 % chance of getting more than 20 elixirs\n"
     ]
    }
   ],
   "source": [
    "print(f\"A user earning 100 loot boxes has a {round((twenty_prob(100_000) * 100), 2)} % \\\n",
    "chance of getting more than 20 elixirs\")"
   ]
  },
  {
   "cell_type": "markdown",
   "metadata": {},
   "source": [
    "#### 4. Your boss wants to know how many people purchased how many loot boxes last month. \n",
    "> For example, last month, 70% of users did not purchase any loot boxes. 10% of people purchased one loot box. 5% of people purchased two loot boxes... and so on.\n",
    "\n",
    "#### 4a. Recall our discrete distributions: discrete uniform, Bernoulli, binomial, Poisson. Let's suppose my random variable $Y$ counts up how many loot boxes each person purchased through the game last month. What distribution is best suited for $Y$? Why?"
   ]
  },
  {
   "cell_type": "markdown",
   "metadata": {},
   "source": [
    "# Answer: Poisson.\n",
    "1. Poisson distributions observe occurrences in a fixed period of time. \n",
    "2. Two events do not occur at the same time\n",
    "3. The events are independent from one another\n",
    "4. Rate of purchase is constant (70% no purchase, 10% purchase one loot, 5% two loot...)"
   ]
  },
  {
   "cell_type": "markdown",
   "metadata": {},
   "source": [
    "#### 4b. Suppose that, on average, your customers purchased 2.7 loot boxes last month. In order for your revenue to be at least $500,000, at least how many users would you need on your platform? (Round your answer up to the nearest thousand.) "
   ]
  },
  {
   "cell_type": "code",
   "execution_count": 421,
   "metadata": {},
   "outputs": [
    {
     "data": {
      "text/plain": [
       "185000.0"
      ]
     },
     "execution_count": 421,
     "metadata": {},
     "output_type": "execute_result"
    }
   ],
   "source": [
    "# Show your work; leave your answer in a comment.\n",
    "\n",
    "total_users = round(500000/2.7, -3)\n",
    "total_users\n",
    "# Answer: 185,000"
   ]
  },
  {
   "cell_type": "markdown",
   "metadata": {},
   "source": [
    "#### 4c. Assume that your platform has the numer of users you mentioned in your last answer. Suppose that your platform calls anyone who purchases 5 or more loot boxes in a month a \"high value user.\" How much money do you expect to have earned from \"high value users?\" How about \"low value users?\""
   ]
  },
  {
   "cell_type": "code",
   "execution_count": 629,
   "metadata": {},
   "outputs": [
    {
     "data": {
      "image/png": "[encoded data removed]",
      "text/plain": [
       "<Figure size 432x288 with 1 Axes>"
      ]
     },
     "metadata": {
      "needs_background": "light"
     },
     "output_type": "display_data"
    }
   ],
   "source": [
    "# Show your work; leave your answer in a comment.\n",
    "\n",
    "# So high value use is when purchase is 5 or more\n",
    "# low value user is when purchase is 4 or less\n",
    "\n",
    "lmbda = 2.7 # This is the mean given in 4b\n",
    "distribution = stats.poisson(lmbda)\n",
    "\n",
    "xvalues = list(range(10))  # This is the values of x, the horizontal line\n",
    "\n",
    "# This gives us a step graph of the cumulative distribution\n",
    "plt.step(xvalues,\n",
    "         distribution.cdf(xvalues))\n",
    "plt.xticks(xvalues);"
   ]
  },
  {
   "cell_type": "code",
   "execution_count": 636,
   "metadata": {},
   "outputs": [
    {
     "data": {
      "text/plain": [
       "0.6742937169785529"
      ]
     },
     "execution_count": 636,
     "metadata": {},
     "output_type": "execute_result"
    },
    {
     "data": {
      "image/png": "[encoded data removed]",
      "text/plain": [
       "<Figure size 432x288 with 1 Axes>"
      ]
     },
     "metadata": {
      "needs_background": "light"
     },
     "output_type": "display_data"
    }
   ],
   "source": [
    "# Question from: https://www.youtube.com/watch?v=jmqZG6roVqU\n",
    "\n",
    "x_lmbda = 2.3 * 2\n",
    "x_distn = stats.poisson(x_lmbda)\n",
    "\n",
    "x_values = list(range(12))\n",
    "plt.bar(x_values, x_distn.pmf(x_values))\n",
    "plt.xticks(x_values);\n",
    "\n",
    "1 - x_distn.cdf(3)"
   ]
  },
  {
   "cell_type": "code",
   "execution_count": 582,
   "metadata": {},
   "outputs": [
    {
     "data": {
      "text/plain": [
       "356689"
      ]
     },
     "execution_count": 582,
     "metadata": {},
     "output_type": "execute_result"
    }
   ],
   "source": [
    "distribution.mean() # Equals 2.7, since duh\n",
    "\n",
    "distribution.median() # Equals 3 since 2.7 is closest to 3\n",
    "\n",
    "# The sum proportion of users who are in \"low value\" category\n",
    "distribution.cdf(5) # 0.0567316663016012 = 5.67%\n",
    "\n",
    "low_value_revenue = 0\n",
    "for purchase_count in range(1, 5):\n",
    "    low_value_revenue += (distribution.pmf(purchase_count) * total_users * purchase_count)\n",
    "\n",
    "low_value_revenue = round(low_value_revenue)\n",
    "low_value_revenue\n",
    "\n",
    "# Remember that total revenue is $500k, therefore:\n",
    "\n",
    "# high_value_revenue = 500_000 - low_value_revenue\n",
    "# high_value_revenue"
   ]
  },
  {
   "cell_type": "code",
   "execution_count": 463,
   "metadata": {},
   "outputs": [
    {
     "data": {
      "text/plain": [
       "142811"
      ]
     },
     "execution_count": 463,
     "metadata": {},
     "output_type": "execute_result"
    }
   ],
   "source": [
    "high_value_revenue = 0\n",
    "for purchase_count in range(5, 100):\n",
    "    high_value_revenue += (distribution.pmf(purchase_count) * total_users * purchase_count)\n",
    "\n",
    "high_value_revenue = round(high_value_revenue)\n",
    "high_value_revenue"
   ]
  },
  {
   "cell_type": "code",
   "execution_count": 590,
   "metadata": {},
   "outputs": [
    {
     "name": "stdout",
     "output_type": "stream",
     "text": [
      "We can expect to earn $142811 from 'high value users' while earning $356689 from 'low value users'\n"
     ]
    }
   ],
   "source": [
    "# # ANSWER:\n",
    "# print(f\"We can expect to earn ${high_value_revenue} from 'high value users' \\\n",
    "# while earning ${low_value_revenue} from 'low value users'\")"
   ]
  },
  {
   "cell_type": "code",
   "execution_count": 591,
   "metadata": {},
   "outputs": [
    {
     "data": {
      "text/plain": [
       "0.28590790790790793"
      ]
     },
     "execution_count": 591,
     "metadata": {},
     "output_type": "execute_result"
    }
   ],
   "source": [
    "high_revenue_proportion = high_value_revenue / (high_value_revenue + low_value_revenue)\n",
    "high_revenue_proportion"
   ]
  },
  {
   "cell_type": "code",
   "execution_count": 594,
   "metadata": {},
   "outputs": [
    {
     "data": {
      "text/plain": [
       "0.0567316663016012"
      ]
     },
     "execution_count": 594,
     "metadata": {},
     "output_type": "execute_result"
    }
   ],
   "source": [
    "high_revenue_players_proportion = 1 - distribution.cdf(5)\n",
    "high_revenue_players_proportion"
   ]
  },
  {
   "cell_type": "code",
   "execution_count": 608,
   "metadata": {},
   "outputs": [
    {
     "data": {
      "text/plain": [
       "0.9351351351351351"
      ]
     },
     "execution_count": 608,
     "metadata": {},
     "output_type": "execute_result"
    }
   ],
   "source": [
    "buy_at_least_one = round(((1 - distribution.cdf(0)) * total_users), -3)\n",
    "buy_at_least_one # 173_000\n",
    "buy_at_least_one_proportion = buy_at_least_one / total_users\n",
    "buy_at_least_one_proportion"
   ]
  },
  {
   "cell_type": "code",
   "execution_count": 615,
   "metadata": {},
   "outputs": [
    {
     "data": {
      "text/plain": [
       "(34000.0, 0.1837837837837838)"
      ]
     },
     "execution_count": 615,
     "metadata": {},
     "output_type": "execute_result"
    }
   ],
   "source": [
    "buy_at_least_two = round(((1 - distribution.cdf(1)) * total_users), -3)\n",
    "buy_at_least_two # 139_000\n",
    "buy_one = buy_at_least_one - buy_at_least_two\n",
    "buy_one\n",
    "buy_one_proportion = (buy_at_least_one - buy_at_least_two) / total_users\n",
    "buy_one, buy_one_proportion"
   ]
  },
  {
   "cell_type": "markdown",
   "metadata": {},
   "source": [
    "#### 4d. Suppose that you want to summarize how many people purchased how many loot boxes last month for your boss. Since your boss isn't math-y, what are 2-4 summary numbers you might use to summarize this for your boss? (Your answers will vary here - use your judgment!)"
   ]
  },
  {
   "cell_type": "markdown",
   "metadata": {},
   "source": [
    "173,000, or equivalent to 93.5% of people purchase at least one loot box, suggesting a high rate of purchase participation. \n",
    "\n",
    "34,000, or equivalent to 18.4% of all users, purchase exactly one loot box.\n",
    "\n",
    "In discriminating between low and high value users based on whether or not they purchased 5 loot boxes in a month, we see that a small amount of users (the high value users, 5.7% of total users) account for 28.6% of total purchases. \n",
    "\n"
   ]
  },
  {
   "cell_type": "markdown",
   "metadata": {},
   "source": [
    "#### 5. Your boss asks \"How many loot boxes does it take before someone gets their first elixir?\" Using `np.random.choice`, simulate how many loot boxes it takes somone to get their first elixir. \n",
    "- Start an empty list.\n",
    "- Use control flow to have someone open loot boxes repeatedly.\n",
    "- Once they open a loot box containing an elixir, record the number of loot boxes it took in the empty list.\n",
    "- Repeat this process 100,000 times. \n",
    "\n",
    "This simulates how long it takes for someone to open a loot box containing elixir. Share the 5th, 25th, 50th, 75th, and 95th percentiles.\n",
    "\n",
    "> You may find [this documentation](https://docs.scipy.org/doc/numpy/reference/generated/numpy.random.choice.html)  and [this documentation](https://docs.scipy.org/doc/numpy/reference/generated/numpy.percentile.html) helpful."
   ]
  },
  {
   "cell_type": "code",
   "execution_count": 709,
   "metadata": {},
   "outputs": [
    {
     "data": {
      "text/plain": [
       "array([ 3., 11.,  3., ...,  5.,  6.,  4.])"
      ]
     },
     "execution_count": 709,
     "metadata": {},
     "output_type": "execute_result"
    }
   ],
   "source": [
    "loot_box_outcome = np.array([1] * 15 + [0] * 85)\n",
    "loot_box_outcome\n",
    "\n",
    "np.random.seed(42)\n",
    "def first_elixir(n):\n",
    "    attempts = np.array([])\n",
    "    for _ in range(n):\n",
    "        count = 1\n",
    "        while np.random.choice(loot_box_outcome) == 0:\n",
    "            count += 1\n",
    "        attempts = np.append(attempts, count)\n",
    "    return attempts\n",
    "\n",
    "first_elixir(10_000)"
   ]
  },
  {
   "cell_type": "code",
   "execution_count": 713,
   "metadata": {},
   "outputs": [
    {
     "data": {
      "text/plain": [
       "array([ 1.,  2.,  5.,  9., 19.])"
      ]
     },
     "execution_count": 713,
     "metadata": {},
     "output_type": "execute_result"
    }
   ],
   "source": [
    "attempts.describe()\n",
    "np.quantile(attempts, [0.05, 0.25, 0.5, 0.75, 0.95])"
   ]
  },
  {
   "cell_type": "code",
   "execution_count": 640,
   "metadata": {},
   "outputs": [],
   "source": [
    "elixir_distribution = stats.binom(100, 0.15)\n",
    "\n",
    "elixir_obtained_outcome = list(range(0, 101))\n",
    "\n",
    "plt.bar(elixir_obtained_outcome,\n",
    "       elixir_distribution.pmf(elixir_obtained_outcome))"
   ]
  },
  {
   "cell_type": "code",
   "execution_count": 579,
   "metadata": {},
   "outputs": [
    {
     "data": {
      "text/plain": [
       "0.8934557435197008"
      ]
     },
     "execution_count": 579,
     "metadata": {},
     "output_type": "execute_result"
    }
   ],
   "source": [
    "elixir_distribution.cdf(19)"
   ]
  },
  {
   "cell_type": "markdown",
   "metadata": {},
   "source": [
    "# Ans: The percentiles to attempts are as such:\n",
    "5%  = 1\n",
    "\n",
    "25% = 2\n",
    "\n",
    "50% = 5\n",
    "\n",
    "75% = 9\n",
    "\n",
    "95% = 19"
   ]
  },
  {
   "cell_type": "markdown",
   "metadata": {},
   "source": [
    "### Version 2\n",
    "\n",
    "After a substantial update to the game, suppose every loot box can be opened to reveal *one of four different* items:\n",
    "- magical elixir (occurs 1% of the time, most valuable)\n",
    "- golden pendant (occurs 9% of the time, valuable)\n",
    "- steel armor (occurs 30% of the time, semi-valuable)\n",
    "- bronze coin (occurs 60% of the time, least valuable)"
   ]
  },
  {
   "cell_type": "markdown",
   "metadata": {},
   "source": [
    "#### 6. Suppose you want repeat problem 5 above, but do that for the version 2 loot boxes so you can track how many loot boxes are needed to get each item? (e.g. You'd like to be able to say that on average it takes 10 trials to get a golden pendant, 3 trials to get steel armor, and so on.) What Python datatype is the best way to store this data? Why?"
   ]
  },
  {
   "cell_type": "markdown",
   "metadata": {},
   "source": [
    "A dictionary.\n",
    "\n",
    "Dictionaries allow storage of key-value pairs where the key is the type of item obtained while the value is the chance of getting the item."
   ]
  },
  {
   "cell_type": "markdown",
   "metadata": {},
   "source": [
    "# Try Q6.\n",
    "magical elixir (occurs 1% of the time, most valuable)\n",
    "golden pendant (occurs 9% of the time, valuable)\n",
    "steel armor (occurs 30% of the time, semi-valuable)\n",
    "bronze coin (occurs 60% of the time, least valuable)"
   ]
  },
  {
   "cell_type": "code",
   "execution_count": 899,
   "metadata": {},
   "outputs": [
    {
     "data": {
      "text/plain": [
       "array(['armor', 'armor', 'coin', 'coin', 'coin', 'coin', 'coin', 'coin',\n",
       "       'pendant', 'pendant'], dtype='<U7')"
      ]
     },
     "execution_count": 899,
     "metadata": {},
     "output_type": "execute_result"
    }
   ],
   "source": [
    "# Ok this one's a bit cheating since I'm using two lists instead of just one dictionary.\n",
    "# Problem is that p=item_probability only takes 1-D but dictionaries are not 1-D\n",
    "\n",
    "item_probability = [0.01, 0.09, 0.3, 0.6]\n",
    "item_names = [\"elixir\", \"pendant\", \"armor\", \"coin\"]\n",
    "\n",
    "def open_loot_box(n):\n",
    "    item_obtained = []\n",
    "    for _ in range(n):\n",
    "        item_obtained = np.random.choice(item_names, n, replace=True, p=item_probability)\n",
    "    return item_obtained\n",
    "\n",
    "result = open_loot_box(10)\n",
    "result.sort()\n",
    "result"
   ]
  },
  {
   "cell_type": "markdown",
   "metadata": {},
   "source": [
    "# HOLY CRAP THIS WORKSSSSSSS"
   ]
  },
  {
   "cell_type": "code",
   "execution_count": 910,
   "metadata": {},
   "outputs": [
    {
     "data": {
      "text/plain": [
       "array(['armor', 'armor', 'coin', 'coin', 'coin', 'pendant', 'armor',\n",
       "       'pendant', 'coin', 'coin'], dtype='<U7')"
      ]
     },
     "execution_count": 910,
     "metadata": {},
     "output_type": "execute_result"
    }
   ],
   "source": [
    "# So the key is to split the keys (pun intended) and probabilities into two lists\n",
    "# within the function.\n",
    "# https://stackoverflow.com/questions/40927221/how-to-choose-keys-from-a-python-dictionary-based-on-weighted-probability/40927437\n",
    "\n",
    "loot_box_outcome_v2 = {\n",
    "    \"elixir\": 0.01,\n",
    "    \"pendant\": 0.09,\n",
    "    \"armor\": 0.30,\n",
    "    \"coin\": 0.60,\n",
    "}\n",
    "\n",
    "def open_loot_box(n):\n",
    "    item_keys = []\n",
    "    item_probs = []\n",
    "    for keys, probs in loot_box_outcome_v2.items():\n",
    "        item_keys.append(keys)\n",
    "        item_probs.append(probs)\n",
    "        \n",
    "    for _ in range(n):\n",
    "        item_obtained = np.random.choice(item_keys, n, replace=True, \\\n",
    "                                         p=item_probs)\n",
    "    return item_obtained\n",
    "\n",
    "open_loot_box(10)"
   ]
  },
  {
   "cell_type": "markdown",
   "metadata": {},
   "source": [
    "#### 7. Suppose you and your boss want to measure whether \"Version 2\" is better than \"Version 1.\" What metrics do you think are important to measure? (Your answers will vary here - use your judgment!)"
   ]
  },
  {
   "cell_type": "markdown",
   "metadata": {},
   "source": [
    "1. Proportion of users purchasing at least one loot box. This shows whether there is a difference between participation in Version 2 as compared to Version 1.\n",
    "2. Proportion of users purchasing two loot boxes. This shows whether there is an increased 'motivation' to purchase another loot box with the different rewards in Version 2 vs Version 1.\n",
    "3. Total number of loot boxes purchased and resulting revenue.\n",
    "4. Comparing recurrent purchases on Version 2 vs Version 1 to compare whether or not there is a difference in purchase habits."
   ]
  }
 ],
 "metadata": {
  "kernelspec": {
   "display_name": "Python 3",
   "language": "python",
   "name": "python3"
  },
  "language_info": {
   "codemirror_mode": {
    "name": "ipython",
    "version": 3
   },
   "file_extension": ".py",
   "mimetype": "text/x-python",
   "name": "python",
   "nbconvert_exporter": "python",
   "pygments_lexer": "ipython3",
   "version": "3.8.8"
  }
 },
 "nbformat": 4,
 "nbformat_minor": 2
}
