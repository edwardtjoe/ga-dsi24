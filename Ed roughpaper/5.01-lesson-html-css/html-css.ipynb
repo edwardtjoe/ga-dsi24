{
 "cells": [
  {
   "cell_type": "markdown",
   "metadata": {
    "slideshow": {
     "slide_type": "notes"
    }
   },
   "source": [
    "> **Jupyter slideshow:** This notebook can be displayed as slides. To view it as a slideshow in your browser type in the console:\n",
    "\n",
    "\n",
    "> `> jupyter nbconvert [this_notebook.ipynb] --to slides --post serve`\n",
    "\n",
    "\n",
    "> To toggle off the slideshow cell formatting, click the `CellToolbar` button, then `View --> Cell Toolbar --> None`"
   ]
  },
  {
   "cell_type": "markdown",
   "metadata": {
    "slideshow": {
     "slide_type": "slide"
    }
   },
   "source": [
    "<img src=\"http://imgur.com/1ZcRyrc.png\" style=\"float: left; margin: 20px; height: 55px\">\n",
    "\n",
    "# Introduction to HTML and CSS\n",
    "\n",
    "_Authors: Alexander Combs (NYC)_\n",
    "\n",
    "---\n",
    "\n",
    "<a id=\"learning-objectives\"></a>\n",
    "### Learning Objectives\n",
    "*After this lesson, you will be able to:*\n",
    "- Create a HTML document from scratch\n",
    "- Describe the most common HTML tags and their usage\n",
    "- Explain how CSS can be used to modify the display of HTML\n",
    "- Demonstrate how to access HTML elements using CSS\n",
    "- Explain the DOM (Document Object Model)\n",
    "\n",
    "\n",
    "#### Note: This lesson utilizes notebook features only available in Google Chrome.  It is recommended that you open this lesson in a Chrome window."
   ]
  },
  {
   "cell_type": "markdown",
   "metadata": {
    "slideshow": {
     "slide_type": "slide"
    }
   },
   "source": [
    "### Lesson Guide\n",
    "- [What is HTML?](#what-is-html)\n",
    "- [The basics of HTML](#the-basics-of-html)\n",
    "\t- [The basic HTML document structure](#the-basic-html-document-structure)\n",
    "\t- [The two types of tags](#the-two-types-of-tags)\n",
    "\t- [Some common tags](#some-common-tags)\n",
    "\t- [Nesting tags](#nesting-tags)\n",
    "\t- [Exercise](#exercise)\n",
    "- [Styling](#styling)\n",
    "\t- [Exercise](#exercise)\n",
    "- [Enter CSS](#enter-css)\n",
    "\t- [Example of a css sheet, e.g., theme.css](#example-of-a-css-sheet-eg-themecss)\n",
    "\t- [How to modify HTML elements with CSS](#how-to-modify-html-elements-with-css)\n",
    "\t- [Getting a little fancy with it...](#getting-a-little-fancy-with-it)\n",
    "\t- [Exercise](#exercise)\n",
    "- [The DOM](#the-dom)\n",
    "\t- [Example - A table defined using HTML](#example---a-table-defined-using-html)\n",
    "\t- [Example - The DOM of an HTML table](#example---the-dom-of-an-html-table)\n",
    "\t- [Exercise](#exercise)\n",
    "- [Conclusion](#conclusion)\n",
    "\t- [Solution Code for CSS Challenge](#solution-code-for-css-challenge)\n",
    "- [Independent practice](#independent-practice)\n"
   ]
  },
  {
   "cell_type": "code",
   "execution_count": 8,
   "metadata": {
    "slideshow": {
     "slide_type": "skip"
    }
   },
   "outputs": [
    {
     "data": {
      "text/plain": [
       "5.5"
      ]
     },
     "execution_count": 8,
     "metadata": {},
     "output_type": "execute_result"
    }
   ],
   "source": [
    "import pandas as pd\n",
    "import matplotlib.pyplot as plt\n",
    "import numpy as np\n",
    "%matplotlib inline\n",
    "\n",
    "\n",
    "\n",
    "list_abc = [1, 2, 3, 4, 5, 6, 7, 8, 9, 10]\n",
    "\n",
    "np.std(list_abc)\n",
    "np.mean(list_abc)\n",
    "\n",
    "# Standard Scaler: (list_abc - 5.5) / 2.87\n",
    "\n"
   ]
  },
  {
   "cell_type": "markdown",
   "metadata": {
    "slideshow": {
     "slide_type": "slide"
    }
   },
   "source": [
    "<a id=\"what-is-html\"></a>\n",
    "## What is HTML?\n",
    "---\n",
    "\n",
    "**Is it code?**\n",
    "\n",
    "No.\n",
    "\n",
    "It is a markup language.\n",
    "\n",
    ">The term markup is derived from the traditional publishing practice of \"marking up\" a manuscript, which involves adding handwritten annotations in the form of conventional symbolic printer's instructions in the margins and text of a paper manuscript or printed proof. For centuries, this task was done primarily by skilled typographers known as \"markup men\"[5] or \"copy markers\"[6] who marked up text to indicate what typeface, style, and size should be applied to each part, and then passed the manuscript to others for typesetting by hand. Markup was also commonly applied by editors, proofreaders, publishers, and graphic designers, and indeed by document authors."
   ]
  },
  {
   "cell_type": "markdown",
   "metadata": {
    "slideshow": {
     "slide_type": "slide"
    }
   },
   "source": [
    "![](./assets/images/copy-editing2.png)"
   ]
  },
  {
   "cell_type": "markdown",
   "metadata": {
    "slideshow": {
     "slide_type": "slide"
    }
   },
   "source": [
    "**Why learn about HTML in a data science class?**\n",
    "\n",
    "- Building dashboards/frontends \n",
    "- Visualizations (D3)\n",
    "- Webscraping"
   ]
  },
  {
   "cell_type": "markdown",
   "metadata": {
    "slideshow": {
     "slide_type": "slide"
    }
   },
   "source": [
    "<a id=\"the-basics-of-html\"></a>\n",
    "## The basics of HTML\n",
    "---\n",
    "\n",
    "HTML is composed of \"tags\". These tags provide structure to the document and may (or may not depending on the tag) imply that content should be rendered by the browser in some manner specific to that tag."
   ]
  },
  {
   "cell_type": "markdown",
   "metadata": {
    "slideshow": {
     "slide_type": "slide"
    }
   },
   "source": [
    "<a id=\"the-basic-html-document-structure\"></a>\n",
    "### The basic HTML document structure\n",
    "\n",
    "![](./assets/images/html-structure.png)"
   ]
  },
  {
   "cell_type": "markdown",
   "metadata": {
    "slideshow": {
     "slide_type": "slide"
    }
   },
   "source": [
    "<a id=\"the-two-types-of-tags\"></a>\n",
    "### The two types of tags\n",
    "\n",
    "![](./assets/images/two-tags.png)"
   ]
  },
  {
   "cell_type": "markdown",
   "metadata": {
    "slideshow": {
     "slide_type": "slide"
    }
   },
   "source": [
    "<a id=\"some-common-tags\"></a>\n",
    "### Some common tags\n",
    "\n",
    "![](./assets/images/common-tags.png)"
   ]
  },
  {
   "cell_type": "markdown",
   "metadata": {
    "slideshow": {
     "slide_type": "slide"
    }
   },
   "source": [
    "<a id=\"nesting-tags\"></a>\n",
    "### Nesting tags\n",
    "\n",
    "![](./assets/images/nesting-tags.png)"
   ]
  },
  {
   "cell_type": "markdown",
   "metadata": {
    "slideshow": {
     "slide_type": "slide"
    }
   },
   "source": [
    "<a id=\"exercise\"></a>\n",
    "### Exercise \n",
    "\n",
    "Create an HTML page from scatch using CodePen. \n",
    "\n",
    "It should include the following tags:\n",
    "\n",
    "- html, head, title, body, div, p, ul, li, and an img\n",
    "\n",
    "If you are unsure how to use a tag use [https://www.w3schools.com/html/default.asp](https://www.w3schools.com/html/default.asp) as a reference\n",
    "\n",
    "*You can skip the doc type declaration since CodePen takes care of this for you.*\n",
    "\n",
    "Write the code here: [https://codepen.io/pen](http://codepen.io/pen/)"
   ]
  },
  {
   "cell_type": "markdown",
   "metadata": {
    "slideshow": {
     "slide_type": "slide"
    }
   },
   "source": [
    "<a id=\"styling\"></a>\n",
    "## Styling\n",
    "---\n",
    "\n",
    "\n",
    "Originally, the presentation of an HTML document was modified through inline style attributes.\n",
    "\n",
    "<br>\n",
    "\n",
    "```HTML\n",
    "<p style=\"color: red\">This is red text!</p>\n",
    "```\n",
    "<p style=\"color: red\">This is red text!</p>\n",
    "\n",
    "<br>\n",
    "\n",
    "```HTML\n",
    "<p style=\"font-size: 250%\">This is huge text!</p>\n",
    "```\n",
    "<p style=\"font-size: 250%\">This is huge text!</p>\n",
    "\n",
    "<br>\n",
    "\n",
    "```HTML\n",
    "<p style=\"background-color: dodgerblue\">This has a blue background!</p>\n",
    "```\n",
    "<p style=\"background-color: dodgerblue\">This has a blue background!</p>\n"
   ]
  },
  {
   "cell_type": "markdown",
   "metadata": {
    "slideshow": {
     "slide_type": "slide"
    }
   },
   "source": [
    "<a id=\"exercise\"></a>\n",
    "### Exercise\n",
    "\n",
    "Now add some inline styling to your markup. You can find a reference here: [Style Attributes](http://www.w3schools.com/cssref/default.asp#textdecor)"
   ]
  },
  {
   "cell_type": "markdown",
   "metadata": {
    "slideshow": {
     "slide_type": "slide"
    }
   },
   "source": [
    "<html>\n",
    "<head>\n",
    "<title>Page Title</title>\n",
    "</head>\n",
    "<body>\n",
    "\n",
    "<h1>This is a Heading</h1>\n",
    "<p>This is a paragraph.</p>\n",
    "<img src=\"data:image/jpeg;base64,/9j/4AAQSkZJRgABAQAAAQABAAD/2wCEAAoHCBYWFRgWFhUZGRgaHBwYHBoYGBoYGBoYGhgZGhgaGBgcIy4lHB4rHxwZJjgmKy8xNTU2GiQ7QDs0Py40NTEBDAwMEA8QHxISHzQrJSs2NDQ0NDQ0NDQ0NDQ0NDQ0NDQ0NDQ0NDQ0NDQ0NDQ0NDQ0NDQ0NDQ0NDQ0NDQ0NDQ0NP/AABEIAMIBAwMBIgACEQEDEQH/xAAbAAACAwEBAQAAAAAAAAAAAAAEBQIDBgEAB//EAD0QAAIBAwMCBAQEAwYGAwEAAAECEQADIQQSMQVBIlFhcQYygZETobHwFEJSIzNicsHRJIKSsuHxFSXyB//EABkBAAMBAQEAAAAAAAAAAAAAAAECAwAEBf/EACYRAAICAgICAgICAwAAAAAAAAABAhEhMQMSQVEEIhMyQmEzcYH/2gAMAwEAAhEDEQA/AMuNXJq/caV6Ky004SwYpcs86kVG7Ufxa41o1UyEULZkiGpeaDtvBoi7QrqaDVlYxVDLTayKMTVTWdFw0dpHopsWUKHyMWq/ZUNGsijktVSiIA6VBXimh0+KHuaWg0ArR65dcVF1iqZoWYmNTBq4a3FBPpyc0V0vpD3WgGAO5/QeZrdmikIOTpHnvTgAk+QEn7Uba6LcK7mZEEj5myJ9APymmFrp+3+zsqjONwa46bgDjw94x5H6Vy/8MOVY3LzF5kbfCpAGAR5YpXI7IfFX8gX/AOAR52alPTeuwHzzuPfFD674WvoN3hYdiCADPETmkXVdSbFzYjEzgSQX3EkkxPA8v0rZ9U+ILn4NpSjq9wbhvAc4xKjEk+dbDVlX8eF1Rn9L0O/cJVFEqCSC0cf+xnio634b1KIHKBkPdGDR7gZFau3t01pr15GRypRdpPhAEyAvr3NJNF8XEnYd5kZglgSfQ4gjt6Gh1EfxYPVmYgqYIIPkRB+1FW3ra2bWl1JIZJY8lm8QxjuB5eXesx1fo76dvEJTsyywGcBjGDWqjnn8dx1ooD15nodHrzvW7EuhG5ciq1v1RdahXc00ZB60M21NCXrs0L+Iaiz1TtYtEbhqgtVxqtlJpGMiqa5V34RrtKMabR6cYpobIilulu8Uc97HNVjVEJbInTA1Ve0w8qiusg5qy7qARSugZF76YE8VTd0fpRD3wDRaXARQSKJtGY1Ngg1PR8xTPXoDQGkTx0Kplk7iaTQDFHbqG0REUQ6zVaOZ7Lkeu3HEVUqVRqbkCjVIAPqmoawZNV3LhPFEaa1GT+/WpeTdW3SG2l0zOQqASSJLfKo7k+ftTnU6UmVQFW4HCq5xmJmFHtVHStICqu5DDlQykbQeCAeTmSYH5UV04MbjkcCMwYiBGPP1GKVybZ63FxLjj/fkO/DFu1gDcIJIEbiIz74pDr+qtvCpJ3eXdpGD9J+9Fa/VE71LqFHJOI+8V826p8QBX/s7yuAQQTMSpkZpXG8FVKsm1vfDjvc/GfaqDJQrltokKCuRmJ757Uk6g+puX23BlCxtKDFtAq7ZxO0bQT9eM0/+GPiddRaJuQGSQyg87v5vUY/XvXU6lZS8botOoIKhlmWEwzPtIO2RGOPyp3FRoVScrOdT0FzUXEdX32xt3ATCv4dxz2j1PerNNpLdlyCRuXicCJmT7dvereu/FtvT2Qyg7nHhXmedpHlx7Cvnp+KG1NybrpbzOOB7nvQlBrNhjNPB9LbpyXIdQVPJZcSADAPbv+QqWmtfjW2tuW/yDsZhocnxDAIEQKS9I6mttgDcDoeDz38q0Dald6XBmSPEVkD9wMUDbMLrOnvadkcZB57EdiKHdK3PXenBxvBC7QSBBDPJBPJ55x7Css9sUKOHl+shM9o0M9unLpQV1M0VgjKYvZK6tqmNvT1adPFHsxewqNmoi3TT8Ke1TGlxWdsKkhXtr1HfwxrtTKYKkuEVf/FSKp1CeVBvZYcVSLaIuiV3UkGiNPqtwil1xT3qelTNDs7GUbC75rmk1RBirSk1y1Yg0bHdJZCLmRQarBpiLWKB1BzQkxZSSWBjpNVFM7F8Gs1Y5prYfFU4p2SsdTigdSk1KzdowgEVV5AxbZ0wpr091DhNhYkT7Cc84nFCM4FEaHVJukElhAIAkAknGO8Rz/rU5/WODp+NHtPPg0W/dkpHmDJnHpOKv6aJmcCeAIz3xUbIkATDnAJbInsIIApZpNW9u+1u7lu+w+EAjAHrHaoLVnpV4Efxp0/eXCbidjGF7wpxXzCxrGQMiqsNAJiSVBJiTwDImOdo9Z+3dXt74KgJ5HJYxzMHg8ULpvhHT3xv/hkVpkvELJ77e/nFV45VjyJOOLPnXwPbcXGEDayMYPlIyR5Tx9a3Gi1yLdVLkC4U2Y4t/NAxgD5M+5ozV9Pt6VJSNxI3MeWYiFHtHA7UnfoytZGvNwBt4QAjcAN0FRu4MzVZxSSvZKMsszP/APQtLcFxAR4QhYf5d7SY9ABx2rLDWNt2KBtIgjapkmJIJEg4GRmvtmj6cmuQBnBa2ZRxyrf4hiR8sjHOOKo1HwhorYFy5pzvjIUnYzY3SvETJ9QaM3WTQV4Mx8FdDcLauPJVwSoOe+P9D9a3HxNpY0zFZBWDAgH7xiu9JBZpYjwgBQBCqv8AT/7q3ruo3I1pv5geJ9sRkn0z9a5+1vGi7jSFfSNTbuWNrsy7BtOGDcSCsyWI9OfKkmoYbzHE4xAg+Q7Udo7P8MjBpJIG4A71UgxAMAj2PekuvlXbJIPiE/0kmB9OK10zk+XH6J/2XsKGe3PavJeojdRS7HnooVYq0LNQapqKKVGZbbQVzUERioNcihL7saLkqCsFZvV2qPwjXKlZTshwdLNV3NFAq7T6gRUtQ+Jq1KgdWJL2nzUBZoi80moF4qLopVIkK6RFctOKJZRFLF2Rk22Dte7Uv1NyitTS282aHJoCQZoBnNP7aAriknTQDE09QADFNxYRisEip/xMCoXCaGcVRzaCmcu6gmiekuUZZ+UlniMliYBP2NL9TK9sf1Nhfp/UaM0FwkKOB5kTjzP3n6ipyl2PQ+Nxyj9mjY9F1UsTJJn+keEdvP8A0qz4m0pJt3VL7oIC7QQqjksVzORzIyAImlGhtm228tiePfjdHeP3mtZoXDwxAKssDcfHJyNvl7Dzp4LFF5PNmduI5CsWkDsOJ8jHeneo6uBbQBSxgeFQYGM+57Uwv9K8W5JA52yCJ/feq/4VipVgFxEgcDz/AH6VWCUciSbkqPnXxFb1DtvfaF8JABaRtmMR6k+5qes6n/8AXrbkYcD0nJqz4q1ptNhpLAwDDGS3EHMbcVmx1NSm0odu8OA0wJWIIj0NJKdsP49D74X1t1Cz/hFkIIlTA7bcH2P3NbB+rresMDO9ZKhuTBHB7mO3pWT+GusIHCPhTCg7cFi0ruHA8q+h66yjpCqJKypjkR6c08ZqUWmLKLi0zI29cBL74ngk43HgHsODV3w7bOpuNeuOEt2yV2mYcmBuEmMH86H0Hw/+IzF2C2xgDdJJiIkTESBBE060gW2hR1CKu1BtZjtG1hDBhI8ROZPOSc1NRSKOTeyPWr6bysKMCAPCYHrAEHyrDdUhnaOBgfQnFaT4l6ggUq0FxK5weOzdxBB/81kd/maWWGc3yX9UidpYqx3qhHqwgnijGTOJqjoNXRioWbcVa1NY3UhAqX4QqkHNWbqW0Izv4VeqW6vULQBfp7kV29qD51W6xVBM0JXpFXLBaktUNSIozTKAM1Xq0FSaaVAUhYrkGiU1XrXDpjXP4c0YcbjkEqZy7dmgLz0c9kxQVyyZoztmQRodRHNOrOsB70gS0R2qTOV70Y2kHqjQPqhR/SrKENevf3aTInLGJAH3H3H0zvSDvuKGyJBP+UZJjv7VpviDQFkUK2GeShzK5Zwx8hIB+orN2dXx+GL+zM/1nWvqXRoIBEW7SrCqowC547T+4DDSfD15dO11HDbQNx8UTO4qs+XJIxV3QLah2L4TcQdxIRGEbmc+QwIxx61o7/Ul2vbDp+AGJJRTvuQMAmYYEg8QCBHFZK0d7eaRkOm6t2cAnwickEruOGY+YicVuek23uQ5YhVEIswxzEsw+Xvhc+E5isvauW7joAjbpMQYC+reZiBgU+0xdPDPkSeBjyHpIFbv02Zw7aNTp9VsU7jIUsWjEKJAx6n9T5URf1eIUc89sR2rP2yoEf1kF5M5xE+uBVHROp79VqELTt2x7BYIA7dqtDmT8EZcTQu+JtTaVQWs7SxYbhDNsVRiSDtyVGPWkl3qNpz4rbbMGGyzT8xBGAODHpW1+JNVas22d1DcKFicuwH6n9KzlnSomlb8RPHbDRPcTKD1mRTuSsWme+Hur6YOxez4rjhZAAXaTCyCfvzkzW40vUbD21ZCM+KP5lkTLDn0PvXzTq/RWS7atp8roX/TcD6jdP0qoO2mcKXID23jOCcYP3BrRkvKA0/Z9C6r1NGUvbdd4HYwdsNgsO+D9jzWC6h8QNceSWPgYOMTz4WxyQfpkiq+n6N2aXc7QJlTB5nHsRMUu1GjUX9iPDshYf5gVBH2JP0pJSwaKyWvrFclZLBkBWeVK/MPaI+keVUuasvdONl03MCxt7iR5uzKw+hVf+qhnYHBqLIc9dkWWmk0wRaBsgUdbmnic068E9xFV3X9asdaCvYpZMCk9HdvrViD1oE3atS9WSFabDJr1DfiV2jSD1BGuE1WproQ1emlmltmdHEu1NGk1F9IwqsSKn9rygMYpFdKil+6rrdw1dSFsJe2Kp/BFVXr2OaWtryDWbRRRbVjPUWwBSi+JNXnVluZriQWG4Y8vTvSuWBoxcmooM6WxtruEKzsFUn2BDf5QSD6076p1HepdZCqpSBkkGFOfIyc+tK+h9JfV3CzA7EDM3lB+VB7xHsDTtdAF0TX1ulCQ6BVAO5i6BTkcDb+VBRbz4PUilCKijnS+sFnuKybkIj1wSSscZJMn0ikvX+oLvb8JpmNx4WYiEA7CgdXqDaGxcSNv0POT39fehtPZ38LMCCPInjPnW9FLNB8K4YOzTnsOBHAHdprYXWd1aF2+EBBMmeSWPmOPvzWZ+EdGQ+5lhFwCcCTzHr2+9aPr3UDbQFMEmF7kzjC9z6Uk1YYutGXudTdf7NiQVJYz3M8Ur6N1F7N13Kks5JJifCTMT++KZaXpT37hdgYGM8kzlnPn2ivda1P4XhC+I+GI7RmgrQ0qYr611m5fYO5hd6uFngJ8v55rZdD6ymoQ/jKILTt7BQAEH5TXy+3qW/EmOTBx/KDP34rS6HVpvQZAAZmHaZAH5TVoypkJRs02utM99XV/AiMo3c5XJ+0Uj63qLboHHijco9mbw/ULAoHrfWWwiEgknjyaaHu6F7dlATJAEjyLCR+lZyvQvX2GabqDi2BMEKF+wik2n1h/i2du0KPciKPtsNoj+oz9jNLzaG4eEzLuxPkoEfoKUdDouXuodx27RAPkXT9YP2qWp00GhtA4N4FcJAI9ghx9CaZ3nmjFWjh+Y/sv9AqJRdoxVK0Qq06Zx2WXHxS2+s1PUXCKE3zU5yVjxRA2jVluy1Fae1NNNPphRjFsZySFH4R8q7Tz8AV2qdGDuZ1yAYo/RsMYmk+pbccYpp05D50ILJnGkPVsKRS3V6GmGnYjFX3EkV0OCaEox+rBWgjq4p/1PSSDFZHWaVgahKNDwSbCLuqmhyJqlFIohENJRfSCtOlFKmImJxPvVVlYFEqCJJHaQD3Jwv+/sKGAccfsnE1+p1A0WhSwkG9e8T9ioYf6LtH3NZA664fBvlEwijAxkt6yT3q59aWYu7b3K7M+2W9I4j1PnS+0O85mI8yef8AStKV60ejGNbIXgX8R/lBMEdhH3Oa1PQPh+EJvLtzu8WB5xB/WlOlc29qwCxYMMTOcCDiAMZ86Iv9Wu3X2gKwmCWY7C3ksHieeST6AUY+wSwavRxlgQUGARO32QYye5ild7WfjXjbd9iIfGwHi9LaHhfU9h6mQ36XYIUM53RgAAhZ8lU9v32oDV6NA5N2UQ5MCC5Jws9h6Dkn3lXsMdM0OhdCsJG0Yx5ik/xLobCobrsN4GM9z2o/UW1tWt4hNoJCyPLj3rDvqmuOjsN5Zy+wzyMKnqABJ9Yqj9UIvdlClEug7BJRmiOGlY/Klb60b2xDMQPsMn7zWm+KnC20IAF258oGWgnOO2StZ2x050fddkgYgRJJMkD3MCp9aY/a0c0Z33GJAxCgn7/eKYWtVuI3ZALD7GP1muaTpTG4iLiTJPbe7BR9PEfpFW//ABoVSoMwWz5zkH60yg9k5SWiP8N+GpcQyu5SPQqQZ+v60F1G6WfasfJkepwZ+1NbFidqO0eIEDkQDMEdiQrQfcVPR9KRXYsJEAyfTP8ArR6sHZAGmUDbE+BEBPmxLTH3/KmSIDSrU6olpwB8o2+SM/Pr4jVtnXAUYySwcvPFyYddULV2ncUqu60GqbeqIOKSU6eDn6NDXWKDQluzFcF8tRdqkT7ZM0ztgxTC09BKKuW8BVosSSaDN9eoX+JFdqloBkLF7cK0HS7mM0s6f07bxTT+F25FTjFxdl3JPA5Q0SjyKR/xgUZmh73WCpEVR80YrJId6m3SfUaMNOKa6PUh1Br1y13FZtSVoGVlGYv9NjtQ9rTwYNP9S8UrukTNRbKxk5o4EPhVRLudqjtJ8/SgNS7M5DsALZ8UfzNxA8+9NA6qsoJvTKuZhJXbAB9yZ9KT661s8BmBknuTySf32oXR38MYxjS/6E29QIcsviueJT/Sm7OO0mftU9TdQLaQD+0IZmzOScT65P0ilMFpM5JCbe2xBvb2yFH1NMdFp0e3cuOpa67qqEmNqpGQO8gH04o9bK2EPqrhKDZvZ8RtwlseEQPNjP0HrWx6JoURA2wBoyTBYT2x8o7BVpfoujMQpAO9uTMHiMACKa9QtNaRLamWcwSPLlj9sfUVpPqgRVscaG6CCwIAiJ8h6eX+tKdY6vqcyUsqtxmPyrMgT/igYH+InsKG1vUFtoV3RtEn/CBwP8x/1qr4fR3RTcUoWdrjg8s0hVLDsFG1QP8Aal47kxp1FD52Dp4oCsDG47ZHp348vy5rNLql/GdtmLcW0xAA2yQB2nwe0R3rQdVdERrrDgQCeY9PKaxWn1DvZRJl7rxgZ8ZLMSfOJP0roeHkisomDbN8XCxJMHIPzO21PoPFj1HlTQ6MtcTaAZhzP9Qdx+gJ+lUdavWUdEEbt6Fo7C2JVV8/FtnzoXqfUmBC2zDskeykkn9CP/dLUaBbsKfqKIrkHxb3CRzCsRuH14+lVJqgEzBYcjzkTH3n70i4Usxkjy/qJJx9T+dE6cBhs3eJyB5Qv8xn/qNZSegNIP0Nt2CuRln3D2A2r98n/m9ab9XgQvdlYgee1kAH3cCuae4vjj5V8IjzHzfmI+lAXepq9wvGLSBJOBud1LR9kNPSSyC7diPqtkW3CD+VEn3KhjPrmgN5FT1TtcdnOSxn/b8sVMWGjIrnazg55SbdlYaa5JFe2EGiFSRSsKdlmmemlqlFq2QaY2j60YsMglrmKGa8auY0DqDVHROSQR+NXaW7mr1LYlIK0urJprbYnmo9L0iFQaPcIKvFUskmAX9LuFK20rKfT1p3cuAd6EuagHmpzjFmTOaRyooy1q/OhtNcVjFWahQOKya6jK2c1ySJFKHsuTinNgmM0ZY06mhGPZmjJxYm0mhJweIJJ8gMmgNQoZy7QAzAAeSLlvyAFP8ArT7Ehe+Ce/tWX1jbVB/pEGSO+W58+K0kk6R6PCvrb8ip9QQ0LzBHl8x7+WOfetb8GaNnclzv2Afywg5xP7mlHQukm64lSCTlj2k9gJyfevpVnTrZQW0EAfck8lj5/wDis00iqdhlu+EmOYgf+BSPVs15/wCzI3tKLP8AKgIL3D6TtA8zHar1B8Tk+FRH/MR5+g/7hSfQXGR3cGFcRB7KAQo8wckx6mpXldiiWHRHU6VFc+Ld+DtaDzcuvlJH9IGT9KdadmYEsZIA3kef9K+XP0gUlZNzlU+e4d5J/lEQD6wO1NdY6JZInaiAknkk8lm8yT2/WqxXonJmf+JusFh+AZAYjcRmFBwvrJj6TUrahQLo/lXaoHCzAkDzgRPp70l0113cMy7wAXzg5ECTHYf91HdQ1u/daXwIqrk4LMxHY8ACTHemi92CXigvqGhUP+Kx/u0LHPzXHwig+kMT7A0lN9muMYI3QJ77B+gPlRGotlEAczuhVHYBiNx9SV7mopb525J7nt5flFLJ28CrGyzVbVXsWwQB+p9Kou3D86YKwN3JL94/wqPz9qhqGCiC0nknsPUnuf0rvTbDXnREEKOdx5HeR2SPvW8hSwOtKGayAuCR6zJGTnz86VWTCbQZLncx85mB+f6U4fXooYjgsUSOTELI9OarTQHBiPP9/anatnPyS6xf9lOi6fJGKcp0wRV+kswBRZaKrGCOTLMt1Dp0ZoJErQ9WuCKzj3KhyRSeCsNFgWrVqi200Sg8qkUuzxNUPbJNEhatRKdEpJsB/gzXqaba7TUhaZTo9OUG38Tcd4UkCEyMc5mjus6S5aRGdSVO6WViVTbEgiQJIOJ5g5xWhu6C2pQ7EIDKVVQDgSYkDuQveieqaRb9m5aIKl1hSWMB1ygI7gEZjsTU+9nprihF4WzEaG2l6QhbwgSTjd5wO0VeNAF5pf07SanTHFokOAZVS+JgEwZT2IrXaCw5HjRlZl3KXbgyIVo4Me3I96pcazs5p/Fbk2nSENvRkGUVjHkDVd9n5KMB5xj71sNLqnEeHcCxBYgZ4mMcRj7e9d1HTrju5TaUf5tw4JJMKewkQPakTXgaPAkqsymlYGrnfaMGhtfpDautbQlisAgSYJHHArmps3UHjtso5kqY+/FOnWjknBptVoC627EjOB+/96zev1LLcO1iJOT+x6j7U86gCTun+Yfme33paulL34H+biZ28CPWlvJ3xaUDafDOhAAclnYjLN69gOFFNeovs4+vpVXTtSxEMSFHPbPkAB9P2aj1lyyNtHbH0zT8qwHjeQLTawhCpyCTB7GTx9ooXSWjLu5i2GIHk22dzH0BkVVtJtBFJ3Rjz3R5e9GvbItLafAChB2MR386jRUlpdiB7nd2JLH+VP5EntAImO80n+Jb5KHYZDMqx2O5gIjy7fWi9TbG0oG8Kgk+g7k+v+1ZNEdth3ESd4ExBI8PtgzVbxVCVmzT9KsBLTFo5yYjAyQP3+lLNNZR71y45HzQq8YVQPoAZ+2PQjWXJUJuEKDJ4kkSxj94jzpPogFQZyRuY+pz9azfgWvIw194swJ+VRu4iScAe3H3FDpqP5ACSwJ5iSfM9v3zQhvEgSTJgsT+griQTj7+dLfkBc9gBQpM9yRx7D0pr0dwikDDuCFJ5jsT6DmO5AFB6fTFzHYc/wC3786sLoHYn5UgHuSfIf7UVadmbtUH6DZvVAo2WhEkzmMD37mn9pwaW6PRELJHJLH1LGf37UXbkZ7VWNnByyuQfIFVXHEc0vuXzNUX3aO9O5pCLJR1F5NKLiVdcZi2ag6NXM22zojSRC21EJcocCpqa1EpS9BQuVJb9UAV4JQeARk2F/xNdoXZXqI2TbdZYYAuBQSPWeARAifoaknUHZ2CK7tswAFABPyk+UAEyTmk3UNQGS25aMFpYGPlDFYEQcQPpNEdK6oseFirESQNwnIE+Rx64qHk9rFZGunRFh4f8RwN0NGEAEw3MYHvQmj6u4uEhP7NclCDvhcTn5oAbiYxyc1LVa/e3ifwqQDEyWZDgR/LG3B8uIpdZ0lwXy8oEDSFHzAFjk9hiKomTaTNNr+oJqbf9mzIBloHEx4ZxE8fQ0KxkhFLqRbldxwqr4iWY9920ccIccUO9oKpdArK7Iu0HJctvMjyXkZ7NIioFbQdEtl0IJdrm4soYqSSd07gZx2lhzFNdCdb0V/DHTmF69+MxeHOzxHIMbSfs3v3qz4g6iyblT/CstMKSdol1jGfI0wu65J2yQbYz4YksQMrPhAYECYGDnE0jvdZtSAGLFznw8Ru8RRoxkHifpTJ4M1khqegKyI2+dy78LtmIPBOBJiaBs6FFfcqMWkgjj3BngfQ1aOs3LYYKwKiFBcAECDAI5Izg4/PN17UKyq8EIwmBAIjyAkwR/p6GspJMhycL6txGNm2MHE9z2Ht5wPp5UN1C/u3KvlE+UjmgX6mqjkD9FUcn3r1i+rsFTJY7QeF3GMFjiYMxzFU7RaJccnihhpnt2/Fhnjk8D2HY/v1oC9eLMe7kQg9+WPpH6+lN9T8G3Y3WnVjOVaF+vMHz7c0RpOi3LB33G3O+0gJ8sAgfN9ST7VNtHSrML1zUQptgwOGJwfX1yJpDd1UMc9gB6Y/2ivpfVPgtL+9w+xyWBHzKTzkHKyI+4xSrpXwAjK51AO8mE2OYAMjcfWduM4ihYUzDPqHeQFYkwIUEmG448xx5xT7oPSG8Fxjy2EjIMAwZI5Uj9Kd9b6WtmyiLBdURd0ZZre/lczxxOK70jqV13UOQFKbGUKJVlOGGIiCDBPM+lMqAxF8SrauMWsyzgqDtB8akfzCPnUjJ7g+lLtJb4nj8z+/KtFryunuqT4kBJ3AHaH2sCrKMicHd70r6jeW47suOMgRJAAdY8we/lNBpiPRNdVtwBC8D/E3r/h/8nOKM0eiRApaWad2cyxzuNR6do1eN/7HlTHWoo4NZt1ZycvL4iWjWjvRFq8GxSd3AE1ZotTJorlrZy5Q6WwJ4rms2hYqg6qKWavWFjHamfNAoiVrShmmmDdNG3FB6bXKozTXSdSR8TQhycbdWrB2tmS6jpShwKXLezW66rowyyKxmp0RV6M41oNkrbk0UhqlLZFXqhNTaKRaR3dXqt/hzXK1MbvE0/UenI9hdijdt3YJxIzkH0isrbDW3AGJVlETJPhI9+O9bLoCIltUNsSw/vIAMNwp3Z70NrOneMQrYZhxwSu4Y8qm9YPWXpnegK+x96PJBaTsODAwoaR2ERJiu6ZHRipO4qAwQrBbcYTcxgJmcVbrOorp7B3wCwKDJXx8qBHeRx6VA6oQrMx3XNoJgg7vFthfp7+81kL7O2EuqbpK71ZNtsJsLqYzLsY3AheBwM9qG013YCdjuFQOwLtsV1hQuxBFyACefmC+dHdOuOpVFUsJghGDD5VEEcrAYMW9B54M03TbaIiS6jcdrF9shWVgIQDIyII4nnJputg7UIOm2LjOruFCMTvF1xLqYXcywFVZIwveCZ4A2u6SiXvACV28yJ3GVJJ8sAyPLtxX0XSdNtWySAWw2WO75jLYPaQPtXNVoLLW9uwKuMqyrBGR3/KqfidbF/LGz5FrtKxdobBgwAQYAjk+1FdE099iyKhKlQXkbQqHAYseBE+8elbc9N01l1OH3ACHYscCAdsyx7e8UaLSbUAZTMDtJXJCT6CY9qVxkhu8fBkNN8IWVQ2bhJf+td2/JTKzI2gyM+9OumfDC2raBG+UnaHgmSF3SwGWJHPAFFasnejqylT4PDkcnbJGc4r2kvXGTxAg/MAvMEYkeZx7T6VO7wxEvR7VJqUKgNDBi20sGmTgmOxz9qh1PW3HQFWIbbMAeBZXwqCMxBNLurJcVrbxLM4JkHCgR6SfWr9FqEVigLMMAtJAGeCTiBx9RU7dllqyxGi1F9ySxwTMKW7iPlyf0run6n+L/Zh2DW9u5wJlyQFJHeZiidfZVYl/AQfCdvcAbRA5hZjPzGlPSyiFy2F4aZ3Aq42cwcYB/WqJtEnTZP4wJ2TCAht4MDlZkHuJnzjJpS7pbBD3YdoZFVfCrMuTiIU48x506+IdWXCi1tYbvFLCVQwHkcnDHj2rO9QKbkVXaIQEG34YksDuAx4S2KqrFdJGf6jrNQrbUI2Aw8WwFO443EgzgAgk1Dpeq/4g7ohtrk9txEdvQdvKtR1DSlLIeQyOux0GVCnKuYmCsgz2gYwayCWSGG2IiSw4Pt60W2iM2krHWk1QdtoP2pi2jaPSkGm04Q7gYIppc6wYAoKqyeeoW8F504BEmrjYQLPekza2TxRFpy3Jp4xiNKFbL92TkxQWoeTRDyKGYVLljFugpqqK1fMUfYsTBBz6UB/CsxmrUV086RfHh5QXFezSI5VIYzS5rQZpqu1dZhXPxCpkium1VB/E+tnbloCupaqxbRbJ70Xb02KCjkgCxXqP/hh516npmGHUjC4xhabMfDb/AH2Fer1cq8nvPwZv4s/ux/nFXXh/derJPr4jzXq9WWzPQX0Rz/F3cn5fP2pbeusuq0wDEAu8gEgH+zTkV6vU62ib0zT27KtdXcoaQZkAzlfOsz8Xja21fCM4GBwOwr1eqzIoR23P4VzJ+/tWp+E0DIm4AwHiRMZHnXq9Whsz0F3RFq3GI4jEeBeKba8f8Kx7wM9/vXq9XKtsqLkzznJ5z2pfqcTGOf8Asr1eqbKxAepXWAEMR4DwSO1EW821nP8A+hXq9XRH9SMv2Flz+/uHv48/89B9SwDGP+IPGO5r1epyY4Zj+HpxOC2R2OV5H1P3rFvhFjGO2O5r1eoS0S5v1K7hquxzXq9SkUFrTDR12vU0ROQuv1Sler1L/JklsZ6QYqzUqPKu16reDFdsUDqPnr1eqa/Y7V/jGum4FEtXq9XQjjK69Xq9RAf/2Q==\" alt=\"Owl\">\n",
    "</img>\n",
    "  <p>Writing sommething here\n",
    "  </p>\n",
    "  <ul class='small list'>\n",
    "    <li>Item 1</li>\n",
    "    <li>Item 2</li>\n",
    "  </ul>\n",
    "  <p style=\"color: blue\">This is a blue text!</p>\n",
    "  <p style='font-size: 200%'>Big Text</p>\n",
    "  <p style='background-color: red'>Red Background</p>\n",
    "    <div>Test 1</div>\n",
    "    <div class='mew'>Test 2</div>\n",
    "    <div id=\"woof\" class=\"mew\">Test 3</div>\n",
    "</body>\n",
    "</html>\n",
    "\n",
    "\n"
   ]
  },
  {
   "cell_type": "markdown",
   "metadata": {
    "slideshow": {
     "slide_type": "slide"
    }
   },
   "source": [
    "<a id=\"enter-css\"></a>\n",
    "## Enter CSS\n",
    "---\n",
    "\n",
    "**The problem:** It was a nightmare to maintain styling on large HTML pages.\n",
    "\n",
    "**The solution:** CSS - Cascading Style Sheets\n",
    "\n",
    "CSS allows you to store all styling information in a separate document and selectively apply it to your HTML. CSS, or cascading style sheets, allow for a separation of concerns. The presentation is now independent of the content.\n",
    "\n",
    "```HTML\n",
    "<link rel=\"stylesheet\" type=\"text/css\" href=\"theme.css\">\n",
    "```\n",
    "\n",
    "This makes it much easier to change the style of the page and to apply it across an entire site."
   ]
  },
  {
   "cell_type": "markdown",
   "metadata": {
    "slideshow": {
     "slide_type": "slide"
    }
   },
   "source": [
    "<a id=\"example-of-a-css-sheet-eg-themecss\"></a>\n",
    "### Example of a css sheet, e.g., theme.css\n",
    "\n",
    "\n",
    "<br>\n",
    "\n",
    "```css\n",
    "body {\n",
    "    background-color: lightblue;\n",
    "}\n",
    "\n",
    "h1 {\n",
    "    color: navy;\n",
    "    margin-left: 20px;\n",
    "}\n",
    "```"
   ]
  },
  {
   "cell_type": "markdown",
   "metadata": {
    "slideshow": {
     "slide_type": "slide"
    }
   },
   "source": [
    "<a id=\"how-to-modify-html-elements-with-css\"></a>\n",
    "### How to modify HTML elements with CSS\n",
    "\n",
    "\n",
    "<br><br>\n",
    "**For tags:**\n",
    "\n",
    "```CSS\n",
    "p {\n",
    "  background: red;\n",
    "}\n",
    "```\n",
    "Apply red background at all instances of 'P'\n",
    "\n",
    "**For classes:**\n",
    "\n",
    "```CSS\n",
    ".getbold {\n",
    "  font-size: 21px;\n",
    "}\n",
    "```\n",
    "Apply font size to every class called getbold\n",
    "\n",
    "**For ids:**\n",
    "\n",
    "```CSS\n",
    "#header {\n",
    "  background: blue;\n",
    "  font-size: 21px;\n",
    "}\n",
    "```"
   ]
  },
  {
   "cell_type": "markdown",
   "metadata": {
    "slideshow": {
     "slide_type": "slide"
    }
   },
   "source": [
    "<a id=\"getting-a-little-fancy-with-it\"></a>\n",
    "### Getting a little fancy with it...\n",
    "\n",
    "Select only the last li tag:\n",
    "\n",
    "```CSS\n",
    "li:last-child {\n",
    "  background: blue;\n",
    "}\n",
    "```\n",
    "\n",
    "Select only links with an https:\n",
    "\n",
    "```CSS\n",
    "a[href^=\"https\"] {\n",
    "  font size: 14;\n",
    "}\n",
    "```\n",
    "\n",
    "Select only p elements where the parent is a div:\n",
    "```CSS\n",
    "div > p {\n",
    "  font-size: 21px;\n",
    "}\n",
    "```"
   ]
  },
  {
   "cell_type": "markdown",
   "metadata": {
    "slideshow": {
     "slide_type": "slide"
    }
   },
   "source": [
    "<a id=\"exercise\"></a>\n",
    "### Exercise\n",
    "\n",
    "\n",
    "Paste in the following HTML to CodePen.\n",
    "\n",
    "```HTML\n",
    "<html>\n",
    "<head>\n",
    "  <title>This is my HTML page</title>\n",
    "</head>\n",
    "<body>\n",
    "  <div>\n",
    "    <p class=\"getfancy\">This is the first content!</p>\n",
    "    <p>This is more content!</p>\n",
    "    <p>Don't forget this</p>\n",
    "  </div>\n",
    "  <div id=\"cooldiv\" class=\"getfancy\">\n",
    "    <p class=\"shrinker\">this right here</p>\n",
    "    <ul>\n",
    "      <li>hello from list item 1</li>\n",
    "      <li class=\"shrinker\">hello from list item 2</li>\n",
    "      <li>hello from list item 3</li>\n",
    "    </ul>\n",
    "  </div>\n",
    "  <p>hello from an orphan p</p>\n",
    "  <a href=\"http://www.cool-link1.com\">link1</a>\n",
    "  <a href=\"http://www.cool-link2.com\">link2</a>\n",
    "</body>\n",
    "</html>\n",
    "```"
   ]
  },
  {
   "cell_type": "markdown",
   "metadata": {
    "slideshow": {
     "slide_type": "slide"
    }
   },
   "source": [
    "Add the following styling:\n",
    "- Shrink the 2nd list item's text by 50%\n",
    "- Make the background on \"`cooldiv`\" light blue\n",
    "- Make the text italic where the class is \"`getfancy`\"\n",
    "- If the link contains a \"2\", make the background red\n",
    "- Make the paragraph that has the body tag as its parent have a font size that is 150% of the normal size\n",
    "- Make the text for that last one underlined\n",
    "- Finally, if it has a class \"`shrinker`\" and it is a paragraph, make it have a green background with a 25px font size\n",
    "\n",
    "You can use the following to help find the selectors and the style attributes:<br>\n",
    "CSS Reference:\n",
    "[http://www.w3schools.com/cssref/default.asp](http://www.w3schools.com/cssref/default.asp)<br>\n",
    "Understanding Precedence in CSS:\n",
    "[http://vanseodesign.com/css/css-specificity-inheritance-cascaade/](http://vanseodesign.com/css/css-specificity-inheritance-cascaade/)"
   ]
  },
  {
   "cell_type": "markdown",
   "metadata": {
    "slideshow": {
     "slide_type": "slide"
    }
   },
   "source": [
    "<a id=\"the-dom\"></a>\n",
    "## The DOM\n",
    "---\n",
    "\n",
    "\n",
    "- The DOM, or Document Object Model -- as the name suggests -- is a model of the HTML document. This model allows us to interface with the document so that we can manipulate it as needed."
   ]
  },
  {
   "cell_type": "markdown",
   "metadata": {
    "slideshow": {
     "slide_type": "slide"
    }
   },
   "source": [
    "<a id=\"example---a-table-defined-using-html\"></a>\n",
    "### Example - A table defined using HTML\n",
    "\n",
    "![](./assets/images/html-table.png)\n"
   ]
  },
  {
   "cell_type": "markdown",
   "metadata": {
    "slideshow": {
     "slide_type": "slide"
    }
   },
   "source": [
    "<a id=\"example---the-dom-of-an-html-table\"></a>\n",
    "### Example - The DOM of an HTML table\n",
    "\n",
    "![](./assets/images/html-table-dom.png)\n",
    "This table is now represented as a tree or graph structure. Each tag becomes a node. For example, if we were to select the first child of the ```<table>``` tag, we would get the ```<tbody>``` tag (including its descendats). If we were to ask for the children of the first child of the ```<tr>```, we would get the ```<tr>``` tag that includes the \"Shady Grove\" and \"Aeolian\" text leaves."
   ]
  },
  {
   "cell_type": "markdown",
   "metadata": {
    "slideshow": {
     "slide_type": "slide"
    }
   },
   "source": [
    "<a id=\"exercise\"></a>\n",
    "### Exercise\n",
    "\n",
    "**This only works in Google Chrome**\n",
    "\n",
    "We're going to use a javascript library to work with the DOM.\n",
    "\n",
    "1. Right click this document right here.\n",
    "2. On the menu popup select 'Inspect'\n",
    "3. At the top of the new window that is open, select 'Console'\n",
    "4. Right click in a blank area (on the left side usually is best) in the console and select 'Clear console'\n",
    "5. Type in the following ```$(\".selected\").css(\"background\", \"dodgerblue\")``` and execute the line using the `return` key\n",
    "6. If everything went well, the cell in this notebook that had the class ```selected``` was changed to a blue background. (Spoiler: Should be this cell)\n",
    "7. Now change it back to white\n",
    "8. Experiment with changing the different parts of this document using the CSS selectors and style attributes you learned above\n",
    "9. Trying using the DOM to get the children or parents of an element using a command like the following: ```$(\".selected\").parent().css(\"background\", \"dodgerblue\")```\n",
    "\n",
    "**Bonus 1**: \n",
    "Try to use additional JQuery commands to do other things to the HTML on the page like hide and move cells.\n",
    "\n",
    "[JQuery Docs](http://api.jquery.com/)<br>\n",
    "[JQuery Tutorial](https://www.w3schools.com/jquery/default.asp)\n",
    "\n",
    "**Bonus 2**:\n",
    "Take a look at some of the possiblities for creating with CSS: [Top Codepens](http://codepen.io/2015/popular/pens/)"
   ]
  },
  {
   "cell_type": "markdown",
   "metadata": {
    "slideshow": {
     "slide_type": "slide"
    }
   },
   "source": [
    "<a id=\"conclusion\"></a>\n",
    "## Conclusion\n",
    "---\n",
    "\n",
    "In this mini-lesson, we learned the basics about HTML, CSS, and the DOM. All of this will help, when we begin our lesson on webscraping."
   ]
  },
  {
   "cell_type": "markdown",
   "metadata": {
    "slideshow": {
     "slide_type": "slide"
    }
   },
   "source": [
    "<a id=\"solution-code-for-css-challenge\"></a>\n",
    "### Solution Code for CSS Challenge\n",
    "[Solution CodePen](http://codepen.io/acombs121/pen/pEKRoB)"
   ]
  },
  {
   "cell_type": "markdown",
   "metadata": {
    "slideshow": {
     "slide_type": "slide"
    }
   },
   "source": [
    "<a id=\"independent-practice\"></a>\n",
    "## Independent practice\n",
    "\n",
    "Work through the HTML exercises [here](https://www.w3schools.com/html/exercise.asp)\n",
    "and/or\n",
    "the CSS exercises [here](https://www.w3schools.com/css/css_exercises.asp)"
   ]
  }
 ],
 "metadata": {
  "anaconda-cloud": {},
  "celltoolbar": "Slideshow",
  "kernelspec": {
   "display_name": "Python 3",
   "language": "python",
   "name": "python3"
  },
  "language_info": {
   "codemirror_mode": {
    "name": "ipython",
    "version": 3
   },
   "file_extension": ".py",
   "mimetype": "text/x-python",
   "name": "python",
   "nbconvert_exporter": "python",
   "pygments_lexer": "ipython3",
   "version": "3.8.8"
  }
 },
 "nbformat": 4,
 "nbformat_minor": 1
}
