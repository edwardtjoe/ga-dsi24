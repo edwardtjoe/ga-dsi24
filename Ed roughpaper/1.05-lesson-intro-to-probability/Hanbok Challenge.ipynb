{
 "cells": [
  {
   "cell_type": "markdown",
   "id": "5bb76fd7",
   "metadata": {},
   "source": [
    "QUESTION: Find probability that Hanbok (25 reviews) has 3.5 stars or less\n",
    "\n",
    "80 Reviews 5*\n",
    "\n",
    "10 Reviews 4*\n",
    "\n",
    "10 Reviews 3*\n",
    "\n",
    "5 Reviews 2*\n",
    "\n",
    "15 Reviews 1*\n",
    "\n",
    "Total n = 120\n",
    "\n",
    "Reviews split into 25 (Hanbok) and 95 (Hambok)\n",
    "\n",
    "# REVIEW NOTES:\n",
    "\n",
    "Note 1: Use .mean() function, no need to x / n\n",
    "\n",
    "Note 2: Don't be stupid and append np.choice 25 times when you can use this:\n",
    "\n",
    "    np.random.choice(reviews_all, size = 25, replace = False)\n",
    "    \n",
    "Note 3: Replace = False is critical! It will screw up the probability of occurence since we may be re-using the same data point"
   ]
  },
  {
   "cell_type": "code",
   "execution_count": 2,
   "id": "c2f6acd9",
   "metadata": {},
   "outputs": [],
   "source": [
    "import numpy as np\n",
    "import pandas as pd"
   ]
  },
  {
   "cell_type": "code",
   "execution_count": null,
   "id": "2c86e4dc",
   "metadata": {},
   "outputs": [],
   "source": []
  },
  {
   "cell_type": "code",
   "execution_count": 8,
   "id": "ecfc024b",
   "metadata": {},
   "outputs": [
    {
     "data": {
      "text/plain": [
       "120"
      ]
     },
     "execution_count": 8,
     "metadata": {},
     "output_type": "execute_result"
    }
   ],
   "source": [
    "reviews_1 = np.array([1] * 15)\n",
    "reviews_2 = np.array([2] * 5)\n",
    "reviews_3 = np.array([3] * 10)\n",
    "reviews_4 = np.array([4] * 10)\n",
    "reviews_5 = np.array([5] * 80)\n",
    "reviews_all = np.concatenate((reviews_1, reviews_2, reviews_3, reviews_4, reviews_5))\n",
    "\n",
    "reviews_all\n",
    "reviews_all.reshape(10, 12)\n",
    "len(reviews_all)"
   ]
  },
  {
   "cell_type": "code",
   "execution_count": 155,
   "id": "b76d13fe",
   "metadata": {},
   "outputs": [
    {
     "data": {
      "text/plain": [
       "0.0083"
      ]
     },
     "execution_count": 155,
     "metadata": {},
     "output_type": "execute_result"
    }
   ],
   "source": [
    "np.random.seed(42)\n",
    "def three_five_or_less(n):\n",
    "    count = 0\n",
    "    for _ in range(n):\n",
    "        subset = np.random.choice(reviews_all, size = 25, replace = False)\n",
    "        if subset.mean() <= 3.5:\n",
    "            count += 1\n",
    "    return count / n\n",
    "\n",
    "three_five_or_less(10_000)"
   ]
  }
 ],
 "metadata": {
  "kernelspec": {
   "display_name": "Python 3",
   "language": "python",
   "name": "python3"
  },
  "language_info": {
   "codemirror_mode": {
    "name": "ipython",
    "version": 3
   },
   "file_extension": ".py",
   "mimetype": "text/x-python",
   "name": "python",
   "nbconvert_exporter": "python",
   "pygments_lexer": "ipython3",
   "version": "3.8.8"
  }
 },
 "nbformat": 4,
 "nbformat_minor": 5
}
