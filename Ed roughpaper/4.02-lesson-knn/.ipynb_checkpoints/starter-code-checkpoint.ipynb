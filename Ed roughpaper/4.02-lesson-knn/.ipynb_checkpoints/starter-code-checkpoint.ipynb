{
 "cells": [
  {
   "cell_type": "markdown",
   "metadata": {},
   "source": [
    "<img src=\"http://imgur.com/1ZcRyrc.png\" style=\"float: left; margin: 15px; height: 80px\">\n",
    "\n",
    "# Intro to Classification + KNN"
   ]
  },
  {
   "cell_type": "markdown",
   "metadata": {},
   "source": [
    "### LEARNING OBJECTIVES\n",
    "*After this lesson, you will be able to:*\n",
    "- Intuition behind the KNN algorithm\n",
    "- Implementing KNN with sklearn\n",
    "\n",
    "---"
   ]
  },
  {
   "cell_type": "markdown",
   "metadata": {},
   "source": [
    "# K Nearest Neighbors classification walkthrough\n",
    "\n",
    "From here on out we are going to look at how the kNN algorithm classifies an unknown point using the Iris dataset.\n",
    "\n",
    "---\n",
    "\n",
    "<a id='nonparametric'></a>\n",
    "\n",
    "### Note on parametric vs. nonparametric methods\n",
    "\n",
    "Thus far, all of our tests and methods have been **parametric**. That is, we have assumed a certain distribution for our data. In linear regression our parameters are the coefficients in our model, and our estimate of the target is calculated from these parameters.\n",
    "\n",
    "There are alternatives in the case where we cannot assume a particular distribution for our data or choose not to. These methods are **nonparametric** When we make no assumptions about the distribution for our data, we call our data nonparametric. For nearly every parametric test, there is a nonparametric analog available. The KNN model is an example of a nonparametric model. You can see that there are no coefficients for the different predictors and our estimate is not represented by a formula of our predictor variables.\n",
    "\n",
    "---\n",
    "\n",
    "## kNN\n",
    "### Note: k is a HYPERPARAMETER\n",
    "\n",
    "![](https://snag.gy/hatSE6.jpg)\n",
    "\n",
    "The pseudocode algorithm for kNN is as follows:\n",
    "\n",
    "\n",
    "\n",
    "```\n",
    "for unclassified_point in sample:\n",
    "    for known_point in known_class_points:\n",
    "        calculate distances (euclidean or other) between known_point and unclassified_point\n",
    "    for k in range of specified_neighbors_number:\n",
    "        find k_nearest_points in known_class_points to unclassified_point\n",
    "    assign class to unclassified_point using \"votes\" from k_nearest_points\n",
    "```\n",
    "> ### Common KNN Distance Functions\n",
    "> These distance functions can be used with KNN.  Euclidean is the most common choice.\n",
    ">\n",
    "> ### Euclidean  \n",
    "> $\\sqrt{\\sum\\limits_{i=1}^k(x_i - y_i)^2}$\n",
    ">\n",
    "> ### Manhattan \n",
    "> $\\sum\\limits_{i=1}^k \\left| x_i - y_i \\right|$\n",
    ">\n",
    "> ### Minkowski\n",
    "> $\\left(\\sum_{i=1}^n |x_i-y_i|^p\\right)^{1/p}$\n",
    "\n",
    "---\n",
    "\n",
    "[NOTE: in the case of ties, `sklearn`'s `KNeighborsClassifier()` will just choose the first class using uniform weights! If this is unappealing to you you can change the weights keyword argument to 'distance'.]\n",
    "\n"
   ]
  },
  {
   "cell_type": "markdown",
   "metadata": {},
   "source": [
    "<a id='euclidean'></a>\n",
    "## Euclidean distance\n",
    "\n",
    "---\n",
    "KNN typically uses one of two distance metrics: euclidean or manhattan. Other distance metrics (e.g. Minkwoski) are possible, but rare.\n",
    "\n",
    "\n",
    "Recal the famous Pythagorean Theorem\n",
    "![Alt text](http://ncalculators.com/images/pythagoras-theorem.gif)\n",
    "\n",
    "We can apply the theorem to calculate distance between points. This is called Euclidean distance. \n",
    "\n",
    "![Alt text](http://rosalind.info/media/Euclidean_distance.png)\n",
    "\n",
    "### $$\\text{Euclidean  distance}=\\sqrt{(x_1-x_2)^2+(y_1-y_2)^2}$$\n",
    "\n",
    "There are many different distance metrics, but Euclidean is the most common (and default in `sklearn`).\n"
   ]
  },
  {
   "cell_type": "markdown",
   "metadata": {},
   "source": [
    "## Load libraries\n",
    "---\n",
    "\n",
    "We'll need the following libraries for today's lecture:\n",
    "1. `pandas`\n",
    "2. `numpy`\n",
    "3. `matplotlib` and `seaborn`\n",
    "4. `KNeighborsClassifier` from `sklearn`'s `neighbors` module\n",
    "5. The `load_iris` function from `sklearn`'s `datasets` module\n",
    "6. `train_test_split` and `cross_val_score` from `sklearn`'s `model_selection` module\n",
    "7. `StandardScaler` from `sklearn`'s `preprocessing` module"
   ]
  },
  {
   "cell_type": "code",
   "execution_count": 3,
   "metadata": {},
   "outputs": [],
   "source": [
    "import pandas as pd\n",
    "import numpy as np\n",
    "import seaborn as sns\n",
    "import matplotlib.pyplot as plt\n",
    "from sklearn import metrics\n",
    "from sklearn.model_selection import train_test_split, cross_val_score\n",
    "from sklearn.preprocessing import StandardScaler\n",
    "from sklearn.datasets import load_iris\n",
    "from sklearn.neighbors import KNeighborsClassifier"
   ]
  },
  {
   "cell_type": "markdown",
   "metadata": {},
   "source": [
    "## The Iris Dataset\n",
    "---\n",
    "\n",
    "> The data set consists of 50 samples from each of three species of Iris (Iris setosa, Iris virginica and Iris versicolor). Four features were measured from each sample: the length and the width of the sepals and petals, in centimeters. Based on the combination of these four features, Fisher developed a linear discriminant model to distinguish the species from each other. - [Wikipedia](https://en.wikipedia.org/wiki/Iris_flower_data_set)\n",
    "\n",
    "Most `sklearn` datasets can be ran as follows:\n",
    "```python\n",
    "data = load_iris()\n",
    "```"
   ]
  },
  {
   "cell_type": "code",
   "execution_count": 4,
   "metadata": {},
   "outputs": [],
   "source": [
    "flowers = load_iris()"
   ]
  },
  {
   "cell_type": "markdown",
   "metadata": {},
   "source": [
    "## `load_iris()` properties\n",
    "---\n",
    "\n",
    "The `data` variable has several important properties you'll need to be familiar with:\n",
    "1. `data.data`: This is your `X`. In our case, it's a 150x4 matrix of features.\n",
    "2. `data.target`: This is your `y`. It's an array of 150 values (0, 1, 2). Each index corresponds do a different species of Iris flower.\n",
    "3. `data.feature_names`: These are the names of each of your 4 features (corresponding to the 4 columns in `data.data`\n",
    "4. `data.target_names`: These are the names of your 3 Iris species: Setosa, Versicolor and Virginica. **The order in `data.target_names` corresponds to the index in `data.target`.**"
   ]
  },
  {
   "cell_type": "code",
   "execution_count": 5,
   "metadata": {},
   "outputs": [
    {
     "data": {
      "text/plain": [
       "dict_keys(['data', 'target', 'frame', 'target_names', 'DESCR', 'feature_names', 'filename'])"
      ]
     },
     "execution_count": 5,
     "metadata": {},
     "output_type": "execute_result"
    }
   ],
   "source": [
    "flowers.keys()"
   ]
  },
  {
   "cell_type": "code",
   "execution_count": null,
   "metadata": {},
   "outputs": [],
   "source": []
  },
  {
   "cell_type": "code",
   "execution_count": null,
   "metadata": {},
   "outputs": [],
   "source": []
  },
  {
   "cell_type": "code",
   "execution_count": null,
   "metadata": {},
   "outputs": [],
   "source": []
  },
  {
   "cell_type": "markdown",
   "metadata": {},
   "source": [
    "## Challenge: Create a `pandas` DataFrame from `load_iris()`\n",
    "---"
   ]
  },
  {
   "cell_type": "code",
   "execution_count": 8,
   "metadata": {},
   "outputs": [
    {
     "data": {
      "text/html": [
       "<div>\n",
       "<style scoped>\n",
       "    .dataframe tbody tr th:only-of-type {\n",
       "        vertical-align: middle;\n",
       "    }\n",
       "\n",
       "    .dataframe tbody tr th {\n",
       "        vertical-align: top;\n",
       "    }\n",
       "\n",
       "    .dataframe thead th {\n",
       "        text-align: right;\n",
       "    }\n",
       "</style>\n",
       "<table border=\"1\" class=\"dataframe\">\n",
       "  <thead>\n",
       "    <tr style=\"text-align: right;\">\n",
       "      <th></th>\n",
       "      <th>sepal length (cm)</th>\n",
       "      <th>sepal width (cm)</th>\n",
       "      <th>petal length (cm)</th>\n",
       "      <th>petal width (cm)</th>\n",
       "      <th>species</th>\n",
       "    </tr>\n",
       "  </thead>\n",
       "  <tbody>\n",
       "    <tr>\n",
       "      <th>0</th>\n",
       "      <td>5.1</td>\n",
       "      <td>3.5</td>\n",
       "      <td>1.4</td>\n",
       "      <td>0.2</td>\n",
       "      <td>0</td>\n",
       "    </tr>\n",
       "    <tr>\n",
       "      <th>1</th>\n",
       "      <td>4.9</td>\n",
       "      <td>3.0</td>\n",
       "      <td>1.4</td>\n",
       "      <td>0.2</td>\n",
       "      <td>0</td>\n",
       "    </tr>\n",
       "    <tr>\n",
       "      <th>2</th>\n",
       "      <td>4.7</td>\n",
       "      <td>3.2</td>\n",
       "      <td>1.3</td>\n",
       "      <td>0.2</td>\n",
       "      <td>0</td>\n",
       "    </tr>\n",
       "    <tr>\n",
       "      <th>3</th>\n",
       "      <td>4.6</td>\n",
       "      <td>3.1</td>\n",
       "      <td>1.5</td>\n",
       "      <td>0.2</td>\n",
       "      <td>0</td>\n",
       "    </tr>\n",
       "    <tr>\n",
       "      <th>4</th>\n",
       "      <td>5.0</td>\n",
       "      <td>3.6</td>\n",
       "      <td>1.4</td>\n",
       "      <td>0.2</td>\n",
       "      <td>0</td>\n",
       "    </tr>\n",
       "  </tbody>\n",
       "</table>\n",
       "</div>"
      ],
      "text/plain": [
       "   sepal length (cm)  sepal width (cm)  petal length (cm)  petal width (cm)  \\\n",
       "0                5.1               3.5                1.4               0.2   \n",
       "1                4.9               3.0                1.4               0.2   \n",
       "2                4.7               3.2                1.3               0.2   \n",
       "3                4.6               3.1                1.5               0.2   \n",
       "4                5.0               3.6                1.4               0.2   \n",
       "\n",
       "   species  \n",
       "0        0  \n",
       "1        0  \n",
       "2        0  \n",
       "3        0  \n",
       "4        0  "
      ]
     },
     "execution_count": 8,
     "metadata": {},
     "output_type": "execute_result"
    }
   ],
   "source": [
    "df = pd.DataFrame(flowers.data, columns=flowers.feature_names)\n",
    "df['species'] = flowers.target\n",
    "df.head()"
   ]
  },
  {
   "cell_type": "markdown",
   "metadata": {},
   "source": [
    "## Data Cleaning\n",
    "---\n",
    "\n",
    "Let's see if our `DataFrame` requires any cleaning. In the cells below:\n",
    "1. Check the `dtypes` to make sure every column is numerical\n",
    "2. Check for null values"
   ]
  },
  {
   "cell_type": "code",
   "execution_count": 10,
   "metadata": {},
   "outputs": [
    {
     "data": {
      "text/plain": [
       "sepal length (cm)    float64\n",
       "sepal width (cm)     float64\n",
       "petal length (cm)    float64\n",
       "petal width (cm)     float64\n",
       "species                int64\n",
       "dtype: object"
      ]
     },
     "execution_count": 10,
     "metadata": {},
     "output_type": "execute_result"
    }
   ],
   "source": [
    "df.dtypes"
   ]
  },
  {
   "cell_type": "code",
   "execution_count": 11,
   "metadata": {},
   "outputs": [
    {
     "data": {
      "text/plain": [
       "sepal length (cm)    0\n",
       "sepal width (cm)     0\n",
       "petal length (cm)    0\n",
       "petal width (cm)     0\n",
       "species              0\n",
       "dtype: int64"
      ]
     },
     "execution_count": 11,
     "metadata": {},
     "output_type": "execute_result"
    }
   ],
   "source": [
    "df.isnull().sum()"
   ]
  },
  {
   "cell_type": "markdown",
   "metadata": {},
   "source": [
    "## EDA: Visualizing KNN\n",
    "---\n",
    "\n",
    "Using `matplotlib`, create a scatter plot using two features from your `DataFrame`: `'petal length (cm)'` and `'petal width (cm)'`. Each dot should be colored according to its species."
   ]
  },
  {
   "cell_type": "code",
   "execution_count": 16,
   "metadata": {},
   "outputs": [
    {
     "data": {
      "image/png": "[encoded data removed]",
      "text/plain": [
       "<Figure size 504x504 with 1 Axes>"
      ]
     },
     "metadata": {
      "needs_background": "light"
     },
     "output_type": "display_data"
    }
   ],
   "source": [
    "plt.figure(figsize = (7, 7))\n",
    "colors = ['red', 'blue', 'green']\n",
    "color_map = df['species'].map(lambda s: colors[s])\n",
    "\n",
    "plt.scatter(df['petal length (cm)'], df['petal width (cm)'], color=color_map);"
   ]
  },
  {
   "cell_type": "code",
   "execution_count": 20,
   "metadata": {},
   "outputs": [
    {
     "data": {
      "text/plain": [
       "[('red', 0),\n",
       " ('red', 0),\n",
       " ('red', 0),\n",
       " ('red', 0),\n",
       " ('red', 0),\n",
       " ('red', 0),\n",
       " ('red', 0),\n",
       " ('red', 0),\n",
       " ('red', 0),\n",
       " ('red', 0),\n",
       " ('red', 0),\n",
       " ('red', 0),\n",
       " ('red', 0),\n",
       " ('red', 0),\n",
       " ('red', 0),\n",
       " ('red', 0),\n",
       " ('red', 0),\n",
       " ('red', 0),\n",
       " ('red', 0),\n",
       " ('red', 0),\n",
       " ('red', 0),\n",
       " ('red', 0),\n",
       " ('red', 0),\n",
       " ('red', 0),\n",
       " ('red', 0),\n",
       " ('red', 0),\n",
       " ('red', 0),\n",
       " ('red', 0),\n",
       " ('red', 0),\n",
       " ('red', 0),\n",
       " ('red', 0),\n",
       " ('red', 0),\n",
       " ('red', 0),\n",
       " ('red', 0),\n",
       " ('red', 0),\n",
       " ('red', 0),\n",
       " ('red', 0),\n",
       " ('red', 0),\n",
       " ('red', 0),\n",
       " ('red', 0),\n",
       " ('red', 0),\n",
       " ('red', 0),\n",
       " ('red', 0),\n",
       " ('red', 0),\n",
       " ('red', 0),\n",
       " ('red', 0),\n",
       " ('red', 0),\n",
       " ('red', 0),\n",
       " ('red', 0),\n",
       " ('red', 0),\n",
       " ('blue', 1),\n",
       " ('blue', 1),\n",
       " ('blue', 1),\n",
       " ('blue', 1),\n",
       " ('blue', 1),\n",
       " ('blue', 1),\n",
       " ('blue', 1),\n",
       " ('blue', 1),\n",
       " ('blue', 1),\n",
       " ('blue', 1),\n",
       " ('blue', 1),\n",
       " ('blue', 1),\n",
       " ('blue', 1),\n",
       " ('blue', 1),\n",
       " ('blue', 1),\n",
       " ('blue', 1),\n",
       " ('blue', 1),\n",
       " ('blue', 1),\n",
       " ('blue', 1),\n",
       " ('blue', 1),\n",
       " ('blue', 1),\n",
       " ('blue', 1),\n",
       " ('blue', 1),\n",
       " ('blue', 1),\n",
       " ('blue', 1),\n",
       " ('blue', 1),\n",
       " ('blue', 1),\n",
       " ('blue', 1),\n",
       " ('blue', 1),\n",
       " ('blue', 1),\n",
       " ('blue', 1),\n",
       " ('blue', 1),\n",
       " ('blue', 1),\n",
       " ('blue', 1),\n",
       " ('blue', 1),\n",
       " ('blue', 1),\n",
       " ('blue', 1),\n",
       " ('blue', 1),\n",
       " ('blue', 1),\n",
       " ('blue', 1),\n",
       " ('blue', 1),\n",
       " ('blue', 1),\n",
       " ('blue', 1),\n",
       " ('blue', 1),\n",
       " ('blue', 1),\n",
       " ('blue', 1),\n",
       " ('blue', 1),\n",
       " ('blue', 1),\n",
       " ('blue', 1),\n",
       " ('blue', 1),\n",
       " ('green', 2),\n",
       " ('green', 2),\n",
       " ('green', 2),\n",
       " ('green', 2),\n",
       " ('green', 2),\n",
       " ('green', 2),\n",
       " ('green', 2),\n",
       " ('green', 2),\n",
       " ('green', 2),\n",
       " ('green', 2),\n",
       " ('green', 2),\n",
       " ('green', 2),\n",
       " ('green', 2),\n",
       " ('green', 2),\n",
       " ('green', 2),\n",
       " ('green', 2),\n",
       " ('green', 2),\n",
       " ('green', 2),\n",
       " ('green', 2),\n",
       " ('green', 2),\n",
       " ('green', 2),\n",
       " ('green', 2),\n",
       " ('green', 2),\n",
       " ('green', 2),\n",
       " ('green', 2),\n",
       " ('green', 2),\n",
       " ('green', 2),\n",
       " ('green', 2),\n",
       " ('green', 2),\n",
       " ('green', 2),\n",
       " ('green', 2),\n",
       " ('green', 2),\n",
       " ('green', 2),\n",
       " ('green', 2),\n",
       " ('green', 2),\n",
       " ('green', 2),\n",
       " ('green', 2),\n",
       " ('green', 2),\n",
       " ('green', 2),\n",
       " ('green', 2),\n",
       " ('green', 2),\n",
       " ('green', 2),\n",
       " ('green', 2),\n",
       " ('green', 2),\n",
       " ('green', 2),\n",
       " ('green', 2),\n",
       " ('green', 2),\n",
       " ('green', 2),\n",
       " ('green', 2),\n",
       " ('green', 2)]"
      ]
     },
     "execution_count": 20,
     "metadata": {},
     "output_type": "execute_result"
    }
   ],
   "source": [
    "df['species'].unique()\n",
    "list(zip(color_map, df['species']))"
   ]
  },
  {
   "cell_type": "code",
   "execution_count": null,
   "metadata": {},
   "outputs": [],
   "source": []
  },
  {
   "cell_type": "markdown",
   "metadata": {},
   "source": [
    "## EDA: Pairplot\n",
    "---\n",
    "\n",
    "Let's expand on the scatter plot created in the previous step. We can use `seaborn`'s `.pairplot()` method to create scatter plots using all of our features."
   ]
  },
  {
   "cell_type": "code",
   "execution_count": null,
   "metadata": {},
   "outputs": [],
   "source": []
  },
  {
   "cell_type": "markdown",
   "metadata": {},
   "source": [
    "## Train/Test split\n",
    "---\n",
    "\n",
    "Use the `train_test_split` function to split your data into a training set and a holdout set."
   ]
  },
  {
   "cell_type": "code",
   "execution_count": 21,
   "metadata": {},
   "outputs": [],
   "source": [
    "X = df[flowers.feature_names]\n",
    "y = df['species']"
   ]
  },
  {
   "cell_type": "code",
   "execution_count": 23,
   "metadata": {},
   "outputs": [],
   "source": [
    "X_train, X_test, y_train, y_test = train_test_split(X, y, test_size=0.2)"
   ]
  },
  {
   "cell_type": "markdown",
   "metadata": {},
   "source": [
    "## `StandardScaler`\n",
    "---\n",
    "\n",
    "Because KNN is calculating the distance between neighbors, it's highly sensitive to the magnitude of your features. For example, if we were using KNN on a housing dataset, a feature like square footage (measured in **thousands** of feet^2) can really affect the distance. \n",
    "\n",
    "Thus, in order for KNN to work properly, it's important to scale our data. In the cells below, create an instance of `StandardScaler` and use it to transform `X_train` and `X_test`."
   ]
  },
  {
   "cell_type": "code",
   "execution_count": 24,
   "metadata": {},
   "outputs": [],
   "source": [
    "ss = StandardScaler()\n",
    "\n",
    "X_train_sc = ss.fit_transform(X_train)\n",
    "X_test_sc = ss.transform(X_test)"
   ]
  },
  {
   "cell_type": "markdown",
   "metadata": {},
   "source": [
    "## Instantiate KNN\n",
    "---\n",
    "### Note: Default k = 5\n",
    "### Default Metric: Minkowski (Euclidian if p=2)\n",
    "For the `KNeighborsClassifier`, there a few important parameters to keep in mind:\n",
    "\n",
    "1. `n_neighbors`: this is the \"K\" in KNN. The best K will change from problem to problem, but the default is 5.\n",
    "2. `weights`: The neighbors can all have an equal vote (`uniform`), or the closer points can have a higher weighted vote (`distance`).\n",
    "3. `p`: The distance metric. The default is Euclidean distance (2). Changing it to 1 is setting the distance to Manhattan.\n",
    "\n",
    "In the cell below, instantiate a `knn` model using the default parameters."
   ]
  },
  {
   "cell_type": "code",
   "execution_count": 30,
   "metadata": {},
   "outputs": [],
   "source": [
    "knn = KNeighborsClassifier(n_neighbors=3,\n",
    "                           p=1,\n",
    "                           weights='distance'\n",
    "                          )"
   ]
  },
  {
   "cell_type": "markdown",
   "metadata": {},
   "source": [
    "## Cross validation\n",
    "---\n",
    "\n",
    "In the cell below, use `cross_val_score` to see what accuracy we can expect from our KNN model."
   ]
  },
  {
   "cell_type": "code",
   "execution_count": 31,
   "metadata": {},
   "outputs": [
    {
     "data": {
      "text/plain": [
       "0.95"
      ]
     },
     "execution_count": 31,
     "metadata": {},
     "output_type": "execute_result"
    }
   ],
   "source": [
    "cross_val_score(knn,\n",
    "                X_train_sc,\n",
    "                y_train,\n",
    "                cv=5\n",
    ").mean()"
   ]
  },
  {
   "cell_type": "markdown",
   "metadata": {},
   "source": [
    "## Model fitting and evaluation\n",
    "---\n",
    "\n",
    "Now that we know what we can expect from our KNN model, let's \n",
    "1. fit the model to `X_train_scaled`, `y_train`\n",
    "2. score it on `X_test_scaled`, `y_test`"
   ]
  },
  {
   "cell_type": "code",
   "execution_count": 32,
   "metadata": {},
   "outputs": [
    {
     "data": {
      "text/plain": [
       "KNeighborsClassifier(n_neighbors=3, p=1, weights='distance')"
      ]
     },
     "execution_count": 32,
     "metadata": {},
     "output_type": "execute_result"
    }
   ],
   "source": [
    "knn.fit(X_train_sc, y_train)"
   ]
  },
  {
   "cell_type": "code",
   "execution_count": 33,
   "metadata": {},
   "outputs": [
    {
     "data": {
      "text/plain": [
       "0.9"
      ]
     },
     "execution_count": 33,
     "metadata": {},
     "output_type": "execute_result"
    }
   ],
   "source": [
    "knn.score(X_test_sc, y_test)\n",
    "# KNN Score is accuracy"
   ]
  },
  {
   "cell_type": "code",
   "execution_count": null,
   "metadata": {},
   "outputs": [],
   "source": []
  }
 ],
 "metadata": {
  "kernelspec": {
   "display_name": "Python 3",
   "language": "python",
   "name": "python3"
  },
  "language_info": {
   "codemirror_mode": {
    "name": "ipython",
    "version": 3
   },
   "file_extension": ".py",
   "mimetype": "text/x-python",
   "name": "python",
   "nbconvert_exporter": "python",
   "pygments_lexer": "ipython3",
   "version": "3.8.8"
  },
  "widgets": {
   "state": {
    "5a2c6c956e8844c898e05f2beac13f88": {
     "views": [
      {
       "cell_index": 74
      }
     ]
    }
   },
   "version": "1.2.0"
  }
 },
 "nbformat": 4,
 "nbformat_minor": 2
}
